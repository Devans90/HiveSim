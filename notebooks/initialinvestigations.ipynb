{
 "cells": [
  {
   "cell_type": "code",
   "execution_count": 1,
   "id": "14dd03d2",
   "metadata": {},
   "outputs": [],
   "source": [
    "import unittest\n",
    "from pydantic import BaseModel, Field, field_validator, model_validator, ConfigDict\n",
    "import plotly.graph_objects as go\n",
    "import numpy as np\n",
    "from typing import List, Optional\n",
    "import uuid"
   ]
  },
  {
   "cell_type": "markdown",
   "id": "8c1c61c2",
   "metadata": {},
   "source": [
    "uses a hexagonal coordinate system\n",
    "\n",
    "ie, going clockwise around origin, pointy side up\n",
    "\n",
    "| q | r | s |\n",
    " |----|--|--|\n",
    "1 |-1 |0\n",
    "1 |0 |-1\n",
    "0 |1 |-1\n",
    "-1| 1 |0\n",
    "-1 |0 |1\n",
    "0 |-1| 1\n",
    "\n",
    "q is in the up right orientation  \n",
    "r is rows in the down orientation  \n",
    "s is in the up left direction  "
   ]
  },
  {
   "cell_type": "markdown",
   "id": "d9045c9f",
   "metadata": {},
   "source": [
    "two coordinates that are adjacant"
   ]
  },
  {
   "cell_type": "markdown",
   "id": "a73f66bb",
   "metadata": {},
   "source": [
    "https://www.redblobgames.com/grids/hexagons/"
   ]
  },
  {
   "cell_type": "code",
   "execution_count": 2,
   "id": "43cd65fe",
   "metadata": {},
   "outputs": [],
   "source": [
    "from typing import Dict\n",
    "import heapq\n",
    "from typing import Set, Tuple\n",
    "\n",
    "\n",
    "class HexCoordinate(BaseModel):\n",
    "    q: int\n",
    "    r: int\n",
    "    s: int\n",
    "    @field_validator('s', mode='before')\n",
    "    @classmethod\n",
    "    def validate_cube_coordinates(cls, v, values):\n",
    "        if values.data['q'] + values.data['r'] + v != 0:\n",
    "            raise ValueError('Invalid cube coordinates')\n",
    "        return v\n",
    "\n",
    "    def get_adjacent_hexes(self):\n",
    "        directions = [(1, -1, 0), (1, 0, -1), (0, 1, -1), (-1, 1, 0), (-1, 0, 1), (0, -1, 1)]\n",
    "        adjacent = []\n",
    "        for dq, dr, ds in directions:\n",
    "            adjacent.append(HexCoordinate(q=self.q + dq, r=self.r + dr, s=self.s + ds))\n",
    "        return adjacent\n",
    "\n",
    "class GamePiece(BaseModel):\n",
    "    model_config = ConfigDict(validate_assignment=True)\n",
    "    \n",
    "    hex_coordinates: Optional[HexCoordinate] = None\n",
    "    icon: str = \"�\"\n",
    "    team: str\n",
    "    piece_id: int = Field(default_factory=lambda: str(uuid.uuid4()))\n",
    "    location: str = Field(default='offboard') # 'offboard', 'board', 'stacked'\n",
    "\n",
    "    @field_validator('team')\n",
    "    @classmethod\n",
    "    def validate_team(cls, v):\n",
    "        if v not in ['black', 'white']:\n",
    "            raise ValueError('Team must be either \"black\" or \"white\"')\n",
    "        return v\n",
    "\n",
    "class Spider(GamePiece):\n",
    "    def __init__(self, hex_coordinates=None, team: str = 'white'):\n",
    "        super().__init__(\n",
    "            hex_coordinates=hex_coordinates, \n",
    "            team=team,\n",
    "            icon=\"🕷️\",\n",
    "            location='offboard'\n",
    "            )\n",
    "\n",
    "class Ant(GamePiece):\n",
    "    def __init__(self, hex_coordinates=None, team: str = 'white'):\n",
    "        super().__init__(\n",
    "            hex_coordinates=hex_coordinates, \n",
    "            team=team,\n",
    "            icon=\"🐜\",\n",
    "            location='offboard'\n",
    "            )\n",
    "\n",
    "class Beetle(GamePiece):\n",
    "    def __init__(self, hex_coordinates=None, team: str = 'white'):\n",
    "        super().__init__(\n",
    "            hex_coordinates=hex_coordinates, \n",
    "            team=team,\n",
    "            icon=\"🪲\",\n",
    "            location='offboard'\n",
    "            )\n",
    "\n",
    "class Grasshopper(GamePiece):\n",
    "    def __init__(self, hex_coordinates=None, team: str = 'white'):\n",
    "        super().__init__(\n",
    "            hex_coordinates=hex_coordinates, \n",
    "            team=team,\n",
    "            icon=\"🦗\",\n",
    "            location='offboard'\n",
    "            )\n",
    "\n",
    "class QueenBee(GamePiece):\n",
    "    def __init__(self, hex_coordinates=None, team: str = 'white'):\n",
    "        super().__init__(\n",
    "            hex_coordinates=hex_coordinates, \n",
    "            team=team,\n",
    "            icon=\"🐝\",\n",
    "            location='offboard'\n",
    "            )\n",
    "\n",
    "class Ladybug(GamePiece):\n",
    "    def __init__(self, hex_coordinates=None, team: str = 'white'):\n",
    "        super().__init__(\n",
    "            hex_coordinates=hex_coordinates, \n",
    "            team=team,\n",
    "            icon=\"🐞\",\n",
    "            location='offboard'\n",
    "            )\n",
    "\n",
    "class Mosquito(GamePiece):\n",
    "    def __init__(self, hex_coordinates=None, team: str = 'white'):\n",
    "        super().__init__(\n",
    "            hex_coordinates=hex_coordinates, \n",
    "            team=team,\n",
    "            icon=\"🦟\",\n",
    "            location='offboard'\n",
    "            )\n",
    "\n",
    "class BoardState(BaseModel):\n",
    "    pieces: dict = Field(default_factory=dict)\n",
    "\n",
    "    def add_piece(self, piece_id: str, piece: GamePiece, coordinates: HexCoordinate):\n",
    "        piece.hex_coordinates = coordinates\n",
    "        piece.location = 'board'\n",
    "        self.pieces[piece_id] = piece\n",
    "\n",
    "    def move_piece(self, piece_id: str, piece: GamePiece, new_coordinates: HexCoordinate):\n",
    "        piece.hex_coordinates = new_coordinates\n",
    "        self.pieces[piece_id] = piece\n",
    "\n",
    "        # Note: This does not handle stacking logic for Beetles or other pieces.\n",
    "        # TODO maybe some cool animation here\n",
    "        \n",
    "    def get_piece(self, piece_id: str):\n",
    "        return self.pieces.get(piece_id, None)\n",
    "    \n",
    "class Player(BaseModel):\n",
    "    name: str\n",
    "    team: str\n",
    "    pieces: List[GamePiece] = Field(default_factory=None)\n",
    "\n",
    "    def __init__(self, name: str, team: str, pieces: Optional[List[GamePiece]] = None):\n",
    "        if pieces is None:\n",
    "            pieces = [\n",
    "                *[Ant(team=team) for _ in range(12)],\n",
    "                QueenBee(team=team)\n",
    "                # super basic mode to start. add more pieces later\n",
    "            ]\n",
    "        super().__init__(name=name, team=team, pieces=pieces)\n",
    "\n",
    "    @field_validator('team')\n",
    "    @classmethod\n",
    "    def validate_team(cls, v):\n",
    "        if v not in ['black', 'white']:\n",
    "            raise ValueError('Team must be either \"black\" or \"white\"')\n",
    "        return v\n",
    "\n",
    "class GameState(BaseModel):\n",
    "    turn: int = Field(0, ge=0)\n",
    "    white_player: Player = Player(name='white', team='white', pieces=[])\n",
    "    black_player: Player = Player(name='black', team='black', pieces=[])\n",
    "    current_team: str = Field(default='white')\n",
    "    board_state: BoardState = Field(default_factory=BoardState)\n",
    "    verbose: bool = Field(default=True)\n",
    "    all_pieces: Dict[str, GamePiece] = Field(default_factory=dict)\n",
    "\n",
    "    def __init__(self, white_player: Player = None, black_player: Player = None, **data):\n",
    "        if white_player is None:\n",
    "            white_player = Player(name='white', team='white')\n",
    "        if black_player is None:\n",
    "            black_player = Player(name='black', team='black')\n",
    "        super().__init__(white_player=white_player, black_player=black_player, **data)\n",
    "\n",
    "        # construct a big ol' dictionary of all pieces for easy access\n",
    "        for piece in self.white_player.pieces:\n",
    "            self.all_pieces[piece.piece_id] = piece\n",
    "        for piece in self.black_player.pieces:\n",
    "            self.all_pieces[piece.piece_id] = piece\n",
    "\n",
    "    def get_occupied_spaces(self):\n",
    "        occupied = []\n",
    "        for piece in self.board_state.pieces.values():\n",
    "            if piece.location == 'offboard':    \n",
    "                pass\n",
    "            elif piece.location == 'board':\n",
    "                occupied.append((piece.hex_coordinates.q, piece.hex_coordinates.r, piece.hex_coordinates.s))\n",
    "\n",
    "        return occupied\n",
    "\n",
    "    def get_available_spaces(self):\n",
    "        if len(self.board_state.pieces) == 0:\n",
    "            if self.verbose:\n",
    "                print(\"No pieces on the board, returning center hex (0,0,0) as available space.\")\n",
    "            return [HexCoordinate(q=0, r=0, s=0)]  # If no pieces are on the board, return the center hex\n",
    "        \n",
    "        # get occupied spaces\n",
    "        occupied = set(self.get_occupied_spaces())\n",
    "        adjacent = set()\n",
    "\n",
    "        for q, r, s in occupied:\n",
    "            for dq, dr, ds in [(1, -1, 0), (1, 0, -1), (0, 1, -1), (-1, 1, 0), (-1, 0, 1), (0, -1, 1)]:\n",
    "                adjacent.add((q + dq, r + dr, s + ds))\n",
    "        relative = adjacent - occupied\n",
    "        coords = []\n",
    "        for coord in relative:\n",
    "            coords.append(HexCoordinate(q=coord[0], r=coord[1], s=coord[2]))\n",
    "        return coords\n",
    "\n",
    "    def get_movable_pieces(self, game_state) -> dict:\n",
    "        \"\"\"Get all pieces on the board for this bot's team.\"\"\"\n",
    "        player = game_state.white_player if self.current_team == 'white' else game_state.black_player\n",
    "        \n",
    "        movable = {}\n",
    "        for piece in player.pieces:\n",
    "            if piece.location == 'board':  # Only pieces ON the board\n",
    "                piece_type = piece.__class__.__name__.lower()                \n",
    "                if piece_type not in movable:\n",
    "                    movable[piece_type] = []\n",
    "                movable[piece_type].append(piece.piece_id)\n",
    "        \n",
    "        return movable\n",
    "\n",
    "    def check_win_condition(self):\n",
    "        # Check if either queen bee is completely surrounded\n",
    "        white_queen = next((p for p in self.white_player.pieces if isinstance(p, QueenBee)), None)\n",
    "        black_queen = next((p for p in self.black_player.pieces if isinstance(p, QueenBee)), None)\n",
    "        if white_queen and white_queen.location == 'board':\n",
    "            white_adjacent = set((hex.q, hex.r, hex.s) for hex in white_queen.hex_coordinates.get_adjacent_hexes())\n",
    "            occupied = set(self.get_occupied_spaces())\n",
    "            if white_adjacent.issubset(occupied):\n",
    "                return 'black'  # Black wins\n",
    "        if black_queen and black_queen.location == 'board':\n",
    "            black_adjacent = set((hex.q, hex.r, hex.s) for hex in black_queen.hex_coordinates.get_adjacent_hexes())\n",
    "            occupied = set(self.get_occupied_spaces())\n",
    "            if black_adjacent.issubset(occupied):\n",
    "                return 'white'  # White wins\n",
    "        return None  # No winner yet\n",
    "\n",
    "    def get_queen(self, team: str) -> Optional[QueenBee]:\n",
    "        \"\"\"Get the queen bee for a specific team.\"\"\"\n",
    "        for piece in self.all_pieces.values():\n",
    "            if isinstance(piece, QueenBee) and piece.team == team:\n",
    "                return piece\n",
    "        return None\n",
    "    \n",
    "    def check_queen_placement_loss(self) -> Optional[str]:\n",
    "        \"\"\"Check if a player has lost by being unable to place their queen by turn 4.\"\"\"\n",
    "        current_player = self.white_player if self.current_team == 'white' else self.black_player\n",
    "        player_turn_number = self.turn // 2\n",
    "        \n",
    "        # Must be at turn 4+ for this player\n",
    "        if player_turn_number < 4:\n",
    "            return None\n",
    "        \n",
    "        # Check if queen is still offboard\n",
    "        queen = self.get_queen(self.current_team)\n",
    "        if not queen or queen.location != 'offboard':\n",
    "            return None  # Queen already placed, no issue\n",
    "        \n",
    "        # Check if there are any valid spaces to place the queen\n",
    "        available_spaces = self.get_available_spaces()\n",
    "        for space in available_spaces:\n",
    "            try:\n",
    "                Turn.validate_placement(Turn(\n",
    "                    player=self.current_team,\n",
    "                    piece_type='queenbee',\n",
    "                    action_type='place',\n",
    "                    target_coordinates=space\n",
    "                ), self)\n",
    "                return None  # Found at least one valid space\n",
    "            except ValueError:\n",
    "                continue  # This space is invalid, keep checking\n",
    "        \n",
    "        # No valid spaces found - opponent wins\n",
    "        opponent = 'black' if self.current_team == 'white' else 'white'\n",
    "        return opponent\n",
    "\n",
    "    def get_pieces_by_type(self, piece_type: type, team: Optional[str] = None) -> List[GamePiece]:\n",
    "        \"\"\"Get all pieces of a specific type, optionally filtered by team.\"\"\"\n",
    "        pieces = [p for p in self.all_pieces.values() if isinstance(p, piece_type)]\n",
    "        if team:\n",
    "            pieces = [p for p in pieces if p.team == team]\n",
    "        return pieces\n",
    "\n",
    "    def get_piece_by_coordinates(self, coordinates: HexCoordinate) -> Optional[GamePiece]:\n",
    "        \"\"\"Get the piece located at specific hex coordinates.\"\"\"\n",
    "        for piece in self.all_pieces.values():\n",
    "            if piece.hex_coordinates == coordinates and piece.location == 'board':\n",
    "                return piece\n",
    "        print(\"No piece found at the given coordinates.\")\n",
    "        return None\n",
    "\n",
    "    def are_hexes_adjacent(self, hex1: HexCoordinate, hex2: HexCoordinate) -> bool:\n",
    "        \"\"\"Check if two hexes are adjacent to each other.\"\"\"\n",
    "        # Manhattan distance of 2\n",
    "        distance = abs(hex1.q - hex2.q) + abs(hex1.r - hex2.r) + abs(hex1.s - hex2.s)\n",
    "        return distance == 2\n",
    "\n",
    "    def can_slide_to(self, from_hex: HexCoordinate, to_hex: HexCoordinate, occupied: Set[Tuple[int, int, int]]) -> bool:\n",
    "        \"\"\"\n",
    "        Can slide one tile adjacent, for usage during pathing to check every step is valid.\n",
    "        \"\"\"\n",
    "\n",
    "        # double check path is adjacent\n",
    "        if not self.are_hexes_adjacent(from_hex, to_hex):\n",
    "            raise ValueError('Hexes are not adjacent')\n",
    "\n",
    "        # # coords\n",
    "        # from_coords = (from_hex.q, from_hex.r, from_hex.s)\n",
    "        # to_coords = (to_hex.q, to_hex.r, to_hex.s)\n",
    "\n",
    "        # neighbors\n",
    "        from_neighbors = set([(h.q, h.r, h.s) for h in from_hex.get_adjacent_hexes()])\n",
    "        to_neighbors = set([(h.q, h.r, h.s) for h in to_hex.get_adjacent_hexes()])\n",
    "\n",
    "        mutual_neighbors = from_neighbors.intersection(to_neighbors)\n",
    "        occupied_mutual = mutual_neighbors.intersection(occupied)\n",
    "\n",
    "        if len(occupied_mutual) >= 2:\n",
    "            return False # cannot slide through tight gap\n",
    "        \n",
    "        # if len(occupied_mutual) == 0:\n",
    "        #     # Check if we're sliding along the edge of the hive\n",
    "        #     all_neighbors = from_neighbors.union(to_neighbors)\n",
    "        #     all_neighbors.discard(from_coords)  # Remove the from position\n",
    "        #     all_neighbors.discard(to_coords)    # Remove the to position\n",
    "            \n",
    "        #     non_mutual_occupied = all_neighbors.intersection(occupied) - mutual_neighbors\n",
    "            \n",
    "        #     # If there are no occupied pieces touching either position (except mutual neighbors),\n",
    "        #     # the piece would lose contact during the slide\n",
    "        #     if len(non_mutual_occupied) == 0:\n",
    "        #         return False\n",
    "        \n",
    "        return True\n",
    "\n",
    "    def get_valid_slide_positions(self, current: HexCoordinate, occupied: Set[Tuple[int, int, int]]) -> List[HexCoordinate]:\n",
    "        \"\"\"\n",
    "        Get all positions that a piece can slide to from the current position.\n",
    "        A piece can slide to an adjacent empty space if:\n",
    "        1. The space is not occupied\n",
    "        2. The piece can physically slide there (not blocked by a gate)\n",
    "        3. The space is adjacent to at least one other piece (maintains hive connection)\n",
    "        \"\"\"\n",
    "        valid_positions = []\n",
    "        current_coords = (current.q, current.r, current.s)\n",
    "        \n",
    "        for adjacent_hex in current.get_adjacent_hexes():\n",
    "            adj_coords = (adjacent_hex.q, adjacent_hex.r, adjacent_hex.s)\n",
    "            \n",
    "            # 1. Skip if position is occupied\n",
    "            if adj_coords in occupied:\n",
    "                continue\n",
    "\n",
    "            # 2. Check if we can physically slide to this position\n",
    "            if not self.can_slide_to(current, adjacent_hex, occupied):\n",
    "                continue\n",
    "\n",
    "            # 3. Check if this position maintains hive connection\n",
    "            # (must be adjacent to at least one piece after the move)\n",
    "            has_neighbor = False\n",
    "            for neighbor_hex in adjacent_hex.get_adjacent_hexes():\n",
    "                neighbor_coords = (neighbor_hex.q, neighbor_hex.r, neighbor_hex.s)\n",
    "                # Don't count the current position as a neighbor (we're leaving it)\n",
    "                if neighbor_coords in occupied and neighbor_coords != current_coords:\n",
    "                    has_neighbor = True\n",
    "                    break\n",
    "            \n",
    "            if has_neighbor:\n",
    "                valid_positions.append(adjacent_hex)\n",
    "        return valid_positions\n",
    "\n",
    "    def check_freedom_of_movement(self, start:HexCoordinate, end:HexCoordinate, piece_id: str) -> bool:\n",
    "        # check if its no move just in case of madness\n",
    "        if start.q == end.q and start.r == end.r and start.s == end.s:\n",
    "            return True\n",
    "        \n",
    "        # get occupied spaces except the moving piece\n",
    "        occupied = set()\n",
    "        for pid, piece in self.board_state.pieces.items():\n",
    "            if pid != piece_id and piece.location == 'board':\n",
    "                occupied.add((piece.hex_coordinates.q, piece.hex_coordinates.r, piece.hex_coordinates.s))\n",
    "\n",
    "        # check if its an ajacent move\n",
    "        if self.are_hexes_adjacent(start, end):\n",
    "            return self.can_slide_to(start, end, occupied) # can slide directly\n",
    "        \n",
    "        # use a star pathfinding to see if a path exists\n",
    "        path = self.get_path(start, end, piece_id)\n",
    "        if path is not None:\n",
    "            return True\n",
    "        return False\n",
    "\n",
    "    def get_path(self, start: HexCoordinate, end: HexCoordinate, piece_id: str) -> Optional[List[HexCoordinate]]:\n",
    "\n",
    "        def heuristic(a: HexCoordinate, b: HexCoordinate) -> int:\n",
    "            # Manhattan distance in hex coordinates\n",
    "            return (abs(a.q - b.q) + abs(a.r - b.r) + abs(a.s - b.s)) // 2\n",
    "        \n",
    "        # Priority queue: (f_score, counter, current_hex, path)\n",
    "        # counter is used to break ties in f_score\n",
    "        counter = 0\n",
    "        open_set = []\n",
    "        heapq.heappush(open_set, (heuristic(start, end), counter, start, [start]))\n",
    "        \n",
    "        # Track visited nodes to avoid cycles\n",
    "        visited = set()\n",
    "        visited.add((start.q, start.r, start.s))\n",
    "        \n",
    "        # Get all occupied spaces except the moving piece\n",
    "        occupied = set()\n",
    "        for pid, piece in self.board_state.pieces.items():\n",
    "            if pid != piece_id and piece.location == 'board':\n",
    "                occupied.add((piece.hex_coordinates.q, piece.hex_coordinates.r, piece.hex_coordinates.s))\n",
    "        \n",
    "        while open_set:\n",
    "            _, _, current, path = heapq.heappop(open_set)\n",
    "            \n",
    "            # Check if we reached the goal\n",
    "            if current.q == end.q and current.r == end.r and current.s == end.s:\n",
    "                return path\n",
    "            \n",
    "            # Explore neighbors\n",
    "            for next_hex in self.get_valid_slide_positions(current, occupied):\n",
    "                next_coords = (next_hex.q, next_hex.r, next_hex.s)\n",
    "                \n",
    "                if next_coords not in visited:\n",
    "                    visited.add(next_coords)\n",
    "                    g_score = len(path)  # Cost from start to current\n",
    "                    h_score = heuristic(next_hex, end)  # Heuristic cost to goal\n",
    "                    f_score = g_score + h_score\n",
    "                    \n",
    "                    counter += 1\n",
    "                    new_path = path + [next_hex]\n",
    "                    heapq.heappush(open_set, (f_score, counter, next_hex, new_path))\n",
    "        \n",
    "        return None \n",
    "\n",
    "    @model_validator(mode='after')\n",
    "    def validate_current_team(self):\n",
    "        if self.current_team not in ['white', 'black']:\n",
    "            raise ValueError('Current team must be either \"white\" or \"black\"')\n",
    "        return self\n",
    "\n",
    "class Turn(BaseModel):\n",
    "    player: str\n",
    "    piece_id: Optional[str] = None\n",
    "    piece_type: Optional[str] = None\n",
    "    action_type: str # 'place', 'move', 'forfeit'\n",
    "    target_coordinates: Optional[HexCoordinate] = None\n",
    "\n",
    "    @staticmethod\n",
    "    def hive_stays_connected(piece_id, game_state):\n",
    "        # BFS or DFS to check if all pieces are still connected without the piece being moved\n",
    "        # get all pieces on board except the one being moved\n",
    "        pieces_on_board = {}\n",
    "        for pid, piece in game_state.board_state.pieces.items():\n",
    "            if pid == piece_id:\n",
    "                continue\n",
    "            if piece.location == 'board':\n",
    "                pieces_on_board[pid] = piece\n",
    "        \n",
    "        if len(pieces_on_board) <= 1:\n",
    "            return True # only one piece on board, so can't break hive\n",
    "        \n",
    "        # start BFS from any piece\n",
    "        # aka, can i go from this one peice to every other piece\n",
    "        start_id = next(iter(pieces_on_board.keys()))\n",
    "        visited = {start_id}\n",
    "        queue = [start_id]\n",
    "\n",
    "        # build adjacancy map\n",
    "        coord_to_pid = {}\n",
    "        for pid, piece in pieces_on_board.items():\n",
    "            coords = (piece.hex_coordinates.q, piece.hex_coordinates.r, piece.hex_coordinates.s)\n",
    "            coord_to_pid[coords] = pid\n",
    "\n",
    "        while queue:\n",
    "            current_id = queue.pop(0)\n",
    "            current_piece = pieces_on_board[current_id]\n",
    "\n",
    "            # check all the adcajacent pieces\n",
    "            for adj_hex in current_piece.hex_coordinates.get_adjacent_hexes():\n",
    "                adj_coords = (adj_hex.q, adj_hex.r, adj_hex.s)\n",
    "\n",
    "                # find all the pieces adjacent to this piece\n",
    "                if adj_coords in coord_to_pid:\n",
    "                    adj_pid = coord_to_pid[adj_coords]\n",
    "                    if adj_pid not in visited:\n",
    "                        visited.add(adj_pid)\n",
    "                        queue.append(adj_pid)\n",
    "        return len(visited) == len(pieces_on_board) # ie if we visited every piece, hive is intact\n",
    "\n",
    "    @staticmethod\n",
    "    def validate_movement(turn, game_state):\n",
    "        # generic movement validation (non-specific to piece type)\n",
    "        # have to know what id to move\n",
    "        if turn.piece_id is None:\n",
    "            raise ValueError('Movement requires piece_id to specify which piece to move')\n",
    "        \n",
    "        piece = game_state.all_pieces.get(turn.piece_id)\n",
    "        if piece is None: # wrong id\n",
    "            raise ValueError('Piece not found')\n",
    "        if piece.team != turn.player: # hands off not yours\n",
    "            raise ValueError('Cannot move opponent piece')\n",
    "        if piece.location != 'board': # not on board\n",
    "            raise ValueError('Can only move pieces that are on the board')\n",
    "\n",
    "        # Check if the target coordinates are valid\n",
    "        if turn.target_coordinates is None:\n",
    "            raise ValueError('Movement requires target_coordinates to specify where to move the piece')\n",
    "        \n",
    "        # broken hive rule\n",
    "        if not Turn.hive_stays_connected(turn.piece_id, game_state):\n",
    "            raise ValueError('Move would break the hive, which is not allowed')\n",
    "\n",
    "        # freedom of movement rule\n",
    "        if not game_state.check_freedom_of_movement(piece.hex_coordinates, turn.target_coordinates, turn.piece_id):\n",
    "            raise ValueError('Piece cannot slide to target coordinates due to freedom of movement rule')\n",
    "\n",
    "        return turn\n",
    "    \n",
    "    @staticmethod\n",
    "    def validate_placement(turn, game_state):\n",
    "        \n",
    "        # need either id or type, find an id if not given\n",
    "        if turn.piece_id is None: \n",
    "            if turn.piece_type is None:\n",
    "                raise ValueError('Placement requires either piece_id or piece_type to specify which piece to place')\n",
    "            \n",
    "            # find an unplaced piece of that type for that player\n",
    "            piece_type_map = {\n",
    "                'ant': Ant,\n",
    "                'beetle': Beetle,\n",
    "                'grasshopper': Grasshopper,\n",
    "                'queenbee': QueenBee,\n",
    "                'queen': QueenBee,\n",
    "                'spider': Spider,\n",
    "                'ladybug': Ladybug,\n",
    "                'mosquito': Mosquito\n",
    "            }\n",
    "            piece_class = piece_type_map.get(turn.piece_type.lower())\n",
    "            \n",
    "            player = game_state.white_player if turn.player == 'white' else game_state.black_player\n",
    "            available_piece = next(\n",
    "                (p for p in player.pieces \n",
    "                 if isinstance(p, piece_class) and p.location == 'offboard'),\n",
    "                None\n",
    "            )\n",
    "            # player = game_state.white_player if turn.player == 'white' else game_state.black_player\n",
    "\n",
    "            if available_piece is None:\n",
    "                raise ValueError(f'No unplaced piece of type {turn.piece_type} available for player {turn.player}')\n",
    "            \n",
    "            turn.piece_id = available_piece.piece_id\n",
    "        \n",
    "        # First piece must be placed at the center\n",
    "        if game_state.turn == 0:\n",
    "            if turn.target_coordinates != HexCoordinate(q=0, r=0, s=0):\n",
    "                raise ValueError('First piece must be placed at the center (0,0,0)')\n",
    "            else:\n",
    "                return turn\n",
    "        \n",
    "        # check its next to an occupied space\n",
    "        occupied = game_state.get_occupied_spaces()\n",
    "        adjacent = turn.target_coordinates.get_adjacent_hexes()\n",
    "        adjacent = [(hex.q, hex.r, hex.s) for hex in adjacent]\n",
    "        occupied = set(occupied)\n",
    "        adjacent = set(adjacent)\n",
    "        if len(occupied.intersection(adjacent)) == 0:\n",
    "            raise ValueError('Target coordinates must be adjacent to an occupied space')\n",
    "\n",
    "        target = (turn.target_coordinates.q, turn.target_coordinates.r, turn.target_coordinates.s)\n",
    "        occupied = set(game_state.get_occupied_spaces())\n",
    "\n",
    "        if target in occupied:\n",
    "            raise ValueError('Target coordinates are already occupied')\n",
    "\n",
    "        # check its not next to an opposite colour\n",
    "        if game_state.turn > 1: # skip this check for the first placement\n",
    "            # get players\n",
    "            player = game_state.white_player if turn.player == 'white' else game_state.black_player\n",
    "            opponent = game_state.black_player if turn.player == 'white' else game_state.white_player\n",
    "            \n",
    "            # get ids\n",
    "            player_piece_ids = [piece.piece_id for piece in player.pieces if piece.location == 'board']\n",
    "            opponent_piece_ids = [piece.piece_id for piece in opponent.pieces if piece.location == 'board']\n",
    "\n",
    "            # coordinates adjacent to player\n",
    "            player_adjacent = set()\n",
    "            for pid in player_piece_ids:\n",
    "                piece = game_state.board_state.pieces[pid]\n",
    "                for adj in piece.hex_coordinates.get_adjacent_hexes():\n",
    "                    player_adjacent.add((adj.q, adj.r, adj.s))\n",
    "            \n",
    "            # coordinates adjacent to opponent\n",
    "            opponent_adjacent = set()\n",
    "            for pid in opponent_piece_ids:\n",
    "                piece = game_state.board_state.pieces[pid]\n",
    "                for adj in piece.hex_coordinates.get_adjacent_hexes():\n",
    "                    opponent_adjacent.add((adj.q, adj.r, adj.s))\n",
    "\n",
    "            if target not in player_adjacent:\n",
    "                raise ValueError('Target coordinates must be adjacent to your own pieces')\n",
    "        \n",
    "            # Must NOT be adjacent to any opponent pieces\n",
    "            if target in opponent_adjacent:\n",
    "                raise ValueError('Target coordinates cannot be adjacent to opponent pieces')\n",
    "\n",
    "        # check piece is offboard\n",
    "        # get piece\n",
    "        piece = game_state.all_pieces.get(turn.piece_id)\n",
    "\n",
    "        if piece is None:\n",
    "            raise ValueError('Piece not found in player pieces')\n",
    "        if piece.location != 'offboard':\n",
    "            raise ValueError('Piece is already on the board')\n",
    "        \n",
    "        # check if queen has been placed by turn 4\n",
    "        queen = game_state.get_queen(turn.player)\n",
    "        if turn.player == 'white':\n",
    "            player_turn_number = game_state.turn // 2\n",
    "        else:\n",
    "            player_turn_number = (game_state.turn - 1) // 2\n",
    "\n",
    "        if player_turn_number == 3 and queen.location == 'offboard':\n",
    "            # On turn 4, MUST place queen\n",
    "            piece = game_state.all_pieces.get(turn.piece_id)\n",
    "            if not isinstance(piece, QueenBee):\n",
    "                raise ValueError(f'{turn.player.capitalize()}\\'s Queen must be placed on turn 4')\n",
    "        elif player_turn_number > 3 and queen.location == 'offboard':\n",
    "        # After turn 4, it's too late - this shouldn't happen if enforced properly\n",
    "            raise ValueError(f'{turn.player.capitalize()} failed to place Queen by turn 4')\n",
    "    \n",
    "        return turn\n",
    "\n",
    "class Game(BaseModel):\n",
    "    game_state: GameState = Field(default_factory=GameState)\n",
    "    history: List[Turn] = Field(default_factory=list)\n",
    "\n",
    "    def apply_turn(self, turn: Turn):\n",
    "        # Validate turn\n",
    "\n",
    "        if turn.action_type == 'place':\n",
    "            turn = Turn.validate_placement(turn, self.game_state)\n",
    "            \n",
    "            piece = self.game_state.all_pieces.get(turn.piece_id)\n",
    "            piece.hex_coordinates = turn.target_coordinates\n",
    "            piece.location = 'board'\n",
    "            self.game_state.board_state.add_piece(turn.piece_id, piece, turn.target_coordinates)\n",
    "\n",
    "\n",
    "        elif turn.action_type == 'move':\n",
    "            Turn.validate_movement(turn, self.game_state)\n",
    "            \n",
    "            # actually move the piece\n",
    "            piece = self.game_state.all_pieces.get(turn.piece_id)\n",
    "            piece.hex_coordinates = turn.target_coordinates\n",
    "            self.game_state.board_state.move_piece(turn.piece_id, piece, turn.target_coordinates)\n",
    "\n",
    "        elif turn.action_type == 'forfeit':\n",
    "            if self.game_state.verbose:\n",
    "                print(f\"{turn.player} has forfeited the game.\")\n",
    "            # Forfeit logic to be implemented\n",
    "            pass\n",
    "        \n",
    "        else:\n",
    "            raise ValueError('Invalid action type')\n",
    "        \n",
    "        # Update game state for next turn\n",
    "        self.history.append(turn)\n",
    "        win = self.game_state.check_win_condition()\n",
    "        self.game_state.turn += 1\n",
    "        self.game_state.current_team = 'black' if self.game_state.current_team == 'white' else 'white'\n",
    "        return turn.piece_id\n"
   ]
  },
  {
   "cell_type": "code",
   "execution_count": 3,
   "id": "a4dd7b16",
   "metadata": {},
   "outputs": [],
   "source": [
    "from abc import ABC, abstractmethod\n",
    "import random\n",
    "\n",
    "class BaseBot(ABC):    \n",
    "    def __init__(self, team: str, name: str = \"Bot\"):\n",
    "        self.team = team\n",
    "        self.name = name\n",
    "    \n",
    "    def get_available_pieces(self, game_state) -> dict:\n",
    "        \"\"\"Get all available pieces for this bot's team.\"\"\"\n",
    "        player = game_state.white_player if self.team == 'white' else game_state.black_player\n",
    "        \n",
    "        available = {}\n",
    "        for piece in player.pieces:\n",
    "            if piece.location == 'offboard':\n",
    "                piece_type = piece.__class__.__name__.lower()\n",
    "                if piece_type not in available:\n",
    "                    available[piece_type] = []\n",
    "                available[piece_type].append(piece.piece_id)\n",
    "        \n",
    "        return available\n",
    "    \n",
    "    def must_place_queen(self, game_state) -> bool:\n",
    "        \"\"\"Check if the bot must place the queen this turn.\"\"\"\n",
    "        queen = game_state.get_queen(self.team)\n",
    "        if self.team == 'white':\n",
    "            player_turn_number = game_state.turn // 2\n",
    "        else:\n",
    "            player_turn_number = (game_state.turn - 1) // 2\n",
    "        return queen and queen.location == 'offboard' and player_turn_number >= 3\n",
    "\n",
    "\n",
    "    @abstractmethod\n",
    "    def choose_action_type(self, can_move: bool, can_place: bool, game_state) -> str:\n",
    "        \"\"\"Decide whether to 'move' or 'place'. Must be implemented by subclass.\"\"\"\n",
    "        pass\n",
    "    \n",
    "    @abstractmethod\n",
    "    def choose_piece_type(self, available_pieces: dict, movable_pieces: dict, \n",
    "                          action_type: str, game_state) -> str:\n",
    "        \"\"\"Choose which type of piece to use. Must be implemented by subclass.\"\"\"\n",
    "        pass\n",
    "    \n",
    "    @abstractmethod\n",
    "    def choose_piece_id(self, piece_ids: List[str], piece_type: str, \n",
    "                        action_type: str, game_state) -> str:\n",
    "        \"\"\"Choose specific piece instance from available pieces of chosen type.\"\"\"\n",
    "        pass\n",
    "    \n",
    "    @abstractmethod\n",
    "    def choose_target_location(self, available_spaces: List, piece_type: str, \n",
    "                               action_type: str, game_state):\n",
    "        \"\"\"Choose where to place or move the piece.\"\"\"\n",
    "        pass\n",
    "\n",
    "    def get_move(self, game_state) -> 'Turn':\n",
    "        \"\"\"Generate a move...\"\"\"\n",
    "        \n",
    "        available_pieces = self.get_available_pieces(game_state)\n",
    "        movable_pieces = game_state.get_movable_pieces(game_state)\n",
    "        \n",
    "        if not available_pieces and not movable_pieces:\n",
    "            return Turn(player=self.team, action_type='forfeit')\n",
    "        \n",
    "        # Check if must place the queen\n",
    "        if self.must_place_queen(game_state):\n",
    "            action_type = 'place'\n",
    "            piece_type = 'queenbee'\n",
    "        else:\n",
    "            # Delegate decision\n",
    "            can_move = len(movable_pieces) > 0\n",
    "            can_place = len(available_pieces) > 0\n",
    "            \n",
    "            if not can_move and not can_place:\n",
    "                return Turn(player=self.team, action_type='forfeit')\n",
    "            \n",
    "            action_type = self.choose_action_type(can_move, can_place, game_state)\n",
    "            piece_type = self.choose_piece_type(available_pieces, movable_pieces, \n",
    "                                                action_type, game_state)\n",
    "        \n",
    "        available_spaces = game_state.get_available_spaces()\n",
    "        \n",
    "        if action_type == 'move':\n",
    "            # Filter for pieces that won't break the hive\n",
    "            candidate_pieces = movable_pieces.get(piece_type, [])\n",
    "            valid_moves = {}\n",
    "\n",
    "            for pid in candidate_pieces:\n",
    "                if not Turn.hive_stays_connected(pid, game_state):\n",
    "                    continue\n",
    "                    \n",
    "                piece = game_state.all_pieces.get(pid)\n",
    "                valid_targets = []\n",
    "                for space in available_spaces:\n",
    "                    try:\n",
    "                        test_turn = Turn(\n",
    "                            player=self.team,\n",
    "                            piece_id=pid,\n",
    "                            action_type='move',\n",
    "                            target_coordinates=space\n",
    "                        )\n",
    "                        Turn.validate_movement(test_turn, game_state)\n",
    "                        valid_targets.append(space)\n",
    "                    except ValueError:\n",
    "                        continue\n",
    "                if valid_targets:\n",
    "                    valid_moves[pid] = valid_targets\n",
    "\n",
    "            if not valid_moves:\n",
    "                # Fall back to placement\n",
    "                action_type = 'place'\n",
    "                if available_pieces:\n",
    "                    piece_type = self.choose_piece_type(available_pieces, {}, \n",
    "                                                    'place', game_state)\n",
    "                else:\n",
    "                    return Turn(player=self.team, action_type='forfeit')\n",
    "            else:\n",
    "                pieces_with_moves = list(valid_moves.keys())\n",
    "                piece_id = self.choose_piece_id(pieces_with_moves, \n",
    "                                            piece_type, action_type, game_state)\n",
    "                \n",
    "                target = self.choose_target_location(valid_moves[piece_id], piece_type, \n",
    "                                                    action_type, game_state)\n",
    "\n",
    "                return Turn(\n",
    "                    player=self.team,\n",
    "                    piece_id=piece_id,\n",
    "                    action_type='move',\n",
    "                    target_coordinates=target\n",
    "                )\n",
    "        \n",
    "        # Handle placement (or fallback from failed move)\n",
    "        if action_type == 'place':  \n",
    "            valid_spaces = []\n",
    "            for space in available_spaces:\n",
    "                try:\n",
    "                    Turn.validate_placement(Turn(\n",
    "                        player=self.team,\n",
    "                        piece_type=piece_type,\n",
    "                        action_type='place',\n",
    "                        target_coordinates=space\n",
    "                    ), game_state)\n",
    "                    valid_spaces.append(space)\n",
    "                except ValueError:\n",
    "                    pass  # Invalid space, skip it\n",
    "            \n",
    "            if not valid_spaces:\n",
    "                if game_state.verbose:\n",
    "                    print(f\"No valid placement spaces for {piece_type}\")\n",
    "                    print(f\"Available spaces checked: {len(available_spaces)}\")\n",
    "                return Turn(player=self.team, action_type='forfeit')\n",
    "            \n",
    "            # Choose specific piece and target\n",
    "            piece_id = self.choose_piece_id(available_pieces[piece_type], \n",
    "                                        piece_type, 'place', game_state)\n",
    "            target = self.choose_target_location(valid_spaces, piece_type, \n",
    "                                                'place', game_state)\n",
    "            \n",
    "            return Turn(\n",
    "                player=self.team,\n",
    "                action_type='place',\n",
    "                piece_type=piece_type,\n",
    "                piece_id=piece_id,\n",
    "                target_coordinates=target\n",
    "            )\n",
    "\n",
    "\n",
    "class RandomBot(BaseBot):\n",
    "    \"\"\"A bot that makes completely random valid moves.\"\"\"\n",
    "    \n",
    "    def __init__(self, team: str, name: str = \"RandomBot\"):\n",
    "        super().__init__(team, name)\n",
    "    \n",
    "    def choose_action_type(self, can_move: bool, can_place: bool, game_state) -> str:\n",
    "        \"\"\"Randomly choose between move and place.\"\"\"\n",
    "        options = []\n",
    "        if can_move:\n",
    "            options.append('move')\n",
    "        if can_place:\n",
    "            options.append('place')\n",
    "        return random.choice(options)\n",
    "    \n",
    "    def choose_piece_type(self, available_pieces: dict, movable_pieces: dict,\n",
    "                          action_type: str, game_state) -> str:\n",
    "        \"\"\"Randomly select a piece type based on action.\"\"\"\n",
    "        if action_type == 'move':\n",
    "            return random.choice(list(movable_pieces.keys()))\n",
    "        else:\n",
    "            return random.choice(list(available_pieces.keys()))\n",
    "    \n",
    "    def choose_piece_id(self, piece_ids: List[str], piece_type: str,\n",
    "                        action_type: str, game_state) -> str:\n",
    "        \"\"\"Randomly select a specific piece.\"\"\"\n",
    "        return random.choice(piece_ids)\n",
    "    \n",
    "    def choose_target_location(self, available_spaces: List, piece_type: str,\n",
    "                               action_type: str, game_state):\n",
    "        \"\"\"Randomly select an available space.\"\"\"\n",
    "        return random.choice(available_spaces)"
   ]
  },
  {
   "cell_type": "code",
   "execution_count": 4,
   "id": "627dadbb",
   "metadata": {},
   "outputs": [],
   "source": [
    "def hex_to_pixel(coord: HexCoordinate, size: float = 1.0):\n",
    "    \"\"\"Convert hex coordinate to pixel position for plotting.\"\"\"\n",
    "    x = size * (3/2 * coord.q)\n",
    "    y = size * (np.sqrt(3)/2 * coord.q + np.sqrt(3) * coord.r)\n",
    "    return x, y\n",
    "\n",
    "def get_hexagon_vertices(x: float, y: float, size: float = 1.0):\n",
    "    \"\"\"Get vertices of a hexagon centered at (x, y).\"\"\"\n",
    "    angles = np.linspace(0, 2*np.pi, 7)  # 7 points to close the hexagon\n",
    "    vertices_x = x + size * np.cos(angles)\n",
    "    vertices_y = y + size * np.sin(angles)\n",
    "    return vertices_x, vertices_y\n",
    "\n",
    "def visualize_game_board(board_state: BoardState, show_empty_hexes: Optional[List[HexCoordinate]] = None, show_coordinates: bool = True):\n",
    "    \"\"\"\n",
    "    Visualize game pieces on hex coordinates\n",
    "    \"\"\"\n",
    "    fig = go.Figure()\n",
    "    \n",
    "    hex_size = 0.95\n",
    "    icon_size = int(25 * hex_size)\n",
    "    \n",
    "    # CUSTOMIZATION: Team colors mapping\n",
    "    team_colors = {\n",
    "        \"black\": \"#1D1A1A\",  # black team\n",
    "        \"white\": \"#FFFFFF\",  # white team\n",
    "    }\n",
    "    \n",
    "    team_border_colors = {\n",
    "        \"black\": \"#000000\",  # black border\n",
    "        \"white\": \"#808080\",  # white border for visibility\n",
    "    }\n",
    "    \n",
    "    # Draw empty hexes if provided\n",
    "    if show_empty_hexes:\n",
    "        for coord in show_empty_hexes:\n",
    "            center_x, center_y = hex_to_pixel(coord, size=1.0)\n",
    "            hex_x, hex_y = get_hexagon_vertices(center_x, center_y, hex_size)\n",
    "            \n",
    "            fig.add_trace(go.Scatter(\n",
    "                x=hex_x,\n",
    "                y=hex_y,\n",
    "                fill='toself',\n",
    "                fillcolor='#F5F5F5',\n",
    "                line=dict(color='lightgray', width=1),\n",
    "                mode='lines',\n",
    "                showlegend=False,\n",
    "                name='',\n",
    "                hovertemplate=f'Empty<br>q={coord.q}, r={coord.r}, s={coord.s}<extra></extra>',\n",
    "            ))\n",
    "            \n",
    "            if show_coordinates:\n",
    "                fig.add_trace(go.Scatter(\n",
    "                    x=[center_x],\n",
    "                    y=[center_y],\n",
    "                    mode='text',\n",
    "                    text=[f'({coord.q},{coord.r},{coord.s})'],\n",
    "                    textfont=dict(size=10, color='darkgray'),\n",
    "                    showlegend=False,\n",
    "                    name='',\n",
    "                    hoverinfo='skip'\n",
    "                ))\n",
    "        \n",
    "    # Draw hexes with game pieces (only pieces that are on the board)\n",
    "    for piece in board_state.pieces.values():\n",
    "        # Skip pieces without coordinates (offboard pieces)\n",
    "        if piece.hex_coordinates is None:\n",
    "            continue\n",
    "            \n",
    "        # Skip pieces that are explicitly offboard\n",
    "        if piece.location == 'offboard':\n",
    "            continue\n",
    "        \n",
    "        coord = piece.hex_coordinates\n",
    "        center_x, center_y = hex_to_pixel(coord, size=1.0)\n",
    "        hex_x, hex_y = get_hexagon_vertices(center_x, center_y, hex_size)\n",
    "        \n",
    "        # Get team colors\n",
    "        fill_color = team_colors.get(piece.team, 'lightgray')\n",
    "        line_color = team_border_colors.get(piece.team, 'gray')\n",
    "        \n",
    "        # Draw hexagon\n",
    "        fig.add_trace(go.Scatter(\n",
    "            x=hex_x,\n",
    "            y=hex_y,\n",
    "            fill='toself',\n",
    "            fillcolor=fill_color,\n",
    "            line=dict(color=line_color, width=2),\n",
    "            mode='lines',\n",
    "            showlegend=False,\n",
    "            name='',\n",
    "            hovertemplate=f'{piece.__class__.__name__} ({piece.team})<br>Position: ({coord.q},{coord.r},{coord.s})<extra></extra>',\n",
    "        ))\n",
    "        \n",
    "        # Add piece icon\n",
    "        fig.add_trace(go.Scatter(\n",
    "            x=[center_x],\n",
    "            y=[center_y],\n",
    "            mode='text',\n",
    "            text=[piece.icon],\n",
    "            textfont=dict(size=icon_size, color='black'),\n",
    "            showlegend=False,\n",
    "            name='',\n",
    "            hoverinfo='skip'\n",
    "        ))\n",
    "        \n",
    "        # Add coordinate labels (optional)\n",
    "        if show_coordinates:\n",
    "            fig.add_trace(go.Scatter(\n",
    "                x=[center_x],\n",
    "                y=[center_y - 0.3],\n",
    "                mode='text',\n",
    "                text=[f'({coord.q},{coord.r},{coord.s})'],\n",
    "                textfont=dict(size=8, color='gray'),\n",
    "                showlegend=False,\n",
    "                name='',\n",
    "                hoverinfo='skip'\n",
    "            ))\n",
    "\n",
    "    fig.update_layout(\n",
    "        title='Hive - digitally made by Dan',\n",
    "        hovermode='closest',\n",
    "        xaxis=dict(\n",
    "            scaleanchor='y',\n",
    "            scaleratio=1,\n",
    "            showgrid=True,\n",
    "            zeroline=True,\n",
    "            gridcolor='lightgray'\n",
    "        ),\n",
    "        yaxis=dict(\n",
    "            showgrid=True,\n",
    "            zeroline=True,\n",
    "            gridcolor='lightgray'\n",
    "        ),\n",
    "        plot_bgcolor='white',\n",
    "        width=800,\n",
    "        height=800,\n",
    "    )\n",
    "    \n",
    "    fig.show()"
   ]
  },
  {
   "cell_type": "code",
   "execution_count": 5,
   "id": "e4caeaff",
   "metadata": {},
   "outputs": [],
   "source": [
    "import time\n",
    "\n",
    "\n",
    "def simulate_game(white_bot, black_bot, verbose=False, plot_game: bool = False):\n",
    "    \"\"\"Simulate a game between two bots.\"\"\"\n",
    "    \n",
    "    game = Game(game_state=GameState(verbose=verbose))\n",
    "    \n",
    "    max_turns = 200  # Prevent infinite games\n",
    "    \n",
    "    for turn_num in range(max_turns):\n",
    "        queen_loss = game.game_state.check_queen_placement_loss()\n",
    "        if queen_loss:\n",
    "            if verbose:\n",
    "                print(f\"\\n{game.game_state.current_team.upper()} cannot place queen by turn 4!\")\n",
    "                print(f\"{queen_loss.upper()} WINS by queen placement rule!\")\n",
    "            return queen_loss, turn_num, game\n",
    "\n",
    "        current_bot = white_bot if game.game_state.current_team == 'white' else black_bot\n",
    "        \n",
    "        # Get bot's move\n",
    "        turn = current_bot.get_move(game.game_state)\n",
    "        \n",
    "        if verbose:\n",
    "            print(f\"\\nTurn {turn_num}: {current_bot.name} ({current_bot.team})\")\n",
    "            print(f\"  Action: {turn.action_type}\")\n",
    "            if turn.piece_type:\n",
    "                print(f\"  Piece: {turn.piece_type}\")\n",
    "            if turn.piece_id and turn.action_type == 'move':\n",
    "                # Show current location for moves\n",
    "                piece = game.game_state.all_pieces.get(turn.piece_id)\n",
    "                if piece and piece.hex_coordinates:\n",
    "                    print(f\"  From: ({piece.hex_coordinates.q}, {piece.hex_coordinates.r}, {piece.hex_coordinates.s})\")\n",
    "            if turn.target_coordinates:\n",
    "                print(f\"  Target: ({turn.target_coordinates.q}, {turn.target_coordinates.r}, {turn.target_coordinates.s})\")\n",
    "        \n",
    "        # Apply the turn\n",
    "        try:\n",
    "            game.apply_turn(turn)\n",
    "        except Exception as e:\n",
    "            print(f\"Error applying turn: {e}\")\n",
    "            break\n",
    "        \n",
    "        # Check for winner\n",
    "        winner = game.game_state.check_win_condition()\n",
    "        if winner:\n",
    "            if verbose:\n",
    "                print(f\"\\n{winner.upper()} WINS after {turn_num + 1} turns!\")\n",
    "            return winner, turn_num + 1, game\n",
    "    \n",
    "    if verbose:\n",
    "        print(f\"\\nGame reached maximum turns ({max_turns})\")\n",
    "    if plot_game:\n",
    "        visualize_game_board(game.game_state.board_state, show_empty_hexes=game.game_state.get_available_spaces())\n",
    "        time.sleep(1)\n",
    "    return None, max_turns, game"
   ]
  },
  {
   "cell_type": "code",
   "execution_count": 6,
   "id": "9b51756f",
   "metadata": {},
   "outputs": [
    {
     "name": "stdout",
     "output_type": "stream",
     "text": [
      "No pieces on the board, returning center hex (0,0,0) as available space.\n",
      "\n",
      "Turn 0: RandomBot (white)\n",
      "  Action: place\n",
      "  Piece: ant\n",
      "  Target: (0, 0, 0)\n",
      "\n",
      "Turn 1: RandomBot (black)\n",
      "  Action: place\n",
      "  Piece: ant\n",
      "  Target: (0, 1, -1)\n",
      "\n",
      "Turn 2: RandomBot (white)\n",
      "  Action: move\n",
      "  From: (0, 0, 0)\n",
      "  Target: (-1, 2, -1)\n",
      "\n",
      "Turn 3: RandomBot (black)\n",
      "  Action: move\n",
      "  From: (0, 1, -1)\n",
      "  Target: (-1, 3, -2)\n",
      "\n",
      "Turn 4: RandomBot (white)\n",
      "  Action: place\n",
      "  Piece: queenbee\n",
      "  Target: (-2, 2, 0)\n",
      "\n",
      "Turn 5: RandomBot (black)\n",
      "  Action: place\n",
      "  Piece: ant\n",
      "  Target: (-1, 4, -3)\n",
      "\n",
      "Turn 6: RandomBot (white)\n",
      "  Action: place\n",
      "  Piece: ant\n",
      "  Target: (-1, 1, 0)\n",
      "\n",
      "Turn 7: RandomBot (black)\n",
      "  Action: place\n",
      "  Piece: queenbee\n",
      "  Target: (0, 4, -4)\n",
      "\n",
      "Turn 8: RandomBot (white)\n",
      "  Action: place\n",
      "  Piece: ant\n",
      "  Target: (0, 1, -1)\n",
      "\n",
      "Turn 9: RandomBot (black)\n",
      "  Action: place\n",
      "  Piece: ant\n",
      "  Target: (1, 3, -4)\n",
      "\n",
      "Turn 10: RandomBot (white)\n",
      "  Action: move\n",
      "  From: (0, 1, -1)\n",
      "  Target: (0, 2, -2)\n",
      "\n",
      "Turn 11: RandomBot (black)\n",
      "  Action: move\n",
      "  From: (1, 3, -4)\n",
      "  Target: (-1, 0, 1)\n",
      "\n",
      "Turn 12: RandomBot (white)\n",
      "  Action: move\n",
      "  From: (0, 2, -2)\n",
      "  Target: (0, 0, 0)\n",
      "\n",
      "Turn 13: RandomBot (black)\n",
      "  Action: place\n",
      "  Piece: ant\n",
      "  Target: (-1, -1, 2)\n",
      "\n",
      "Turn 14: RandomBot (white)\n",
      "  Action: move\n",
      "  From: (-2, 2, 0)\n",
      "  Target: (-1, 5, -4)\n",
      "\n",
      "Turn 15: RandomBot (black)\n",
      "  Action: place\n",
      "  Piece: ant\n",
      "  Target: (-2, -1, 3)\n",
      "\n",
      "Turn 16: RandomBot (white)\n",
      "  Action: place\n",
      "  Piece: ant\n",
      "  Target: (1, -1, 0)\n",
      "\n",
      "Turn 17: RandomBot (black)\n",
      "  Action: move\n",
      "  From: (0, 4, -4)\n",
      "  Target: (-2, 1, 1)\n",
      "\n",
      "Turn 18: RandomBot (white)\n",
      "  Action: place\n",
      "  Piece: ant\n",
      "  Target: (2, -2, 0)\n",
      "\n",
      "Turn 19: RandomBot (black)\n",
      "  Action: place\n",
      "  Piece: ant\n",
      "  Target: (0, -2, 2)\n",
      "\n",
      "Turn 20: RandomBot (white)\n",
      "  Action: move\n",
      "  From: (-1, 5, -4)\n",
      "  Target: (1, -2, 1)\n",
      "\n",
      "Turn 21: RandomBot (black)\n",
      "  Action: place\n",
      "  Piece: ant\n",
      "  Target: (-3, 0, 3)\n",
      "\n",
      "Turn 22: RandomBot (white)\n",
      "  Action: place\n",
      "  Piece: ant\n",
      "  Target: (2, -1, -1)\n",
      "\n",
      "Turn 23: RandomBot (black)\n",
      "  Action: place\n",
      "  Piece: ant\n",
      "  Target: (0, 4, -4)\n",
      "\n",
      "Turn 24: RandomBot (white)\n",
      "  Action: move\n",
      "  From: (1, -2, 1)\n",
      "  Target: (-2, 3, -1)\n",
      "\n",
      "Turn 25: RandomBot (black)\n",
      "  Action: place\n",
      "  Piece: ant\n",
      "  Target: (-2, 0, 2)\n",
      "\n",
      "Turn 26: RandomBot (white)\n",
      "  Action: move\n",
      "  From: (2, -2, 0)\n",
      "  Target: (3, -2, -1)\n",
      "\n",
      "Turn 27: RandomBot (black)\n",
      "  Action: place\n",
      "  Piece: ant\n",
      "  Target: (-2, -2, 4)\n",
      "\n",
      "Turn 28: RandomBot (white)\n",
      "  Action: place\n",
      "  Piece: ant\n",
      "  Target: (0, 1, -1)\n",
      "\n",
      "Turn 29: RandomBot (black)\n",
      "  Action: move\n",
      "  From: (-2, 1, 1)\n",
      "  Target: (-3, 3, 0)\n",
      "\n",
      "Turn 30: RandomBot (white)\n",
      "  Action: place\n",
      "  Piece: ant\n",
      "  Target: (1, 0, -1)\n",
      "\n",
      "Turn 31: RandomBot (black)\n",
      "  Action: place\n",
      "  Piece: ant\n",
      "  Target: (0, -3, 3)\n",
      "\n",
      "Turn 32: RandomBot (white)\n",
      "  Action: move\n",
      "  From: (3, -2, -1)\n",
      "  Target: (1, 4, -5)\n",
      "\n",
      "Turn 33: RandomBot (black)\n",
      "  Action: place\n",
      "  Piece: ant\n",
      "  Target: (0, 3, -3)\n",
      "\n",
      "Turn 34: RandomBot (white)\n",
      "  Action: place\n",
      "  Piece: ant\n",
      "  Target: (2, -2, 0)\n",
      "\n",
      "Turn 35: RandomBot (black)\n",
      "  Action: move\n",
      "  From: (-3, 3, 0)\n",
      "  Target: (-3, -1, 4)\n",
      "\n",
      "Turn 36: RandomBot (white)\n",
      "  Action: move\n",
      "  From: (-2, 3, -1)\n",
      "  Target: (0, 2, -2)\n",
      "\n",
      "Turn 37: RandomBot (black)\n",
      "  Action: move\n",
      "  From: (0, 3, -3)\n",
      "  Target: (2, 3, -5)\n",
      "\n",
      "Turn 38: RandomBot (white)\n",
      "  Action: move\n",
      "  From: (2, -2, 0)\n",
      "  Target: (3, -3, 0)\n",
      "\n",
      "Turn 39: RandomBot (black)\n",
      "  Action: forfeit\n",
      "black has forfeited the game.\n",
      "\n",
      "Turn 40: RandomBot (white)\n",
      "  Action: move\n",
      "  From: (3, -3, 0)\n",
      "  Target: (3, -4, 1)\n",
      "\n",
      "Turn 41: RandomBot (black)\n",
      "  Action: forfeit\n",
      "black has forfeited the game.\n",
      "\n",
      "Turn 42: RandomBot (white)\n",
      "  Action: move\n",
      "  From: (3, -4, 1)\n",
      "  Target: (2, -3, 1)\n",
      "\n",
      "Turn 43: RandomBot (black)\n",
      "  Action: forfeit\n",
      "black has forfeited the game.\n",
      "\n",
      "Turn 44: RandomBot (white)\n",
      "  Action: place\n",
      "  Piece: ant\n",
      "  Target: (3, -3, 0)\n",
      "\n",
      "Turn 45: RandomBot (black)\n",
      "  Action: forfeit\n",
      "black has forfeited the game.\n",
      "\n",
      "Turn 46: RandomBot (white)\n",
      "  Action: place\n",
      "  Piece: ant\n",
      "  Target: (3, -4, 1)\n",
      "\n",
      "Turn 47: RandomBot (black)\n",
      "  Action: forfeit\n",
      "black has forfeited the game.\n",
      "\n",
      "Turn 48: RandomBot (white)\n",
      "  Action: place\n",
      "  Piece: ant\n",
      "  Target: (4, -4, 0)\n",
      "\n",
      "Turn 49: RandomBot (black)\n",
      "  Action: forfeit\n",
      "black has forfeited the game.\n",
      "\n",
      "Turn 50: RandomBot (white)\n",
      "  Action: forfeit\n",
      "white has forfeited the game.\n",
      "\n",
      "Turn 51: RandomBot (black)\n",
      "  Action: forfeit\n",
      "black has forfeited the game.\n",
      "\n",
      "Turn 52: RandomBot (white)\n",
      "  Action: forfeit\n",
      "white has forfeited the game.\n",
      "\n",
      "Turn 53: RandomBot (black)\n",
      "  Action: forfeit\n",
      "black has forfeited the game.\n",
      "\n",
      "Turn 54: RandomBot (white)\n",
      "  Action: forfeit\n",
      "white has forfeited the game.\n",
      "\n",
      "Turn 55: RandomBot (black)\n",
      "  Action: forfeit\n",
      "black has forfeited the game.\n",
      "\n",
      "Turn 56: RandomBot (white)\n",
      "  Action: forfeit\n",
      "white has forfeited the game.\n",
      "\n",
      "Turn 57: RandomBot (black)\n",
      "  Action: forfeit\n",
      "black has forfeited the game.\n",
      "\n",
      "Turn 58: RandomBot (white)\n",
      "  Action: forfeit\n",
      "white has forfeited the game.\n",
      "\n",
      "Turn 59: RandomBot (black)\n",
      "  Action: forfeit\n",
      "black has forfeited the game.\n",
      "\n",
      "Turn 60: RandomBot (white)\n",
      "  Action: forfeit\n",
      "white has forfeited the game.\n",
      "\n",
      "Turn 61: RandomBot (black)\n",
      "  Action: forfeit\n",
      "black has forfeited the game.\n",
      "\n",
      "Turn 62: RandomBot (white)\n",
      "  Action: forfeit\n",
      "white has forfeited the game.\n",
      "\n",
      "Turn 63: RandomBot (black)\n",
      "  Action: forfeit\n",
      "black has forfeited the game.\n",
      "\n",
      "Turn 64: RandomBot (white)\n",
      "  Action: forfeit\n",
      "white has forfeited the game.\n",
      "\n",
      "Turn 65: RandomBot (black)\n",
      "  Action: forfeit\n",
      "black has forfeited the game.\n",
      "\n",
      "Turn 66: RandomBot (white)\n",
      "  Action: forfeit\n",
      "white has forfeited the game.\n",
      "\n",
      "Turn 67: RandomBot (black)\n",
      "  Action: forfeit\n",
      "black has forfeited the game.\n",
      "\n",
      "Turn 68: RandomBot (white)\n",
      "  Action: forfeit\n",
      "white has forfeited the game.\n",
      "\n",
      "Turn 69: RandomBot (black)\n",
      "  Action: forfeit\n",
      "black has forfeited the game.\n",
      "\n",
      "Turn 70: RandomBot (white)\n",
      "  Action: forfeit\n",
      "white has forfeited the game.\n",
      "\n",
      "Turn 71: RandomBot (black)\n",
      "  Action: forfeit\n",
      "black has forfeited the game.\n",
      "\n",
      "Turn 72: RandomBot (white)\n",
      "  Action: forfeit\n",
      "white has forfeited the game.\n",
      "\n",
      "Turn 73: RandomBot (black)\n",
      "  Action: forfeit\n",
      "black has forfeited the game.\n",
      "\n",
      "Turn 74: RandomBot (white)\n",
      "  Action: forfeit\n",
      "white has forfeited the game.\n",
      "\n",
      "Turn 75: RandomBot (black)\n",
      "  Action: forfeit\n",
      "black has forfeited the game.\n",
      "\n",
      "Turn 76: RandomBot (white)\n",
      "  Action: forfeit\n",
      "white has forfeited the game.\n",
      "\n",
      "Turn 77: RandomBot (black)\n",
      "  Action: forfeit\n",
      "black has forfeited the game.\n",
      "\n",
      "Turn 78: RandomBot (white)\n",
      "  Action: forfeit\n",
      "white has forfeited the game.\n",
      "\n",
      "Turn 79: RandomBot (black)\n",
      "  Action: forfeit\n",
      "black has forfeited the game.\n",
      "\n",
      "Turn 80: RandomBot (white)\n",
      "  Action: forfeit\n",
      "white has forfeited the game.\n",
      "\n",
      "Turn 81: RandomBot (black)\n",
      "  Action: forfeit\n",
      "black has forfeited the game.\n",
      "\n",
      "Turn 82: RandomBot (white)\n",
      "  Action: forfeit\n",
      "white has forfeited the game.\n",
      "\n",
      "Turn 83: RandomBot (black)\n",
      "  Action: forfeit\n",
      "black has forfeited the game.\n",
      "\n",
      "Turn 84: RandomBot (white)\n",
      "  Action: forfeit\n",
      "white has forfeited the game.\n",
      "\n",
      "Turn 85: RandomBot (black)\n",
      "  Action: forfeit\n",
      "black has forfeited the game.\n",
      "\n",
      "Turn 86: RandomBot (white)\n",
      "  Action: forfeit\n",
      "white has forfeited the game.\n",
      "\n",
      "Turn 87: RandomBot (black)\n",
      "  Action: forfeit\n",
      "black has forfeited the game.\n",
      "\n",
      "Turn 88: RandomBot (white)\n",
      "  Action: forfeit\n",
      "white has forfeited the game.\n",
      "\n",
      "Turn 89: RandomBot (black)\n",
      "  Action: forfeit\n",
      "black has forfeited the game.\n",
      "\n",
      "Turn 90: RandomBot (white)\n",
      "  Action: forfeit\n",
      "white has forfeited the game.\n",
      "\n",
      "Turn 91: RandomBot (black)\n",
      "  Action: forfeit\n",
      "black has forfeited the game.\n",
      "\n",
      "Turn 92: RandomBot (white)\n",
      "  Action: forfeit\n",
      "white has forfeited the game.\n",
      "\n",
      "Turn 93: RandomBot (black)\n",
      "  Action: forfeit\n",
      "black has forfeited the game.\n",
      "\n",
      "Turn 94: RandomBot (white)\n",
      "  Action: forfeit\n",
      "white has forfeited the game.\n",
      "\n",
      "Turn 95: RandomBot (black)\n",
      "  Action: forfeit\n",
      "black has forfeited the game.\n",
      "\n",
      "Turn 96: RandomBot (white)\n",
      "  Action: forfeit\n",
      "white has forfeited the game.\n",
      "\n",
      "Turn 97: RandomBot (black)\n",
      "  Action: forfeit\n",
      "black has forfeited the game.\n",
      "\n",
      "Turn 98: RandomBot (white)\n",
      "  Action: forfeit\n",
      "white has forfeited the game.\n",
      "\n",
      "Turn 99: RandomBot (black)\n",
      "  Action: forfeit\n",
      "black has forfeited the game.\n",
      "\n",
      "Turn 100: RandomBot (white)\n",
      "  Action: forfeit\n",
      "white has forfeited the game.\n",
      "\n",
      "Turn 101: RandomBot (black)\n",
      "  Action: forfeit\n",
      "black has forfeited the game.\n",
      "\n",
      "Turn 102: RandomBot (white)\n",
      "  Action: forfeit\n",
      "white has forfeited the game.\n",
      "\n",
      "Turn 103: RandomBot (black)\n",
      "  Action: forfeit\n",
      "black has forfeited the game.\n",
      "\n",
      "Turn 104: RandomBot (white)\n",
      "  Action: forfeit\n",
      "white has forfeited the game.\n",
      "\n",
      "Turn 105: RandomBot (black)\n",
      "  Action: forfeit\n",
      "black has forfeited the game.\n",
      "\n",
      "Turn 106: RandomBot (white)\n",
      "  Action: forfeit\n",
      "white has forfeited the game.\n",
      "\n",
      "Turn 107: RandomBot (black)\n",
      "  Action: forfeit\n",
      "black has forfeited the game.\n",
      "\n",
      "Turn 108: RandomBot (white)\n",
      "  Action: forfeit\n",
      "white has forfeited the game.\n",
      "\n",
      "Turn 109: RandomBot (black)\n",
      "  Action: forfeit\n",
      "black has forfeited the game.\n",
      "\n",
      "Turn 110: RandomBot (white)\n",
      "  Action: forfeit\n",
      "white has forfeited the game.\n",
      "\n",
      "Turn 111: RandomBot (black)\n",
      "  Action: forfeit\n",
      "black has forfeited the game.\n",
      "\n",
      "Turn 112: RandomBot (white)\n",
      "  Action: forfeit\n",
      "white has forfeited the game.\n",
      "\n",
      "Turn 113: RandomBot (black)\n",
      "  Action: forfeit\n",
      "black has forfeited the game.\n",
      "\n",
      "Turn 114: RandomBot (white)\n",
      "  Action: forfeit\n",
      "white has forfeited the game.\n",
      "\n",
      "Turn 115: RandomBot (black)\n",
      "  Action: forfeit\n",
      "black has forfeited the game.\n",
      "\n",
      "Turn 116: RandomBot (white)\n",
      "  Action: forfeit\n",
      "white has forfeited the game.\n",
      "\n",
      "Turn 117: RandomBot (black)\n",
      "  Action: forfeit\n",
      "black has forfeited the game.\n",
      "\n",
      "Turn 118: RandomBot (white)\n",
      "  Action: forfeit\n",
      "white has forfeited the game.\n",
      "\n",
      "Turn 119: RandomBot (black)\n",
      "  Action: forfeit\n",
      "black has forfeited the game.\n",
      "\n",
      "Turn 120: RandomBot (white)\n",
      "  Action: forfeit\n",
      "white has forfeited the game.\n",
      "\n",
      "Turn 121: RandomBot (black)\n",
      "  Action: forfeit\n",
      "black has forfeited the game.\n",
      "\n",
      "Turn 122: RandomBot (white)\n",
      "  Action: forfeit\n",
      "white has forfeited the game.\n",
      "\n",
      "Turn 123: RandomBot (black)\n",
      "  Action: forfeit\n",
      "black has forfeited the game.\n",
      "\n",
      "Turn 124: RandomBot (white)\n",
      "  Action: forfeit\n",
      "white has forfeited the game.\n",
      "\n",
      "Turn 125: RandomBot (black)\n",
      "  Action: forfeit\n",
      "black has forfeited the game.\n",
      "\n",
      "Turn 126: RandomBot (white)\n",
      "  Action: forfeit\n",
      "white has forfeited the game.\n",
      "\n",
      "Turn 127: RandomBot (black)\n",
      "  Action: forfeit\n",
      "black has forfeited the game.\n",
      "\n",
      "Turn 128: RandomBot (white)\n",
      "  Action: forfeit\n",
      "white has forfeited the game.\n",
      "\n",
      "Turn 129: RandomBot (black)\n",
      "  Action: forfeit\n",
      "black has forfeited the game.\n",
      "\n",
      "Turn 130: RandomBot (white)\n",
      "  Action: forfeit\n",
      "white has forfeited the game.\n",
      "\n",
      "Turn 131: RandomBot (black)\n",
      "  Action: forfeit\n",
      "black has forfeited the game.\n",
      "\n",
      "Turn 132: RandomBot (white)\n",
      "  Action: forfeit\n",
      "white has forfeited the game.\n",
      "\n",
      "Turn 133: RandomBot (black)\n",
      "  Action: forfeit\n",
      "black has forfeited the game.\n",
      "\n",
      "Turn 134: RandomBot (white)\n",
      "  Action: forfeit\n",
      "white has forfeited the game.\n",
      "\n",
      "Turn 135: RandomBot (black)\n",
      "  Action: forfeit\n",
      "black has forfeited the game.\n",
      "\n",
      "Turn 136: RandomBot (white)\n",
      "  Action: forfeit\n",
      "white has forfeited the game.\n",
      "\n",
      "Turn 137: RandomBot (black)\n",
      "  Action: forfeit\n",
      "black has forfeited the game.\n",
      "\n",
      "Turn 138: RandomBot (white)\n",
      "  Action: forfeit\n",
      "white has forfeited the game.\n",
      "\n",
      "Turn 139: RandomBot (black)\n",
      "  Action: forfeit\n",
      "black has forfeited the game.\n",
      "\n",
      "Turn 140: RandomBot (white)\n",
      "  Action: forfeit\n",
      "white has forfeited the game.\n",
      "\n",
      "Turn 141: RandomBot (black)\n",
      "  Action: forfeit\n",
      "black has forfeited the game.\n",
      "\n",
      "Turn 142: RandomBot (white)\n",
      "  Action: forfeit\n",
      "white has forfeited the game.\n",
      "\n",
      "Turn 143: RandomBot (black)\n",
      "  Action: forfeit\n",
      "black has forfeited the game.\n",
      "\n",
      "Turn 144: RandomBot (white)\n",
      "  Action: forfeit\n",
      "white has forfeited the game.\n",
      "\n",
      "Turn 145: RandomBot (black)\n",
      "  Action: forfeit\n",
      "black has forfeited the game.\n",
      "\n",
      "Turn 146: RandomBot (white)\n",
      "  Action: forfeit\n",
      "white has forfeited the game.\n",
      "\n",
      "Turn 147: RandomBot (black)\n",
      "  Action: forfeit\n",
      "black has forfeited the game.\n",
      "\n",
      "Turn 148: RandomBot (white)\n",
      "  Action: forfeit\n",
      "white has forfeited the game.\n",
      "\n",
      "Turn 149: RandomBot (black)\n",
      "  Action: forfeit\n",
      "black has forfeited the game.\n",
      "\n",
      "Turn 150: RandomBot (white)\n",
      "  Action: forfeit\n",
      "white has forfeited the game.\n",
      "\n",
      "Turn 151: RandomBot (black)\n",
      "  Action: forfeit\n",
      "black has forfeited the game.\n",
      "\n",
      "Turn 152: RandomBot (white)\n",
      "  Action: forfeit\n",
      "white has forfeited the game.\n",
      "\n",
      "Turn 153: RandomBot (black)\n",
      "  Action: forfeit\n",
      "black has forfeited the game.\n",
      "\n",
      "Turn 154: RandomBot (white)\n",
      "  Action: forfeit\n",
      "white has forfeited the game.\n",
      "\n",
      "Turn 155: RandomBot (black)\n",
      "  Action: forfeit\n",
      "black has forfeited the game.\n",
      "\n",
      "Turn 156: RandomBot (white)\n",
      "  Action: forfeit\n",
      "white has forfeited the game.\n",
      "\n",
      "Turn 157: RandomBot (black)\n",
      "  Action: forfeit\n",
      "black has forfeited the game.\n",
      "\n",
      "Turn 158: RandomBot (white)\n",
      "  Action: forfeit\n",
      "white has forfeited the game.\n",
      "\n",
      "Turn 159: RandomBot (black)\n",
      "  Action: forfeit\n",
      "black has forfeited the game.\n",
      "\n",
      "Turn 160: RandomBot (white)\n",
      "  Action: forfeit\n",
      "white has forfeited the game.\n",
      "\n",
      "Turn 161: RandomBot (black)\n",
      "  Action: forfeit\n",
      "black has forfeited the game.\n",
      "\n",
      "Turn 162: RandomBot (white)\n",
      "  Action: forfeit\n",
      "white has forfeited the game.\n",
      "\n",
      "Turn 163: RandomBot (black)\n",
      "  Action: forfeit\n",
      "black has forfeited the game.\n",
      "\n",
      "Turn 164: RandomBot (white)\n",
      "  Action: forfeit\n",
      "white has forfeited the game.\n",
      "\n",
      "Turn 165: RandomBot (black)\n",
      "  Action: forfeit\n",
      "black has forfeited the game.\n",
      "\n",
      "Turn 166: RandomBot (white)\n",
      "  Action: forfeit\n",
      "white has forfeited the game.\n",
      "\n",
      "Turn 167: RandomBot (black)\n",
      "  Action: forfeit\n",
      "black has forfeited the game.\n",
      "\n",
      "Turn 168: RandomBot (white)\n",
      "  Action: forfeit\n",
      "white has forfeited the game.\n",
      "\n",
      "Turn 169: RandomBot (black)\n",
      "  Action: forfeit\n",
      "black has forfeited the game.\n",
      "\n",
      "Turn 170: RandomBot (white)\n",
      "  Action: forfeit\n",
      "white has forfeited the game.\n",
      "\n",
      "Turn 171: RandomBot (black)\n",
      "  Action: forfeit\n",
      "black has forfeited the game.\n",
      "\n",
      "Turn 172: RandomBot (white)\n",
      "  Action: forfeit\n",
      "white has forfeited the game.\n",
      "\n",
      "Turn 173: RandomBot (black)\n",
      "  Action: forfeit\n",
      "black has forfeited the game.\n",
      "\n",
      "Turn 174: RandomBot (white)\n",
      "  Action: forfeit\n",
      "white has forfeited the game.\n",
      "\n",
      "Turn 175: RandomBot (black)\n",
      "  Action: forfeit\n",
      "black has forfeited the game.\n",
      "\n",
      "Turn 176: RandomBot (white)\n",
      "  Action: forfeit\n",
      "white has forfeited the game.\n",
      "\n",
      "Turn 177: RandomBot (black)\n",
      "  Action: forfeit\n",
      "black has forfeited the game.\n",
      "\n",
      "Turn 178: RandomBot (white)\n",
      "  Action: forfeit\n",
      "white has forfeited the game.\n",
      "\n",
      "Turn 179: RandomBot (black)\n",
      "  Action: forfeit\n",
      "black has forfeited the game.\n",
      "\n",
      "Turn 180: RandomBot (white)\n",
      "  Action: forfeit\n",
      "white has forfeited the game.\n",
      "\n",
      "Turn 181: RandomBot (black)\n",
      "  Action: forfeit\n",
      "black has forfeited the game.\n",
      "\n",
      "Turn 182: RandomBot (white)\n",
      "  Action: forfeit\n",
      "white has forfeited the game.\n",
      "\n",
      "Turn 183: RandomBot (black)\n",
      "  Action: forfeit\n",
      "black has forfeited the game.\n",
      "\n",
      "Turn 184: RandomBot (white)\n",
      "  Action: forfeit\n",
      "white has forfeited the game.\n",
      "\n",
      "Turn 185: RandomBot (black)\n",
      "  Action: forfeit\n",
      "black has forfeited the game.\n",
      "\n",
      "Turn 186: RandomBot (white)\n",
      "  Action: forfeit\n",
      "white has forfeited the game.\n",
      "\n",
      "Turn 187: RandomBot (black)\n",
      "  Action: forfeit\n",
      "black has forfeited the game.\n",
      "\n",
      "Turn 188: RandomBot (white)\n",
      "  Action: forfeit\n",
      "white has forfeited the game.\n",
      "\n",
      "Turn 189: RandomBot (black)\n",
      "  Action: forfeit\n",
      "black has forfeited the game.\n",
      "\n",
      "Turn 190: RandomBot (white)\n",
      "  Action: forfeit\n",
      "white has forfeited the game.\n",
      "\n",
      "Turn 191: RandomBot (black)\n",
      "  Action: forfeit\n",
      "black has forfeited the game.\n",
      "\n",
      "Turn 192: RandomBot (white)\n",
      "  Action: forfeit\n",
      "white has forfeited the game.\n",
      "\n",
      "Turn 193: RandomBot (black)\n",
      "  Action: forfeit\n",
      "black has forfeited the game.\n",
      "\n",
      "Turn 194: RandomBot (white)\n",
      "  Action: forfeit\n",
      "white has forfeited the game.\n",
      "\n",
      "Turn 195: RandomBot (black)\n",
      "  Action: forfeit\n",
      "black has forfeited the game.\n",
      "\n",
      "Turn 196: RandomBot (white)\n",
      "  Action: forfeit\n",
      "white has forfeited the game.\n",
      "\n",
      "Turn 197: RandomBot (black)\n",
      "  Action: forfeit\n",
      "black has forfeited the game.\n",
      "\n",
      "Turn 198: RandomBot (white)\n",
      "  Action: forfeit\n",
      "white has forfeited the game.\n",
      "\n",
      "Turn 199: RandomBot (black)\n",
      "  Action: forfeit\n",
      "black has forfeited the game.\n",
      "\n",
      "Game reached maximum turns (200)\n"
     ]
    },
    {
     "data": {
      "application/vnd.plotly.v1+json": {
       "config": {
        "plotlyServerURL": "https://plot.ly"
       },
       "data": [
        {
         "fill": "toself",
         "fillcolor": "#F5F5F5",
         "hovertemplate": "Empty<br>q=-1, r=-3, s=4<extra></extra>",
         "line": {
          "color": "lightgray",
          "width": 1
         },
         "mode": "lines",
         "name": "",
         "showlegend": false,
         "type": "scatter",
         "x": {
          "bdata": "mpmZmZmZ4b9mZmZmZmbwv5iZmZmZmf+/mpmZmZmZA8CcmZmZmZn/v2lmZmZmZvC/mpmZmZmZ4b8=",
          "dtype": "f8"
         },
         "y": {
          "bdata": "FUNNi6s/GMCUk09ZM/UUwJSTT1kz9RTAFUNNi6s/GMCW8kq9I4obwJbySr0jihvAFUNNi6s/GMA=",
          "dtype": "f8"
         }
        },
        {
         "hoverinfo": "skip",
         "mode": "text",
         "name": "",
         "showlegend": false,
         "text": [
          "(-1,-3,4)"
         ],
         "textfont": {
          "color": "darkgray",
          "size": 10
         },
         "type": "scatter",
         "x": [
          -1.5
         ],
         "y": [
          -6.06217782649107
         ]
        },
        {
         "fill": "toself",
         "fillcolor": "#F5F5F5",
         "hovertemplate": "Empty<br>q=0, r=-4, s=4<extra></extra>",
         "line": {
          "color": "lightgray",
          "width": 1
         },
         "mode": "lines",
         "name": "",
         "showlegend": false,
         "type": "scatter",
         "x": {
          "bdata": "ZmZmZmZm7j9oZmZmZmbeP2JmZmZmZt6/ZmZmZmZm7r9uZmZmZmbev1tmZmZmZt4/ZmZmZmZm7j8=",
          "dtype": "f8"
         },
         "y": {
          "bdata": "qkxY6Hq2G8ApnVq2AmwYwCmdWrYCbBjAqkxY6Hq2G8Ar/FUa8wAfwCv8VRrzAB/AqkxY6Hq2G8A=",
          "dtype": "f8"
         }
        },
        {
         "hoverinfo": "skip",
         "mode": "text",
         "name": "",
         "showlegend": false,
         "text": [
          "(0,-4,4)"
         ],
         "textfont": {
          "color": "darkgray",
          "size": 10
         },
         "type": "scatter",
         "x": [
          0
         ],
         "y": [
          -6.928203230275509
         ]
        },
        {
         "fill": "toself",
         "fillcolor": "#F5F5F5",
         "hovertemplate": "Empty<br>q=0, r=-1, s=1<extra></extra>",
         "line": {
          "color": "lightgray",
          "width": 1
         },
         "mode": "lines",
         "name": "",
         "showlegend": false,
         "type": "scatter",
         "x": {
          "bdata": "ZmZmZmZm7j9oZmZmZmbeP2JmZmZmZt6/ZmZmZmZm7r9uZmZmZmbev1tmZmZmZt4/ZmZmZmZm7j8=",
          "dtype": "f8"
         },
         "y": {
          "bdata": "qkxY6Hq2+79MHcNANBntv0sdw0A0Ge2/qUxY6Hq2+79XhSfYLXAEwFiFJ9gtcATAq0xY6Hq2+78=",
          "dtype": "f8"
         }
        },
        {
         "hoverinfo": "skip",
         "mode": "text",
         "name": "",
         "showlegend": false,
         "text": [
          "(0,-1,1)"
         ],
         "textfont": {
          "color": "darkgray",
          "size": 10
         },
         "type": "scatter",
         "x": [
          0
         ],
         "y": [
          -1.7320508075688772
         ]
        },
        {
         "fill": "toself",
         "fillcolor": "#F5F5F5",
         "hovertemplate": "Empty<br>q=2, r=2, s=-4<extra></extra>",
         "line": {
          "color": "lightgray",
          "width": 1
         },
         "mode": "lines",
         "name": "",
         "showlegend": false,
         "type": "scatter",
         "x": {
          "bdata": "mpmZmZmZD0DNzMzMzMwLQDQzMzMzMwRAZmZmZmZmAEAyMzMzMzMEQMvMzMzMzAtAmpmZmZmZD0A=",
          "dtype": "f8"
         },
         "y": {
          "bdata": "gDlCLtzIFEAB6T9gVBMYQAHpP2BUExhAgDlCLtzIFED/iUT8Y34RQP+JRPxjfhFAgDlCLtzIFEA=",
          "dtype": "f8"
         }
        },
        {
         "hoverinfo": "skip",
         "mode": "text",
         "name": "",
         "showlegend": false,
         "text": [
          "(2,2,-4)"
         ],
         "textfont": {
          "color": "darkgray",
          "size": 10
         },
         "type": "scatter",
         "x": [
          3
         ],
         "y": [
          5.196152422706632
         ]
        },
        {
         "fill": "toself",
         "fillcolor": "#F5F5F5",
         "hovertemplate": "Empty<br>q=-2, r=1, s=1<extra></extra>",
         "line": {
          "color": "lightgray",
          "width": 1
         },
         "mode": "lines",
         "name": "",
         "showlegend": false,
         "type": "scatter",
         "x": {
          "bdata": "ZmZmZmZmAMAzMzMzMzMEwMzMzMzMzAvAmpmZmZmZD8DOzMzMzMwLwDUzMzMzMwTAZmZmZmZmAMA=",
          "dtype": "f8"
         },
         "y": {
          "bdata": "AAAAAAAAAAAIfO2PwVPqPwl87Y/BU+o/07254z3EoDwHfO2PwVPqvwt87Y/BU+q/07254z3EsLw=",
          "dtype": "f8"
         }
        },
        {
         "hoverinfo": "skip",
         "mode": "text",
         "name": "",
         "showlegend": false,
         "text": [
          "(-2,1,1)"
         ],
         "textfont": {
          "color": "darkgray",
          "size": 10
         },
         "type": "scatter",
         "x": [
          -3
         ],
         "y": [
          0
         ]
        },
        {
         "fill": "toself",
         "fillcolor": "#F5F5F5",
         "hovertemplate": "Empty<br>q=-2, r=3, s=-1<extra></extra>",
         "line": {
          "color": "lightgray",
          "width": 1
         },
         "mode": "lines",
         "name": "",
         "showlegend": false,
         "type": "scatter",
         "x": {
          "bdata": "ZmZmZmZmAMAzMzMzMzMEwMzMzMzMzAvAmpmZmZmZD8DOzMzMzMwLwDUzMzMzMwTAZmZmZmZmAMA=",
          "dtype": "f8"
         },
         "y": {
          "bdata": "q0xY6Hq2C0DW1SmmtSURQNfVKaa1JRFAq0xY6Hq2C0Cp7VyEiiEFQKjtXISKIQVAqkxY6Hq2C0A=",
          "dtype": "f8"
         }
        },
        {
         "hoverinfo": "skip",
         "mode": "text",
         "name": "",
         "showlegend": false,
         "text": [
          "(-2,3,-1)"
         ],
         "textfont": {
          "color": "darkgray",
          "size": 10
         },
         "type": "scatter",
         "x": [
          -3
         ],
         "y": [
          3.464101615137755
         ]
        },
        {
         "fill": "toself",
         "fillcolor": "#F5F5F5",
         "hovertemplate": "Empty<br>q=1, r=-2, s=1<extra></extra>",
         "line": {
          "color": "lightgray",
          "width": 1
         },
         "mode": "lines",
         "name": "",
         "showlegend": false,
         "type": "scatter",
         "x": {
          "bdata": "mpmZmZmZA0CamZmZmZn/P2hmZmZmZvA/mpmZmZmZ4T9kZmZmZmbwP5eZmZmZmf8/mpmZmZmZA0A=",
          "dtype": "f8"
         },
         "y": {
          "bdata": "gDlCLtzIBMD8tI2U12f8v/y0jZTXZ/y/gDlCLtzIBMCCmD2SzF0LwIOYPZLMXQvAgTlCLtzIBMA=",
          "dtype": "f8"
         }
        },
        {
         "hoverinfo": "skip",
         "mode": "text",
         "name": "",
         "showlegend": false,
         "text": [
          "(1,-2,1)"
         ],
         "textfont": {
          "color": "darkgray",
          "size": 10
         },
         "type": "scatter",
         "x": [
          1.5
         ],
         "y": [
          -2.598076211353316
         ]
        },
        {
         "fill": "toself",
         "fillcolor": "#F5F5F5",
         "hovertemplate": "Empty<br>q=0, r=3, s=-3<extra></extra>",
         "line": {
          "color": "lightgray",
          "width": 1
         },
         "mode": "lines",
         "name": "",
         "showlegend": false,
         "type": "scatter",
         "x": {
          "bdata": "ZmZmZmZm7j9oZmZmZmbeP2JmZmZmZt6/ZmZmZmZm7r9uZmZmZmbev1tmZmZmZt4/ZmZmZmZm7j8=",
          "dtype": "f8"
         },
         "y": {
          "bdata": "gDlCLtzIFEAB6T9gVBMYQAHpP2BUExhAgDlCLtzIFED/iUT8Y34RQP+JRPxjfhFAgDlCLtzIFEA=",
          "dtype": "f8"
         }
        },
        {
         "hoverinfo": "skip",
         "mode": "text",
         "name": "",
         "showlegend": false,
         "text": [
          "(0,3,-3)"
         ],
         "textfont": {
          "color": "darkgray",
          "size": 10
         },
         "type": "scatter",
         "x": [
          0
         ],
         "y": [
          5.196152422706632
         ]
        },
        {
         "fill": "toself",
         "fillcolor": "#F5F5F5",
         "hovertemplate": "Empty<br>q=3, r=2, s=-5<extra></extra>",
         "line": {
          "color": "lightgray",
          "width": 1
         },
         "mode": "lines",
         "name": "",
         "showlegend": false,
         "type": "scatter",
         "x": {
          "bdata": "zczMzMzMFUBmZmZmZuYTQJqZmZmZGRBAZmZmZmZmDECZmZmZmRkQQGZmZmZm5hNAzczMzMzMFUA=",
          "dtype": "f8"
         },
         "y": {
          "bdata": "FUNNi6s/GECW8kq9I4obQJbySr0jihtAFUNNi6s/GECUk09ZM/UUQJSTT1kz9RRAFUNNi6s/GEA=",
          "dtype": "f8"
         }
        },
        {
         "hoverinfo": "skip",
         "mode": "text",
         "name": "",
         "showlegend": false,
         "text": [
          "(3,2,-5)"
         ],
         "textfont": {
          "color": "darkgray",
          "size": 10
         },
         "type": "scatter",
         "x": [
          4.5
         ],
         "y": [
          6.06217782649107
         ]
        },
        {
         "fill": "toself",
         "fillcolor": "#F5F5F5",
         "hovertemplate": "Empty<br>q=-4, r=1, s=3<extra></extra>",
         "line": {
          "color": "lightgray",
          "width": 1
         },
         "mode": "lines",
         "name": "",
         "showlegend": false,
         "type": "scatter",
         "x": {
          "bdata": "MzMzMzMzFMCamZmZmRkWwGZmZmZm5hnAzczMzMzMG8BnZmZmZuYZwJqZmZmZGRbAMzMzMzMzFMA=",
          "dtype": "f8"
         },
         "y": {
          "bdata": "qkxY6Hq2+79MHcNANBntv0sdw0A0Ge2/qUxY6Hq2+79XhSfYLXAEwFiFJ9gtcATAq0xY6Hq2+78=",
          "dtype": "f8"
         }
        },
        {
         "hoverinfo": "skip",
         "mode": "text",
         "name": "",
         "showlegend": false,
         "text": [
          "(-4,1,3)"
         ],
         "textfont": {
          "color": "darkgray",
          "size": 10
         },
         "type": "scatter",
         "x": [
          -6
         ],
         "y": [
          -1.7320508075688772
         ]
        },
        {
         "fill": "toself",
         "fillcolor": "#F5F5F5",
         "hovertemplate": "Empty<br>q=1, r=5, s=-6<extra></extra>",
         "line": {
          "color": "lightgray",
          "width": 1
         },
         "mode": "lines",
         "name": "",
         "showlegend": false,
         "type": "scatter",
         "x": {
          "bdata": "mpmZmZmZA0CamZmZmZn/P2hmZmZmZvA/mpmZmZmZ4T9kZmZmZmbwP5eZmZmZmf8/mpmZmZmZA0A=",
          "dtype": "f8"
         },
         "y": {
          "bdata": "tbS8f3QNI0B2jLuYsLIkQHaMu5iwsiRAtbS8f3QNI0D13L1mOGghQPTcvWY4aCFAtbS8f3QNI0A=",
          "dtype": "f8"
         }
        },
        {
         "hoverinfo": "skip",
         "mode": "text",
         "name": "",
         "showlegend": false,
         "text": [
          "(1,5,-6)"
         ],
         "textfont": {
          "color": "darkgray",
          "size": 10
         },
         "type": "scatter",
         "x": [
          1.5
         ],
         "y": [
          9.526279441628825
         ]
        },
        {
         "fill": "toself",
         "fillcolor": "#F5F5F5",
         "hovertemplate": "Empty<br>q=4, r=-5, s=1<extra></extra>",
         "line": {
          "color": "lightgray",
          "width": 1
         },
         "mode": "lines",
         "name": "",
         "showlegend": false,
         "type": "scatter",
         "x": {
          "bdata": "zczMzMzMG0BmZmZmZuYZQJqZmZmZGRZAMzMzMzMzFECZmZmZmRkWQGZmZmZm5hlAzczMzMzMG0A=",
          "dtype": "f8"
         },
         "y": {
          "bdata": "fzlCLtzIFMD+iUT8Y34RwP6JRPxjfhHAfzlCLtzIFMAA6T9gVBMYwADpP2BUExjAfzlCLtzIFMA=",
          "dtype": "f8"
         }
        },
        {
         "hoverinfo": "skip",
         "mode": "text",
         "name": "",
         "showlegend": false,
         "text": [
          "(4,-5,1)"
         ],
         "textfont": {
          "color": "darkgray",
          "size": 10
         },
         "type": "scatter",
         "x": [
          6
         ],
         "y": [
          -5.196152422706631
         ]
        },
        {
         "fill": "toself",
         "fillcolor": "#F5F5F5",
         "hovertemplate": "Empty<br>q=4, r=-3, s=-1<extra></extra>",
         "line": {
          "color": "lightgray",
          "width": 1
         },
         "mode": "lines",
         "name": "",
         "showlegend": false,
         "type": "scatter",
         "x": {
          "bdata": "zczMzMzMG0BmZmZmZuYZQJqZmZmZGRZAMzMzMzMzFECZmZmZmRkWQGZmZmZm5hlAzczMzMzMG0A=",
          "dtype": "f8"
         },
         "y": {
          "bdata": "rExY6Hq2+79QHcNANBntv08dw0A0Ge2/q0xY6Hq2+79YhSfYLXAEwFmFJ9gtcATArUxY6Hq2+78=",
          "dtype": "f8"
         }
        },
        {
         "hoverinfo": "skip",
         "mode": "text",
         "name": "",
         "showlegend": false,
         "text": [
          "(4,-3,-1)"
         ],
         "textfont": {
          "color": "darkgray",
          "size": 10
         },
         "type": "scatter",
         "x": [
          6
         ],
         "y": [
          -1.7320508075688776
         ]
        },
        {
         "fill": "toself",
         "fillcolor": "#F5F5F5",
         "hovertemplate": "Empty<br>q=2, r=0, s=-2<extra></extra>",
         "line": {
          "color": "lightgray",
          "width": 1
         },
         "mode": "lines",
         "name": "",
         "showlegend": false,
         "type": "scatter",
         "x": {
          "bdata": "mpmZmZmZD0DNzMzMzMwLQDQzMzMzMwRAZmZmZmZmAEAyMzMzMzMEQMvMzMzMzAtAmpmZmZmZD0A=",
          "dtype": "f8"
         },
         "y": {
          "bdata": "qkxY6Hq2+z9XhSfYLXAEQFeFJ9gtcARAq0xY6Hq2+z9NHcNANBntP0kdw0A0Ge0/qUxY6Hq2+z8=",
          "dtype": "f8"
         }
        },
        {
         "hoverinfo": "skip",
         "mode": "text",
         "name": "",
         "showlegend": false,
         "text": [
          "(2,0,-2)"
         ],
         "textfont": {
          "color": "darkgray",
          "size": 10
         },
         "type": "scatter",
         "x": [
          3
         ],
         "y": [
          1.7320508075688772
         ]
        },
        {
         "fill": "toself",
         "fillcolor": "#F5F5F5",
         "hovertemplate": "Empty<br>q=1, r=-3, s=2<extra></extra>",
         "line": {
          "color": "lightgray",
          "width": 1
         },
         "mode": "lines",
         "name": "",
         "showlegend": false,
         "type": "scatter",
         "x": {
          "bdata": "mpmZmZmZA0CamZmZmZn/P2hmZmZmZvA/mpmZmZmZ4T9kZmZmZmbwP5eZmZmZmf8/mpmZmZmZA0A=",
          "dtype": "f8"
         },
         "y": {
          "bdata": "6y830QxSEcDUAHM+KQ8MwNQAcz4pDwzA6y830QxSEcBs3zQDhZwUwGzfNAOFnBTA6y830QxSEcA=",
          "dtype": "f8"
         }
        },
        {
         "hoverinfo": "skip",
         "mode": "text",
         "name": "",
         "showlegend": false,
         "text": [
          "(1,-3,2)"
         ],
         "textfont": {
          "color": "darkgray",
          "size": 10
         },
         "type": "scatter",
         "x": [
          1.5
         ],
         "y": [
          -4.330127018922194
         ]
        },
        {
         "fill": "toself",
         "fillcolor": "#F5F5F5",
         "hovertemplate": "Empty<br>q=-4, r=0, s=4<extra></extra>",
         "line": {
          "color": "lightgray",
          "width": 1
         },
         "mode": "lines",
         "name": "",
         "showlegend": false,
         "type": "scatter",
         "x": {
          "bdata": "MzMzMzMzFMCamZmZmRkWwGZmZmZm5hnAzczMzMzMG8BnZmZmZuYZwJqZmZmZGRbAMzMzMzMzFMA=",
          "dtype": "f8"
         },
         "y": {
          "bdata": "qkxY6Hq2C8Co7VyEiiEFwKjtXISKIQXAqkxY6Hq2C8DW1SmmtSURwNbVKaa1JRHAq0xY6Hq2C8A=",
          "dtype": "f8"
         }
        },
        {
         "hoverinfo": "skip",
         "mode": "text",
         "name": "",
         "showlegend": false,
         "text": [
          "(-4,0,4)"
         ],
         "textfont": {
          "color": "darkgray",
          "size": 10
         },
         "type": "scatter",
         "x": [
          -6
         ],
         "y": [
          -3.4641016151377544
         ]
        },
        {
         "fill": "toself",
         "fillcolor": "#F5F5F5",
         "hovertemplate": "Empty<br>q=1, r=-4, s=3<extra></extra>",
         "line": {
          "color": "lightgray",
          "width": 1
         },
         "mode": "lines",
         "name": "",
         "showlegend": false,
         "type": "scatter",
         "x": {
          "bdata": "mpmZmZmZA0CamZmZmZn/P2hmZmZmZvA/mpmZmZmZ4T9kZmZmZmbwP5eZmZmZmf8/mpmZmZmZA0A=",
          "dtype": "f8"
         },
         "y": {
          "bdata": "FUNNi6s/GMCUk09ZM/UUwJSTT1kz9RTAFUNNi6s/GMCW8kq9I4obwJbySr0jihvAFUNNi6s/GMA=",
          "dtype": "f8"
         }
        },
        {
         "hoverinfo": "skip",
         "mode": "text",
         "name": "",
         "showlegend": false,
         "text": [
          "(1,-4,3)"
         ],
         "textfont": {
          "color": "darkgray",
          "size": 10
         },
         "type": "scatter",
         "x": [
          1.5
         ],
         "y": [
          -6.06217782649107
         ]
        },
        {
         "fill": "toself",
         "fillcolor": "#F5F5F5",
         "hovertemplate": "Empty<br>q=-3, r=-2, s=5<extra></extra>",
         "line": {
          "color": "lightgray",
          "width": 1
         },
         "mode": "lines",
         "name": "",
         "showlegend": false,
         "type": "scatter",
         "x": {
          "bdata": "ZmZmZmZmDMCamZmZmRkQwGZmZmZm5hPAzczMzMzMFcBnZmZmZuYTwJqZmZmZGRDAZmZmZmZmDMA=",
          "dtype": "f8"
         },
         "y": {
          "bdata": "FUNNi6s/GMCUk09ZM/UUwJSTT1kz9RTAFUNNi6s/GMCW8kq9I4obwJbySr0jihvAFUNNi6s/GMA=",
          "dtype": "f8"
         }
        },
        {
         "hoverinfo": "skip",
         "mode": "text",
         "name": "",
         "showlegend": false,
         "text": [
          "(-3,-2,5)"
         ],
         "textfont": {
          "color": "darkgray",
          "size": 10
         },
         "type": "scatter",
         "x": [
          -4.5
         ],
         "y": [
          -6.06217782649107
         ]
        },
        {
         "fill": "toself",
         "fillcolor": "#F5F5F5",
         "hovertemplate": "Empty<br>q=1, r=3, s=-4<extra></extra>",
         "line": {
          "color": "lightgray",
          "width": 1
         },
         "mode": "lines",
         "name": "",
         "showlegend": false,
         "type": "scatter",
         "x": {
          "bdata": "mpmZmZmZA0CamZmZmZn/P2hmZmZmZvA/mpmZmZmZ4T9kZmZmZmbwP5eZmZmZmf8/mpmZmZmZA0A=",
          "dtype": "f8"
         },
         "y": {
          "bdata": "FUNNi6s/GECW8kq9I4obQJbySr0jihtAFUNNi6s/GECUk09ZM/UUQJSTT1kz9RRAFUNNi6s/GEA=",
          "dtype": "f8"
         }
        },
        {
         "hoverinfo": "skip",
         "mode": "text",
         "name": "",
         "showlegend": false,
         "text": [
          "(1,3,-4)"
         ],
         "textfont": {
          "color": "darkgray",
          "size": 10
         },
         "type": "scatter",
         "x": [
          1.5
         ],
         "y": [
          6.06217782649107
         ]
        },
        {
         "fill": "toself",
         "fillcolor": "#F5F5F5",
         "hovertemplate": "Empty<br>q=2, r=-2, s=0<extra></extra>",
         "line": {
          "color": "lightgray",
          "width": 1
         },
         "mode": "lines",
         "name": "",
         "showlegend": false,
         "type": "scatter",
         "x": {
          "bdata": "mpmZmZmZD0DNzMzMzMwLQDQzMzMzMwRAZmZmZmZmAEAyMzMzMzMEQMvMzMzMzAtAmpmZmZmZD0A=",
          "dtype": "f8"
         },
         "y": {
          "bdata": "qkxY6Hq2+79MHcNANBntv0sdw0A0Ge2/qUxY6Hq2+79XhSfYLXAEwFiFJ9gtcATAq0xY6Hq2+78=",
          "dtype": "f8"
         }
        },
        {
         "hoverinfo": "skip",
         "mode": "text",
         "name": "",
         "showlegend": false,
         "text": [
          "(2,-2,0)"
         ],
         "textfont": {
          "color": "darkgray",
          "size": 10
         },
         "type": "scatter",
         "x": [
          3
         ],
         "y": [
          -1.7320508075688772
         ]
        },
        {
         "fill": "toself",
         "fillcolor": "#F5F5F5",
         "hovertemplate": "Empty<br>q=3, r=-1, s=-2<extra></extra>",
         "line": {
          "color": "lightgray",
          "width": 1
         },
         "mode": "lines",
         "name": "",
         "showlegend": false,
         "type": "scatter",
         "x": {
          "bdata": "zczMzMzMFUBmZmZmZuYTQJqZmZmZGRBAZmZmZmZmDECZmZmZmRkQQGZmZmZm5hNAzczMzMzMFUA=",
          "dtype": "f8"
         },
         "y": {
          "bdata": "rExY6Hq26z9a5CI8HgX7P1rkIjweBfs/rUxY6Hq26z9QCq2GlSumPxAKrYaVK6Y/qkxY6Hq26z8=",
          "dtype": "f8"
         }
        },
        {
         "hoverinfo": "skip",
         "mode": "text",
         "name": "",
         "showlegend": false,
         "text": [
          "(3,-1,-2)"
         ],
         "textfont": {
          "color": "darkgray",
          "size": 10
         },
         "type": "scatter",
         "x": [
          4.5
         ],
         "y": [
          0.8660254037844388
         ]
        },
        {
         "fill": "toself",
         "fillcolor": "#F5F5F5",
         "hovertemplate": "Empty<br>q=-2, r=5, s=-3<extra></extra>",
         "line": {
          "color": "lightgray",
          "width": 1
         },
         "mode": "lines",
         "name": "",
         "showlegend": false,
         "type": "scatter",
         "x": {
          "bdata": "ZmZmZmZmAMAzMzMzMzMEwMzMzMzMzAvAmpmZmZmZD8DOzMzMzMwLwDUzMzMzMwTAZmZmZmZmAMA=",
          "dtype": "f8"
         },
         "y": {
          "bdata": "qkxY6Hq2G0Ar/FUa8wAfQCv8VRrzAB9AqkxY6Hq2G0ApnVq2AmwYQCmdWrYCbBhAqkxY6Hq2G0A=",
          "dtype": "f8"
         }
        },
        {
         "hoverinfo": "skip",
         "mode": "text",
         "name": "",
         "showlegend": false,
         "text": [
          "(-2,5,-3)"
         ],
         "textfont": {
          "color": "darkgray",
          "size": 10
         },
         "type": "scatter",
         "x": [
          -3
         ],
         "y": [
          6.928203230275509
         ]
        },
        {
         "fill": "toself",
         "fillcolor": "#F5F5F5",
         "hovertemplate": "Empty<br>q=5, r=-5, s=0<extra></extra>",
         "line": {
          "color": "lightgray",
          "width": 1
         },
         "mode": "lines",
         "name": "",
         "showlegend": false,
         "type": "scatter",
         "x": {
          "bdata": "ZmZmZmbmIEBmZmZmZuYfQJqZmZmZGRxAMzMzMzMzGkCZmZmZmRkcQGZmZmZm5h9AZmZmZmbmIEA=",
          "dtype": "f8"
         },
         "y": {
          "bdata": "6i830QxSEcDSAHM+KQ8MwNIAcz4pDwzA6i830QxSEcBr3zQDhZwUwGvfNAOFnBTA6i830QxSEcA=",
          "dtype": "f8"
         }
        },
        {
         "hoverinfo": "skip",
         "mode": "text",
         "name": "",
         "showlegend": false,
         "text": [
          "(5,-5,0)"
         ],
         "textfont": {
          "color": "darkgray",
          "size": 10
         },
         "type": "scatter",
         "x": [
          7.5
         ],
         "y": [
          -4.330127018922193
         ]
        },
        {
         "fill": "toself",
         "fillcolor": "#F5F5F5",
         "hovertemplate": "Empty<br>q=-1, r=-2, s=3<extra></extra>",
         "line": {
          "color": "lightgray",
          "width": 1
         },
         "mode": "lines",
         "name": "",
         "showlegend": false,
         "type": "scatter",
         "x": {
          "bdata": "mpmZmZmZ4b9mZmZmZmbwv5iZmZmZmf+/mpmZmZmZA8CcmZmZmZn/v2lmZmZmZvC/mpmZmZmZ4b8=",
          "dtype": "f8"
         },
         "y": {
          "bdata": "6i830QxSEcDSAHM+KQ8MwNIAcz4pDwzA6i830QxSEcBr3zQDhZwUwGvfNAOFnBTA6i830QxSEcA=",
          "dtype": "f8"
         }
        },
        {
         "hoverinfo": "skip",
         "mode": "text",
         "name": "",
         "showlegend": false,
         "text": [
          "(-1,-2,3)"
         ],
         "textfont": {
          "color": "darkgray",
          "size": 10
         },
         "type": "scatter",
         "x": [
          -1.5
         ],
         "y": [
          -4.330127018922193
         ]
        },
        {
         "fill": "toself",
         "fillcolor": "#F5F5F5",
         "hovertemplate": "Empty<br>q=-2, r=-3, s=5<extra></extra>",
         "line": {
          "color": "lightgray",
          "width": 1
         },
         "mode": "lines",
         "name": "",
         "showlegend": false,
         "type": "scatter",
         "x": {
          "bdata": "ZmZmZmZmAMAzMzMzMzMEwMzMzMzMzAvAmpmZmZmZD8DOzMzMzMwLwDUzMzMzMwTAZmZmZmZmAMA=",
          "dtype": "f8"
         },
         "y": {
          "bdata": "qkxY6Hq2G8ApnVq2AmwYwCmdWrYCbBjAqkxY6Hq2G8Ar/FUa8wAfwCv8VRrzAB/AqkxY6Hq2G8A=",
          "dtype": "f8"
         }
        },
        {
         "hoverinfo": "skip",
         "mode": "text",
         "name": "",
         "showlegend": false,
         "text": [
          "(-2,-3,5)"
         ],
         "textfont": {
          "color": "darkgray",
          "size": 10
         },
         "type": "scatter",
         "x": [
          -3
         ],
         "y": [
          -6.928203230275509
         ]
        },
        {
         "fill": "toself",
         "fillcolor": "#F5F5F5",
         "hovertemplate": "Empty<br>q=-2, r=4, s=-2<extra></extra>",
         "line": {
          "color": "lightgray",
          "width": 1
         },
         "mode": "lines",
         "name": "",
         "showlegend": false,
         "type": "scatter",
         "x": {
          "bdata": "ZmZmZmZmAMAzMzMzMzMEwMzMzMzMzAvAmpmZmZmZD8DOzMzMzMwLwDUzMzMzMwTAZmZmZmZmAMA=",
          "dtype": "f8"
         },
         "y": {
          "bdata": "gDlCLtzIFEAB6T9gVBMYQAHpP2BUExhAgDlCLtzIFED/iUT8Y34RQP+JRPxjfhFAgDlCLtzIFEA=",
          "dtype": "f8"
         }
        },
        {
         "hoverinfo": "skip",
         "mode": "text",
         "name": "",
         "showlegend": false,
         "text": [
          "(-2,4,-2)"
         ],
         "textfont": {
          "color": "darkgray",
          "size": 10
         },
         "type": "scatter",
         "x": [
          -3
         ],
         "y": [
          5.196152422706632
         ]
        },
        {
         "fill": "toself",
         "fillcolor": "#F5F5F5",
         "hovertemplate": "Empty<br>q=1, r=2, s=-3<extra></extra>",
         "line": {
          "color": "lightgray",
          "width": 1
         },
         "mode": "lines",
         "name": "",
         "showlegend": false,
         "type": "scatter",
         "x": {
          "bdata": "mpmZmZmZA0CamZmZmZn/P2hmZmZmZvA/mpmZmZmZ4T9kZmZmZmbwP5eZmZmZmf8/mpmZmZmZA0A=",
          "dtype": "f8"
         },
         "y": {
          "bdata": "6i830QxSEUBr3zQDhZwUQGvfNAOFnBRA6i830QxSEUDSAHM+KQ8MQNEAcz4pDwxA6i830QxSEUA=",
          "dtype": "f8"
         }
        },
        {
         "hoverinfo": "skip",
         "mode": "text",
         "name": "",
         "showlegend": false,
         "text": [
          "(1,2,-3)"
         ],
         "textfont": {
          "color": "darkgray",
          "size": 10
         },
         "type": "scatter",
         "x": [
          1.5
         ],
         "y": [
          4.330127018922193
         ]
        },
        {
         "fill": "toself",
         "fillcolor": "#F5F5F5",
         "hovertemplate": "Empty<br>q=2, r=-4, s=2<extra></extra>",
         "line": {
          "color": "lightgray",
          "width": 1
         },
         "mode": "lines",
         "name": "",
         "showlegend": false,
         "type": "scatter",
         "x": {
          "bdata": "mpmZmZmZD0DNzMzMzMwLQDQzMzMzMwRAZmZmZmZmAEAyMzMzMzMEQMvMzMzMzAtAmpmZmZmZD0A=",
          "dtype": "f8"
         },
         "y": {
          "bdata": "gDlCLtzIFMD/iUT8Y34RwP+JRPxjfhHAgDlCLtzIFMAB6T9gVBMYwAHpP2BUExjAgDlCLtzIFMA=",
          "dtype": "f8"
         }
        },
        {
         "hoverinfo": "skip",
         "mode": "text",
         "name": "",
         "showlegend": false,
         "text": [
          "(2,-4,2)"
         ],
         "textfont": {
          "color": "darkgray",
          "size": 10
         },
         "type": "scatter",
         "x": [
          3
         ],
         "y": [
          -5.196152422706632
         ]
        },
        {
         "fill": "toself",
         "fillcolor": "#F5F5F5",
         "hovertemplate": "Empty<br>q=3, r=3, s=-6<extra></extra>",
         "line": {
          "color": "lightgray",
          "width": 1
         },
         "mode": "lines",
         "name": "",
         "showlegend": false,
         "type": "scatter",
         "x": {
          "bdata": "zczMzMzMFUBmZmZmZuYTQJqZmZmZGRBAZmZmZmZmDECZmZmZmRkQQGZmZmZm5hNAzczMzMzMFUA=",
          "dtype": "f8"
         },
         "y": {
          "bdata": "QFZjRUotH0DggrA74TshQOGCsDvhOyFAQFZjRUotH0C/pmUT0uIbQL+mZRPS4htAQFZjRUotH0A=",
          "dtype": "f8"
         }
        },
        {
         "hoverinfo": "skip",
         "mode": "text",
         "name": "",
         "showlegend": false,
         "text": [
          "(3,3,-6)"
         ],
         "textfont": {
          "color": "darkgray",
          "size": 10
         },
         "type": "scatter",
         "x": [
          4.5
         ],
         "y": [
          7.794228634059948
         ]
        },
        {
         "fill": "toself",
         "fillcolor": "#F5F5F5",
         "hovertemplate": "Empty<br>q=5, r=-4, s=-1<extra></extra>",
         "line": {
          "color": "lightgray",
          "width": 1
         },
         "mode": "lines",
         "name": "",
         "showlegend": false,
         "type": "scatter",
         "x": {
          "bdata": "ZmZmZmbmIEBmZmZmZuYfQJqZmZmZGRxAMzMzMzMzGkCZmZmZmRkcQGZmZmZm5h9AZmZmZmbmIEA=",
          "dtype": "f8"
         },
         "y": {
          "bdata": "gDlCLtzIBMD8tI2U12f8v/y0jZTXZ/y/gDlCLtzIBMCCmD2SzF0LwIOYPZLMXQvAgTlCLtzIBMA=",
          "dtype": "f8"
         }
        },
        {
         "hoverinfo": "skip",
         "mode": "text",
         "name": "",
         "showlegend": false,
         "text": [
          "(5,-4,-1)"
         ],
         "textfont": {
          "color": "darkgray",
          "size": 10
         },
         "type": "scatter",
         "x": [
          7.5
         ],
         "y": [
          -2.598076211353316
         ]
        },
        {
         "fill": "toself",
         "fillcolor": "#F5F5F5",
         "hovertemplate": "Empty<br>q=2, r=4, s=-6<extra></extra>",
         "line": {
          "color": "lightgray",
          "width": 1
         },
         "mode": "lines",
         "name": "",
         "showlegend": false,
         "type": "scatter",
         "x": {
          "bdata": "mpmZmZmZD0DNzMzMzMwLQDQzMzMzMwRAZmZmZmZmAEAyMzMzMzMEQMvMzMzMzAtAmpmZmZmZD0A=",
          "dtype": "f8"
         },
         "y": {
          "bdata": "6i830QxSIUCqBzbqSPciQKsHNupI9yJA6i830QxSIUBTsHBwoVkfQFOwcHChWR9A6i830QxSIUA=",
          "dtype": "f8"
         }
        },
        {
         "hoverinfo": "skip",
         "mode": "text",
         "name": "",
         "showlegend": false,
         "text": [
          "(2,4,-6)"
         ],
         "textfont": {
          "color": "darkgray",
          "size": 10
         },
         "type": "scatter",
         "x": [
          3
         ],
         "y": [
          8.660254037844386
         ]
        },
        {
         "fill": "toself",
         "fillcolor": "#F5F5F5",
         "hovertemplate": "Empty<br>q=-1, r=5, s=-4<extra></extra>",
         "line": {
          "color": "lightgray",
          "width": 1
         },
         "mode": "lines",
         "name": "",
         "showlegend": false,
         "type": "scatter",
         "x": {
          "bdata": "mpmZmZmZ4b9mZmZmZmbwv5iZmZmZmf+/mpmZmZmZA8CcmZmZmZn/v2lmZmZmZvC/mpmZmZmZ4b8=",
          "dtype": "f8"
         },
         "y": {
          "bdata": "P1ZjRUotH0DggrA74TshQOCCsDvhOyFAP1ZjRUotH0C+pmUT0uIbQL6mZRPS4htAP1ZjRUotH0A=",
          "dtype": "f8"
         }
        },
        {
         "hoverinfo": "skip",
         "mode": "text",
         "name": "",
         "showlegend": false,
         "text": [
          "(-1,5,-4)"
         ],
         "textfont": {
          "color": "darkgray",
          "size": 10
         },
         "type": "scatter",
         "x": [
          -1.5
         ],
         "y": [
          7.794228634059947
         ]
        },
        {
         "fill": "toself",
         "fillcolor": "#F5F5F5",
         "hovertemplate": "Empty<br>q=3, r=-5, s=2<extra></extra>",
         "line": {
          "color": "lightgray",
          "width": 1
         },
         "mode": "lines",
         "name": "",
         "showlegend": false,
         "type": "scatter",
         "x": {
          "bdata": "zczMzMzMFUBmZmZmZuYTQJqZmZmZGRBAZmZmZmZmDECZmZmZmRkQQGZmZmZm5hNAzczMzMzMFUA=",
          "dtype": "f8"
         },
         "y": {
          "bdata": "FENNi6s/GMCTk09ZM/UUwJOTT1kz9RTAFENNi6s/GMCV8kq9I4obwJXySr0jihvAFENNi6s/GMA=",
          "dtype": "f8"
         }
        },
        {
         "hoverinfo": "skip",
         "mode": "text",
         "name": "",
         "showlegend": false,
         "text": [
          "(3,-5,2)"
         ],
         "textfont": {
          "color": "darkgray",
          "size": 10
         },
         "type": "scatter",
         "x": [
          4.5
         ],
         "y": [
          -6.0621778264910695
         ]
        },
        {
         "fill": "toself",
         "fillcolor": "#F5F5F5",
         "hovertemplate": "Empty<br>q=-4, r=-1, s=5<extra></extra>",
         "line": {
          "color": "lightgray",
          "width": 1
         },
         "mode": "lines",
         "name": "",
         "showlegend": false,
         "type": "scatter",
         "x": {
          "bdata": "MzMzMzMzFMCamZmZmRkWwGZmZmZm5hnAzczMzMzMG8BnZmZmZuYZwJqZmZmZGRbAMzMzMzMzFMA=",
          "dtype": "f8"
         },
         "y": {
          "bdata": "gDlCLtzIFMD/iUT8Y34RwP+JRPxjfhHAgDlCLtzIFMAB6T9gVBMYwAHpP2BUExjAgDlCLtzIFMA=",
          "dtype": "f8"
         }
        },
        {
         "hoverinfo": "skip",
         "mode": "text",
         "name": "",
         "showlegend": false,
         "text": [
          "(-4,-1,5)"
         ],
         "textfont": {
          "color": "darkgray",
          "size": 10
         },
         "type": "scatter",
         "x": [
          -6
         ],
         "y": [
          -5.196152422706632
         ]
        },
        {
         "fill": "toself",
         "fillcolor": "#F5F5F5",
         "hovertemplate": "Empty<br>q=-2, r=2, s=0<extra></extra>",
         "line": {
          "color": "lightgray",
          "width": 1
         },
         "mode": "lines",
         "name": "",
         "showlegend": false,
         "type": "scatter",
         "x": {
          "bdata": "ZmZmZmZmAMAzMzMzMzMEwMzMzMzMzAvAmpmZmZmZD8DOzMzMzMwLwDUzMzMzMwTAZmZmZmZmAMA=",
          "dtype": "f8"
         },
         "y": {
          "bdata": "qkxY6Hq2+z9XhSfYLXAEQFeFJ9gtcARAq0xY6Hq2+z9NHcNANBntP0kdw0A0Ge0/qUxY6Hq2+z8=",
          "dtype": "f8"
         }
        },
        {
         "hoverinfo": "skip",
         "mode": "text",
         "name": "",
         "showlegend": false,
         "text": [
          "(-2,2,0)"
         ],
         "textfont": {
          "color": "darkgray",
          "size": 10
         },
         "type": "scatter",
         "x": [
          -3
         ],
         "y": [
          1.7320508075688772
         ]
        },
        {
         "fill": "toself",
         "fillcolor": "#F5F5F5",
         "hovertemplate": "Empty<br>q=3, r=-2, s=-1<extra></extra>",
         "line": {
          "color": "lightgray",
          "width": 1
         },
         "mode": "lines",
         "name": "",
         "showlegend": false,
         "type": "scatter",
         "x": {
          "bdata": "zczMzMzMFUBmZmZmZuYTQJqZmZmZGRBAZmZmZmZmDECZmZmZmRkQQGZmZmZm5hNAzczMzMzMFUA=",
          "dtype": "f8"
         },
         "y": {
          "bdata": "qExY6Hq2678ACq2GlSumv/AJrYaVK6a/p0xY6Hq2679Y5CI8HgX7v1rkIjweBfu/qkxY6Hq2678=",
          "dtype": "f8"
         }
        },
        {
         "hoverinfo": "skip",
         "mode": "text",
         "name": "",
         "showlegend": false,
         "text": [
          "(3,-2,-1)"
         ],
         "textfont": {
          "color": "darkgray",
          "size": 10
         },
         "type": "scatter",
         "x": [
          4.5
         ],
         "y": [
          -0.8660254037844384
         ]
        },
        {
         "fill": "toself",
         "fillcolor": "#F5F5F5",
         "hovertemplate": "Empty<br>q=1, r=1, s=-2<extra></extra>",
         "line": {
          "color": "lightgray",
          "width": 1
         },
         "mode": "lines",
         "name": "",
         "showlegend": false,
         "type": "scatter",
         "x": {
          "bdata": "mpmZmZmZA0CamZmZmZn/P2hmZmZmZvA/mpmZmZmZ4T9kZmZmZmbwP5eZmZmZmf8/mpmZmZmZA0A=",
          "dtype": "f8"
         },
         "y": {
          "bdata": "gDlCLtzIBECCmD2SzF0LQIKYPZLMXQtAgDlCLtzIBED8tI2U12f8P/q0jZTXZ/w/fzlCLtzIBEA=",
          "dtype": "f8"
         }
        },
        {
         "hoverinfo": "skip",
         "mode": "text",
         "name": "",
         "showlegend": false,
         "text": [
          "(1,1,-2)"
         ],
         "textfont": {
          "color": "darkgray",
          "size": 10
         },
         "type": "scatter",
         "x": [
          1.5
         ],
         "y": [
          2.598076211353316
         ]
        },
        {
         "fill": "toself",
         "fillcolor": "#F5F5F5",
         "hovertemplate": "Empty<br>q=0, r=5, s=-5<extra></extra>",
         "line": {
          "color": "lightgray",
          "width": 1
         },
         "mode": "lines",
         "name": "",
         "showlegend": false,
         "type": "scatter",
         "x": {
          "bdata": "ZmZmZmZm7j9oZmZmZmbeP2JmZmZmZt6/ZmZmZmZm7r9uZmZmZmbev1tmZmZmZt4/ZmZmZmZm7j8=",
          "dtype": "f8"
         },
         "y": {
          "bdata": "6i830QxSIUCqBzbqSPciQKsHNupI9yJA6i830QxSIUBTsHBwoVkfQFOwcHChWR9A6i830QxSIUA=",
          "dtype": "f8"
         }
        },
        {
         "hoverinfo": "skip",
         "mode": "text",
         "name": "",
         "showlegend": false,
         "text": [
          "(0,5,-5)"
         ],
         "textfont": {
          "color": "darkgray",
          "size": 10
         },
         "type": "scatter",
         "x": [
          0
         ],
         "y": [
          8.660254037844386
         ]
        },
        {
         "fill": "toself",
         "fillcolor": "#F5F5F5",
         "hovertemplate": "Empty<br>q=-3, r=1, s=2<extra></extra>",
         "line": {
          "color": "lightgray",
          "width": 1
         },
         "mode": "lines",
         "name": "",
         "showlegend": false,
         "type": "scatter",
         "x": {
          "bdata": "ZmZmZmZmDMCamZmZmRkQwGZmZmZm5hPAzczMzMzMFcBnZmZmZuYTwJqZmZmZGRDAZmZmZmZmDMA=",
          "dtype": "f8"
         },
         "y": {
          "bdata": "rExY6Hq2679ACq2GlSumvzAKrYaVK6a/q0xY6Hq2679a5CI8HgX7v1zkIjweBfu/rkxY6Hq2678=",
          "dtype": "f8"
         }
        },
        {
         "hoverinfo": "skip",
         "mode": "text",
         "name": "",
         "showlegend": false,
         "text": [
          "(-3,1,2)"
         ],
         "textfont": {
          "color": "darkgray",
          "size": 10
         },
         "type": "scatter",
         "x": [
          -4.5
         ],
         "y": [
          -0.8660254037844388
         ]
        },
        {
         "fill": "toself",
         "fillcolor": "#FFFFFF",
         "hovertemplate": "Ant (white)<br>Position: (-1,2,-1)<extra></extra>",
         "line": {
          "color": "#808080",
          "width": 2
         },
         "mode": "lines",
         "name": "",
         "showlegend": false,
         "type": "scatter",
         "x": {
          "bdata": "mpmZmZmZ4b9mZmZmZmbwv5iZmZmZmf+/mpmZmZmZA8CcmZmZmZn/v2lmZmZmZvC/mpmZmZmZ4b8=",
          "dtype": "f8"
         },
         "y": {
          "bdata": "gDlCLtzIBECCmD2SzF0LQIKYPZLMXQtAgDlCLtzIBED8tI2U12f8P/q0jZTXZ/w/fzlCLtzIBEA=",
          "dtype": "f8"
         }
        },
        {
         "hoverinfo": "skip",
         "mode": "text",
         "name": "",
         "showlegend": false,
         "text": [
          "🐜"
         ],
         "textfont": {
          "color": "black",
          "size": 23
         },
         "type": "scatter",
         "x": [
          -1.5
         ],
         "y": [
          2.598076211353316
         ]
        },
        {
         "hoverinfo": "skip",
         "mode": "text",
         "name": "",
         "showlegend": false,
         "text": [
          "(-1,2,-1)"
         ],
         "textfont": {
          "color": "gray",
          "size": 8
         },
         "type": "scatter",
         "x": [
          -1.5
         ],
         "y": [
          2.298076211353316
         ]
        },
        {
         "fill": "toself",
         "fillcolor": "#1D1A1A",
         "hovertemplate": "Ant (black)<br>Position: (-1,3,-2)<extra></extra>",
         "line": {
          "color": "#000000",
          "width": 2
         },
         "mode": "lines",
         "name": "",
         "showlegend": false,
         "type": "scatter",
         "x": {
          "bdata": "mpmZmZmZ4b9mZmZmZmbwv5iZmZmZmf+/mpmZmZmZA8CcmZmZmZn/v2lmZmZmZvC/mpmZmZmZ4b8=",
          "dtype": "f8"
         },
         "y": {
          "bdata": "6y830QxSEUBs3zQDhZwUQGzfNAOFnBRA6y830QxSEUDUAHM+KQ8MQNMAcz4pDwxA6y830QxSEUA=",
          "dtype": "f8"
         }
        },
        {
         "hoverinfo": "skip",
         "mode": "text",
         "name": "",
         "showlegend": false,
         "text": [
          "🐜"
         ],
         "textfont": {
          "color": "black",
          "size": 23
         },
         "type": "scatter",
         "x": [
          -1.5
         ],
         "y": [
          4.330127018922194
         ]
        },
        {
         "hoverinfo": "skip",
         "mode": "text",
         "name": "",
         "showlegend": false,
         "text": [
          "(-1,3,-2)"
         ],
         "textfont": {
          "color": "gray",
          "size": 8
         },
         "type": "scatter",
         "x": [
          -1.5
         ],
         "y": [
          4.030127018922194
         ]
        },
        {
         "fill": "toself",
         "fillcolor": "#FFFFFF",
         "hovertemplate": "QueenBee (white)<br>Position: (0,2,-2)<extra></extra>",
         "line": {
          "color": "#808080",
          "width": 2
         },
         "mode": "lines",
         "name": "",
         "showlegend": false,
         "type": "scatter",
         "x": {
          "bdata": "ZmZmZmZm7j9oZmZmZmbeP2JmZmZmZt6/ZmZmZmZm7r9uZmZmZmbev1tmZmZmZt4/ZmZmZmZm7j8=",
          "dtype": "f8"
         },
         "y": {
          "bdata": "qkxY6Hq2C0DW1SmmtSURQNbVKaa1JRFAqkxY6Hq2C0Co7VyEiiEFQKftXISKIQVAqUxY6Hq2C0A=",
          "dtype": "f8"
         }
        },
        {
         "hoverinfo": "skip",
         "mode": "text",
         "name": "",
         "showlegend": false,
         "text": [
          "🐝"
         ],
         "textfont": {
          "color": "black",
          "size": 23
         },
         "type": "scatter",
         "x": [
          0
         ],
         "y": [
          3.4641016151377544
         ]
        },
        {
         "hoverinfo": "skip",
         "mode": "text",
         "name": "",
         "showlegend": false,
         "text": [
          "(0,2,-2)"
         ],
         "textfont": {
          "color": "gray",
          "size": 8
         },
         "type": "scatter",
         "x": [
          0
         ],
         "y": [
          3.1641016151377546
         ]
        },
        {
         "fill": "toself",
         "fillcolor": "#1D1A1A",
         "hovertemplate": "Ant (black)<br>Position: (-1,4,-3)<extra></extra>",
         "line": {
          "color": "#000000",
          "width": 2
         },
         "mode": "lines",
         "name": "",
         "showlegend": false,
         "type": "scatter",
         "x": {
          "bdata": "mpmZmZmZ4b9mZmZmZmbwv5iZmZmZmf+/mpmZmZmZA8CcmZmZmZn/v2lmZmZmZvC/mpmZmZmZ4b8=",
          "dtype": "f8"
         },
         "y": {
          "bdata": "FUNNi6s/GECW8kq9I4obQJbySr0jihtAFUNNi6s/GECUk09ZM/UUQJSTT1kz9RRAFUNNi6s/GEA=",
          "dtype": "f8"
         }
        },
        {
         "hoverinfo": "skip",
         "mode": "text",
         "name": "",
         "showlegend": false,
         "text": [
          "🐜"
         ],
         "textfont": {
          "color": "black",
          "size": 23
         },
         "type": "scatter",
         "x": [
          -1.5
         ],
         "y": [
          6.06217782649107
         ]
        },
        {
         "hoverinfo": "skip",
         "mode": "text",
         "name": "",
         "showlegend": false,
         "text": [
          "(-1,4,-3)"
         ],
         "textfont": {
          "color": "gray",
          "size": 8
         },
         "type": "scatter",
         "x": [
          -1.5
         ],
         "y": [
          5.762177826491071
         ]
        },
        {
         "fill": "toself",
         "fillcolor": "#FFFFFF",
         "hovertemplate": "Ant (white)<br>Position: (-1,1,0)<extra></extra>",
         "line": {
          "color": "#808080",
          "width": 2
         },
         "mode": "lines",
         "name": "",
         "showlegend": false,
         "type": "scatter",
         "x": {
          "bdata": "mpmZmZmZ4b9mZmZmZmbwv5iZmZmZmf+/mpmZmZmZA8CcmZmZmZn/v2lmZmZmZvC/mpmZmZmZ4b8=",
          "dtype": "f8"
         },
         "y": {
          "bdata": "qkxY6Hq26z9Z5CI8HgX7P1rkIjweBfs/q0xY6Hq26z8wCq2GlSumP/AJrYaVK6Y/qExY6Hq26z8=",
          "dtype": "f8"
         }
        },
        {
         "hoverinfo": "skip",
         "mode": "text",
         "name": "",
         "showlegend": false,
         "text": [
          "🐜"
         ],
         "textfont": {
          "color": "black",
          "size": 23
         },
         "type": "scatter",
         "x": [
          -1.5
         ],
         "y": [
          0.8660254037844386
         ]
        },
        {
         "hoverinfo": "skip",
         "mode": "text",
         "name": "",
         "showlegend": false,
         "text": [
          "(-1,1,0)"
         ],
         "textfont": {
          "color": "gray",
          "size": 8
         },
         "type": "scatter",
         "x": [
          -1.5
         ],
         "y": [
          0.5660254037844386
         ]
        },
        {
         "fill": "toself",
         "fillcolor": "#1D1A1A",
         "hovertemplate": "QueenBee (black)<br>Position: (-3,-1,4)<extra></extra>",
         "line": {
          "color": "#000000",
          "width": 2
         },
         "mode": "lines",
         "name": "",
         "showlegend": false,
         "type": "scatter",
         "x": {
          "bdata": "ZmZmZmZmDMCamZmZmRkQwGZmZmZm5hPAzczMzMzMFcBnZmZmZuYTwJqZmZmZGRDAZmZmZmZmDMA=",
          "dtype": "f8"
         },
         "y": {
          "bdata": "6i830QxSEcDSAHM+KQ8MwNIAcz4pDwzA6i830QxSEcBr3zQDhZwUwGvfNAOFnBTA6i830QxSEcA=",
          "dtype": "f8"
         }
        },
        {
         "hoverinfo": "skip",
         "mode": "text",
         "name": "",
         "showlegend": false,
         "text": [
          "🐝"
         ],
         "textfont": {
          "color": "black",
          "size": 23
         },
         "type": "scatter",
         "x": [
          -4.5
         ],
         "y": [
          -4.330127018922193
         ]
        },
        {
         "hoverinfo": "skip",
         "mode": "text",
         "name": "",
         "showlegend": false,
         "text": [
          "(-3,-1,4)"
         ],
         "textfont": {
          "color": "gray",
          "size": 8
         },
         "type": "scatter",
         "x": [
          -4.5
         ],
         "y": [
          -4.630127018922193
         ]
        },
        {
         "fill": "toself",
         "fillcolor": "#FFFFFF",
         "hovertemplate": "Ant (white)<br>Position: (0,0,0)<extra></extra>",
         "line": {
          "color": "#808080",
          "width": 2
         },
         "mode": "lines",
         "name": "",
         "showlegend": false,
         "type": "scatter",
         "x": {
          "bdata": "ZmZmZmZm7j9oZmZmZmbeP2JmZmZmZt6/ZmZmZmZm7r9uZmZmZmbev1tmZmZmZt4/ZmZmZmZm7j8=",
          "dtype": "f8"
         },
         "y": {
          "bdata": "AAAAAAAAAAAIfO2PwVPqPwl87Y/BU+o/07254z3EoDwHfO2PwVPqvwt87Y/BU+q/07254z3EsLw=",
          "dtype": "f8"
         }
        },
        {
         "hoverinfo": "skip",
         "mode": "text",
         "name": "",
         "showlegend": false,
         "text": [
          "🐜"
         ],
         "textfont": {
          "color": "black",
          "size": 23
         },
         "type": "scatter",
         "x": [
          0
         ],
         "y": [
          0
         ]
        },
        {
         "hoverinfo": "skip",
         "mode": "text",
         "name": "",
         "showlegend": false,
         "text": [
          "(0,0,0)"
         ],
         "textfont": {
          "color": "gray",
          "size": 8
         },
         "type": "scatter",
         "x": [
          0
         ],
         "y": [
          -0.3
         ]
        },
        {
         "fill": "toself",
         "fillcolor": "#1D1A1A",
         "hovertemplate": "Ant (black)<br>Position: (-1,0,1)<extra></extra>",
         "line": {
          "color": "#000000",
          "width": 2
         },
         "mode": "lines",
         "name": "",
         "showlegend": false,
         "type": "scatter",
         "x": {
          "bdata": "mpmZmZmZ4b9mZmZmZmbwv5iZmZmZmf+/mpmZmZmZA8CcmZmZmZn/v2lmZmZmZvC/mpmZmZmZ4b8=",
          "dtype": "f8"
         },
         "y": {
          "bdata": "qkxY6Hq2678gCq2GlSumvxAKrYaVK6a/qUxY6Hq2679Y5CI8HgX7v1rkIjweBfu/rExY6Hq2678=",
          "dtype": "f8"
         }
        },
        {
         "hoverinfo": "skip",
         "mode": "text",
         "name": "",
         "showlegend": false,
         "text": [
          "🐜"
         ],
         "textfont": {
          "color": "black",
          "size": 23
         },
         "type": "scatter",
         "x": [
          -1.5
         ],
         "y": [
          -0.8660254037844386
         ]
        },
        {
         "hoverinfo": "skip",
         "mode": "text",
         "name": "",
         "showlegend": false,
         "text": [
          "(-1,0,1)"
         ],
         "textfont": {
          "color": "gray",
          "size": 8
         },
         "type": "scatter",
         "x": [
          -1.5
         ],
         "y": [
          -1.1660254037844386
         ]
        },
        {
         "fill": "toself",
         "fillcolor": "#1D1A1A",
         "hovertemplate": "Ant (black)<br>Position: (-1,-1,2)<extra></extra>",
         "line": {
          "color": "#000000",
          "width": 2
         },
         "mode": "lines",
         "name": "",
         "showlegend": false,
         "type": "scatter",
         "x": {
          "bdata": "mpmZmZmZ4b9mZmZmZmbwv5iZmZmZmf+/mpmZmZmZA8CcmZmZmZn/v2lmZmZmZvC/mpmZmZmZ4b8=",
          "dtype": "f8"
         },
         "y": {
          "bdata": "gDlCLtzIBMD8tI2U12f8v/y0jZTXZ/y/gDlCLtzIBMCCmD2SzF0LwIOYPZLMXQvAgTlCLtzIBMA=",
          "dtype": "f8"
         }
        },
        {
         "hoverinfo": "skip",
         "mode": "text",
         "name": "",
         "showlegend": false,
         "text": [
          "🐜"
         ],
         "textfont": {
          "color": "black",
          "size": 23
         },
         "type": "scatter",
         "x": [
          -1.5
         ],
         "y": [
          -2.598076211353316
         ]
        },
        {
         "hoverinfo": "skip",
         "mode": "text",
         "name": "",
         "showlegend": false,
         "text": [
          "(-1,-1,2)"
         ],
         "textfont": {
          "color": "gray",
          "size": 8
         },
         "type": "scatter",
         "x": [
          -1.5
         ],
         "y": [
          -2.898076211353316
         ]
        },
        {
         "fill": "toself",
         "fillcolor": "#1D1A1A",
         "hovertemplate": "Ant (black)<br>Position: (-2,-1,3)<extra></extra>",
         "line": {
          "color": "#000000",
          "width": 2
         },
         "mode": "lines",
         "name": "",
         "showlegend": false,
         "type": "scatter",
         "x": {
          "bdata": "ZmZmZmZmAMAzMzMzMzMEwMzMzMzMzAvAmpmZmZmZD8DOzMzMzMwLwDUzMzMzMwTAZmZmZmZmAMA=",
          "dtype": "f8"
         },
         "y": {
          "bdata": "qkxY6Hq2C8Co7VyEiiEFwKjtXISKIQXAqkxY6Hq2C8DW1SmmtSURwNbVKaa1JRHAq0xY6Hq2C8A=",
          "dtype": "f8"
         }
        },
        {
         "hoverinfo": "skip",
         "mode": "text",
         "name": "",
         "showlegend": false,
         "text": [
          "🐜"
         ],
         "textfont": {
          "color": "black",
          "size": 23
         },
         "type": "scatter",
         "x": [
          -3
         ],
         "y": [
          -3.4641016151377544
         ]
        },
        {
         "hoverinfo": "skip",
         "mode": "text",
         "name": "",
         "showlegend": false,
         "text": [
          "(-2,-1,3)"
         ],
         "textfont": {
          "color": "gray",
          "size": 8
         },
         "type": "scatter",
         "x": [
          -3
         ],
         "y": [
          -3.764101615137754
         ]
        },
        {
         "fill": "toself",
         "fillcolor": "#FFFFFF",
         "hovertemplate": "Ant (white)<br>Position: (1,-1,0)<extra></extra>",
         "line": {
          "color": "#808080",
          "width": 2
         },
         "mode": "lines",
         "name": "",
         "showlegend": false,
         "type": "scatter",
         "x": {
          "bdata": "mpmZmZmZA0CamZmZmZn/P2hmZmZmZvA/mpmZmZmZ4T9kZmZmZmbwP5eZmZmZmf8/mpmZmZmZA0A=",
          "dtype": "f8"
         },
         "y": {
          "bdata": "qkxY6Hq2678gCq2GlSumvxAKrYaVK6a/qUxY6Hq2679Y5CI8HgX7v1rkIjweBfu/rExY6Hq2678=",
          "dtype": "f8"
         }
        },
        {
         "hoverinfo": "skip",
         "mode": "text",
         "name": "",
         "showlegend": false,
         "text": [
          "🐜"
         ],
         "textfont": {
          "color": "black",
          "size": 23
         },
         "type": "scatter",
         "x": [
          1.5
         ],
         "y": [
          -0.8660254037844386
         ]
        },
        {
         "hoverinfo": "skip",
         "mode": "text",
         "name": "",
         "showlegend": false,
         "text": [
          "(1,-1,0)"
         ],
         "textfont": {
          "color": "gray",
          "size": 8
         },
         "type": "scatter",
         "x": [
          1.5
         ],
         "y": [
          -1.1660254037844386
         ]
        },
        {
         "fill": "toself",
         "fillcolor": "#FFFFFF",
         "hovertemplate": "Ant (white)<br>Position: (1,4,-5)<extra></extra>",
         "line": {
          "color": "#808080",
          "width": 2
         },
         "mode": "lines",
         "name": "",
         "showlegend": false,
         "type": "scatter",
         "x": {
          "bdata": "mpmZmZmZA0CamZmZmZn/P2hmZmZmZvA/mpmZmZmZ4T9kZmZmZmbwP5eZmZmZmf8/mpmZmZmZA0A=",
          "dtype": "f8"
         },
         "y": {
          "bdata": "P1ZjRUotH0DggrA74TshQOCCsDvhOyFAP1ZjRUotH0C+pmUT0uIbQL6mZRPS4htAP1ZjRUotH0A=",
          "dtype": "f8"
         }
        },
        {
         "hoverinfo": "skip",
         "mode": "text",
         "name": "",
         "showlegend": false,
         "text": [
          "🐜"
         ],
         "textfont": {
          "color": "black",
          "size": 23
         },
         "type": "scatter",
         "x": [
          1.5
         ],
         "y": [
          7.794228634059947
         ]
        },
        {
         "hoverinfo": "skip",
         "mode": "text",
         "name": "",
         "showlegend": false,
         "text": [
          "(1,4,-5)"
         ],
         "textfont": {
          "color": "gray",
          "size": 8
         },
         "type": "scatter",
         "x": [
          1.5
         ],
         "y": [
          7.494228634059947
         ]
        },
        {
         "fill": "toself",
         "fillcolor": "#1D1A1A",
         "hovertemplate": "Ant (black)<br>Position: (0,-2,2)<extra></extra>",
         "line": {
          "color": "#000000",
          "width": 2
         },
         "mode": "lines",
         "name": "",
         "showlegend": false,
         "type": "scatter",
         "x": {
          "bdata": "ZmZmZmZm7j9oZmZmZmbeP2JmZmZmZt6/ZmZmZmZm7r9uZmZmZmbev1tmZmZmZt4/ZmZmZmZm7j8=",
          "dtype": "f8"
         },
         "y": {
          "bdata": "qkxY6Hq2C8Co7VyEiiEFwKjtXISKIQXAqkxY6Hq2C8DW1SmmtSURwNbVKaa1JRHAq0xY6Hq2C8A=",
          "dtype": "f8"
         }
        },
        {
         "hoverinfo": "skip",
         "mode": "text",
         "name": "",
         "showlegend": false,
         "text": [
          "🐜"
         ],
         "textfont": {
          "color": "black",
          "size": 23
         },
         "type": "scatter",
         "x": [
          0
         ],
         "y": [
          -3.4641016151377544
         ]
        },
        {
         "hoverinfo": "skip",
         "mode": "text",
         "name": "",
         "showlegend": false,
         "text": [
          "(0,-2,2)"
         ],
         "textfont": {
          "color": "gray",
          "size": 8
         },
         "type": "scatter",
         "x": [
          0
         ],
         "y": [
          -3.764101615137754
         ]
        },
        {
         "fill": "toself",
         "fillcolor": "#1D1A1A",
         "hovertemplate": "Ant (black)<br>Position: (-3,0,3)<extra></extra>",
         "line": {
          "color": "#000000",
          "width": 2
         },
         "mode": "lines",
         "name": "",
         "showlegend": false,
         "type": "scatter",
         "x": {
          "bdata": "ZmZmZmZmDMCamZmZmRkQwGZmZmZm5hPAzczMzMzMFcBnZmZmZuYTwJqZmZmZGRDAZmZmZmZmDMA=",
          "dtype": "f8"
         },
         "y": {
          "bdata": "gDlCLtzIBMD8tI2U12f8v/y0jZTXZ/y/gDlCLtzIBMCCmD2SzF0LwIOYPZLMXQvAgTlCLtzIBMA=",
          "dtype": "f8"
         }
        },
        {
         "hoverinfo": "skip",
         "mode": "text",
         "name": "",
         "showlegend": false,
         "text": [
          "🐜"
         ],
         "textfont": {
          "color": "black",
          "size": 23
         },
         "type": "scatter",
         "x": [
          -4.5
         ],
         "y": [
          -2.598076211353316
         ]
        },
        {
         "hoverinfo": "skip",
         "mode": "text",
         "name": "",
         "showlegend": false,
         "text": [
          "(-3,0,3)"
         ],
         "textfont": {
          "color": "gray",
          "size": 8
         },
         "type": "scatter",
         "x": [
          -4.5
         ],
         "y": [
          -2.898076211353316
         ]
        },
        {
         "fill": "toself",
         "fillcolor": "#FFFFFF",
         "hovertemplate": "Ant (white)<br>Position: (2,-1,-1)<extra></extra>",
         "line": {
          "color": "#808080",
          "width": 2
         },
         "mode": "lines",
         "name": "",
         "showlegend": false,
         "type": "scatter",
         "x": {
          "bdata": "mpmZmZmZD0DNzMzMzMwLQDQzMzMzMwRAZmZmZmZmAEAyMzMzMzMEQMvMzMzMzAtAmpmZmZmZD0A=",
          "dtype": "f8"
         },
         "y": {
          "bdata": "AAAAAAAAAAAIfO2PwVPqPwl87Y/BU+o/07254z3EoDwHfO2PwVPqvwt87Y/BU+q/07254z3EsLw=",
          "dtype": "f8"
         }
        },
        {
         "hoverinfo": "skip",
         "mode": "text",
         "name": "",
         "showlegend": false,
         "text": [
          "🐜"
         ],
         "textfont": {
          "color": "black",
          "size": 23
         },
         "type": "scatter",
         "x": [
          3
         ],
         "y": [
          0
         ]
        },
        {
         "hoverinfo": "skip",
         "mode": "text",
         "name": "",
         "showlegend": false,
         "text": [
          "(2,-1,-1)"
         ],
         "textfont": {
          "color": "gray",
          "size": 8
         },
         "type": "scatter",
         "x": [
          3
         ],
         "y": [
          -0.3
         ]
        },
        {
         "fill": "toself",
         "fillcolor": "#1D1A1A",
         "hovertemplate": "Ant (black)<br>Position: (0,4,-4)<extra></extra>",
         "line": {
          "color": "#000000",
          "width": 2
         },
         "mode": "lines",
         "name": "",
         "showlegend": false,
         "type": "scatter",
         "x": {
          "bdata": "ZmZmZmZm7j9oZmZmZmbeP2JmZmZmZt6/ZmZmZmZm7r9uZmZmZmbev1tmZmZmZt4/ZmZmZmZm7j8=",
          "dtype": "f8"
         },
         "y": {
          "bdata": "qkxY6Hq2G0Ar/FUa8wAfQCv8VRrzAB9AqkxY6Hq2G0ApnVq2AmwYQCmdWrYCbBhAqkxY6Hq2G0A=",
          "dtype": "f8"
         }
        },
        {
         "hoverinfo": "skip",
         "mode": "text",
         "name": "",
         "showlegend": false,
         "text": [
          "🐜"
         ],
         "textfont": {
          "color": "black",
          "size": 23
         },
         "type": "scatter",
         "x": [
          0
         ],
         "y": [
          6.928203230275509
         ]
        },
        {
         "hoverinfo": "skip",
         "mode": "text",
         "name": "",
         "showlegend": false,
         "text": [
          "(0,4,-4)"
         ],
         "textfont": {
          "color": "gray",
          "size": 8
         },
         "type": "scatter",
         "x": [
          0
         ],
         "y": [
          6.628203230275509
         ]
        },
        {
         "fill": "toself",
         "fillcolor": "#1D1A1A",
         "hovertemplate": "Ant (black)<br>Position: (-2,0,2)<extra></extra>",
         "line": {
          "color": "#000000",
          "width": 2
         },
         "mode": "lines",
         "name": "",
         "showlegend": false,
         "type": "scatter",
         "x": {
          "bdata": "ZmZmZmZmAMAzMzMzMzMEwMzMzMzMzAvAmpmZmZmZD8DOzMzMzMwLwDUzMzMzMwTAZmZmZmZmAMA=",
          "dtype": "f8"
         },
         "y": {
          "bdata": "qkxY6Hq2+79MHcNANBntv0sdw0A0Ge2/qUxY6Hq2+79XhSfYLXAEwFiFJ9gtcATAq0xY6Hq2+78=",
          "dtype": "f8"
         }
        },
        {
         "hoverinfo": "skip",
         "mode": "text",
         "name": "",
         "showlegend": false,
         "text": [
          "🐜"
         ],
         "textfont": {
          "color": "black",
          "size": 23
         },
         "type": "scatter",
         "x": [
          -3
         ],
         "y": [
          -1.7320508075688772
         ]
        },
        {
         "hoverinfo": "skip",
         "mode": "text",
         "name": "",
         "showlegend": false,
         "text": [
          "(-2,0,2)"
         ],
         "textfont": {
          "color": "gray",
          "size": 8
         },
         "type": "scatter",
         "x": [
          -3
         ],
         "y": [
          -2.032050807568877
         ]
        },
        {
         "fill": "toself",
         "fillcolor": "#1D1A1A",
         "hovertemplate": "Ant (black)<br>Position: (-2,-2,4)<extra></extra>",
         "line": {
          "color": "#000000",
          "width": 2
         },
         "mode": "lines",
         "name": "",
         "showlegend": false,
         "type": "scatter",
         "x": {
          "bdata": "ZmZmZmZmAMAzMzMzMzMEwMzMzMzMzAvAmpmZmZmZD8DOzMzMzMwLwDUzMzMzMwTAZmZmZmZmAMA=",
          "dtype": "f8"
         },
         "y": {
          "bdata": "gDlCLtzIFMD/iUT8Y34RwP+JRPxjfhHAgDlCLtzIFMAB6T9gVBMYwAHpP2BUExjAgDlCLtzIFMA=",
          "dtype": "f8"
         }
        },
        {
         "hoverinfo": "skip",
         "mode": "text",
         "name": "",
         "showlegend": false,
         "text": [
          "🐜"
         ],
         "textfont": {
          "color": "black",
          "size": 23
         },
         "type": "scatter",
         "x": [
          -3
         ],
         "y": [
          -5.196152422706632
         ]
        },
        {
         "hoverinfo": "skip",
         "mode": "text",
         "name": "",
         "showlegend": false,
         "text": [
          "(-2,-2,4)"
         ],
         "textfont": {
          "color": "gray",
          "size": 8
         },
         "type": "scatter",
         "x": [
          -3
         ],
         "y": [
          -5.496152422706632
         ]
        },
        {
         "fill": "toself",
         "fillcolor": "#FFFFFF",
         "hovertemplate": "Ant (white)<br>Position: (0,1,-1)<extra></extra>",
         "line": {
          "color": "#808080",
          "width": 2
         },
         "mode": "lines",
         "name": "",
         "showlegend": false,
         "type": "scatter",
         "x": {
          "bdata": "ZmZmZmZm7j9oZmZmZmbeP2JmZmZmZt6/ZmZmZmZm7r9uZmZmZmbev1tmZmZmZt4/ZmZmZmZm7j8=",
          "dtype": "f8"
         },
         "y": {
          "bdata": "qkxY6Hq2+z9XhSfYLXAEQFeFJ9gtcARAq0xY6Hq2+z9NHcNANBntP0kdw0A0Ge0/qUxY6Hq2+z8=",
          "dtype": "f8"
         }
        },
        {
         "hoverinfo": "skip",
         "mode": "text",
         "name": "",
         "showlegend": false,
         "text": [
          "🐜"
         ],
         "textfont": {
          "color": "black",
          "size": 23
         },
         "type": "scatter",
         "x": [
          0
         ],
         "y": [
          1.7320508075688772
         ]
        },
        {
         "hoverinfo": "skip",
         "mode": "text",
         "name": "",
         "showlegend": false,
         "text": [
          "(0,1,-1)"
         ],
         "textfont": {
          "color": "gray",
          "size": 8
         },
         "type": "scatter",
         "x": [
          0
         ],
         "y": [
          1.4320508075688771
         ]
        },
        {
         "fill": "toself",
         "fillcolor": "#FFFFFF",
         "hovertemplate": "Ant (white)<br>Position: (1,0,-1)<extra></extra>",
         "line": {
          "color": "#808080",
          "width": 2
         },
         "mode": "lines",
         "name": "",
         "showlegend": false,
         "type": "scatter",
         "x": {
          "bdata": "mpmZmZmZA0CamZmZmZn/P2hmZmZmZvA/mpmZmZmZ4T9kZmZmZmbwP5eZmZmZmf8/mpmZmZmZA0A=",
          "dtype": "f8"
         },
         "y": {
          "bdata": "qkxY6Hq26z9Z5CI8HgX7P1rkIjweBfs/q0xY6Hq26z8wCq2GlSumP/AJrYaVK6Y/qExY6Hq26z8=",
          "dtype": "f8"
         }
        },
        {
         "hoverinfo": "skip",
         "mode": "text",
         "name": "",
         "showlegend": false,
         "text": [
          "🐜"
         ],
         "textfont": {
          "color": "black",
          "size": 23
         },
         "type": "scatter",
         "x": [
          1.5
         ],
         "y": [
          0.8660254037844386
         ]
        },
        {
         "hoverinfo": "skip",
         "mode": "text",
         "name": "",
         "showlegend": false,
         "text": [
          "(1,0,-1)"
         ],
         "textfont": {
          "color": "gray",
          "size": 8
         },
         "type": "scatter",
         "x": [
          1.5
         ],
         "y": [
          0.5660254037844386
         ]
        },
        {
         "fill": "toself",
         "fillcolor": "#1D1A1A",
         "hovertemplate": "Ant (black)<br>Position: (0,-3,3)<extra></extra>",
         "line": {
          "color": "#000000",
          "width": 2
         },
         "mode": "lines",
         "name": "",
         "showlegend": false,
         "type": "scatter",
         "x": {
          "bdata": "ZmZmZmZm7j9oZmZmZmbeP2JmZmZmZt6/ZmZmZmZm7r9uZmZmZmbev1tmZmZmZt4/ZmZmZmZm7j8=",
          "dtype": "f8"
         },
         "y": {
          "bdata": "gDlCLtzIFMD/iUT8Y34RwP+JRPxjfhHAgDlCLtzIFMAB6T9gVBMYwAHpP2BUExjAgDlCLtzIFMA=",
          "dtype": "f8"
         }
        },
        {
         "hoverinfo": "skip",
         "mode": "text",
         "name": "",
         "showlegend": false,
         "text": [
          "🐜"
         ],
         "textfont": {
          "color": "black",
          "size": 23
         },
         "type": "scatter",
         "x": [
          0
         ],
         "y": [
          -5.196152422706632
         ]
        },
        {
         "hoverinfo": "skip",
         "mode": "text",
         "name": "",
         "showlegend": false,
         "text": [
          "(0,-3,3)"
         ],
         "textfont": {
          "color": "gray",
          "size": 8
         },
         "type": "scatter",
         "x": [
          0
         ],
         "y": [
          -5.496152422706632
         ]
        },
        {
         "fill": "toself",
         "fillcolor": "#1D1A1A",
         "hovertemplate": "Ant (black)<br>Position: (2,3,-5)<extra></extra>",
         "line": {
          "color": "#000000",
          "width": 2
         },
         "mode": "lines",
         "name": "",
         "showlegend": false,
         "type": "scatter",
         "x": {
          "bdata": "mpmZmZmZD0DNzMzMzMwLQDQzMzMzMwRAZmZmZmZmAEAyMzMzMzMEQMvMzMzMzAtAmpmZmZmZD0A=",
          "dtype": "f8"
         },
         "y": {
          "bdata": "qkxY6Hq2G0Ar/FUa8wAfQCv8VRrzAB9AqkxY6Hq2G0ApnVq2AmwYQCmdWrYCbBhAqkxY6Hq2G0A=",
          "dtype": "f8"
         }
        },
        {
         "hoverinfo": "skip",
         "mode": "text",
         "name": "",
         "showlegend": false,
         "text": [
          "🐜"
         ],
         "textfont": {
          "color": "black",
          "size": 23
         },
         "type": "scatter",
         "x": [
          3
         ],
         "y": [
          6.928203230275509
         ]
        },
        {
         "hoverinfo": "skip",
         "mode": "text",
         "name": "",
         "showlegend": false,
         "text": [
          "(2,3,-5)"
         ],
         "textfont": {
          "color": "gray",
          "size": 8
         },
         "type": "scatter",
         "x": [
          3
         ],
         "y": [
          6.628203230275509
         ]
        },
        {
         "fill": "toself",
         "fillcolor": "#FFFFFF",
         "hovertemplate": "Ant (white)<br>Position: (2,-3,1)<extra></extra>",
         "line": {
          "color": "#808080",
          "width": 2
         },
         "mode": "lines",
         "name": "",
         "showlegend": false,
         "type": "scatter",
         "x": {
          "bdata": "mpmZmZmZD0DNzMzMzMwLQDQzMzMzMwRAZmZmZmZmAEAyMzMzMzMEQMvMzMzMzAtAmpmZmZmZD0A=",
          "dtype": "f8"
         },
         "y": {
          "bdata": "q0xY6Hq2C8Cp7VyEiiEFwKntXISKIQXAq0xY6Hq2C8DW1SmmtSURwNfVKaa1JRHArExY6Hq2C8A=",
          "dtype": "f8"
         }
        },
        {
         "hoverinfo": "skip",
         "mode": "text",
         "name": "",
         "showlegend": false,
         "text": [
          "🐜"
         ],
         "textfont": {
          "color": "black",
          "size": 23
         },
         "type": "scatter",
         "x": [
          3
         ],
         "y": [
          -3.464101615137755
         ]
        },
        {
         "hoverinfo": "skip",
         "mode": "text",
         "name": "",
         "showlegend": false,
         "text": [
          "(2,-3,1)"
         ],
         "textfont": {
          "color": "gray",
          "size": 8
         },
         "type": "scatter",
         "x": [
          3
         ],
         "y": [
          -3.7641016151377547
         ]
        },
        {
         "fill": "toself",
         "fillcolor": "#FFFFFF",
         "hovertemplate": "Ant (white)<br>Position: (3,-3,0)<extra></extra>",
         "line": {
          "color": "#808080",
          "width": 2
         },
         "mode": "lines",
         "name": "",
         "showlegend": false,
         "type": "scatter",
         "x": {
          "bdata": "zczMzMzMFUBmZmZmZuYTQJqZmZmZGRBAZmZmZmZmDECZmZmZmRkQQGZmZmZm5hNAzczMzMzMFUA=",
          "dtype": "f8"
         },
         "y": {
          "bdata": "gDlCLtzIBMD8tI2U12f8v/y0jZTXZ/y/gDlCLtzIBMCCmD2SzF0LwIOYPZLMXQvAgTlCLtzIBMA=",
          "dtype": "f8"
         }
        },
        {
         "hoverinfo": "skip",
         "mode": "text",
         "name": "",
         "showlegend": false,
         "text": [
          "🐜"
         ],
         "textfont": {
          "color": "black",
          "size": 23
         },
         "type": "scatter",
         "x": [
          4.5
         ],
         "y": [
          -2.598076211353316
         ]
        },
        {
         "hoverinfo": "skip",
         "mode": "text",
         "name": "",
         "showlegend": false,
         "text": [
          "(3,-3,0)"
         ],
         "textfont": {
          "color": "gray",
          "size": 8
         },
         "type": "scatter",
         "x": [
          4.5
         ],
         "y": [
          -2.898076211353316
         ]
        },
        {
         "fill": "toself",
         "fillcolor": "#FFFFFF",
         "hovertemplate": "Ant (white)<br>Position: (3,-4,1)<extra></extra>",
         "line": {
          "color": "#808080",
          "width": 2
         },
         "mode": "lines",
         "name": "",
         "showlegend": false,
         "type": "scatter",
         "x": {
          "bdata": "zczMzMzMFUBmZmZmZuYTQJqZmZmZGRBAZmZmZmZmDECZmZmZmRkQQGZmZmZm5hNAzczMzMzMFUA=",
          "dtype": "f8"
         },
         "y": {
          "bdata": "6i830QxSEcDSAHM+KQ8MwNIAcz4pDwzA6i830QxSEcBr3zQDhZwUwGvfNAOFnBTA6i830QxSEcA=",
          "dtype": "f8"
         }
        },
        {
         "hoverinfo": "skip",
         "mode": "text",
         "name": "",
         "showlegend": false,
         "text": [
          "🐜"
         ],
         "textfont": {
          "color": "black",
          "size": 23
         },
         "type": "scatter",
         "x": [
          4.5
         ],
         "y": [
          -4.330127018922193
         ]
        },
        {
         "hoverinfo": "skip",
         "mode": "text",
         "name": "",
         "showlegend": false,
         "text": [
          "(3,-4,1)"
         ],
         "textfont": {
          "color": "gray",
          "size": 8
         },
         "type": "scatter",
         "x": [
          4.5
         ],
         "y": [
          -4.630127018922193
         ]
        },
        {
         "fill": "toself",
         "fillcolor": "#FFFFFF",
         "hovertemplate": "Ant (white)<br>Position: (4,-4,0)<extra></extra>",
         "line": {
          "color": "#808080",
          "width": 2
         },
         "mode": "lines",
         "name": "",
         "showlegend": false,
         "type": "scatter",
         "x": {
          "bdata": "zczMzMzMG0BmZmZmZuYZQJqZmZmZGRZAMzMzMzMzFECZmZmZmRkWQGZmZmZm5hlAzczMzMzMG0A=",
          "dtype": "f8"
         },
         "y": {
          "bdata": "qkxY6Hq2C8Co7VyEiiEFwKjtXISKIQXAqkxY6Hq2C8DW1SmmtSURwNbVKaa1JRHAq0xY6Hq2C8A=",
          "dtype": "f8"
         }
        },
        {
         "hoverinfo": "skip",
         "mode": "text",
         "name": "",
         "showlegend": false,
         "text": [
          "🐜"
         ],
         "textfont": {
          "color": "black",
          "size": 23
         },
         "type": "scatter",
         "x": [
          6
         ],
         "y": [
          -3.4641016151377544
         ]
        },
        {
         "hoverinfo": "skip",
         "mode": "text",
         "name": "",
         "showlegend": false,
         "text": [
          "(4,-4,0)"
         ],
         "textfont": {
          "color": "gray",
          "size": 8
         },
         "type": "scatter",
         "x": [
          6
         ],
         "y": [
          -3.764101615137754
         ]
        }
       ],
       "layout": {
        "height": 800,
        "hovermode": "closest",
        "plot_bgcolor": "white",
        "template": {
         "data": {
          "bar": [
           {
            "error_x": {
             "color": "#2a3f5f"
            },
            "error_y": {
             "color": "#2a3f5f"
            },
            "marker": {
             "line": {
              "color": "#E5ECF6",
              "width": 0.5
             },
             "pattern": {
              "fillmode": "overlay",
              "size": 10,
              "solidity": 0.2
             }
            },
            "type": "bar"
           }
          ],
          "barpolar": [
           {
            "marker": {
             "line": {
              "color": "#E5ECF6",
              "width": 0.5
             },
             "pattern": {
              "fillmode": "overlay",
              "size": 10,
              "solidity": 0.2
             }
            },
            "type": "barpolar"
           }
          ],
          "carpet": [
           {
            "aaxis": {
             "endlinecolor": "#2a3f5f",
             "gridcolor": "white",
             "linecolor": "white",
             "minorgridcolor": "white",
             "startlinecolor": "#2a3f5f"
            },
            "baxis": {
             "endlinecolor": "#2a3f5f",
             "gridcolor": "white",
             "linecolor": "white",
             "minorgridcolor": "white",
             "startlinecolor": "#2a3f5f"
            },
            "type": "carpet"
           }
          ],
          "choropleth": [
           {
            "colorbar": {
             "outlinewidth": 0,
             "ticks": ""
            },
            "type": "choropleth"
           }
          ],
          "contour": [
           {
            "colorbar": {
             "outlinewidth": 0,
             "ticks": ""
            },
            "colorscale": [
             [
              0,
              "#0d0887"
             ],
             [
              0.1111111111111111,
              "#46039f"
             ],
             [
              0.2222222222222222,
              "#7201a8"
             ],
             [
              0.3333333333333333,
              "#9c179e"
             ],
             [
              0.4444444444444444,
              "#bd3786"
             ],
             [
              0.5555555555555556,
              "#d8576b"
             ],
             [
              0.6666666666666666,
              "#ed7953"
             ],
             [
              0.7777777777777778,
              "#fb9f3a"
             ],
             [
              0.8888888888888888,
              "#fdca26"
             ],
             [
              1,
              "#f0f921"
             ]
            ],
            "type": "contour"
           }
          ],
          "contourcarpet": [
           {
            "colorbar": {
             "outlinewidth": 0,
             "ticks": ""
            },
            "type": "contourcarpet"
           }
          ],
          "heatmap": [
           {
            "colorbar": {
             "outlinewidth": 0,
             "ticks": ""
            },
            "colorscale": [
             [
              0,
              "#0d0887"
             ],
             [
              0.1111111111111111,
              "#46039f"
             ],
             [
              0.2222222222222222,
              "#7201a8"
             ],
             [
              0.3333333333333333,
              "#9c179e"
             ],
             [
              0.4444444444444444,
              "#bd3786"
             ],
             [
              0.5555555555555556,
              "#d8576b"
             ],
             [
              0.6666666666666666,
              "#ed7953"
             ],
             [
              0.7777777777777778,
              "#fb9f3a"
             ],
             [
              0.8888888888888888,
              "#fdca26"
             ],
             [
              1,
              "#f0f921"
             ]
            ],
            "type": "heatmap"
           }
          ],
          "histogram": [
           {
            "marker": {
             "pattern": {
              "fillmode": "overlay",
              "size": 10,
              "solidity": 0.2
             }
            },
            "type": "histogram"
           }
          ],
          "histogram2d": [
           {
            "colorbar": {
             "outlinewidth": 0,
             "ticks": ""
            },
            "colorscale": [
             [
              0,
              "#0d0887"
             ],
             [
              0.1111111111111111,
              "#46039f"
             ],
             [
              0.2222222222222222,
              "#7201a8"
             ],
             [
              0.3333333333333333,
              "#9c179e"
             ],
             [
              0.4444444444444444,
              "#bd3786"
             ],
             [
              0.5555555555555556,
              "#d8576b"
             ],
             [
              0.6666666666666666,
              "#ed7953"
             ],
             [
              0.7777777777777778,
              "#fb9f3a"
             ],
             [
              0.8888888888888888,
              "#fdca26"
             ],
             [
              1,
              "#f0f921"
             ]
            ],
            "type": "histogram2d"
           }
          ],
          "histogram2dcontour": [
           {
            "colorbar": {
             "outlinewidth": 0,
             "ticks": ""
            },
            "colorscale": [
             [
              0,
              "#0d0887"
             ],
             [
              0.1111111111111111,
              "#46039f"
             ],
             [
              0.2222222222222222,
              "#7201a8"
             ],
             [
              0.3333333333333333,
              "#9c179e"
             ],
             [
              0.4444444444444444,
              "#bd3786"
             ],
             [
              0.5555555555555556,
              "#d8576b"
             ],
             [
              0.6666666666666666,
              "#ed7953"
             ],
             [
              0.7777777777777778,
              "#fb9f3a"
             ],
             [
              0.8888888888888888,
              "#fdca26"
             ],
             [
              1,
              "#f0f921"
             ]
            ],
            "type": "histogram2dcontour"
           }
          ],
          "mesh3d": [
           {
            "colorbar": {
             "outlinewidth": 0,
             "ticks": ""
            },
            "type": "mesh3d"
           }
          ],
          "parcoords": [
           {
            "line": {
             "colorbar": {
              "outlinewidth": 0,
              "ticks": ""
             }
            },
            "type": "parcoords"
           }
          ],
          "pie": [
           {
            "automargin": true,
            "type": "pie"
           }
          ],
          "scatter": [
           {
            "fillpattern": {
             "fillmode": "overlay",
             "size": 10,
             "solidity": 0.2
            },
            "type": "scatter"
           }
          ],
          "scatter3d": [
           {
            "line": {
             "colorbar": {
              "outlinewidth": 0,
              "ticks": ""
             }
            },
            "marker": {
             "colorbar": {
              "outlinewidth": 0,
              "ticks": ""
             }
            },
            "type": "scatter3d"
           }
          ],
          "scattercarpet": [
           {
            "marker": {
             "colorbar": {
              "outlinewidth": 0,
              "ticks": ""
             }
            },
            "type": "scattercarpet"
           }
          ],
          "scattergeo": [
           {
            "marker": {
             "colorbar": {
              "outlinewidth": 0,
              "ticks": ""
             }
            },
            "type": "scattergeo"
           }
          ],
          "scattergl": [
           {
            "marker": {
             "colorbar": {
              "outlinewidth": 0,
              "ticks": ""
             }
            },
            "type": "scattergl"
           }
          ],
          "scattermap": [
           {
            "marker": {
             "colorbar": {
              "outlinewidth": 0,
              "ticks": ""
             }
            },
            "type": "scattermap"
           }
          ],
          "scattermapbox": [
           {
            "marker": {
             "colorbar": {
              "outlinewidth": 0,
              "ticks": ""
             }
            },
            "type": "scattermapbox"
           }
          ],
          "scatterpolar": [
           {
            "marker": {
             "colorbar": {
              "outlinewidth": 0,
              "ticks": ""
             }
            },
            "type": "scatterpolar"
           }
          ],
          "scatterpolargl": [
           {
            "marker": {
             "colorbar": {
              "outlinewidth": 0,
              "ticks": ""
             }
            },
            "type": "scatterpolargl"
           }
          ],
          "scatterternary": [
           {
            "marker": {
             "colorbar": {
              "outlinewidth": 0,
              "ticks": ""
             }
            },
            "type": "scatterternary"
           }
          ],
          "surface": [
           {
            "colorbar": {
             "outlinewidth": 0,
             "ticks": ""
            },
            "colorscale": [
             [
              0,
              "#0d0887"
             ],
             [
              0.1111111111111111,
              "#46039f"
             ],
             [
              0.2222222222222222,
              "#7201a8"
             ],
             [
              0.3333333333333333,
              "#9c179e"
             ],
             [
              0.4444444444444444,
              "#bd3786"
             ],
             [
              0.5555555555555556,
              "#d8576b"
             ],
             [
              0.6666666666666666,
              "#ed7953"
             ],
             [
              0.7777777777777778,
              "#fb9f3a"
             ],
             [
              0.8888888888888888,
              "#fdca26"
             ],
             [
              1,
              "#f0f921"
             ]
            ],
            "type": "surface"
           }
          ],
          "table": [
           {
            "cells": {
             "fill": {
              "color": "#EBF0F8"
             },
             "line": {
              "color": "white"
             }
            },
            "header": {
             "fill": {
              "color": "#C8D4E3"
             },
             "line": {
              "color": "white"
             }
            },
            "type": "table"
           }
          ]
         },
         "layout": {
          "annotationdefaults": {
           "arrowcolor": "#2a3f5f",
           "arrowhead": 0,
           "arrowwidth": 1
          },
          "autotypenumbers": "strict",
          "coloraxis": {
           "colorbar": {
            "outlinewidth": 0,
            "ticks": ""
           }
          },
          "colorscale": {
           "diverging": [
            [
             0,
             "#8e0152"
            ],
            [
             0.1,
             "#c51b7d"
            ],
            [
             0.2,
             "#de77ae"
            ],
            [
             0.3,
             "#f1b6da"
            ],
            [
             0.4,
             "#fde0ef"
            ],
            [
             0.5,
             "#f7f7f7"
            ],
            [
             0.6,
             "#e6f5d0"
            ],
            [
             0.7,
             "#b8e186"
            ],
            [
             0.8,
             "#7fbc41"
            ],
            [
             0.9,
             "#4d9221"
            ],
            [
             1,
             "#276419"
            ]
           ],
           "sequential": [
            [
             0,
             "#0d0887"
            ],
            [
             0.1111111111111111,
             "#46039f"
            ],
            [
             0.2222222222222222,
             "#7201a8"
            ],
            [
             0.3333333333333333,
             "#9c179e"
            ],
            [
             0.4444444444444444,
             "#bd3786"
            ],
            [
             0.5555555555555556,
             "#d8576b"
            ],
            [
             0.6666666666666666,
             "#ed7953"
            ],
            [
             0.7777777777777778,
             "#fb9f3a"
            ],
            [
             0.8888888888888888,
             "#fdca26"
            ],
            [
             1,
             "#f0f921"
            ]
           ],
           "sequentialminus": [
            [
             0,
             "#0d0887"
            ],
            [
             0.1111111111111111,
             "#46039f"
            ],
            [
             0.2222222222222222,
             "#7201a8"
            ],
            [
             0.3333333333333333,
             "#9c179e"
            ],
            [
             0.4444444444444444,
             "#bd3786"
            ],
            [
             0.5555555555555556,
             "#d8576b"
            ],
            [
             0.6666666666666666,
             "#ed7953"
            ],
            [
             0.7777777777777778,
             "#fb9f3a"
            ],
            [
             0.8888888888888888,
             "#fdca26"
            ],
            [
             1,
             "#f0f921"
            ]
           ]
          },
          "colorway": [
           "#636efa",
           "#EF553B",
           "#00cc96",
           "#ab63fa",
           "#FFA15A",
           "#19d3f3",
           "#FF6692",
           "#B6E880",
           "#FF97FF",
           "#FECB52"
          ],
          "font": {
           "color": "#2a3f5f"
          },
          "geo": {
           "bgcolor": "white",
           "lakecolor": "white",
           "landcolor": "#E5ECF6",
           "showlakes": true,
           "showland": true,
           "subunitcolor": "white"
          },
          "hoverlabel": {
           "align": "left"
          },
          "hovermode": "closest",
          "mapbox": {
           "style": "light"
          },
          "paper_bgcolor": "white",
          "plot_bgcolor": "#E5ECF6",
          "polar": {
           "angularaxis": {
            "gridcolor": "white",
            "linecolor": "white",
            "ticks": ""
           },
           "bgcolor": "#E5ECF6",
           "radialaxis": {
            "gridcolor": "white",
            "linecolor": "white",
            "ticks": ""
           }
          },
          "scene": {
           "xaxis": {
            "backgroundcolor": "#E5ECF6",
            "gridcolor": "white",
            "gridwidth": 2,
            "linecolor": "white",
            "showbackground": true,
            "ticks": "",
            "zerolinecolor": "white"
           },
           "yaxis": {
            "backgroundcolor": "#E5ECF6",
            "gridcolor": "white",
            "gridwidth": 2,
            "linecolor": "white",
            "showbackground": true,
            "ticks": "",
            "zerolinecolor": "white"
           },
           "zaxis": {
            "backgroundcolor": "#E5ECF6",
            "gridcolor": "white",
            "gridwidth": 2,
            "linecolor": "white",
            "showbackground": true,
            "ticks": "",
            "zerolinecolor": "white"
           }
          },
          "shapedefaults": {
           "line": {
            "color": "#2a3f5f"
           }
          },
          "ternary": {
           "aaxis": {
            "gridcolor": "white",
            "linecolor": "white",
            "ticks": ""
           },
           "baxis": {
            "gridcolor": "white",
            "linecolor": "white",
            "ticks": ""
           },
           "bgcolor": "#E5ECF6",
           "caxis": {
            "gridcolor": "white",
            "linecolor": "white",
            "ticks": ""
           }
          },
          "title": {
           "x": 0.05
          },
          "xaxis": {
           "automargin": true,
           "gridcolor": "white",
           "linecolor": "white",
           "ticks": "",
           "title": {
            "standoff": 15
           },
           "zerolinecolor": "white",
           "zerolinewidth": 2
          },
          "yaxis": {
           "automargin": true,
           "gridcolor": "white",
           "linecolor": "white",
           "ticks": "",
           "title": {
            "standoff": 15
           },
           "zerolinecolor": "white",
           "zerolinewidth": 2
          }
         }
        },
        "title": {
         "text": "Hive - digitally made by Dan"
        },
        "width": 800,
        "xaxis": {
         "gridcolor": "lightgray",
         "scaleanchor": "y",
         "scaleratio": 1,
         "showgrid": true,
         "zeroline": true
        },
        "yaxis": {
         "gridcolor": "lightgray",
         "showgrid": true,
         "zeroline": true
        }
       }
      }
     },
     "metadata": {},
     "output_type": "display_data"
    },
    {
     "data": {
      "application/vnd.plotly.v1+json": {
       "config": {
        "plotlyServerURL": "https://plot.ly"
       },
       "data": [
        {
         "fill": "toself",
         "fillcolor": "#F5F5F5",
         "hovertemplate": "Empty<br>q=-1, r=-3, s=4<extra></extra>",
         "line": {
          "color": "lightgray",
          "width": 1
         },
         "mode": "lines",
         "name": "",
         "showlegend": false,
         "type": "scatter",
         "x": {
          "bdata": "mpmZmZmZ4b9mZmZmZmbwv5iZmZmZmf+/mpmZmZmZA8CcmZmZmZn/v2lmZmZmZvC/mpmZmZmZ4b8=",
          "dtype": "f8"
         },
         "y": {
          "bdata": "FUNNi6s/GMCUk09ZM/UUwJSTT1kz9RTAFUNNi6s/GMCW8kq9I4obwJbySr0jihvAFUNNi6s/GMA=",
          "dtype": "f8"
         }
        },
        {
         "hoverinfo": "skip",
         "mode": "text",
         "name": "",
         "showlegend": false,
         "text": [
          "(-1,-3,4)"
         ],
         "textfont": {
          "color": "darkgray",
          "size": 10
         },
         "type": "scatter",
         "x": [
          -1.5
         ],
         "y": [
          -6.06217782649107
         ]
        },
        {
         "fill": "toself",
         "fillcolor": "#F5F5F5",
         "hovertemplate": "Empty<br>q=0, r=-4, s=4<extra></extra>",
         "line": {
          "color": "lightgray",
          "width": 1
         },
         "mode": "lines",
         "name": "",
         "showlegend": false,
         "type": "scatter",
         "x": {
          "bdata": "ZmZmZmZm7j9oZmZmZmbeP2JmZmZmZt6/ZmZmZmZm7r9uZmZmZmbev1tmZmZmZt4/ZmZmZmZm7j8=",
          "dtype": "f8"
         },
         "y": {
          "bdata": "qkxY6Hq2G8ApnVq2AmwYwCmdWrYCbBjAqkxY6Hq2G8Ar/FUa8wAfwCv8VRrzAB/AqkxY6Hq2G8A=",
          "dtype": "f8"
         }
        },
        {
         "hoverinfo": "skip",
         "mode": "text",
         "name": "",
         "showlegend": false,
         "text": [
          "(0,-4,4)"
         ],
         "textfont": {
          "color": "darkgray",
          "size": 10
         },
         "type": "scatter",
         "x": [
          0
         ],
         "y": [
          -6.928203230275509
         ]
        },
        {
         "fill": "toself",
         "fillcolor": "#F5F5F5",
         "hovertemplate": "Empty<br>q=0, r=-1, s=1<extra></extra>",
         "line": {
          "color": "lightgray",
          "width": 1
         },
         "mode": "lines",
         "name": "",
         "showlegend": false,
         "type": "scatter",
         "x": {
          "bdata": "ZmZmZmZm7j9oZmZmZmbeP2JmZmZmZt6/ZmZmZmZm7r9uZmZmZmbev1tmZmZmZt4/ZmZmZmZm7j8=",
          "dtype": "f8"
         },
         "y": {
          "bdata": "qkxY6Hq2+79MHcNANBntv0sdw0A0Ge2/qUxY6Hq2+79XhSfYLXAEwFiFJ9gtcATAq0xY6Hq2+78=",
          "dtype": "f8"
         }
        },
        {
         "hoverinfo": "skip",
         "mode": "text",
         "name": "",
         "showlegend": false,
         "text": [
          "(0,-1,1)"
         ],
         "textfont": {
          "color": "darkgray",
          "size": 10
         },
         "type": "scatter",
         "x": [
          0
         ],
         "y": [
          -1.7320508075688772
         ]
        },
        {
         "fill": "toself",
         "fillcolor": "#F5F5F5",
         "hovertemplate": "Empty<br>q=2, r=2, s=-4<extra></extra>",
         "line": {
          "color": "lightgray",
          "width": 1
         },
         "mode": "lines",
         "name": "",
         "showlegend": false,
         "type": "scatter",
         "x": {
          "bdata": "mpmZmZmZD0DNzMzMzMwLQDQzMzMzMwRAZmZmZmZmAEAyMzMzMzMEQMvMzMzMzAtAmpmZmZmZD0A=",
          "dtype": "f8"
         },
         "y": {
          "bdata": "gDlCLtzIFEAB6T9gVBMYQAHpP2BUExhAgDlCLtzIFED/iUT8Y34RQP+JRPxjfhFAgDlCLtzIFEA=",
          "dtype": "f8"
         }
        },
        {
         "hoverinfo": "skip",
         "mode": "text",
         "name": "",
         "showlegend": false,
         "text": [
          "(2,2,-4)"
         ],
         "textfont": {
          "color": "darkgray",
          "size": 10
         },
         "type": "scatter",
         "x": [
          3
         ],
         "y": [
          5.196152422706632
         ]
        },
        {
         "fill": "toself",
         "fillcolor": "#F5F5F5",
         "hovertemplate": "Empty<br>q=-2, r=1, s=1<extra></extra>",
         "line": {
          "color": "lightgray",
          "width": 1
         },
         "mode": "lines",
         "name": "",
         "showlegend": false,
         "type": "scatter",
         "x": {
          "bdata": "ZmZmZmZmAMAzMzMzMzMEwMzMzMzMzAvAmpmZmZmZD8DOzMzMzMwLwDUzMzMzMwTAZmZmZmZmAMA=",
          "dtype": "f8"
         },
         "y": {
          "bdata": "AAAAAAAAAAAIfO2PwVPqPwl87Y/BU+o/07254z3EoDwHfO2PwVPqvwt87Y/BU+q/07254z3EsLw=",
          "dtype": "f8"
         }
        },
        {
         "hoverinfo": "skip",
         "mode": "text",
         "name": "",
         "showlegend": false,
         "text": [
          "(-2,1,1)"
         ],
         "textfont": {
          "color": "darkgray",
          "size": 10
         },
         "type": "scatter",
         "x": [
          -3
         ],
         "y": [
          0
         ]
        },
        {
         "fill": "toself",
         "fillcolor": "#F5F5F5",
         "hovertemplate": "Empty<br>q=-2, r=3, s=-1<extra></extra>",
         "line": {
          "color": "lightgray",
          "width": 1
         },
         "mode": "lines",
         "name": "",
         "showlegend": false,
         "type": "scatter",
         "x": {
          "bdata": "ZmZmZmZmAMAzMzMzMzMEwMzMzMzMzAvAmpmZmZmZD8DOzMzMzMwLwDUzMzMzMwTAZmZmZmZmAMA=",
          "dtype": "f8"
         },
         "y": {
          "bdata": "q0xY6Hq2C0DW1SmmtSURQNfVKaa1JRFAq0xY6Hq2C0Cp7VyEiiEFQKjtXISKIQVAqkxY6Hq2C0A=",
          "dtype": "f8"
         }
        },
        {
         "hoverinfo": "skip",
         "mode": "text",
         "name": "",
         "showlegend": false,
         "text": [
          "(-2,3,-1)"
         ],
         "textfont": {
          "color": "darkgray",
          "size": 10
         },
         "type": "scatter",
         "x": [
          -3
         ],
         "y": [
          3.464101615137755
         ]
        },
        {
         "fill": "toself",
         "fillcolor": "#F5F5F5",
         "hovertemplate": "Empty<br>q=1, r=-2, s=1<extra></extra>",
         "line": {
          "color": "lightgray",
          "width": 1
         },
         "mode": "lines",
         "name": "",
         "showlegend": false,
         "type": "scatter",
         "x": {
          "bdata": "mpmZmZmZA0CamZmZmZn/P2hmZmZmZvA/mpmZmZmZ4T9kZmZmZmbwP5eZmZmZmf8/mpmZmZmZA0A=",
          "dtype": "f8"
         },
         "y": {
          "bdata": "gDlCLtzIBMD8tI2U12f8v/y0jZTXZ/y/gDlCLtzIBMCCmD2SzF0LwIOYPZLMXQvAgTlCLtzIBMA=",
          "dtype": "f8"
         }
        },
        {
         "hoverinfo": "skip",
         "mode": "text",
         "name": "",
         "showlegend": false,
         "text": [
          "(1,-2,1)"
         ],
         "textfont": {
          "color": "darkgray",
          "size": 10
         },
         "type": "scatter",
         "x": [
          1.5
         ],
         "y": [
          -2.598076211353316
         ]
        },
        {
         "fill": "toself",
         "fillcolor": "#F5F5F5",
         "hovertemplate": "Empty<br>q=0, r=3, s=-3<extra></extra>",
         "line": {
          "color": "lightgray",
          "width": 1
         },
         "mode": "lines",
         "name": "",
         "showlegend": false,
         "type": "scatter",
         "x": {
          "bdata": "ZmZmZmZm7j9oZmZmZmbeP2JmZmZmZt6/ZmZmZmZm7r9uZmZmZmbev1tmZmZmZt4/ZmZmZmZm7j8=",
          "dtype": "f8"
         },
         "y": {
          "bdata": "gDlCLtzIFEAB6T9gVBMYQAHpP2BUExhAgDlCLtzIFED/iUT8Y34RQP+JRPxjfhFAgDlCLtzIFEA=",
          "dtype": "f8"
         }
        },
        {
         "hoverinfo": "skip",
         "mode": "text",
         "name": "",
         "showlegend": false,
         "text": [
          "(0,3,-3)"
         ],
         "textfont": {
          "color": "darkgray",
          "size": 10
         },
         "type": "scatter",
         "x": [
          0
         ],
         "y": [
          5.196152422706632
         ]
        },
        {
         "fill": "toself",
         "fillcolor": "#F5F5F5",
         "hovertemplate": "Empty<br>q=3, r=2, s=-5<extra></extra>",
         "line": {
          "color": "lightgray",
          "width": 1
         },
         "mode": "lines",
         "name": "",
         "showlegend": false,
         "type": "scatter",
         "x": {
          "bdata": "zczMzMzMFUBmZmZmZuYTQJqZmZmZGRBAZmZmZmZmDECZmZmZmRkQQGZmZmZm5hNAzczMzMzMFUA=",
          "dtype": "f8"
         },
         "y": {
          "bdata": "FUNNi6s/GECW8kq9I4obQJbySr0jihtAFUNNi6s/GECUk09ZM/UUQJSTT1kz9RRAFUNNi6s/GEA=",
          "dtype": "f8"
         }
        },
        {
         "hoverinfo": "skip",
         "mode": "text",
         "name": "",
         "showlegend": false,
         "text": [
          "(3,2,-5)"
         ],
         "textfont": {
          "color": "darkgray",
          "size": 10
         },
         "type": "scatter",
         "x": [
          4.5
         ],
         "y": [
          6.06217782649107
         ]
        },
        {
         "fill": "toself",
         "fillcolor": "#F5F5F5",
         "hovertemplate": "Empty<br>q=-4, r=1, s=3<extra></extra>",
         "line": {
          "color": "lightgray",
          "width": 1
         },
         "mode": "lines",
         "name": "",
         "showlegend": false,
         "type": "scatter",
         "x": {
          "bdata": "MzMzMzMzFMCamZmZmRkWwGZmZmZm5hnAzczMzMzMG8BnZmZmZuYZwJqZmZmZGRbAMzMzMzMzFMA=",
          "dtype": "f8"
         },
         "y": {
          "bdata": "qkxY6Hq2+79MHcNANBntv0sdw0A0Ge2/qUxY6Hq2+79XhSfYLXAEwFiFJ9gtcATAq0xY6Hq2+78=",
          "dtype": "f8"
         }
        },
        {
         "hoverinfo": "skip",
         "mode": "text",
         "name": "",
         "showlegend": false,
         "text": [
          "(-4,1,3)"
         ],
         "textfont": {
          "color": "darkgray",
          "size": 10
         },
         "type": "scatter",
         "x": [
          -6
         ],
         "y": [
          -1.7320508075688772
         ]
        },
        {
         "fill": "toself",
         "fillcolor": "#F5F5F5",
         "hovertemplate": "Empty<br>q=1, r=5, s=-6<extra></extra>",
         "line": {
          "color": "lightgray",
          "width": 1
         },
         "mode": "lines",
         "name": "",
         "showlegend": false,
         "type": "scatter",
         "x": {
          "bdata": "mpmZmZmZA0CamZmZmZn/P2hmZmZmZvA/mpmZmZmZ4T9kZmZmZmbwP5eZmZmZmf8/mpmZmZmZA0A=",
          "dtype": "f8"
         },
         "y": {
          "bdata": "tbS8f3QNI0B2jLuYsLIkQHaMu5iwsiRAtbS8f3QNI0D13L1mOGghQPTcvWY4aCFAtbS8f3QNI0A=",
          "dtype": "f8"
         }
        },
        {
         "hoverinfo": "skip",
         "mode": "text",
         "name": "",
         "showlegend": false,
         "text": [
          "(1,5,-6)"
         ],
         "textfont": {
          "color": "darkgray",
          "size": 10
         },
         "type": "scatter",
         "x": [
          1.5
         ],
         "y": [
          9.526279441628825
         ]
        },
        {
         "fill": "toself",
         "fillcolor": "#F5F5F5",
         "hovertemplate": "Empty<br>q=4, r=-5, s=1<extra></extra>",
         "line": {
          "color": "lightgray",
          "width": 1
         },
         "mode": "lines",
         "name": "",
         "showlegend": false,
         "type": "scatter",
         "x": {
          "bdata": "zczMzMzMG0BmZmZmZuYZQJqZmZmZGRZAMzMzMzMzFECZmZmZmRkWQGZmZmZm5hlAzczMzMzMG0A=",
          "dtype": "f8"
         },
         "y": {
          "bdata": "fzlCLtzIFMD+iUT8Y34RwP6JRPxjfhHAfzlCLtzIFMAA6T9gVBMYwADpP2BUExjAfzlCLtzIFMA=",
          "dtype": "f8"
         }
        },
        {
         "hoverinfo": "skip",
         "mode": "text",
         "name": "",
         "showlegend": false,
         "text": [
          "(4,-5,1)"
         ],
         "textfont": {
          "color": "darkgray",
          "size": 10
         },
         "type": "scatter",
         "x": [
          6
         ],
         "y": [
          -5.196152422706631
         ]
        },
        {
         "fill": "toself",
         "fillcolor": "#F5F5F5",
         "hovertemplate": "Empty<br>q=4, r=-3, s=-1<extra></extra>",
         "line": {
          "color": "lightgray",
          "width": 1
         },
         "mode": "lines",
         "name": "",
         "showlegend": false,
         "type": "scatter",
         "x": {
          "bdata": "zczMzMzMG0BmZmZmZuYZQJqZmZmZGRZAMzMzMzMzFECZmZmZmRkWQGZmZmZm5hlAzczMzMzMG0A=",
          "dtype": "f8"
         },
         "y": {
          "bdata": "rExY6Hq2+79QHcNANBntv08dw0A0Ge2/q0xY6Hq2+79YhSfYLXAEwFmFJ9gtcATArUxY6Hq2+78=",
          "dtype": "f8"
         }
        },
        {
         "hoverinfo": "skip",
         "mode": "text",
         "name": "",
         "showlegend": false,
         "text": [
          "(4,-3,-1)"
         ],
         "textfont": {
          "color": "darkgray",
          "size": 10
         },
         "type": "scatter",
         "x": [
          6
         ],
         "y": [
          -1.7320508075688776
         ]
        },
        {
         "fill": "toself",
         "fillcolor": "#F5F5F5",
         "hovertemplate": "Empty<br>q=2, r=0, s=-2<extra></extra>",
         "line": {
          "color": "lightgray",
          "width": 1
         },
         "mode": "lines",
         "name": "",
         "showlegend": false,
         "type": "scatter",
         "x": {
          "bdata": "mpmZmZmZD0DNzMzMzMwLQDQzMzMzMwRAZmZmZmZmAEAyMzMzMzMEQMvMzMzMzAtAmpmZmZmZD0A=",
          "dtype": "f8"
         },
         "y": {
          "bdata": "qkxY6Hq2+z9XhSfYLXAEQFeFJ9gtcARAq0xY6Hq2+z9NHcNANBntP0kdw0A0Ge0/qUxY6Hq2+z8=",
          "dtype": "f8"
         }
        },
        {
         "hoverinfo": "skip",
         "mode": "text",
         "name": "",
         "showlegend": false,
         "text": [
          "(2,0,-2)"
         ],
         "textfont": {
          "color": "darkgray",
          "size": 10
         },
         "type": "scatter",
         "x": [
          3
         ],
         "y": [
          1.7320508075688772
         ]
        },
        {
         "fill": "toself",
         "fillcolor": "#F5F5F5",
         "hovertemplate": "Empty<br>q=1, r=-3, s=2<extra></extra>",
         "line": {
          "color": "lightgray",
          "width": 1
         },
         "mode": "lines",
         "name": "",
         "showlegend": false,
         "type": "scatter",
         "x": {
          "bdata": "mpmZmZmZA0CamZmZmZn/P2hmZmZmZvA/mpmZmZmZ4T9kZmZmZmbwP5eZmZmZmf8/mpmZmZmZA0A=",
          "dtype": "f8"
         },
         "y": {
          "bdata": "6y830QxSEcDUAHM+KQ8MwNQAcz4pDwzA6y830QxSEcBs3zQDhZwUwGzfNAOFnBTA6y830QxSEcA=",
          "dtype": "f8"
         }
        },
        {
         "hoverinfo": "skip",
         "mode": "text",
         "name": "",
         "showlegend": false,
         "text": [
          "(1,-3,2)"
         ],
         "textfont": {
          "color": "darkgray",
          "size": 10
         },
         "type": "scatter",
         "x": [
          1.5
         ],
         "y": [
          -4.330127018922194
         ]
        },
        {
         "fill": "toself",
         "fillcolor": "#F5F5F5",
         "hovertemplate": "Empty<br>q=-4, r=0, s=4<extra></extra>",
         "line": {
          "color": "lightgray",
          "width": 1
         },
         "mode": "lines",
         "name": "",
         "showlegend": false,
         "type": "scatter",
         "x": {
          "bdata": "MzMzMzMzFMCamZmZmRkWwGZmZmZm5hnAzczMzMzMG8BnZmZmZuYZwJqZmZmZGRbAMzMzMzMzFMA=",
          "dtype": "f8"
         },
         "y": {
          "bdata": "qkxY6Hq2C8Co7VyEiiEFwKjtXISKIQXAqkxY6Hq2C8DW1SmmtSURwNbVKaa1JRHAq0xY6Hq2C8A=",
          "dtype": "f8"
         }
        },
        {
         "hoverinfo": "skip",
         "mode": "text",
         "name": "",
         "showlegend": false,
         "text": [
          "(-4,0,4)"
         ],
         "textfont": {
          "color": "darkgray",
          "size": 10
         },
         "type": "scatter",
         "x": [
          -6
         ],
         "y": [
          -3.4641016151377544
         ]
        },
        {
         "fill": "toself",
         "fillcolor": "#F5F5F5",
         "hovertemplate": "Empty<br>q=1, r=-4, s=3<extra></extra>",
         "line": {
          "color": "lightgray",
          "width": 1
         },
         "mode": "lines",
         "name": "",
         "showlegend": false,
         "type": "scatter",
         "x": {
          "bdata": "mpmZmZmZA0CamZmZmZn/P2hmZmZmZvA/mpmZmZmZ4T9kZmZmZmbwP5eZmZmZmf8/mpmZmZmZA0A=",
          "dtype": "f8"
         },
         "y": {
          "bdata": "FUNNi6s/GMCUk09ZM/UUwJSTT1kz9RTAFUNNi6s/GMCW8kq9I4obwJbySr0jihvAFUNNi6s/GMA=",
          "dtype": "f8"
         }
        },
        {
         "hoverinfo": "skip",
         "mode": "text",
         "name": "",
         "showlegend": false,
         "text": [
          "(1,-4,3)"
         ],
         "textfont": {
          "color": "darkgray",
          "size": 10
         },
         "type": "scatter",
         "x": [
          1.5
         ],
         "y": [
          -6.06217782649107
         ]
        },
        {
         "fill": "toself",
         "fillcolor": "#F5F5F5",
         "hovertemplate": "Empty<br>q=-3, r=-2, s=5<extra></extra>",
         "line": {
          "color": "lightgray",
          "width": 1
         },
         "mode": "lines",
         "name": "",
         "showlegend": false,
         "type": "scatter",
         "x": {
          "bdata": "ZmZmZmZmDMCamZmZmRkQwGZmZmZm5hPAzczMzMzMFcBnZmZmZuYTwJqZmZmZGRDAZmZmZmZmDMA=",
          "dtype": "f8"
         },
         "y": {
          "bdata": "FUNNi6s/GMCUk09ZM/UUwJSTT1kz9RTAFUNNi6s/GMCW8kq9I4obwJbySr0jihvAFUNNi6s/GMA=",
          "dtype": "f8"
         }
        },
        {
         "hoverinfo": "skip",
         "mode": "text",
         "name": "",
         "showlegend": false,
         "text": [
          "(-3,-2,5)"
         ],
         "textfont": {
          "color": "darkgray",
          "size": 10
         },
         "type": "scatter",
         "x": [
          -4.5
         ],
         "y": [
          -6.06217782649107
         ]
        },
        {
         "fill": "toself",
         "fillcolor": "#F5F5F5",
         "hovertemplate": "Empty<br>q=1, r=3, s=-4<extra></extra>",
         "line": {
          "color": "lightgray",
          "width": 1
         },
         "mode": "lines",
         "name": "",
         "showlegend": false,
         "type": "scatter",
         "x": {
          "bdata": "mpmZmZmZA0CamZmZmZn/P2hmZmZmZvA/mpmZmZmZ4T9kZmZmZmbwP5eZmZmZmf8/mpmZmZmZA0A=",
          "dtype": "f8"
         },
         "y": {
          "bdata": "FUNNi6s/GECW8kq9I4obQJbySr0jihtAFUNNi6s/GECUk09ZM/UUQJSTT1kz9RRAFUNNi6s/GEA=",
          "dtype": "f8"
         }
        },
        {
         "hoverinfo": "skip",
         "mode": "text",
         "name": "",
         "showlegend": false,
         "text": [
          "(1,3,-4)"
         ],
         "textfont": {
          "color": "darkgray",
          "size": 10
         },
         "type": "scatter",
         "x": [
          1.5
         ],
         "y": [
          6.06217782649107
         ]
        },
        {
         "fill": "toself",
         "fillcolor": "#F5F5F5",
         "hovertemplate": "Empty<br>q=2, r=-2, s=0<extra></extra>",
         "line": {
          "color": "lightgray",
          "width": 1
         },
         "mode": "lines",
         "name": "",
         "showlegend": false,
         "type": "scatter",
         "x": {
          "bdata": "mpmZmZmZD0DNzMzMzMwLQDQzMzMzMwRAZmZmZmZmAEAyMzMzMzMEQMvMzMzMzAtAmpmZmZmZD0A=",
          "dtype": "f8"
         },
         "y": {
          "bdata": "qkxY6Hq2+79MHcNANBntv0sdw0A0Ge2/qUxY6Hq2+79XhSfYLXAEwFiFJ9gtcATAq0xY6Hq2+78=",
          "dtype": "f8"
         }
        },
        {
         "hoverinfo": "skip",
         "mode": "text",
         "name": "",
         "showlegend": false,
         "text": [
          "(2,-2,0)"
         ],
         "textfont": {
          "color": "darkgray",
          "size": 10
         },
         "type": "scatter",
         "x": [
          3
         ],
         "y": [
          -1.7320508075688772
         ]
        },
        {
         "fill": "toself",
         "fillcolor": "#F5F5F5",
         "hovertemplate": "Empty<br>q=3, r=-1, s=-2<extra></extra>",
         "line": {
          "color": "lightgray",
          "width": 1
         },
         "mode": "lines",
         "name": "",
         "showlegend": false,
         "type": "scatter",
         "x": {
          "bdata": "zczMzMzMFUBmZmZmZuYTQJqZmZmZGRBAZmZmZmZmDECZmZmZmRkQQGZmZmZm5hNAzczMzMzMFUA=",
          "dtype": "f8"
         },
         "y": {
          "bdata": "rExY6Hq26z9a5CI8HgX7P1rkIjweBfs/rUxY6Hq26z9QCq2GlSumPxAKrYaVK6Y/qkxY6Hq26z8=",
          "dtype": "f8"
         }
        },
        {
         "hoverinfo": "skip",
         "mode": "text",
         "name": "",
         "showlegend": false,
         "text": [
          "(3,-1,-2)"
         ],
         "textfont": {
          "color": "darkgray",
          "size": 10
         },
         "type": "scatter",
         "x": [
          4.5
         ],
         "y": [
          0.8660254037844388
         ]
        },
        {
         "fill": "toself",
         "fillcolor": "#F5F5F5",
         "hovertemplate": "Empty<br>q=-2, r=5, s=-3<extra></extra>",
         "line": {
          "color": "lightgray",
          "width": 1
         },
         "mode": "lines",
         "name": "",
         "showlegend": false,
         "type": "scatter",
         "x": {
          "bdata": "ZmZmZmZmAMAzMzMzMzMEwMzMzMzMzAvAmpmZmZmZD8DOzMzMzMwLwDUzMzMzMwTAZmZmZmZmAMA=",
          "dtype": "f8"
         },
         "y": {
          "bdata": "qkxY6Hq2G0Ar/FUa8wAfQCv8VRrzAB9AqkxY6Hq2G0ApnVq2AmwYQCmdWrYCbBhAqkxY6Hq2G0A=",
          "dtype": "f8"
         }
        },
        {
         "hoverinfo": "skip",
         "mode": "text",
         "name": "",
         "showlegend": false,
         "text": [
          "(-2,5,-3)"
         ],
         "textfont": {
          "color": "darkgray",
          "size": 10
         },
         "type": "scatter",
         "x": [
          -3
         ],
         "y": [
          6.928203230275509
         ]
        },
        {
         "fill": "toself",
         "fillcolor": "#F5F5F5",
         "hovertemplate": "Empty<br>q=5, r=-5, s=0<extra></extra>",
         "line": {
          "color": "lightgray",
          "width": 1
         },
         "mode": "lines",
         "name": "",
         "showlegend": false,
         "type": "scatter",
         "x": {
          "bdata": "ZmZmZmbmIEBmZmZmZuYfQJqZmZmZGRxAMzMzMzMzGkCZmZmZmRkcQGZmZmZm5h9AZmZmZmbmIEA=",
          "dtype": "f8"
         },
         "y": {
          "bdata": "6i830QxSEcDSAHM+KQ8MwNIAcz4pDwzA6i830QxSEcBr3zQDhZwUwGvfNAOFnBTA6i830QxSEcA=",
          "dtype": "f8"
         }
        },
        {
         "hoverinfo": "skip",
         "mode": "text",
         "name": "",
         "showlegend": false,
         "text": [
          "(5,-5,0)"
         ],
         "textfont": {
          "color": "darkgray",
          "size": 10
         },
         "type": "scatter",
         "x": [
          7.5
         ],
         "y": [
          -4.330127018922193
         ]
        },
        {
         "fill": "toself",
         "fillcolor": "#F5F5F5",
         "hovertemplate": "Empty<br>q=-1, r=-2, s=3<extra></extra>",
         "line": {
          "color": "lightgray",
          "width": 1
         },
         "mode": "lines",
         "name": "",
         "showlegend": false,
         "type": "scatter",
         "x": {
          "bdata": "mpmZmZmZ4b9mZmZmZmbwv5iZmZmZmf+/mpmZmZmZA8CcmZmZmZn/v2lmZmZmZvC/mpmZmZmZ4b8=",
          "dtype": "f8"
         },
         "y": {
          "bdata": "6i830QxSEcDSAHM+KQ8MwNIAcz4pDwzA6i830QxSEcBr3zQDhZwUwGvfNAOFnBTA6i830QxSEcA=",
          "dtype": "f8"
         }
        },
        {
         "hoverinfo": "skip",
         "mode": "text",
         "name": "",
         "showlegend": false,
         "text": [
          "(-1,-2,3)"
         ],
         "textfont": {
          "color": "darkgray",
          "size": 10
         },
         "type": "scatter",
         "x": [
          -1.5
         ],
         "y": [
          -4.330127018922193
         ]
        },
        {
         "fill": "toself",
         "fillcolor": "#F5F5F5",
         "hovertemplate": "Empty<br>q=-2, r=-3, s=5<extra></extra>",
         "line": {
          "color": "lightgray",
          "width": 1
         },
         "mode": "lines",
         "name": "",
         "showlegend": false,
         "type": "scatter",
         "x": {
          "bdata": "ZmZmZmZmAMAzMzMzMzMEwMzMzMzMzAvAmpmZmZmZD8DOzMzMzMwLwDUzMzMzMwTAZmZmZmZmAMA=",
          "dtype": "f8"
         },
         "y": {
          "bdata": "qkxY6Hq2G8ApnVq2AmwYwCmdWrYCbBjAqkxY6Hq2G8Ar/FUa8wAfwCv8VRrzAB/AqkxY6Hq2G8A=",
          "dtype": "f8"
         }
        },
        {
         "hoverinfo": "skip",
         "mode": "text",
         "name": "",
         "showlegend": false,
         "text": [
          "(-2,-3,5)"
         ],
         "textfont": {
          "color": "darkgray",
          "size": 10
         },
         "type": "scatter",
         "x": [
          -3
         ],
         "y": [
          -6.928203230275509
         ]
        },
        {
         "fill": "toself",
         "fillcolor": "#F5F5F5",
         "hovertemplate": "Empty<br>q=-2, r=4, s=-2<extra></extra>",
         "line": {
          "color": "lightgray",
          "width": 1
         },
         "mode": "lines",
         "name": "",
         "showlegend": false,
         "type": "scatter",
         "x": {
          "bdata": "ZmZmZmZmAMAzMzMzMzMEwMzMzMzMzAvAmpmZmZmZD8DOzMzMzMwLwDUzMzMzMwTAZmZmZmZmAMA=",
          "dtype": "f8"
         },
         "y": {
          "bdata": "gDlCLtzIFEAB6T9gVBMYQAHpP2BUExhAgDlCLtzIFED/iUT8Y34RQP+JRPxjfhFAgDlCLtzIFEA=",
          "dtype": "f8"
         }
        },
        {
         "hoverinfo": "skip",
         "mode": "text",
         "name": "",
         "showlegend": false,
         "text": [
          "(-2,4,-2)"
         ],
         "textfont": {
          "color": "darkgray",
          "size": 10
         },
         "type": "scatter",
         "x": [
          -3
         ],
         "y": [
          5.196152422706632
         ]
        },
        {
         "fill": "toself",
         "fillcolor": "#F5F5F5",
         "hovertemplate": "Empty<br>q=1, r=2, s=-3<extra></extra>",
         "line": {
          "color": "lightgray",
          "width": 1
         },
         "mode": "lines",
         "name": "",
         "showlegend": false,
         "type": "scatter",
         "x": {
          "bdata": "mpmZmZmZA0CamZmZmZn/P2hmZmZmZvA/mpmZmZmZ4T9kZmZmZmbwP5eZmZmZmf8/mpmZmZmZA0A=",
          "dtype": "f8"
         },
         "y": {
          "bdata": "6i830QxSEUBr3zQDhZwUQGvfNAOFnBRA6i830QxSEUDSAHM+KQ8MQNEAcz4pDwxA6i830QxSEUA=",
          "dtype": "f8"
         }
        },
        {
         "hoverinfo": "skip",
         "mode": "text",
         "name": "",
         "showlegend": false,
         "text": [
          "(1,2,-3)"
         ],
         "textfont": {
          "color": "darkgray",
          "size": 10
         },
         "type": "scatter",
         "x": [
          1.5
         ],
         "y": [
          4.330127018922193
         ]
        },
        {
         "fill": "toself",
         "fillcolor": "#F5F5F5",
         "hovertemplate": "Empty<br>q=2, r=-4, s=2<extra></extra>",
         "line": {
          "color": "lightgray",
          "width": 1
         },
         "mode": "lines",
         "name": "",
         "showlegend": false,
         "type": "scatter",
         "x": {
          "bdata": "mpmZmZmZD0DNzMzMzMwLQDQzMzMzMwRAZmZmZmZmAEAyMzMzMzMEQMvMzMzMzAtAmpmZmZmZD0A=",
          "dtype": "f8"
         },
         "y": {
          "bdata": "gDlCLtzIFMD/iUT8Y34RwP+JRPxjfhHAgDlCLtzIFMAB6T9gVBMYwAHpP2BUExjAgDlCLtzIFMA=",
          "dtype": "f8"
         }
        },
        {
         "hoverinfo": "skip",
         "mode": "text",
         "name": "",
         "showlegend": false,
         "text": [
          "(2,-4,2)"
         ],
         "textfont": {
          "color": "darkgray",
          "size": 10
         },
         "type": "scatter",
         "x": [
          3
         ],
         "y": [
          -5.196152422706632
         ]
        },
        {
         "fill": "toself",
         "fillcolor": "#F5F5F5",
         "hovertemplate": "Empty<br>q=3, r=3, s=-6<extra></extra>",
         "line": {
          "color": "lightgray",
          "width": 1
         },
         "mode": "lines",
         "name": "",
         "showlegend": false,
         "type": "scatter",
         "x": {
          "bdata": "zczMzMzMFUBmZmZmZuYTQJqZmZmZGRBAZmZmZmZmDECZmZmZmRkQQGZmZmZm5hNAzczMzMzMFUA=",
          "dtype": "f8"
         },
         "y": {
          "bdata": "QFZjRUotH0DggrA74TshQOGCsDvhOyFAQFZjRUotH0C/pmUT0uIbQL+mZRPS4htAQFZjRUotH0A=",
          "dtype": "f8"
         }
        },
        {
         "hoverinfo": "skip",
         "mode": "text",
         "name": "",
         "showlegend": false,
         "text": [
          "(3,3,-6)"
         ],
         "textfont": {
          "color": "darkgray",
          "size": 10
         },
         "type": "scatter",
         "x": [
          4.5
         ],
         "y": [
          7.794228634059948
         ]
        },
        {
         "fill": "toself",
         "fillcolor": "#F5F5F5",
         "hovertemplate": "Empty<br>q=5, r=-4, s=-1<extra></extra>",
         "line": {
          "color": "lightgray",
          "width": 1
         },
         "mode": "lines",
         "name": "",
         "showlegend": false,
         "type": "scatter",
         "x": {
          "bdata": "ZmZmZmbmIEBmZmZmZuYfQJqZmZmZGRxAMzMzMzMzGkCZmZmZmRkcQGZmZmZm5h9AZmZmZmbmIEA=",
          "dtype": "f8"
         },
         "y": {
          "bdata": "gDlCLtzIBMD8tI2U12f8v/y0jZTXZ/y/gDlCLtzIBMCCmD2SzF0LwIOYPZLMXQvAgTlCLtzIBMA=",
          "dtype": "f8"
         }
        },
        {
         "hoverinfo": "skip",
         "mode": "text",
         "name": "",
         "showlegend": false,
         "text": [
          "(5,-4,-1)"
         ],
         "textfont": {
          "color": "darkgray",
          "size": 10
         },
         "type": "scatter",
         "x": [
          7.5
         ],
         "y": [
          -2.598076211353316
         ]
        },
        {
         "fill": "toself",
         "fillcolor": "#F5F5F5",
         "hovertemplate": "Empty<br>q=2, r=4, s=-6<extra></extra>",
         "line": {
          "color": "lightgray",
          "width": 1
         },
         "mode": "lines",
         "name": "",
         "showlegend": false,
         "type": "scatter",
         "x": {
          "bdata": "mpmZmZmZD0DNzMzMzMwLQDQzMzMzMwRAZmZmZmZmAEAyMzMzMzMEQMvMzMzMzAtAmpmZmZmZD0A=",
          "dtype": "f8"
         },
         "y": {
          "bdata": "6i830QxSIUCqBzbqSPciQKsHNupI9yJA6i830QxSIUBTsHBwoVkfQFOwcHChWR9A6i830QxSIUA=",
          "dtype": "f8"
         }
        },
        {
         "hoverinfo": "skip",
         "mode": "text",
         "name": "",
         "showlegend": false,
         "text": [
          "(2,4,-6)"
         ],
         "textfont": {
          "color": "darkgray",
          "size": 10
         },
         "type": "scatter",
         "x": [
          3
         ],
         "y": [
          8.660254037844386
         ]
        },
        {
         "fill": "toself",
         "fillcolor": "#F5F5F5",
         "hovertemplate": "Empty<br>q=-1, r=5, s=-4<extra></extra>",
         "line": {
          "color": "lightgray",
          "width": 1
         },
         "mode": "lines",
         "name": "",
         "showlegend": false,
         "type": "scatter",
         "x": {
          "bdata": "mpmZmZmZ4b9mZmZmZmbwv5iZmZmZmf+/mpmZmZmZA8CcmZmZmZn/v2lmZmZmZvC/mpmZmZmZ4b8=",
          "dtype": "f8"
         },
         "y": {
          "bdata": "P1ZjRUotH0DggrA74TshQOCCsDvhOyFAP1ZjRUotH0C+pmUT0uIbQL6mZRPS4htAP1ZjRUotH0A=",
          "dtype": "f8"
         }
        },
        {
         "hoverinfo": "skip",
         "mode": "text",
         "name": "",
         "showlegend": false,
         "text": [
          "(-1,5,-4)"
         ],
         "textfont": {
          "color": "darkgray",
          "size": 10
         },
         "type": "scatter",
         "x": [
          -1.5
         ],
         "y": [
          7.794228634059947
         ]
        },
        {
         "fill": "toself",
         "fillcolor": "#F5F5F5",
         "hovertemplate": "Empty<br>q=3, r=-5, s=2<extra></extra>",
         "line": {
          "color": "lightgray",
          "width": 1
         },
         "mode": "lines",
         "name": "",
         "showlegend": false,
         "type": "scatter",
         "x": {
          "bdata": "zczMzMzMFUBmZmZmZuYTQJqZmZmZGRBAZmZmZmZmDECZmZmZmRkQQGZmZmZm5hNAzczMzMzMFUA=",
          "dtype": "f8"
         },
         "y": {
          "bdata": "FENNi6s/GMCTk09ZM/UUwJOTT1kz9RTAFENNi6s/GMCV8kq9I4obwJXySr0jihvAFENNi6s/GMA=",
          "dtype": "f8"
         }
        },
        {
         "hoverinfo": "skip",
         "mode": "text",
         "name": "",
         "showlegend": false,
         "text": [
          "(3,-5,2)"
         ],
         "textfont": {
          "color": "darkgray",
          "size": 10
         },
         "type": "scatter",
         "x": [
          4.5
         ],
         "y": [
          -6.0621778264910695
         ]
        },
        {
         "fill": "toself",
         "fillcolor": "#F5F5F5",
         "hovertemplate": "Empty<br>q=-4, r=-1, s=5<extra></extra>",
         "line": {
          "color": "lightgray",
          "width": 1
         },
         "mode": "lines",
         "name": "",
         "showlegend": false,
         "type": "scatter",
         "x": {
          "bdata": "MzMzMzMzFMCamZmZmRkWwGZmZmZm5hnAzczMzMzMG8BnZmZmZuYZwJqZmZmZGRbAMzMzMzMzFMA=",
          "dtype": "f8"
         },
         "y": {
          "bdata": "gDlCLtzIFMD/iUT8Y34RwP+JRPxjfhHAgDlCLtzIFMAB6T9gVBMYwAHpP2BUExjAgDlCLtzIFMA=",
          "dtype": "f8"
         }
        },
        {
         "hoverinfo": "skip",
         "mode": "text",
         "name": "",
         "showlegend": false,
         "text": [
          "(-4,-1,5)"
         ],
         "textfont": {
          "color": "darkgray",
          "size": 10
         },
         "type": "scatter",
         "x": [
          -6
         ],
         "y": [
          -5.196152422706632
         ]
        },
        {
         "fill": "toself",
         "fillcolor": "#F5F5F5",
         "hovertemplate": "Empty<br>q=-2, r=2, s=0<extra></extra>",
         "line": {
          "color": "lightgray",
          "width": 1
         },
         "mode": "lines",
         "name": "",
         "showlegend": false,
         "type": "scatter",
         "x": {
          "bdata": "ZmZmZmZmAMAzMzMzMzMEwMzMzMzMzAvAmpmZmZmZD8DOzMzMzMwLwDUzMzMzMwTAZmZmZmZmAMA=",
          "dtype": "f8"
         },
         "y": {
          "bdata": "qkxY6Hq2+z9XhSfYLXAEQFeFJ9gtcARAq0xY6Hq2+z9NHcNANBntP0kdw0A0Ge0/qUxY6Hq2+z8=",
          "dtype": "f8"
         }
        },
        {
         "hoverinfo": "skip",
         "mode": "text",
         "name": "",
         "showlegend": false,
         "text": [
          "(-2,2,0)"
         ],
         "textfont": {
          "color": "darkgray",
          "size": 10
         },
         "type": "scatter",
         "x": [
          -3
         ],
         "y": [
          1.7320508075688772
         ]
        },
        {
         "fill": "toself",
         "fillcolor": "#F5F5F5",
         "hovertemplate": "Empty<br>q=3, r=-2, s=-1<extra></extra>",
         "line": {
          "color": "lightgray",
          "width": 1
         },
         "mode": "lines",
         "name": "",
         "showlegend": false,
         "type": "scatter",
         "x": {
          "bdata": "zczMzMzMFUBmZmZmZuYTQJqZmZmZGRBAZmZmZmZmDECZmZmZmRkQQGZmZmZm5hNAzczMzMzMFUA=",
          "dtype": "f8"
         },
         "y": {
          "bdata": "qExY6Hq2678ACq2GlSumv/AJrYaVK6a/p0xY6Hq2679Y5CI8HgX7v1rkIjweBfu/qkxY6Hq2678=",
          "dtype": "f8"
         }
        },
        {
         "hoverinfo": "skip",
         "mode": "text",
         "name": "",
         "showlegend": false,
         "text": [
          "(3,-2,-1)"
         ],
         "textfont": {
          "color": "darkgray",
          "size": 10
         },
         "type": "scatter",
         "x": [
          4.5
         ],
         "y": [
          -0.8660254037844384
         ]
        },
        {
         "fill": "toself",
         "fillcolor": "#F5F5F5",
         "hovertemplate": "Empty<br>q=1, r=1, s=-2<extra></extra>",
         "line": {
          "color": "lightgray",
          "width": 1
         },
         "mode": "lines",
         "name": "",
         "showlegend": false,
         "type": "scatter",
         "x": {
          "bdata": "mpmZmZmZA0CamZmZmZn/P2hmZmZmZvA/mpmZmZmZ4T9kZmZmZmbwP5eZmZmZmf8/mpmZmZmZA0A=",
          "dtype": "f8"
         },
         "y": {
          "bdata": "gDlCLtzIBECCmD2SzF0LQIKYPZLMXQtAgDlCLtzIBED8tI2U12f8P/q0jZTXZ/w/fzlCLtzIBEA=",
          "dtype": "f8"
         }
        },
        {
         "hoverinfo": "skip",
         "mode": "text",
         "name": "",
         "showlegend": false,
         "text": [
          "(1,1,-2)"
         ],
         "textfont": {
          "color": "darkgray",
          "size": 10
         },
         "type": "scatter",
         "x": [
          1.5
         ],
         "y": [
          2.598076211353316
         ]
        },
        {
         "fill": "toself",
         "fillcolor": "#F5F5F5",
         "hovertemplate": "Empty<br>q=0, r=5, s=-5<extra></extra>",
         "line": {
          "color": "lightgray",
          "width": 1
         },
         "mode": "lines",
         "name": "",
         "showlegend": false,
         "type": "scatter",
         "x": {
          "bdata": "ZmZmZmZm7j9oZmZmZmbeP2JmZmZmZt6/ZmZmZmZm7r9uZmZmZmbev1tmZmZmZt4/ZmZmZmZm7j8=",
          "dtype": "f8"
         },
         "y": {
          "bdata": "6i830QxSIUCqBzbqSPciQKsHNupI9yJA6i830QxSIUBTsHBwoVkfQFOwcHChWR9A6i830QxSIUA=",
          "dtype": "f8"
         }
        },
        {
         "hoverinfo": "skip",
         "mode": "text",
         "name": "",
         "showlegend": false,
         "text": [
          "(0,5,-5)"
         ],
         "textfont": {
          "color": "darkgray",
          "size": 10
         },
         "type": "scatter",
         "x": [
          0
         ],
         "y": [
          8.660254037844386
         ]
        },
        {
         "fill": "toself",
         "fillcolor": "#F5F5F5",
         "hovertemplate": "Empty<br>q=-3, r=1, s=2<extra></extra>",
         "line": {
          "color": "lightgray",
          "width": 1
         },
         "mode": "lines",
         "name": "",
         "showlegend": false,
         "type": "scatter",
         "x": {
          "bdata": "ZmZmZmZmDMCamZmZmRkQwGZmZmZm5hPAzczMzMzMFcBnZmZmZuYTwJqZmZmZGRDAZmZmZmZmDMA=",
          "dtype": "f8"
         },
         "y": {
          "bdata": "rExY6Hq2679ACq2GlSumvzAKrYaVK6a/q0xY6Hq2679a5CI8HgX7v1zkIjweBfu/rkxY6Hq2678=",
          "dtype": "f8"
         }
        },
        {
         "hoverinfo": "skip",
         "mode": "text",
         "name": "",
         "showlegend": false,
         "text": [
          "(-3,1,2)"
         ],
         "textfont": {
          "color": "darkgray",
          "size": 10
         },
         "type": "scatter",
         "x": [
          -4.5
         ],
         "y": [
          -0.8660254037844388
         ]
        },
        {
         "fill": "toself",
         "fillcolor": "#FFFFFF",
         "hovertemplate": "Ant (white)<br>Position: (-1,2,-1)<extra></extra>",
         "line": {
          "color": "#808080",
          "width": 2
         },
         "mode": "lines",
         "name": "",
         "showlegend": false,
         "type": "scatter",
         "x": {
          "bdata": "mpmZmZmZ4b9mZmZmZmbwv5iZmZmZmf+/mpmZmZmZA8CcmZmZmZn/v2lmZmZmZvC/mpmZmZmZ4b8=",
          "dtype": "f8"
         },
         "y": {
          "bdata": "gDlCLtzIBECCmD2SzF0LQIKYPZLMXQtAgDlCLtzIBED8tI2U12f8P/q0jZTXZ/w/fzlCLtzIBEA=",
          "dtype": "f8"
         }
        },
        {
         "hoverinfo": "skip",
         "mode": "text",
         "name": "",
         "showlegend": false,
         "text": [
          "🐜"
         ],
         "textfont": {
          "color": "black",
          "size": 23
         },
         "type": "scatter",
         "x": [
          -1.5
         ],
         "y": [
          2.598076211353316
         ]
        },
        {
         "hoverinfo": "skip",
         "mode": "text",
         "name": "",
         "showlegend": false,
         "text": [
          "(-1,2,-1)"
         ],
         "textfont": {
          "color": "gray",
          "size": 8
         },
         "type": "scatter",
         "x": [
          -1.5
         ],
         "y": [
          2.298076211353316
         ]
        },
        {
         "fill": "toself",
         "fillcolor": "#1D1A1A",
         "hovertemplate": "Ant (black)<br>Position: (-1,3,-2)<extra></extra>",
         "line": {
          "color": "#000000",
          "width": 2
         },
         "mode": "lines",
         "name": "",
         "showlegend": false,
         "type": "scatter",
         "x": {
          "bdata": "mpmZmZmZ4b9mZmZmZmbwv5iZmZmZmf+/mpmZmZmZA8CcmZmZmZn/v2lmZmZmZvC/mpmZmZmZ4b8=",
          "dtype": "f8"
         },
         "y": {
          "bdata": "6y830QxSEUBs3zQDhZwUQGzfNAOFnBRA6y830QxSEUDUAHM+KQ8MQNMAcz4pDwxA6y830QxSEUA=",
          "dtype": "f8"
         }
        },
        {
         "hoverinfo": "skip",
         "mode": "text",
         "name": "",
         "showlegend": false,
         "text": [
          "🐜"
         ],
         "textfont": {
          "color": "black",
          "size": 23
         },
         "type": "scatter",
         "x": [
          -1.5
         ],
         "y": [
          4.330127018922194
         ]
        },
        {
         "hoverinfo": "skip",
         "mode": "text",
         "name": "",
         "showlegend": false,
         "text": [
          "(-1,3,-2)"
         ],
         "textfont": {
          "color": "gray",
          "size": 8
         },
         "type": "scatter",
         "x": [
          -1.5
         ],
         "y": [
          4.030127018922194
         ]
        },
        {
         "fill": "toself",
         "fillcolor": "#FFFFFF",
         "hovertemplate": "QueenBee (white)<br>Position: (0,2,-2)<extra></extra>",
         "line": {
          "color": "#808080",
          "width": 2
         },
         "mode": "lines",
         "name": "",
         "showlegend": false,
         "type": "scatter",
         "x": {
          "bdata": "ZmZmZmZm7j9oZmZmZmbeP2JmZmZmZt6/ZmZmZmZm7r9uZmZmZmbev1tmZmZmZt4/ZmZmZmZm7j8=",
          "dtype": "f8"
         },
         "y": {
          "bdata": "qkxY6Hq2C0DW1SmmtSURQNbVKaa1JRFAqkxY6Hq2C0Co7VyEiiEFQKftXISKIQVAqUxY6Hq2C0A=",
          "dtype": "f8"
         }
        },
        {
         "hoverinfo": "skip",
         "mode": "text",
         "name": "",
         "showlegend": false,
         "text": [
          "🐝"
         ],
         "textfont": {
          "color": "black",
          "size": 23
         },
         "type": "scatter",
         "x": [
          0
         ],
         "y": [
          3.4641016151377544
         ]
        },
        {
         "hoverinfo": "skip",
         "mode": "text",
         "name": "",
         "showlegend": false,
         "text": [
          "(0,2,-2)"
         ],
         "textfont": {
          "color": "gray",
          "size": 8
         },
         "type": "scatter",
         "x": [
          0
         ],
         "y": [
          3.1641016151377546
         ]
        },
        {
         "fill": "toself",
         "fillcolor": "#1D1A1A",
         "hovertemplate": "Ant (black)<br>Position: (-1,4,-3)<extra></extra>",
         "line": {
          "color": "#000000",
          "width": 2
         },
         "mode": "lines",
         "name": "",
         "showlegend": false,
         "type": "scatter",
         "x": {
          "bdata": "mpmZmZmZ4b9mZmZmZmbwv5iZmZmZmf+/mpmZmZmZA8CcmZmZmZn/v2lmZmZmZvC/mpmZmZmZ4b8=",
          "dtype": "f8"
         },
         "y": {
          "bdata": "FUNNi6s/GECW8kq9I4obQJbySr0jihtAFUNNi6s/GECUk09ZM/UUQJSTT1kz9RRAFUNNi6s/GEA=",
          "dtype": "f8"
         }
        },
        {
         "hoverinfo": "skip",
         "mode": "text",
         "name": "",
         "showlegend": false,
         "text": [
          "🐜"
         ],
         "textfont": {
          "color": "black",
          "size": 23
         },
         "type": "scatter",
         "x": [
          -1.5
         ],
         "y": [
          6.06217782649107
         ]
        },
        {
         "hoverinfo": "skip",
         "mode": "text",
         "name": "",
         "showlegend": false,
         "text": [
          "(-1,4,-3)"
         ],
         "textfont": {
          "color": "gray",
          "size": 8
         },
         "type": "scatter",
         "x": [
          -1.5
         ],
         "y": [
          5.762177826491071
         ]
        },
        {
         "fill": "toself",
         "fillcolor": "#FFFFFF",
         "hovertemplate": "Ant (white)<br>Position: (-1,1,0)<extra></extra>",
         "line": {
          "color": "#808080",
          "width": 2
         },
         "mode": "lines",
         "name": "",
         "showlegend": false,
         "type": "scatter",
         "x": {
          "bdata": "mpmZmZmZ4b9mZmZmZmbwv5iZmZmZmf+/mpmZmZmZA8CcmZmZmZn/v2lmZmZmZvC/mpmZmZmZ4b8=",
          "dtype": "f8"
         },
         "y": {
          "bdata": "qkxY6Hq26z9Z5CI8HgX7P1rkIjweBfs/q0xY6Hq26z8wCq2GlSumP/AJrYaVK6Y/qExY6Hq26z8=",
          "dtype": "f8"
         }
        },
        {
         "hoverinfo": "skip",
         "mode": "text",
         "name": "",
         "showlegend": false,
         "text": [
          "🐜"
         ],
         "textfont": {
          "color": "black",
          "size": 23
         },
         "type": "scatter",
         "x": [
          -1.5
         ],
         "y": [
          0.8660254037844386
         ]
        },
        {
         "hoverinfo": "skip",
         "mode": "text",
         "name": "",
         "showlegend": false,
         "text": [
          "(-1,1,0)"
         ],
         "textfont": {
          "color": "gray",
          "size": 8
         },
         "type": "scatter",
         "x": [
          -1.5
         ],
         "y": [
          0.5660254037844386
         ]
        },
        {
         "fill": "toself",
         "fillcolor": "#1D1A1A",
         "hovertemplate": "QueenBee (black)<br>Position: (-3,-1,4)<extra></extra>",
         "line": {
          "color": "#000000",
          "width": 2
         },
         "mode": "lines",
         "name": "",
         "showlegend": false,
         "type": "scatter",
         "x": {
          "bdata": "ZmZmZmZmDMCamZmZmRkQwGZmZmZm5hPAzczMzMzMFcBnZmZmZuYTwJqZmZmZGRDAZmZmZmZmDMA=",
          "dtype": "f8"
         },
         "y": {
          "bdata": "6i830QxSEcDSAHM+KQ8MwNIAcz4pDwzA6i830QxSEcBr3zQDhZwUwGvfNAOFnBTA6i830QxSEcA=",
          "dtype": "f8"
         }
        },
        {
         "hoverinfo": "skip",
         "mode": "text",
         "name": "",
         "showlegend": false,
         "text": [
          "🐝"
         ],
         "textfont": {
          "color": "black",
          "size": 23
         },
         "type": "scatter",
         "x": [
          -4.5
         ],
         "y": [
          -4.330127018922193
         ]
        },
        {
         "hoverinfo": "skip",
         "mode": "text",
         "name": "",
         "showlegend": false,
         "text": [
          "(-3,-1,4)"
         ],
         "textfont": {
          "color": "gray",
          "size": 8
         },
         "type": "scatter",
         "x": [
          -4.5
         ],
         "y": [
          -4.630127018922193
         ]
        },
        {
         "fill": "toself",
         "fillcolor": "#FFFFFF",
         "hovertemplate": "Ant (white)<br>Position: (0,0,0)<extra></extra>",
         "line": {
          "color": "#808080",
          "width": 2
         },
         "mode": "lines",
         "name": "",
         "showlegend": false,
         "type": "scatter",
         "x": {
          "bdata": "ZmZmZmZm7j9oZmZmZmbeP2JmZmZmZt6/ZmZmZmZm7r9uZmZmZmbev1tmZmZmZt4/ZmZmZmZm7j8=",
          "dtype": "f8"
         },
         "y": {
          "bdata": "AAAAAAAAAAAIfO2PwVPqPwl87Y/BU+o/07254z3EoDwHfO2PwVPqvwt87Y/BU+q/07254z3EsLw=",
          "dtype": "f8"
         }
        },
        {
         "hoverinfo": "skip",
         "mode": "text",
         "name": "",
         "showlegend": false,
         "text": [
          "🐜"
         ],
         "textfont": {
          "color": "black",
          "size": 23
         },
         "type": "scatter",
         "x": [
          0
         ],
         "y": [
          0
         ]
        },
        {
         "hoverinfo": "skip",
         "mode": "text",
         "name": "",
         "showlegend": false,
         "text": [
          "(0,0,0)"
         ],
         "textfont": {
          "color": "gray",
          "size": 8
         },
         "type": "scatter",
         "x": [
          0
         ],
         "y": [
          -0.3
         ]
        },
        {
         "fill": "toself",
         "fillcolor": "#1D1A1A",
         "hovertemplate": "Ant (black)<br>Position: (-1,0,1)<extra></extra>",
         "line": {
          "color": "#000000",
          "width": 2
         },
         "mode": "lines",
         "name": "",
         "showlegend": false,
         "type": "scatter",
         "x": {
          "bdata": "mpmZmZmZ4b9mZmZmZmbwv5iZmZmZmf+/mpmZmZmZA8CcmZmZmZn/v2lmZmZmZvC/mpmZmZmZ4b8=",
          "dtype": "f8"
         },
         "y": {
          "bdata": "qkxY6Hq2678gCq2GlSumvxAKrYaVK6a/qUxY6Hq2679Y5CI8HgX7v1rkIjweBfu/rExY6Hq2678=",
          "dtype": "f8"
         }
        },
        {
         "hoverinfo": "skip",
         "mode": "text",
         "name": "",
         "showlegend": false,
         "text": [
          "🐜"
         ],
         "textfont": {
          "color": "black",
          "size": 23
         },
         "type": "scatter",
         "x": [
          -1.5
         ],
         "y": [
          -0.8660254037844386
         ]
        },
        {
         "hoverinfo": "skip",
         "mode": "text",
         "name": "",
         "showlegend": false,
         "text": [
          "(-1,0,1)"
         ],
         "textfont": {
          "color": "gray",
          "size": 8
         },
         "type": "scatter",
         "x": [
          -1.5
         ],
         "y": [
          -1.1660254037844386
         ]
        },
        {
         "fill": "toself",
         "fillcolor": "#1D1A1A",
         "hovertemplate": "Ant (black)<br>Position: (-1,-1,2)<extra></extra>",
         "line": {
          "color": "#000000",
          "width": 2
         },
         "mode": "lines",
         "name": "",
         "showlegend": false,
         "type": "scatter",
         "x": {
          "bdata": "mpmZmZmZ4b9mZmZmZmbwv5iZmZmZmf+/mpmZmZmZA8CcmZmZmZn/v2lmZmZmZvC/mpmZmZmZ4b8=",
          "dtype": "f8"
         },
         "y": {
          "bdata": "gDlCLtzIBMD8tI2U12f8v/y0jZTXZ/y/gDlCLtzIBMCCmD2SzF0LwIOYPZLMXQvAgTlCLtzIBMA=",
          "dtype": "f8"
         }
        },
        {
         "hoverinfo": "skip",
         "mode": "text",
         "name": "",
         "showlegend": false,
         "text": [
          "🐜"
         ],
         "textfont": {
          "color": "black",
          "size": 23
         },
         "type": "scatter",
         "x": [
          -1.5
         ],
         "y": [
          -2.598076211353316
         ]
        },
        {
         "hoverinfo": "skip",
         "mode": "text",
         "name": "",
         "showlegend": false,
         "text": [
          "(-1,-1,2)"
         ],
         "textfont": {
          "color": "gray",
          "size": 8
         },
         "type": "scatter",
         "x": [
          -1.5
         ],
         "y": [
          -2.898076211353316
         ]
        },
        {
         "fill": "toself",
         "fillcolor": "#1D1A1A",
         "hovertemplate": "Ant (black)<br>Position: (-2,-1,3)<extra></extra>",
         "line": {
          "color": "#000000",
          "width": 2
         },
         "mode": "lines",
         "name": "",
         "showlegend": false,
         "type": "scatter",
         "x": {
          "bdata": "ZmZmZmZmAMAzMzMzMzMEwMzMzMzMzAvAmpmZmZmZD8DOzMzMzMwLwDUzMzMzMwTAZmZmZmZmAMA=",
          "dtype": "f8"
         },
         "y": {
          "bdata": "qkxY6Hq2C8Co7VyEiiEFwKjtXISKIQXAqkxY6Hq2C8DW1SmmtSURwNbVKaa1JRHAq0xY6Hq2C8A=",
          "dtype": "f8"
         }
        },
        {
         "hoverinfo": "skip",
         "mode": "text",
         "name": "",
         "showlegend": false,
         "text": [
          "🐜"
         ],
         "textfont": {
          "color": "black",
          "size": 23
         },
         "type": "scatter",
         "x": [
          -3
         ],
         "y": [
          -3.4641016151377544
         ]
        },
        {
         "hoverinfo": "skip",
         "mode": "text",
         "name": "",
         "showlegend": false,
         "text": [
          "(-2,-1,3)"
         ],
         "textfont": {
          "color": "gray",
          "size": 8
         },
         "type": "scatter",
         "x": [
          -3
         ],
         "y": [
          -3.764101615137754
         ]
        },
        {
         "fill": "toself",
         "fillcolor": "#FFFFFF",
         "hovertemplate": "Ant (white)<br>Position: (1,-1,0)<extra></extra>",
         "line": {
          "color": "#808080",
          "width": 2
         },
         "mode": "lines",
         "name": "",
         "showlegend": false,
         "type": "scatter",
         "x": {
          "bdata": "mpmZmZmZA0CamZmZmZn/P2hmZmZmZvA/mpmZmZmZ4T9kZmZmZmbwP5eZmZmZmf8/mpmZmZmZA0A=",
          "dtype": "f8"
         },
         "y": {
          "bdata": "qkxY6Hq2678gCq2GlSumvxAKrYaVK6a/qUxY6Hq2679Y5CI8HgX7v1rkIjweBfu/rExY6Hq2678=",
          "dtype": "f8"
         }
        },
        {
         "hoverinfo": "skip",
         "mode": "text",
         "name": "",
         "showlegend": false,
         "text": [
          "🐜"
         ],
         "textfont": {
          "color": "black",
          "size": 23
         },
         "type": "scatter",
         "x": [
          1.5
         ],
         "y": [
          -0.8660254037844386
         ]
        },
        {
         "hoverinfo": "skip",
         "mode": "text",
         "name": "",
         "showlegend": false,
         "text": [
          "(1,-1,0)"
         ],
         "textfont": {
          "color": "gray",
          "size": 8
         },
         "type": "scatter",
         "x": [
          1.5
         ],
         "y": [
          -1.1660254037844386
         ]
        },
        {
         "fill": "toself",
         "fillcolor": "#FFFFFF",
         "hovertemplate": "Ant (white)<br>Position: (1,4,-5)<extra></extra>",
         "line": {
          "color": "#808080",
          "width": 2
         },
         "mode": "lines",
         "name": "",
         "showlegend": false,
         "type": "scatter",
         "x": {
          "bdata": "mpmZmZmZA0CamZmZmZn/P2hmZmZmZvA/mpmZmZmZ4T9kZmZmZmbwP5eZmZmZmf8/mpmZmZmZA0A=",
          "dtype": "f8"
         },
         "y": {
          "bdata": "P1ZjRUotH0DggrA74TshQOCCsDvhOyFAP1ZjRUotH0C+pmUT0uIbQL6mZRPS4htAP1ZjRUotH0A=",
          "dtype": "f8"
         }
        },
        {
         "hoverinfo": "skip",
         "mode": "text",
         "name": "",
         "showlegend": false,
         "text": [
          "🐜"
         ],
         "textfont": {
          "color": "black",
          "size": 23
         },
         "type": "scatter",
         "x": [
          1.5
         ],
         "y": [
          7.794228634059947
         ]
        },
        {
         "hoverinfo": "skip",
         "mode": "text",
         "name": "",
         "showlegend": false,
         "text": [
          "(1,4,-5)"
         ],
         "textfont": {
          "color": "gray",
          "size": 8
         },
         "type": "scatter",
         "x": [
          1.5
         ],
         "y": [
          7.494228634059947
         ]
        },
        {
         "fill": "toself",
         "fillcolor": "#1D1A1A",
         "hovertemplate": "Ant (black)<br>Position: (0,-2,2)<extra></extra>",
         "line": {
          "color": "#000000",
          "width": 2
         },
         "mode": "lines",
         "name": "",
         "showlegend": false,
         "type": "scatter",
         "x": {
          "bdata": "ZmZmZmZm7j9oZmZmZmbeP2JmZmZmZt6/ZmZmZmZm7r9uZmZmZmbev1tmZmZmZt4/ZmZmZmZm7j8=",
          "dtype": "f8"
         },
         "y": {
          "bdata": "qkxY6Hq2C8Co7VyEiiEFwKjtXISKIQXAqkxY6Hq2C8DW1SmmtSURwNbVKaa1JRHAq0xY6Hq2C8A=",
          "dtype": "f8"
         }
        },
        {
         "hoverinfo": "skip",
         "mode": "text",
         "name": "",
         "showlegend": false,
         "text": [
          "🐜"
         ],
         "textfont": {
          "color": "black",
          "size": 23
         },
         "type": "scatter",
         "x": [
          0
         ],
         "y": [
          -3.4641016151377544
         ]
        },
        {
         "hoverinfo": "skip",
         "mode": "text",
         "name": "",
         "showlegend": false,
         "text": [
          "(0,-2,2)"
         ],
         "textfont": {
          "color": "gray",
          "size": 8
         },
         "type": "scatter",
         "x": [
          0
         ],
         "y": [
          -3.764101615137754
         ]
        },
        {
         "fill": "toself",
         "fillcolor": "#1D1A1A",
         "hovertemplate": "Ant (black)<br>Position: (-3,0,3)<extra></extra>",
         "line": {
          "color": "#000000",
          "width": 2
         },
         "mode": "lines",
         "name": "",
         "showlegend": false,
         "type": "scatter",
         "x": {
          "bdata": "ZmZmZmZmDMCamZmZmRkQwGZmZmZm5hPAzczMzMzMFcBnZmZmZuYTwJqZmZmZGRDAZmZmZmZmDMA=",
          "dtype": "f8"
         },
         "y": {
          "bdata": "gDlCLtzIBMD8tI2U12f8v/y0jZTXZ/y/gDlCLtzIBMCCmD2SzF0LwIOYPZLMXQvAgTlCLtzIBMA=",
          "dtype": "f8"
         }
        },
        {
         "hoverinfo": "skip",
         "mode": "text",
         "name": "",
         "showlegend": false,
         "text": [
          "🐜"
         ],
         "textfont": {
          "color": "black",
          "size": 23
         },
         "type": "scatter",
         "x": [
          -4.5
         ],
         "y": [
          -2.598076211353316
         ]
        },
        {
         "hoverinfo": "skip",
         "mode": "text",
         "name": "",
         "showlegend": false,
         "text": [
          "(-3,0,3)"
         ],
         "textfont": {
          "color": "gray",
          "size": 8
         },
         "type": "scatter",
         "x": [
          -4.5
         ],
         "y": [
          -2.898076211353316
         ]
        },
        {
         "fill": "toself",
         "fillcolor": "#FFFFFF",
         "hovertemplate": "Ant (white)<br>Position: (2,-1,-1)<extra></extra>",
         "line": {
          "color": "#808080",
          "width": 2
         },
         "mode": "lines",
         "name": "",
         "showlegend": false,
         "type": "scatter",
         "x": {
          "bdata": "mpmZmZmZD0DNzMzMzMwLQDQzMzMzMwRAZmZmZmZmAEAyMzMzMzMEQMvMzMzMzAtAmpmZmZmZD0A=",
          "dtype": "f8"
         },
         "y": {
          "bdata": "AAAAAAAAAAAIfO2PwVPqPwl87Y/BU+o/07254z3EoDwHfO2PwVPqvwt87Y/BU+q/07254z3EsLw=",
          "dtype": "f8"
         }
        },
        {
         "hoverinfo": "skip",
         "mode": "text",
         "name": "",
         "showlegend": false,
         "text": [
          "🐜"
         ],
         "textfont": {
          "color": "black",
          "size": 23
         },
         "type": "scatter",
         "x": [
          3
         ],
         "y": [
          0
         ]
        },
        {
         "hoverinfo": "skip",
         "mode": "text",
         "name": "",
         "showlegend": false,
         "text": [
          "(2,-1,-1)"
         ],
         "textfont": {
          "color": "gray",
          "size": 8
         },
         "type": "scatter",
         "x": [
          3
         ],
         "y": [
          -0.3
         ]
        },
        {
         "fill": "toself",
         "fillcolor": "#1D1A1A",
         "hovertemplate": "Ant (black)<br>Position: (0,4,-4)<extra></extra>",
         "line": {
          "color": "#000000",
          "width": 2
         },
         "mode": "lines",
         "name": "",
         "showlegend": false,
         "type": "scatter",
         "x": {
          "bdata": "ZmZmZmZm7j9oZmZmZmbeP2JmZmZmZt6/ZmZmZmZm7r9uZmZmZmbev1tmZmZmZt4/ZmZmZmZm7j8=",
          "dtype": "f8"
         },
         "y": {
          "bdata": "qkxY6Hq2G0Ar/FUa8wAfQCv8VRrzAB9AqkxY6Hq2G0ApnVq2AmwYQCmdWrYCbBhAqkxY6Hq2G0A=",
          "dtype": "f8"
         }
        },
        {
         "hoverinfo": "skip",
         "mode": "text",
         "name": "",
         "showlegend": false,
         "text": [
          "🐜"
         ],
         "textfont": {
          "color": "black",
          "size": 23
         },
         "type": "scatter",
         "x": [
          0
         ],
         "y": [
          6.928203230275509
         ]
        },
        {
         "hoverinfo": "skip",
         "mode": "text",
         "name": "",
         "showlegend": false,
         "text": [
          "(0,4,-4)"
         ],
         "textfont": {
          "color": "gray",
          "size": 8
         },
         "type": "scatter",
         "x": [
          0
         ],
         "y": [
          6.628203230275509
         ]
        },
        {
         "fill": "toself",
         "fillcolor": "#1D1A1A",
         "hovertemplate": "Ant (black)<br>Position: (-2,0,2)<extra></extra>",
         "line": {
          "color": "#000000",
          "width": 2
         },
         "mode": "lines",
         "name": "",
         "showlegend": false,
         "type": "scatter",
         "x": {
          "bdata": "ZmZmZmZmAMAzMzMzMzMEwMzMzMzMzAvAmpmZmZmZD8DOzMzMzMwLwDUzMzMzMwTAZmZmZmZmAMA=",
          "dtype": "f8"
         },
         "y": {
          "bdata": "qkxY6Hq2+79MHcNANBntv0sdw0A0Ge2/qUxY6Hq2+79XhSfYLXAEwFiFJ9gtcATAq0xY6Hq2+78=",
          "dtype": "f8"
         }
        },
        {
         "hoverinfo": "skip",
         "mode": "text",
         "name": "",
         "showlegend": false,
         "text": [
          "🐜"
         ],
         "textfont": {
          "color": "black",
          "size": 23
         },
         "type": "scatter",
         "x": [
          -3
         ],
         "y": [
          -1.7320508075688772
         ]
        },
        {
         "hoverinfo": "skip",
         "mode": "text",
         "name": "",
         "showlegend": false,
         "text": [
          "(-2,0,2)"
         ],
         "textfont": {
          "color": "gray",
          "size": 8
         },
         "type": "scatter",
         "x": [
          -3
         ],
         "y": [
          -2.032050807568877
         ]
        },
        {
         "fill": "toself",
         "fillcolor": "#1D1A1A",
         "hovertemplate": "Ant (black)<br>Position: (-2,-2,4)<extra></extra>",
         "line": {
          "color": "#000000",
          "width": 2
         },
         "mode": "lines",
         "name": "",
         "showlegend": false,
         "type": "scatter",
         "x": {
          "bdata": "ZmZmZmZmAMAzMzMzMzMEwMzMzMzMzAvAmpmZmZmZD8DOzMzMzMwLwDUzMzMzMwTAZmZmZmZmAMA=",
          "dtype": "f8"
         },
         "y": {
          "bdata": "gDlCLtzIFMD/iUT8Y34RwP+JRPxjfhHAgDlCLtzIFMAB6T9gVBMYwAHpP2BUExjAgDlCLtzIFMA=",
          "dtype": "f8"
         }
        },
        {
         "hoverinfo": "skip",
         "mode": "text",
         "name": "",
         "showlegend": false,
         "text": [
          "🐜"
         ],
         "textfont": {
          "color": "black",
          "size": 23
         },
         "type": "scatter",
         "x": [
          -3
         ],
         "y": [
          -5.196152422706632
         ]
        },
        {
         "hoverinfo": "skip",
         "mode": "text",
         "name": "",
         "showlegend": false,
         "text": [
          "(-2,-2,4)"
         ],
         "textfont": {
          "color": "gray",
          "size": 8
         },
         "type": "scatter",
         "x": [
          -3
         ],
         "y": [
          -5.496152422706632
         ]
        },
        {
         "fill": "toself",
         "fillcolor": "#FFFFFF",
         "hovertemplate": "Ant (white)<br>Position: (0,1,-1)<extra></extra>",
         "line": {
          "color": "#808080",
          "width": 2
         },
         "mode": "lines",
         "name": "",
         "showlegend": false,
         "type": "scatter",
         "x": {
          "bdata": "ZmZmZmZm7j9oZmZmZmbeP2JmZmZmZt6/ZmZmZmZm7r9uZmZmZmbev1tmZmZmZt4/ZmZmZmZm7j8=",
          "dtype": "f8"
         },
         "y": {
          "bdata": "qkxY6Hq2+z9XhSfYLXAEQFeFJ9gtcARAq0xY6Hq2+z9NHcNANBntP0kdw0A0Ge0/qUxY6Hq2+z8=",
          "dtype": "f8"
         }
        },
        {
         "hoverinfo": "skip",
         "mode": "text",
         "name": "",
         "showlegend": false,
         "text": [
          "🐜"
         ],
         "textfont": {
          "color": "black",
          "size": 23
         },
         "type": "scatter",
         "x": [
          0
         ],
         "y": [
          1.7320508075688772
         ]
        },
        {
         "hoverinfo": "skip",
         "mode": "text",
         "name": "",
         "showlegend": false,
         "text": [
          "(0,1,-1)"
         ],
         "textfont": {
          "color": "gray",
          "size": 8
         },
         "type": "scatter",
         "x": [
          0
         ],
         "y": [
          1.4320508075688771
         ]
        },
        {
         "fill": "toself",
         "fillcolor": "#FFFFFF",
         "hovertemplate": "Ant (white)<br>Position: (1,0,-1)<extra></extra>",
         "line": {
          "color": "#808080",
          "width": 2
         },
         "mode": "lines",
         "name": "",
         "showlegend": false,
         "type": "scatter",
         "x": {
          "bdata": "mpmZmZmZA0CamZmZmZn/P2hmZmZmZvA/mpmZmZmZ4T9kZmZmZmbwP5eZmZmZmf8/mpmZmZmZA0A=",
          "dtype": "f8"
         },
         "y": {
          "bdata": "qkxY6Hq26z9Z5CI8HgX7P1rkIjweBfs/q0xY6Hq26z8wCq2GlSumP/AJrYaVK6Y/qExY6Hq26z8=",
          "dtype": "f8"
         }
        },
        {
         "hoverinfo": "skip",
         "mode": "text",
         "name": "",
         "showlegend": false,
         "text": [
          "🐜"
         ],
         "textfont": {
          "color": "black",
          "size": 23
         },
         "type": "scatter",
         "x": [
          1.5
         ],
         "y": [
          0.8660254037844386
         ]
        },
        {
         "hoverinfo": "skip",
         "mode": "text",
         "name": "",
         "showlegend": false,
         "text": [
          "(1,0,-1)"
         ],
         "textfont": {
          "color": "gray",
          "size": 8
         },
         "type": "scatter",
         "x": [
          1.5
         ],
         "y": [
          0.5660254037844386
         ]
        },
        {
         "fill": "toself",
         "fillcolor": "#1D1A1A",
         "hovertemplate": "Ant (black)<br>Position: (0,-3,3)<extra></extra>",
         "line": {
          "color": "#000000",
          "width": 2
         },
         "mode": "lines",
         "name": "",
         "showlegend": false,
         "type": "scatter",
         "x": {
          "bdata": "ZmZmZmZm7j9oZmZmZmbeP2JmZmZmZt6/ZmZmZmZm7r9uZmZmZmbev1tmZmZmZt4/ZmZmZmZm7j8=",
          "dtype": "f8"
         },
         "y": {
          "bdata": "gDlCLtzIFMD/iUT8Y34RwP+JRPxjfhHAgDlCLtzIFMAB6T9gVBMYwAHpP2BUExjAgDlCLtzIFMA=",
          "dtype": "f8"
         }
        },
        {
         "hoverinfo": "skip",
         "mode": "text",
         "name": "",
         "showlegend": false,
         "text": [
          "🐜"
         ],
         "textfont": {
          "color": "black",
          "size": 23
         },
         "type": "scatter",
         "x": [
          0
         ],
         "y": [
          -5.196152422706632
         ]
        },
        {
         "hoverinfo": "skip",
         "mode": "text",
         "name": "",
         "showlegend": false,
         "text": [
          "(0,-3,3)"
         ],
         "textfont": {
          "color": "gray",
          "size": 8
         },
         "type": "scatter",
         "x": [
          0
         ],
         "y": [
          -5.496152422706632
         ]
        },
        {
         "fill": "toself",
         "fillcolor": "#1D1A1A",
         "hovertemplate": "Ant (black)<br>Position: (2,3,-5)<extra></extra>",
         "line": {
          "color": "#000000",
          "width": 2
         },
         "mode": "lines",
         "name": "",
         "showlegend": false,
         "type": "scatter",
         "x": {
          "bdata": "mpmZmZmZD0DNzMzMzMwLQDQzMzMzMwRAZmZmZmZmAEAyMzMzMzMEQMvMzMzMzAtAmpmZmZmZD0A=",
          "dtype": "f8"
         },
         "y": {
          "bdata": "qkxY6Hq2G0Ar/FUa8wAfQCv8VRrzAB9AqkxY6Hq2G0ApnVq2AmwYQCmdWrYCbBhAqkxY6Hq2G0A=",
          "dtype": "f8"
         }
        },
        {
         "hoverinfo": "skip",
         "mode": "text",
         "name": "",
         "showlegend": false,
         "text": [
          "🐜"
         ],
         "textfont": {
          "color": "black",
          "size": 23
         },
         "type": "scatter",
         "x": [
          3
         ],
         "y": [
          6.928203230275509
         ]
        },
        {
         "hoverinfo": "skip",
         "mode": "text",
         "name": "",
         "showlegend": false,
         "text": [
          "(2,3,-5)"
         ],
         "textfont": {
          "color": "gray",
          "size": 8
         },
         "type": "scatter",
         "x": [
          3
         ],
         "y": [
          6.628203230275509
         ]
        },
        {
         "fill": "toself",
         "fillcolor": "#FFFFFF",
         "hovertemplate": "Ant (white)<br>Position: (2,-3,1)<extra></extra>",
         "line": {
          "color": "#808080",
          "width": 2
         },
         "mode": "lines",
         "name": "",
         "showlegend": false,
         "type": "scatter",
         "x": {
          "bdata": "mpmZmZmZD0DNzMzMzMwLQDQzMzMzMwRAZmZmZmZmAEAyMzMzMzMEQMvMzMzMzAtAmpmZmZmZD0A=",
          "dtype": "f8"
         },
         "y": {
          "bdata": "q0xY6Hq2C8Cp7VyEiiEFwKntXISKIQXAq0xY6Hq2C8DW1SmmtSURwNfVKaa1JRHArExY6Hq2C8A=",
          "dtype": "f8"
         }
        },
        {
         "hoverinfo": "skip",
         "mode": "text",
         "name": "",
         "showlegend": false,
         "text": [
          "🐜"
         ],
         "textfont": {
          "color": "black",
          "size": 23
         },
         "type": "scatter",
         "x": [
          3
         ],
         "y": [
          -3.464101615137755
         ]
        },
        {
         "hoverinfo": "skip",
         "mode": "text",
         "name": "",
         "showlegend": false,
         "text": [
          "(2,-3,1)"
         ],
         "textfont": {
          "color": "gray",
          "size": 8
         },
         "type": "scatter",
         "x": [
          3
         ],
         "y": [
          -3.7641016151377547
         ]
        },
        {
         "fill": "toself",
         "fillcolor": "#FFFFFF",
         "hovertemplate": "Ant (white)<br>Position: (3,-3,0)<extra></extra>",
         "line": {
          "color": "#808080",
          "width": 2
         },
         "mode": "lines",
         "name": "",
         "showlegend": false,
         "type": "scatter",
         "x": {
          "bdata": "zczMzMzMFUBmZmZmZuYTQJqZmZmZGRBAZmZmZmZmDECZmZmZmRkQQGZmZmZm5hNAzczMzMzMFUA=",
          "dtype": "f8"
         },
         "y": {
          "bdata": "gDlCLtzIBMD8tI2U12f8v/y0jZTXZ/y/gDlCLtzIBMCCmD2SzF0LwIOYPZLMXQvAgTlCLtzIBMA=",
          "dtype": "f8"
         }
        },
        {
         "hoverinfo": "skip",
         "mode": "text",
         "name": "",
         "showlegend": false,
         "text": [
          "🐜"
         ],
         "textfont": {
          "color": "black",
          "size": 23
         },
         "type": "scatter",
         "x": [
          4.5
         ],
         "y": [
          -2.598076211353316
         ]
        },
        {
         "hoverinfo": "skip",
         "mode": "text",
         "name": "",
         "showlegend": false,
         "text": [
          "(3,-3,0)"
         ],
         "textfont": {
          "color": "gray",
          "size": 8
         },
         "type": "scatter",
         "x": [
          4.5
         ],
         "y": [
          -2.898076211353316
         ]
        },
        {
         "fill": "toself",
         "fillcolor": "#FFFFFF",
         "hovertemplate": "Ant (white)<br>Position: (3,-4,1)<extra></extra>",
         "line": {
          "color": "#808080",
          "width": 2
         },
         "mode": "lines",
         "name": "",
         "showlegend": false,
         "type": "scatter",
         "x": {
          "bdata": "zczMzMzMFUBmZmZmZuYTQJqZmZmZGRBAZmZmZmZmDECZmZmZmRkQQGZmZmZm5hNAzczMzMzMFUA=",
          "dtype": "f8"
         },
         "y": {
          "bdata": "6i830QxSEcDSAHM+KQ8MwNIAcz4pDwzA6i830QxSEcBr3zQDhZwUwGvfNAOFnBTA6i830QxSEcA=",
          "dtype": "f8"
         }
        },
        {
         "hoverinfo": "skip",
         "mode": "text",
         "name": "",
         "showlegend": false,
         "text": [
          "🐜"
         ],
         "textfont": {
          "color": "black",
          "size": 23
         },
         "type": "scatter",
         "x": [
          4.5
         ],
         "y": [
          -4.330127018922193
         ]
        },
        {
         "hoverinfo": "skip",
         "mode": "text",
         "name": "",
         "showlegend": false,
         "text": [
          "(3,-4,1)"
         ],
         "textfont": {
          "color": "gray",
          "size": 8
         },
         "type": "scatter",
         "x": [
          4.5
         ],
         "y": [
          -4.630127018922193
         ]
        },
        {
         "fill": "toself",
         "fillcolor": "#FFFFFF",
         "hovertemplate": "Ant (white)<br>Position: (4,-4,0)<extra></extra>",
         "line": {
          "color": "#808080",
          "width": 2
         },
         "mode": "lines",
         "name": "",
         "showlegend": false,
         "type": "scatter",
         "x": {
          "bdata": "zczMzMzMG0BmZmZmZuYZQJqZmZmZGRZAMzMzMzMzFECZmZmZmRkWQGZmZmZm5hlAzczMzMzMG0A=",
          "dtype": "f8"
         },
         "y": {
          "bdata": "qkxY6Hq2C8Co7VyEiiEFwKjtXISKIQXAqkxY6Hq2C8DW1SmmtSURwNbVKaa1JRHAq0xY6Hq2C8A=",
          "dtype": "f8"
         }
        },
        {
         "hoverinfo": "skip",
         "mode": "text",
         "name": "",
         "showlegend": false,
         "text": [
          "🐜"
         ],
         "textfont": {
          "color": "black",
          "size": 23
         },
         "type": "scatter",
         "x": [
          6
         ],
         "y": [
          -3.4641016151377544
         ]
        },
        {
         "hoverinfo": "skip",
         "mode": "text",
         "name": "",
         "showlegend": false,
         "text": [
          "(4,-4,0)"
         ],
         "textfont": {
          "color": "gray",
          "size": 8
         },
         "type": "scatter",
         "x": [
          6
         ],
         "y": [
          -3.764101615137754
         ]
        }
       ],
       "layout": {
        "height": 800,
        "hovermode": "closest",
        "plot_bgcolor": "white",
        "template": {
         "data": {
          "bar": [
           {
            "error_x": {
             "color": "#2a3f5f"
            },
            "error_y": {
             "color": "#2a3f5f"
            },
            "marker": {
             "line": {
              "color": "#E5ECF6",
              "width": 0.5
             },
             "pattern": {
              "fillmode": "overlay",
              "size": 10,
              "solidity": 0.2
             }
            },
            "type": "bar"
           }
          ],
          "barpolar": [
           {
            "marker": {
             "line": {
              "color": "#E5ECF6",
              "width": 0.5
             },
             "pattern": {
              "fillmode": "overlay",
              "size": 10,
              "solidity": 0.2
             }
            },
            "type": "barpolar"
           }
          ],
          "carpet": [
           {
            "aaxis": {
             "endlinecolor": "#2a3f5f",
             "gridcolor": "white",
             "linecolor": "white",
             "minorgridcolor": "white",
             "startlinecolor": "#2a3f5f"
            },
            "baxis": {
             "endlinecolor": "#2a3f5f",
             "gridcolor": "white",
             "linecolor": "white",
             "minorgridcolor": "white",
             "startlinecolor": "#2a3f5f"
            },
            "type": "carpet"
           }
          ],
          "choropleth": [
           {
            "colorbar": {
             "outlinewidth": 0,
             "ticks": ""
            },
            "type": "choropleth"
           }
          ],
          "contour": [
           {
            "colorbar": {
             "outlinewidth": 0,
             "ticks": ""
            },
            "colorscale": [
             [
              0,
              "#0d0887"
             ],
             [
              0.1111111111111111,
              "#46039f"
             ],
             [
              0.2222222222222222,
              "#7201a8"
             ],
             [
              0.3333333333333333,
              "#9c179e"
             ],
             [
              0.4444444444444444,
              "#bd3786"
             ],
             [
              0.5555555555555556,
              "#d8576b"
             ],
             [
              0.6666666666666666,
              "#ed7953"
             ],
             [
              0.7777777777777778,
              "#fb9f3a"
             ],
             [
              0.8888888888888888,
              "#fdca26"
             ],
             [
              1,
              "#f0f921"
             ]
            ],
            "type": "contour"
           }
          ],
          "contourcarpet": [
           {
            "colorbar": {
             "outlinewidth": 0,
             "ticks": ""
            },
            "type": "contourcarpet"
           }
          ],
          "heatmap": [
           {
            "colorbar": {
             "outlinewidth": 0,
             "ticks": ""
            },
            "colorscale": [
             [
              0,
              "#0d0887"
             ],
             [
              0.1111111111111111,
              "#46039f"
             ],
             [
              0.2222222222222222,
              "#7201a8"
             ],
             [
              0.3333333333333333,
              "#9c179e"
             ],
             [
              0.4444444444444444,
              "#bd3786"
             ],
             [
              0.5555555555555556,
              "#d8576b"
             ],
             [
              0.6666666666666666,
              "#ed7953"
             ],
             [
              0.7777777777777778,
              "#fb9f3a"
             ],
             [
              0.8888888888888888,
              "#fdca26"
             ],
             [
              1,
              "#f0f921"
             ]
            ],
            "type": "heatmap"
           }
          ],
          "histogram": [
           {
            "marker": {
             "pattern": {
              "fillmode": "overlay",
              "size": 10,
              "solidity": 0.2
             }
            },
            "type": "histogram"
           }
          ],
          "histogram2d": [
           {
            "colorbar": {
             "outlinewidth": 0,
             "ticks": ""
            },
            "colorscale": [
             [
              0,
              "#0d0887"
             ],
             [
              0.1111111111111111,
              "#46039f"
             ],
             [
              0.2222222222222222,
              "#7201a8"
             ],
             [
              0.3333333333333333,
              "#9c179e"
             ],
             [
              0.4444444444444444,
              "#bd3786"
             ],
             [
              0.5555555555555556,
              "#d8576b"
             ],
             [
              0.6666666666666666,
              "#ed7953"
             ],
             [
              0.7777777777777778,
              "#fb9f3a"
             ],
             [
              0.8888888888888888,
              "#fdca26"
             ],
             [
              1,
              "#f0f921"
             ]
            ],
            "type": "histogram2d"
           }
          ],
          "histogram2dcontour": [
           {
            "colorbar": {
             "outlinewidth": 0,
             "ticks": ""
            },
            "colorscale": [
             [
              0,
              "#0d0887"
             ],
             [
              0.1111111111111111,
              "#46039f"
             ],
             [
              0.2222222222222222,
              "#7201a8"
             ],
             [
              0.3333333333333333,
              "#9c179e"
             ],
             [
              0.4444444444444444,
              "#bd3786"
             ],
             [
              0.5555555555555556,
              "#d8576b"
             ],
             [
              0.6666666666666666,
              "#ed7953"
             ],
             [
              0.7777777777777778,
              "#fb9f3a"
             ],
             [
              0.8888888888888888,
              "#fdca26"
             ],
             [
              1,
              "#f0f921"
             ]
            ],
            "type": "histogram2dcontour"
           }
          ],
          "mesh3d": [
           {
            "colorbar": {
             "outlinewidth": 0,
             "ticks": ""
            },
            "type": "mesh3d"
           }
          ],
          "parcoords": [
           {
            "line": {
             "colorbar": {
              "outlinewidth": 0,
              "ticks": ""
             }
            },
            "type": "parcoords"
           }
          ],
          "pie": [
           {
            "automargin": true,
            "type": "pie"
           }
          ],
          "scatter": [
           {
            "fillpattern": {
             "fillmode": "overlay",
             "size": 10,
             "solidity": 0.2
            },
            "type": "scatter"
           }
          ],
          "scatter3d": [
           {
            "line": {
             "colorbar": {
              "outlinewidth": 0,
              "ticks": ""
             }
            },
            "marker": {
             "colorbar": {
              "outlinewidth": 0,
              "ticks": ""
             }
            },
            "type": "scatter3d"
           }
          ],
          "scattercarpet": [
           {
            "marker": {
             "colorbar": {
              "outlinewidth": 0,
              "ticks": ""
             }
            },
            "type": "scattercarpet"
           }
          ],
          "scattergeo": [
           {
            "marker": {
             "colorbar": {
              "outlinewidth": 0,
              "ticks": ""
             }
            },
            "type": "scattergeo"
           }
          ],
          "scattergl": [
           {
            "marker": {
             "colorbar": {
              "outlinewidth": 0,
              "ticks": ""
             }
            },
            "type": "scattergl"
           }
          ],
          "scattermap": [
           {
            "marker": {
             "colorbar": {
              "outlinewidth": 0,
              "ticks": ""
             }
            },
            "type": "scattermap"
           }
          ],
          "scattermapbox": [
           {
            "marker": {
             "colorbar": {
              "outlinewidth": 0,
              "ticks": ""
             }
            },
            "type": "scattermapbox"
           }
          ],
          "scatterpolar": [
           {
            "marker": {
             "colorbar": {
              "outlinewidth": 0,
              "ticks": ""
             }
            },
            "type": "scatterpolar"
           }
          ],
          "scatterpolargl": [
           {
            "marker": {
             "colorbar": {
              "outlinewidth": 0,
              "ticks": ""
             }
            },
            "type": "scatterpolargl"
           }
          ],
          "scatterternary": [
           {
            "marker": {
             "colorbar": {
              "outlinewidth": 0,
              "ticks": ""
             }
            },
            "type": "scatterternary"
           }
          ],
          "surface": [
           {
            "colorbar": {
             "outlinewidth": 0,
             "ticks": ""
            },
            "colorscale": [
             [
              0,
              "#0d0887"
             ],
             [
              0.1111111111111111,
              "#46039f"
             ],
             [
              0.2222222222222222,
              "#7201a8"
             ],
             [
              0.3333333333333333,
              "#9c179e"
             ],
             [
              0.4444444444444444,
              "#bd3786"
             ],
             [
              0.5555555555555556,
              "#d8576b"
             ],
             [
              0.6666666666666666,
              "#ed7953"
             ],
             [
              0.7777777777777778,
              "#fb9f3a"
             ],
             [
              0.8888888888888888,
              "#fdca26"
             ],
             [
              1,
              "#f0f921"
             ]
            ],
            "type": "surface"
           }
          ],
          "table": [
           {
            "cells": {
             "fill": {
              "color": "#EBF0F8"
             },
             "line": {
              "color": "white"
             }
            },
            "header": {
             "fill": {
              "color": "#C8D4E3"
             },
             "line": {
              "color": "white"
             }
            },
            "type": "table"
           }
          ]
         },
         "layout": {
          "annotationdefaults": {
           "arrowcolor": "#2a3f5f",
           "arrowhead": 0,
           "arrowwidth": 1
          },
          "autotypenumbers": "strict",
          "coloraxis": {
           "colorbar": {
            "outlinewidth": 0,
            "ticks": ""
           }
          },
          "colorscale": {
           "diverging": [
            [
             0,
             "#8e0152"
            ],
            [
             0.1,
             "#c51b7d"
            ],
            [
             0.2,
             "#de77ae"
            ],
            [
             0.3,
             "#f1b6da"
            ],
            [
             0.4,
             "#fde0ef"
            ],
            [
             0.5,
             "#f7f7f7"
            ],
            [
             0.6,
             "#e6f5d0"
            ],
            [
             0.7,
             "#b8e186"
            ],
            [
             0.8,
             "#7fbc41"
            ],
            [
             0.9,
             "#4d9221"
            ],
            [
             1,
             "#276419"
            ]
           ],
           "sequential": [
            [
             0,
             "#0d0887"
            ],
            [
             0.1111111111111111,
             "#46039f"
            ],
            [
             0.2222222222222222,
             "#7201a8"
            ],
            [
             0.3333333333333333,
             "#9c179e"
            ],
            [
             0.4444444444444444,
             "#bd3786"
            ],
            [
             0.5555555555555556,
             "#d8576b"
            ],
            [
             0.6666666666666666,
             "#ed7953"
            ],
            [
             0.7777777777777778,
             "#fb9f3a"
            ],
            [
             0.8888888888888888,
             "#fdca26"
            ],
            [
             1,
             "#f0f921"
            ]
           ],
           "sequentialminus": [
            [
             0,
             "#0d0887"
            ],
            [
             0.1111111111111111,
             "#46039f"
            ],
            [
             0.2222222222222222,
             "#7201a8"
            ],
            [
             0.3333333333333333,
             "#9c179e"
            ],
            [
             0.4444444444444444,
             "#bd3786"
            ],
            [
             0.5555555555555556,
             "#d8576b"
            ],
            [
             0.6666666666666666,
             "#ed7953"
            ],
            [
             0.7777777777777778,
             "#fb9f3a"
            ],
            [
             0.8888888888888888,
             "#fdca26"
            ],
            [
             1,
             "#f0f921"
            ]
           ]
          },
          "colorway": [
           "#636efa",
           "#EF553B",
           "#00cc96",
           "#ab63fa",
           "#FFA15A",
           "#19d3f3",
           "#FF6692",
           "#B6E880",
           "#FF97FF",
           "#FECB52"
          ],
          "font": {
           "color": "#2a3f5f"
          },
          "geo": {
           "bgcolor": "white",
           "lakecolor": "white",
           "landcolor": "#E5ECF6",
           "showlakes": true,
           "showland": true,
           "subunitcolor": "white"
          },
          "hoverlabel": {
           "align": "left"
          },
          "hovermode": "closest",
          "mapbox": {
           "style": "light"
          },
          "paper_bgcolor": "white",
          "plot_bgcolor": "#E5ECF6",
          "polar": {
           "angularaxis": {
            "gridcolor": "white",
            "linecolor": "white",
            "ticks": ""
           },
           "bgcolor": "#E5ECF6",
           "radialaxis": {
            "gridcolor": "white",
            "linecolor": "white",
            "ticks": ""
           }
          },
          "scene": {
           "xaxis": {
            "backgroundcolor": "#E5ECF6",
            "gridcolor": "white",
            "gridwidth": 2,
            "linecolor": "white",
            "showbackground": true,
            "ticks": "",
            "zerolinecolor": "white"
           },
           "yaxis": {
            "backgroundcolor": "#E5ECF6",
            "gridcolor": "white",
            "gridwidth": 2,
            "linecolor": "white",
            "showbackground": true,
            "ticks": "",
            "zerolinecolor": "white"
           },
           "zaxis": {
            "backgroundcolor": "#E5ECF6",
            "gridcolor": "white",
            "gridwidth": 2,
            "linecolor": "white",
            "showbackground": true,
            "ticks": "",
            "zerolinecolor": "white"
           }
          },
          "shapedefaults": {
           "line": {
            "color": "#2a3f5f"
           }
          },
          "ternary": {
           "aaxis": {
            "gridcolor": "white",
            "linecolor": "white",
            "ticks": ""
           },
           "baxis": {
            "gridcolor": "white",
            "linecolor": "white",
            "ticks": ""
           },
           "bgcolor": "#E5ECF6",
           "caxis": {
            "gridcolor": "white",
            "linecolor": "white",
            "ticks": ""
           }
          },
          "title": {
           "x": 0.05
          },
          "xaxis": {
           "automargin": true,
           "gridcolor": "white",
           "linecolor": "white",
           "ticks": "",
           "title": {
            "standoff": 15
           },
           "zerolinecolor": "white",
           "zerolinewidth": 2
          },
          "yaxis": {
           "automargin": true,
           "gridcolor": "white",
           "linecolor": "white",
           "ticks": "",
           "title": {
            "standoff": 15
           },
           "zerolinecolor": "white",
           "zerolinewidth": 2
          }
         }
        },
        "title": {
         "text": "Hive - digitally made by Dan"
        },
        "width": 800,
        "xaxis": {
         "gridcolor": "lightgray",
         "scaleanchor": "y",
         "scaleratio": 1,
         "showgrid": true,
         "zeroline": true
        },
        "yaxis": {
         "gridcolor": "lightgray",
         "showgrid": true,
         "zeroline": true
        }
       }
      }
     },
     "metadata": {},
     "output_type": "display_data"
    }
   ],
   "source": [
    "# Single game with verbose output\n",
    "import random\n",
    "\n",
    "\n",
    "white = RandomBot(team='white')\n",
    "black = RandomBot(team='black')\n",
    "_, max_turns, game =simulate_game(white, black, verbose=True, plot_game=True)\n",
    "\n",
    "visualize_game_board(game.game_state.board_state, show_empty_hexes=game.game_state.get_available_spaces())"
   ]
  },
  {
   "cell_type": "code",
   "execution_count": 7,
   "id": "1f6c222e",
   "metadata": {},
   "outputs": [
    {
     "name": "stdout",
     "output_type": "stream",
     "text": [
      "\n",
      "=== PLACEMENT DEBUG ===\n",
      "Current turn: 200\n",
      "Current team: white\n",
      "\n",
      "White team:\n",
      "  Player turn number: 100\n",
      "  Queen status: board\n",
      "  Must place queen: False\n",
      "  Valid placement spots: 0\n",
      "\n",
      "Black team:\n",
      "  Player turn number: 99\n",
      "  Queen status: board\n",
      "  Must place queen: False\n",
      "  Valid placement spots: 0\n"
     ]
    }
   ],
   "source": [
    "def find_valid_placements(game_state, team: str, piece_type: str = None) -> list:\n",
    "    \"\"\"Helper to find all valid placement locations for a team\"\"\"\n",
    "    valid_spaces = []\n",
    "    available_spaces = game_state.get_available_spaces()\n",
    "    \n",
    "    for space in available_spaces:\n",
    "        try:\n",
    "            # Create a test turn\n",
    "            test_turn = Turn(\n",
    "                player=team,\n",
    "                piece_type=piece_type or 'ant',\n",
    "                action_type='place',\n",
    "                target_coordinates=space\n",
    "            )\n",
    "            Turn.validate_placement(test_turn, game_state)\n",
    "            valid_spaces.append(space)\n",
    "        except ValueError:\n",
    "            pass\n",
    "    \n",
    "    return valid_spaces\n",
    "\n",
    "def debug_placement_issues(game_state):\n",
    "    \"\"\"Comprehensive debug for placement issues\"\"\"\n",
    "    print(\"\\n=== PLACEMENT DEBUG ===\")\n",
    "    print(f\"Current turn: {game_state.turn}\")\n",
    "    print(f\"Current team: {game_state.current_team}\")\n",
    "    \n",
    "    # Check queen placement requirements\n",
    "    for team in ['white', 'black']:\n",
    "        queen = game_state.get_queen(team)\n",
    "        if team == 'white':\n",
    "            turn_num = game_state.turn // 2\n",
    "        else:\n",
    "            turn_num = (game_state.turn - 1) // 2\n",
    "        \n",
    "        print(f\"\\n{team.capitalize()} team:\")\n",
    "        print(f\"  Player turn number: {turn_num}\")\n",
    "        print(f\"  Queen status: {queen.location if queen else 'No queen'}\")\n",
    "        print(f\"  Must place queen: {turn_num == 3 and queen.location == 'offboard'}\")\n",
    "        \n",
    "        # Find valid placements\n",
    "        valid_placements = find_valid_placements(game_state, team)\n",
    "        print(f\"  Valid placement spots: {len(valid_placements)}\")\n",
    "        \n",
    "        if len(valid_placements) < 5:  # Show details if few options\n",
    "            for i, space in enumerate(valid_placements):\n",
    "                print(f\"    {i+1}. ({space.q}, {space.r}, {space.s})\")\n",
    "        \n",
    "        # Special check for queen placement\n",
    "        if queen and queen.location == 'offboard':\n",
    "            queen_valid = find_valid_placements(game_state, team, 'queenbee')\n",
    "            print(f\"  Valid queen placement spots: {len(queen_valid)}\")\n",
    "\n",
    "spaces = debug_placement_issues(game.game_state)\n",
    "spaces"
   ]
  },
  {
   "cell_type": "code",
   "execution_count": 8,
   "id": "5fb6caf7",
   "metadata": {},
   "outputs": [
    {
     "data": {
      "application/vnd.plotly.v1+json": {
       "config": {
        "plotlyServerURL": "https://plot.ly"
       },
       "data": [
        {
         "fill": "toself",
         "fillcolor": "#F5F5F5",
         "hovertemplate": "Empty<br>q=2, r=-2, s=0<extra></extra>",
         "line": {
          "color": "lightgray",
          "width": 1
         },
         "mode": "lines",
         "name": "",
         "showlegend": false,
         "type": "scatter",
         "x": {
          "bdata": "mpmZmZmZD0DNzMzMzMwLQDQzMzMzMwRAZmZmZmZmAEAyMzMzMzMEQMvMzMzMzAtAmpmZmZmZD0A=",
          "dtype": "f8"
         },
         "y": {
          "bdata": "qkxY6Hq2+79MHcNANBntv0sdw0A0Ge2/qUxY6Hq2+79XhSfYLXAEwFiFJ9gtcATAq0xY6Hq2+78=",
          "dtype": "f8"
         }
        },
        {
         "hoverinfo": "skip",
         "mode": "text",
         "name": "",
         "showlegend": false,
         "text": [
          "(2,-2,0)"
         ],
         "textfont": {
          "color": "darkgray",
          "size": 10
         },
         "type": "scatter",
         "x": [
          3
         ],
         "y": [
          -1.7320508075688772
         ]
        },
        {
         "fill": "toself",
         "fillcolor": "#F5F5F5",
         "hovertemplate": "Empty<br>q=2, r=1, s=-3<extra></extra>",
         "line": {
          "color": "lightgray",
          "width": 1
         },
         "mode": "lines",
         "name": "",
         "showlegend": false,
         "type": "scatter",
         "x": {
          "bdata": "mpmZmZmZD0DNzMzMzMwLQDQzMzMzMwRAZmZmZmZmAEAyMzMzMzMEQMvMzMzMzAtAmpmZmZmZD0A=",
          "dtype": "f8"
         },
         "y": {
          "bdata": "qkxY6Hq2C0DW1SmmtSURQNbVKaa1JRFAqkxY6Hq2C0Co7VyEiiEFQKftXISKIQVAqUxY6Hq2C0A=",
          "dtype": "f8"
         }
        },
        {
         "hoverinfo": "skip",
         "mode": "text",
         "name": "",
         "showlegend": false,
         "text": [
          "(2,1,-3)"
         ],
         "textfont": {
          "color": "darkgray",
          "size": 10
         },
         "type": "scatter",
         "x": [
          3
         ],
         "y": [
          3.4641016151377544
         ]
        },
        {
         "fill": "toself",
         "fillcolor": "#F5F5F5",
         "hovertemplate": "Empty<br>q=0, r=-1, s=1<extra></extra>",
         "line": {
          "color": "lightgray",
          "width": 1
         },
         "mode": "lines",
         "name": "",
         "showlegend": false,
         "type": "scatter",
         "x": {
          "bdata": "ZmZmZmZm7j9oZmZmZmbeP2JmZmZmZt6/ZmZmZmZm7r9uZmZmZmbev1tmZmZmZt4/ZmZmZmZm7j8=",
          "dtype": "f8"
         },
         "y": {
          "bdata": "qkxY6Hq2+79MHcNANBntv0sdw0A0Ge2/qUxY6Hq2+79XhSfYLXAEwFiFJ9gtcATAq0xY6Hq2+78=",
          "dtype": "f8"
         }
        },
        {
         "hoverinfo": "skip",
         "mode": "text",
         "name": "",
         "showlegend": false,
         "text": [
          "(0,-1,1)"
         ],
         "textfont": {
          "color": "darkgray",
          "size": 10
         },
         "type": "scatter",
         "x": [
          0
         ],
         "y": [
          -1.7320508075688772
         ]
        },
        {
         "fill": "toself",
         "fillcolor": "#F5F5F5",
         "hovertemplate": "Empty<br>q=3, r=0, s=-3<extra></extra>",
         "line": {
          "color": "lightgray",
          "width": 1
         },
         "mode": "lines",
         "name": "",
         "showlegend": false,
         "type": "scatter",
         "x": {
          "bdata": "zczMzMzMFUBmZmZmZuYTQJqZmZmZGRBAZmZmZmZmDECZmZmZmRkQQGZmZmZm5hNAzczMzMzMFUA=",
          "dtype": "f8"
         },
         "y": {
          "bdata": "gDlCLtzIBECCmD2SzF0LQIKYPZLMXQtAgDlCLtzIBED8tI2U12f8P/q0jZTXZ/w/fzlCLtzIBEA=",
          "dtype": "f8"
         }
        },
        {
         "hoverinfo": "skip",
         "mode": "text",
         "name": "",
         "showlegend": false,
         "text": [
          "(3,0,-3)"
         ],
         "textfont": {
          "color": "darkgray",
          "size": 10
         },
         "type": "scatter",
         "x": [
          4.5
         ],
         "y": [
          2.598076211353316
         ]
        },
        {
         "fill": "toself",
         "fillcolor": "#F5F5F5",
         "hovertemplate": "Empty<br>q=1, r=0, s=-1<extra></extra>",
         "line": {
          "color": "lightgray",
          "width": 1
         },
         "mode": "lines",
         "name": "",
         "showlegend": false,
         "type": "scatter",
         "x": {
          "bdata": "mpmZmZmZA0CamZmZmZn/P2hmZmZmZvA/mpmZmZmZ4T9kZmZmZmbwP5eZmZmZmf8/mpmZmZmZA0A=",
          "dtype": "f8"
         },
         "y": {
          "bdata": "qkxY6Hq26z9Z5CI8HgX7P1rkIjweBfs/q0xY6Hq26z8wCq2GlSumP/AJrYaVK6Y/qExY6Hq26z8=",
          "dtype": "f8"
         }
        },
        {
         "hoverinfo": "skip",
         "mode": "text",
         "name": "",
         "showlegend": false,
         "text": [
          "(1,0,-1)"
         ],
         "textfont": {
          "color": "darkgray",
          "size": 10
         },
         "type": "scatter",
         "x": [
          1.5
         ],
         "y": [
          0.8660254037844386
         ]
        },
        {
         "fill": "toself",
         "fillcolor": "#F5F5F5",
         "hovertemplate": "Empty<br>q=-1, r=0, s=1<extra></extra>",
         "line": {
          "color": "lightgray",
          "width": 1
         },
         "mode": "lines",
         "name": "",
         "showlegend": false,
         "type": "scatter",
         "x": {
          "bdata": "mpmZmZmZ4b9mZmZmZmbwv5iZmZmZmf+/mpmZmZmZA8CcmZmZmZn/v2lmZmZmZvC/mpmZmZmZ4b8=",
          "dtype": "f8"
         },
         "y": {
          "bdata": "qkxY6Hq2678gCq2GlSumvxAKrYaVK6a/qUxY6Hq2679Y5CI8HgX7v1rkIjweBfu/rExY6Hq2678=",
          "dtype": "f8"
         }
        },
        {
         "hoverinfo": "skip",
         "mode": "text",
         "name": "",
         "showlegend": false,
         "text": [
          "(-1,0,1)"
         ],
         "textfont": {
          "color": "darkgray",
          "size": 10
         },
         "type": "scatter",
         "x": [
          -1.5
         ],
         "y": [
          -0.8660254037844386
         ]
        },
        {
         "fill": "toself",
         "fillcolor": "#F5F5F5",
         "hovertemplate": "Empty<br>q=-1, r=2, s=-1<extra></extra>",
         "line": {
          "color": "lightgray",
          "width": 1
         },
         "mode": "lines",
         "name": "",
         "showlegend": false,
         "type": "scatter",
         "x": {
          "bdata": "mpmZmZmZ4b9mZmZmZmbwv5iZmZmZmf+/mpmZmZmZA8CcmZmZmZn/v2lmZmZmZvC/mpmZmZmZ4b8=",
          "dtype": "f8"
         },
         "y": {
          "bdata": "gDlCLtzIBECCmD2SzF0LQIKYPZLMXQtAgDlCLtzIBED8tI2U12f8P/q0jZTXZ/w/fzlCLtzIBEA=",
          "dtype": "f8"
         }
        },
        {
         "hoverinfo": "skip",
         "mode": "text",
         "name": "",
         "showlegend": false,
         "text": [
          "(-1,2,-1)"
         ],
         "textfont": {
          "color": "darkgray",
          "size": 10
         },
         "type": "scatter",
         "x": [
          -1.5
         ],
         "y": [
          2.598076211353316
         ]
        },
        {
         "fill": "toself",
         "fillcolor": "#F5F5F5",
         "hovertemplate": "Empty<br>q=1, r=-2, s=1<extra></extra>",
         "line": {
          "color": "lightgray",
          "width": 1
         },
         "mode": "lines",
         "name": "",
         "showlegend": false,
         "type": "scatter",
         "x": {
          "bdata": "mpmZmZmZA0CamZmZmZn/P2hmZmZmZvA/mpmZmZmZ4T9kZmZmZmbwP5eZmZmZmf8/mpmZmZmZA0A=",
          "dtype": "f8"
         },
         "y": {
          "bdata": "gDlCLtzIBMD8tI2U12f8v/y0jZTXZ/y/gDlCLtzIBMCCmD2SzF0LwIOYPZLMXQvAgTlCLtzIBMA=",
          "dtype": "f8"
         }
        },
        {
         "hoverinfo": "skip",
         "mode": "text",
         "name": "",
         "showlegend": false,
         "text": [
          "(1,-2,1)"
         ],
         "textfont": {
          "color": "darkgray",
          "size": 10
         },
         "type": "scatter",
         "x": [
          1.5
         ],
         "y": [
          -2.598076211353316
         ]
        },
        {
         "fill": "toself",
         "fillcolor": "#F5F5F5",
         "hovertemplate": "Empty<br>q=4, r=-2, s=-2<extra></extra>",
         "line": {
          "color": "lightgray",
          "width": 1
         },
         "mode": "lines",
         "name": "",
         "showlegend": false,
         "type": "scatter",
         "x": {
          "bdata": "zczMzMzMG0BmZmZmZuYZQJqZmZmZGRZAMzMzMzMzFECZmZmZmRkWQGZmZmZm5hlAzczMzMzMG0A=",
          "dtype": "f8"
         },
         "y": {
          "bdata": "AAAAAAAAAAAIfO2PwVPqPwl87Y/BU+o/07254z3EoDwHfO2PwVPqvwt87Y/BU+q/07254z3EsLw=",
          "dtype": "f8"
         }
        },
        {
         "hoverinfo": "skip",
         "mode": "text",
         "name": "",
         "showlegend": false,
         "text": [
          "(4,-2,-2)"
         ],
         "textfont": {
          "color": "darkgray",
          "size": 10
         },
         "type": "scatter",
         "x": [
          6
         ],
         "y": [
          0
         ]
        },
        {
         "fill": "toself",
         "fillcolor": "#F5F5F5",
         "hovertemplate": "Empty<br>q=4, r=-1, s=-3<extra></extra>",
         "line": {
          "color": "lightgray",
          "width": 1
         },
         "mode": "lines",
         "name": "",
         "showlegend": false,
         "type": "scatter",
         "x": {
          "bdata": "zczMzMzMG0BmZmZmZuYZQJqZmZmZGRZAMzMzMzMzFECZmZmZmRkWQGZmZmZm5hlAzczMzMzMG0A=",
          "dtype": "f8"
         },
         "y": {
          "bdata": "qkxY6Hq2+z9XhSfYLXAEQFeFJ9gtcARAq0xY6Hq2+z9NHcNANBntP0kdw0A0Ge0/qUxY6Hq2+z8=",
          "dtype": "f8"
         }
        },
        {
         "hoverinfo": "skip",
         "mode": "text",
         "name": "",
         "showlegend": false,
         "text": [
          "(4,-1,-3)"
         ],
         "textfont": {
          "color": "darkgray",
          "size": 10
         },
         "type": "scatter",
         "x": [
          6
         ],
         "y": [
          1.7320508075688772
         ]
        },
        {
         "fill": "toself",
         "fillcolor": "#F5F5F5",
         "hovertemplate": "Empty<br>q=-1, r=1, s=0<extra></extra>",
         "line": {
          "color": "lightgray",
          "width": 1
         },
         "mode": "lines",
         "name": "",
         "showlegend": false,
         "type": "scatter",
         "x": {
          "bdata": "mpmZmZmZ4b9mZmZmZmbwv5iZmZmZmf+/mpmZmZmZA8CcmZmZmZn/v2lmZmZmZvC/mpmZmZmZ4b8=",
          "dtype": "f8"
         },
         "y": {
          "bdata": "qkxY6Hq26z9Z5CI8HgX7P1rkIjweBfs/q0xY6Hq26z8wCq2GlSumP/AJrYaVK6Y/qExY6Hq26z8=",
          "dtype": "f8"
         }
        },
        {
         "hoverinfo": "skip",
         "mode": "text",
         "name": "",
         "showlegend": false,
         "text": [
          "(-1,1,0)"
         ],
         "textfont": {
          "color": "darkgray",
          "size": 10
         },
         "type": "scatter",
         "x": [
          -1.5
         ],
         "y": [
          0.8660254037844386
         ]
        },
        {
         "fill": "toself",
         "fillcolor": "#F5F5F5",
         "hovertemplate": "Empty<br>q=3, r=-2, s=-1<extra></extra>",
         "line": {
          "color": "lightgray",
          "width": 1
         },
         "mode": "lines",
         "name": "",
         "showlegend": false,
         "type": "scatter",
         "x": {
          "bdata": "zczMzMzMFUBmZmZmZuYTQJqZmZmZGRBAZmZmZmZmDECZmZmZmRkQQGZmZmZm5hNAzczMzMzMFUA=",
          "dtype": "f8"
         },
         "y": {
          "bdata": "qExY6Hq2678ACq2GlSumv/AJrYaVK6a/p0xY6Hq2679Y5CI8HgX7v1rkIjweBfu/qkxY6Hq2678=",
          "dtype": "f8"
         }
        },
        {
         "hoverinfo": "skip",
         "mode": "text",
         "name": "",
         "showlegend": false,
         "text": [
          "(3,-2,-1)"
         ],
         "textfont": {
          "color": "darkgray",
          "size": 10
         },
         "type": "scatter",
         "x": [
          4.5
         ],
         "y": [
          -0.8660254037844384
         ]
        },
        {
         "fill": "toself",
         "fillcolor": "#F5F5F5",
         "hovertemplate": "Empty<br>q=1, r=1, s=-2<extra></extra>",
         "line": {
          "color": "lightgray",
          "width": 1
         },
         "mode": "lines",
         "name": "",
         "showlegend": false,
         "type": "scatter",
         "x": {
          "bdata": "mpmZmZmZA0CamZmZmZn/P2hmZmZmZvA/mpmZmZmZ4T9kZmZmZmbwP5eZmZmZmf8/mpmZmZmZA0A=",
          "dtype": "f8"
         },
         "y": {
          "bdata": "gDlCLtzIBECCmD2SzF0LQIKYPZLMXQtAgDlCLtzIBED8tI2U12f8P/q0jZTXZ/w/fzlCLtzIBEA=",
          "dtype": "f8"
         }
        },
        {
         "hoverinfo": "skip",
         "mode": "text",
         "name": "",
         "showlegend": false,
         "text": [
          "(1,1,-2)"
         ],
         "textfont": {
          "color": "darkgray",
          "size": 10
         },
         "type": "scatter",
         "x": [
          1.5
         ],
         "y": [
          2.598076211353316
         ]
        },
        {
         "fill": "toself",
         "fillcolor": "#F5F5F5",
         "hovertemplate": "Empty<br>q=0, r=2, s=-2<extra></extra>",
         "line": {
          "color": "lightgray",
          "width": 1
         },
         "mode": "lines",
         "name": "",
         "showlegend": false,
         "type": "scatter",
         "x": {
          "bdata": "ZmZmZmZm7j9oZmZmZmbeP2JmZmZmZt6/ZmZmZmZm7r9uZmZmZmbev1tmZmZmZt4/ZmZmZmZm7j8=",
          "dtype": "f8"
         },
         "y": {
          "bdata": "qkxY6Hq2C0DW1SmmtSURQNbVKaa1JRFAqkxY6Hq2C0Co7VyEiiEFQKftXISKIQVAqUxY6Hq2C0A=",
          "dtype": "f8"
         }
        },
        {
         "hoverinfo": "skip",
         "mode": "text",
         "name": "",
         "showlegend": false,
         "text": [
          "(0,2,-2)"
         ],
         "textfont": {
          "color": "darkgray",
          "size": 10
         },
         "type": "scatter",
         "x": [
          0
         ],
         "y": [
          3.4641016151377544
         ]
        },
        {
         "fill": "toself",
         "fillcolor": "#FFFFFF",
         "hovertemplate": "Ant (white)<br>Position: (0,0,0)<extra></extra>",
         "line": {
          "color": "#808080",
          "width": 2
         },
         "mode": "lines",
         "name": "",
         "showlegend": false,
         "type": "scatter",
         "x": {
          "bdata": "ZmZmZmZm7j9oZmZmZmbeP2JmZmZmZt6/ZmZmZmZm7r9uZmZmZmbev1tmZmZmZt4/ZmZmZmZm7j8=",
          "dtype": "f8"
         },
         "y": {
          "bdata": "AAAAAAAAAAAIfO2PwVPqPwl87Y/BU+o/07254z3EoDwHfO2PwVPqvwt87Y/BU+q/07254z3EsLw=",
          "dtype": "f8"
         }
        },
        {
         "hoverinfo": "skip",
         "mode": "text",
         "name": "",
         "showlegend": false,
         "text": [
          "🐜"
         ],
         "textfont": {
          "color": "black",
          "size": 23
         },
         "type": "scatter",
         "x": [
          0
         ],
         "y": [
          0
         ]
        },
        {
         "hoverinfo": "skip",
         "mode": "text",
         "name": "",
         "showlegend": false,
         "text": [
          "(0,0,0)"
         ],
         "textfont": {
          "color": "gray",
          "size": 8
         },
         "type": "scatter",
         "x": [
          0
         ],
         "y": [
          -0.3
         ]
        },
        {
         "fill": "toself",
         "fillcolor": "#1D1A1A",
         "hovertemplate": "Ant (black)<br>Position: (1,-1,0)<extra></extra>",
         "line": {
          "color": "#000000",
          "width": 2
         },
         "mode": "lines",
         "name": "",
         "showlegend": false,
         "type": "scatter",
         "x": {
          "bdata": "mpmZmZmZA0CamZmZmZn/P2hmZmZmZvA/mpmZmZmZ4T9kZmZmZmbwP5eZmZmZmf8/mpmZmZmZA0A=",
          "dtype": "f8"
         },
         "y": {
          "bdata": "qkxY6Hq2678gCq2GlSumvxAKrYaVK6a/qUxY6Hq2679Y5CI8HgX7v1rkIjweBfu/rExY6Hq2678=",
          "dtype": "f8"
         }
        },
        {
         "hoverinfo": "skip",
         "mode": "text",
         "name": "",
         "showlegend": false,
         "text": [
          "🐜"
         ],
         "textfont": {
          "color": "black",
          "size": 23
         },
         "type": "scatter",
         "x": [
          1.5
         ],
         "y": [
          -0.8660254037844386
         ]
        },
        {
         "hoverinfo": "skip",
         "mode": "text",
         "name": "",
         "showlegend": false,
         "text": [
          "(1,-1,0)"
         ],
         "textfont": {
          "color": "gray",
          "size": 8
         },
         "type": "scatter",
         "x": [
          1.5
         ],
         "y": [
          -1.1660254037844386
         ]
        },
        {
         "fill": "toself",
         "fillcolor": "#FFFFFF",
         "hovertemplate": "Ant (white)<br>Position: (2,0,-2)<extra></extra>",
         "line": {
          "color": "#808080",
          "width": 2
         },
         "mode": "lines",
         "name": "",
         "showlegend": false,
         "type": "scatter",
         "x": {
          "bdata": "mpmZmZmZD0DNzMzMzMwLQDQzMzMzMwRAZmZmZmZmAEAyMzMzMzMEQMvMzMzMzAtAmpmZmZmZD0A=",
          "dtype": "f8"
         },
         "y": {
          "bdata": "qkxY6Hq2+z9XhSfYLXAEQFeFJ9gtcARAq0xY6Hq2+z9NHcNANBntP0kdw0A0Ge0/qUxY6Hq2+z8=",
          "dtype": "f8"
         }
        },
        {
         "hoverinfo": "skip",
         "mode": "text",
         "name": "",
         "showlegend": false,
         "text": [
          "🐜"
         ],
         "textfont": {
          "color": "black",
          "size": 23
         },
         "type": "scatter",
         "x": [
          3
         ],
         "y": [
          1.7320508075688772
         ]
        },
        {
         "hoverinfo": "skip",
         "mode": "text",
         "name": "",
         "showlegend": false,
         "text": [
          "(2,0,-2)"
         ],
         "textfont": {
          "color": "gray",
          "size": 8
         },
         "type": "scatter",
         "x": [
          3
         ],
         "y": [
          1.4320508075688771
         ]
        },
        {
         "fill": "toself",
         "fillcolor": "#1D1A1A",
         "hovertemplate": "Ant (black)<br>Position: (2,-1,-1)<extra></extra>",
         "line": {
          "color": "#000000",
          "width": 2
         },
         "mode": "lines",
         "name": "",
         "showlegend": false,
         "type": "scatter",
         "x": {
          "bdata": "mpmZmZmZD0DNzMzMzMwLQDQzMzMzMwRAZmZmZmZmAEAyMzMzMzMEQMvMzMzMzAtAmpmZmZmZD0A=",
          "dtype": "f8"
         },
         "y": {
          "bdata": "AAAAAAAAAAAIfO2PwVPqPwl87Y/BU+o/07254z3EoDwHfO2PwVPqvwt87Y/BU+q/07254z3EsLw=",
          "dtype": "f8"
         }
        },
        {
         "hoverinfo": "skip",
         "mode": "text",
         "name": "",
         "showlegend": false,
         "text": [
          "🐜"
         ],
         "textfont": {
          "color": "black",
          "size": 23
         },
         "type": "scatter",
         "x": [
          3
         ],
         "y": [
          0
         ]
        },
        {
         "hoverinfo": "skip",
         "mode": "text",
         "name": "",
         "showlegend": false,
         "text": [
          "(2,-1,-1)"
         ],
         "textfont": {
          "color": "gray",
          "size": 8
         },
         "type": "scatter",
         "x": [
          3
         ],
         "y": [
          -0.3
         ]
        },
        {
         "fill": "toself",
         "fillcolor": "#FFFFFF",
         "hovertemplate": "QueenBee (white)<br>Position: (0,1,-1)<extra></extra>",
         "line": {
          "color": "#808080",
          "width": 2
         },
         "mode": "lines",
         "name": "",
         "showlegend": false,
         "type": "scatter",
         "x": {
          "bdata": "ZmZmZmZm7j9oZmZmZmbeP2JmZmZmZt6/ZmZmZmZm7r9uZmZmZmbev1tmZmZmZt4/ZmZmZmZm7j8=",
          "dtype": "f8"
         },
         "y": {
          "bdata": "qkxY6Hq2+z9XhSfYLXAEQFeFJ9gtcARAq0xY6Hq2+z9NHcNANBntP0kdw0A0Ge0/qUxY6Hq2+z8=",
          "dtype": "f8"
         }
        },
        {
         "hoverinfo": "skip",
         "mode": "text",
         "name": "",
         "showlegend": false,
         "text": [
          "🐝"
         ],
         "textfont": {
          "color": "black",
          "size": 23
         },
         "type": "scatter",
         "x": [
          0
         ],
         "y": [
          1.7320508075688772
         ]
        },
        {
         "hoverinfo": "skip",
         "mode": "text",
         "name": "",
         "showlegend": false,
         "text": [
          "(0,1,-1)"
         ],
         "textfont": {
          "color": "gray",
          "size": 8
         },
         "type": "scatter",
         "x": [
          0
         ],
         "y": [
          1.4320508075688771
         ]
        },
        {
         "fill": "toself",
         "fillcolor": "#1D1A1A",
         "hovertemplate": "QueenBee (black)<br>Position: (3,-1,-2)<extra></extra>",
         "line": {
          "color": "#000000",
          "width": 2
         },
         "mode": "lines",
         "name": "",
         "showlegend": false,
         "type": "scatter",
         "x": {
          "bdata": "zczMzMzMFUBmZmZmZuYTQJqZmZmZGRBAZmZmZmZmDECZmZmZmRkQQGZmZmZm5hNAzczMzMzMFUA=",
          "dtype": "f8"
         },
         "y": {
          "bdata": "rExY6Hq26z9a5CI8HgX7P1rkIjweBfs/rUxY6Hq26z9QCq2GlSumPxAKrYaVK6Y/qkxY6Hq26z8=",
          "dtype": "f8"
         }
        },
        {
         "hoverinfo": "skip",
         "mode": "text",
         "name": "",
         "showlegend": false,
         "text": [
          "🐝"
         ],
         "textfont": {
          "color": "black",
          "size": 23
         },
         "type": "scatter",
         "x": [
          4.5
         ],
         "y": [
          0.8660254037844388
         ]
        },
        {
         "hoverinfo": "skip",
         "mode": "text",
         "name": "",
         "showlegend": false,
         "text": [
          "(3,-1,-2)"
         ],
         "textfont": {
          "color": "gray",
          "size": 8
         },
         "type": "scatter",
         "x": [
          4.5
         ],
         "y": [
          0.5660254037844388
         ]
        }
       ],
       "layout": {
        "height": 800,
        "hovermode": "closest",
        "plot_bgcolor": "white",
        "template": {
         "data": {
          "bar": [
           {
            "error_x": {
             "color": "#2a3f5f"
            },
            "error_y": {
             "color": "#2a3f5f"
            },
            "marker": {
             "line": {
              "color": "#E5ECF6",
              "width": 0.5
             },
             "pattern": {
              "fillmode": "overlay",
              "size": 10,
              "solidity": 0.2
             }
            },
            "type": "bar"
           }
          ],
          "barpolar": [
           {
            "marker": {
             "line": {
              "color": "#E5ECF6",
              "width": 0.5
             },
             "pattern": {
              "fillmode": "overlay",
              "size": 10,
              "solidity": 0.2
             }
            },
            "type": "barpolar"
           }
          ],
          "carpet": [
           {
            "aaxis": {
             "endlinecolor": "#2a3f5f",
             "gridcolor": "white",
             "linecolor": "white",
             "minorgridcolor": "white",
             "startlinecolor": "#2a3f5f"
            },
            "baxis": {
             "endlinecolor": "#2a3f5f",
             "gridcolor": "white",
             "linecolor": "white",
             "minorgridcolor": "white",
             "startlinecolor": "#2a3f5f"
            },
            "type": "carpet"
           }
          ],
          "choropleth": [
           {
            "colorbar": {
             "outlinewidth": 0,
             "ticks": ""
            },
            "type": "choropleth"
           }
          ],
          "contour": [
           {
            "colorbar": {
             "outlinewidth": 0,
             "ticks": ""
            },
            "colorscale": [
             [
              0,
              "#0d0887"
             ],
             [
              0.1111111111111111,
              "#46039f"
             ],
             [
              0.2222222222222222,
              "#7201a8"
             ],
             [
              0.3333333333333333,
              "#9c179e"
             ],
             [
              0.4444444444444444,
              "#bd3786"
             ],
             [
              0.5555555555555556,
              "#d8576b"
             ],
             [
              0.6666666666666666,
              "#ed7953"
             ],
             [
              0.7777777777777778,
              "#fb9f3a"
             ],
             [
              0.8888888888888888,
              "#fdca26"
             ],
             [
              1,
              "#f0f921"
             ]
            ],
            "type": "contour"
           }
          ],
          "contourcarpet": [
           {
            "colorbar": {
             "outlinewidth": 0,
             "ticks": ""
            },
            "type": "contourcarpet"
           }
          ],
          "heatmap": [
           {
            "colorbar": {
             "outlinewidth": 0,
             "ticks": ""
            },
            "colorscale": [
             [
              0,
              "#0d0887"
             ],
             [
              0.1111111111111111,
              "#46039f"
             ],
             [
              0.2222222222222222,
              "#7201a8"
             ],
             [
              0.3333333333333333,
              "#9c179e"
             ],
             [
              0.4444444444444444,
              "#bd3786"
             ],
             [
              0.5555555555555556,
              "#d8576b"
             ],
             [
              0.6666666666666666,
              "#ed7953"
             ],
             [
              0.7777777777777778,
              "#fb9f3a"
             ],
             [
              0.8888888888888888,
              "#fdca26"
             ],
             [
              1,
              "#f0f921"
             ]
            ],
            "type": "heatmap"
           }
          ],
          "histogram": [
           {
            "marker": {
             "pattern": {
              "fillmode": "overlay",
              "size": 10,
              "solidity": 0.2
             }
            },
            "type": "histogram"
           }
          ],
          "histogram2d": [
           {
            "colorbar": {
             "outlinewidth": 0,
             "ticks": ""
            },
            "colorscale": [
             [
              0,
              "#0d0887"
             ],
             [
              0.1111111111111111,
              "#46039f"
             ],
             [
              0.2222222222222222,
              "#7201a8"
             ],
             [
              0.3333333333333333,
              "#9c179e"
             ],
             [
              0.4444444444444444,
              "#bd3786"
             ],
             [
              0.5555555555555556,
              "#d8576b"
             ],
             [
              0.6666666666666666,
              "#ed7953"
             ],
             [
              0.7777777777777778,
              "#fb9f3a"
             ],
             [
              0.8888888888888888,
              "#fdca26"
             ],
             [
              1,
              "#f0f921"
             ]
            ],
            "type": "histogram2d"
           }
          ],
          "histogram2dcontour": [
           {
            "colorbar": {
             "outlinewidth": 0,
             "ticks": ""
            },
            "colorscale": [
             [
              0,
              "#0d0887"
             ],
             [
              0.1111111111111111,
              "#46039f"
             ],
             [
              0.2222222222222222,
              "#7201a8"
             ],
             [
              0.3333333333333333,
              "#9c179e"
             ],
             [
              0.4444444444444444,
              "#bd3786"
             ],
             [
              0.5555555555555556,
              "#d8576b"
             ],
             [
              0.6666666666666666,
              "#ed7953"
             ],
             [
              0.7777777777777778,
              "#fb9f3a"
             ],
             [
              0.8888888888888888,
              "#fdca26"
             ],
             [
              1,
              "#f0f921"
             ]
            ],
            "type": "histogram2dcontour"
           }
          ],
          "mesh3d": [
           {
            "colorbar": {
             "outlinewidth": 0,
             "ticks": ""
            },
            "type": "mesh3d"
           }
          ],
          "parcoords": [
           {
            "line": {
             "colorbar": {
              "outlinewidth": 0,
              "ticks": ""
             }
            },
            "type": "parcoords"
           }
          ],
          "pie": [
           {
            "automargin": true,
            "type": "pie"
           }
          ],
          "scatter": [
           {
            "fillpattern": {
             "fillmode": "overlay",
             "size": 10,
             "solidity": 0.2
            },
            "type": "scatter"
           }
          ],
          "scatter3d": [
           {
            "line": {
             "colorbar": {
              "outlinewidth": 0,
              "ticks": ""
             }
            },
            "marker": {
             "colorbar": {
              "outlinewidth": 0,
              "ticks": ""
             }
            },
            "type": "scatter3d"
           }
          ],
          "scattercarpet": [
           {
            "marker": {
             "colorbar": {
              "outlinewidth": 0,
              "ticks": ""
             }
            },
            "type": "scattercarpet"
           }
          ],
          "scattergeo": [
           {
            "marker": {
             "colorbar": {
              "outlinewidth": 0,
              "ticks": ""
             }
            },
            "type": "scattergeo"
           }
          ],
          "scattergl": [
           {
            "marker": {
             "colorbar": {
              "outlinewidth": 0,
              "ticks": ""
             }
            },
            "type": "scattergl"
           }
          ],
          "scattermap": [
           {
            "marker": {
             "colorbar": {
              "outlinewidth": 0,
              "ticks": ""
             }
            },
            "type": "scattermap"
           }
          ],
          "scattermapbox": [
           {
            "marker": {
             "colorbar": {
              "outlinewidth": 0,
              "ticks": ""
             }
            },
            "type": "scattermapbox"
           }
          ],
          "scatterpolar": [
           {
            "marker": {
             "colorbar": {
              "outlinewidth": 0,
              "ticks": ""
             }
            },
            "type": "scatterpolar"
           }
          ],
          "scatterpolargl": [
           {
            "marker": {
             "colorbar": {
              "outlinewidth": 0,
              "ticks": ""
             }
            },
            "type": "scatterpolargl"
           }
          ],
          "scatterternary": [
           {
            "marker": {
             "colorbar": {
              "outlinewidth": 0,
              "ticks": ""
             }
            },
            "type": "scatterternary"
           }
          ],
          "surface": [
           {
            "colorbar": {
             "outlinewidth": 0,
             "ticks": ""
            },
            "colorscale": [
             [
              0,
              "#0d0887"
             ],
             [
              0.1111111111111111,
              "#46039f"
             ],
             [
              0.2222222222222222,
              "#7201a8"
             ],
             [
              0.3333333333333333,
              "#9c179e"
             ],
             [
              0.4444444444444444,
              "#bd3786"
             ],
             [
              0.5555555555555556,
              "#d8576b"
             ],
             [
              0.6666666666666666,
              "#ed7953"
             ],
             [
              0.7777777777777778,
              "#fb9f3a"
             ],
             [
              0.8888888888888888,
              "#fdca26"
             ],
             [
              1,
              "#f0f921"
             ]
            ],
            "type": "surface"
           }
          ],
          "table": [
           {
            "cells": {
             "fill": {
              "color": "#EBF0F8"
             },
             "line": {
              "color": "white"
             }
            },
            "header": {
             "fill": {
              "color": "#C8D4E3"
             },
             "line": {
              "color": "white"
             }
            },
            "type": "table"
           }
          ]
         },
         "layout": {
          "annotationdefaults": {
           "arrowcolor": "#2a3f5f",
           "arrowhead": 0,
           "arrowwidth": 1
          },
          "autotypenumbers": "strict",
          "coloraxis": {
           "colorbar": {
            "outlinewidth": 0,
            "ticks": ""
           }
          },
          "colorscale": {
           "diverging": [
            [
             0,
             "#8e0152"
            ],
            [
             0.1,
             "#c51b7d"
            ],
            [
             0.2,
             "#de77ae"
            ],
            [
             0.3,
             "#f1b6da"
            ],
            [
             0.4,
             "#fde0ef"
            ],
            [
             0.5,
             "#f7f7f7"
            ],
            [
             0.6,
             "#e6f5d0"
            ],
            [
             0.7,
             "#b8e186"
            ],
            [
             0.8,
             "#7fbc41"
            ],
            [
             0.9,
             "#4d9221"
            ],
            [
             1,
             "#276419"
            ]
           ],
           "sequential": [
            [
             0,
             "#0d0887"
            ],
            [
             0.1111111111111111,
             "#46039f"
            ],
            [
             0.2222222222222222,
             "#7201a8"
            ],
            [
             0.3333333333333333,
             "#9c179e"
            ],
            [
             0.4444444444444444,
             "#bd3786"
            ],
            [
             0.5555555555555556,
             "#d8576b"
            ],
            [
             0.6666666666666666,
             "#ed7953"
            ],
            [
             0.7777777777777778,
             "#fb9f3a"
            ],
            [
             0.8888888888888888,
             "#fdca26"
            ],
            [
             1,
             "#f0f921"
            ]
           ],
           "sequentialminus": [
            [
             0,
             "#0d0887"
            ],
            [
             0.1111111111111111,
             "#46039f"
            ],
            [
             0.2222222222222222,
             "#7201a8"
            ],
            [
             0.3333333333333333,
             "#9c179e"
            ],
            [
             0.4444444444444444,
             "#bd3786"
            ],
            [
             0.5555555555555556,
             "#d8576b"
            ],
            [
             0.6666666666666666,
             "#ed7953"
            ],
            [
             0.7777777777777778,
             "#fb9f3a"
            ],
            [
             0.8888888888888888,
             "#fdca26"
            ],
            [
             1,
             "#f0f921"
            ]
           ]
          },
          "colorway": [
           "#636efa",
           "#EF553B",
           "#00cc96",
           "#ab63fa",
           "#FFA15A",
           "#19d3f3",
           "#FF6692",
           "#B6E880",
           "#FF97FF",
           "#FECB52"
          ],
          "font": {
           "color": "#2a3f5f"
          },
          "geo": {
           "bgcolor": "white",
           "lakecolor": "white",
           "landcolor": "#E5ECF6",
           "showlakes": true,
           "showland": true,
           "subunitcolor": "white"
          },
          "hoverlabel": {
           "align": "left"
          },
          "hovermode": "closest",
          "mapbox": {
           "style": "light"
          },
          "paper_bgcolor": "white",
          "plot_bgcolor": "#E5ECF6",
          "polar": {
           "angularaxis": {
            "gridcolor": "white",
            "linecolor": "white",
            "ticks": ""
           },
           "bgcolor": "#E5ECF6",
           "radialaxis": {
            "gridcolor": "white",
            "linecolor": "white",
            "ticks": ""
           }
          },
          "scene": {
           "xaxis": {
            "backgroundcolor": "#E5ECF6",
            "gridcolor": "white",
            "gridwidth": 2,
            "linecolor": "white",
            "showbackground": true,
            "ticks": "",
            "zerolinecolor": "white"
           },
           "yaxis": {
            "backgroundcolor": "#E5ECF6",
            "gridcolor": "white",
            "gridwidth": 2,
            "linecolor": "white",
            "showbackground": true,
            "ticks": "",
            "zerolinecolor": "white"
           },
           "zaxis": {
            "backgroundcolor": "#E5ECF6",
            "gridcolor": "white",
            "gridwidth": 2,
            "linecolor": "white",
            "showbackground": true,
            "ticks": "",
            "zerolinecolor": "white"
           }
          },
          "shapedefaults": {
           "line": {
            "color": "#2a3f5f"
           }
          },
          "ternary": {
           "aaxis": {
            "gridcolor": "white",
            "linecolor": "white",
            "ticks": ""
           },
           "baxis": {
            "gridcolor": "white",
            "linecolor": "white",
            "ticks": ""
           },
           "bgcolor": "#E5ECF6",
           "caxis": {
            "gridcolor": "white",
            "linecolor": "white",
            "ticks": ""
           }
          },
          "title": {
           "x": 0.05
          },
          "xaxis": {
           "automargin": true,
           "gridcolor": "white",
           "linecolor": "white",
           "ticks": "",
           "title": {
            "standoff": 15
           },
           "zerolinecolor": "white",
           "zerolinewidth": 2
          },
          "yaxis": {
           "automargin": true,
           "gridcolor": "white",
           "linecolor": "white",
           "ticks": "",
           "title": {
            "standoff": 15
           },
           "zerolinecolor": "white",
           "zerolinewidth": 2
          }
         }
        },
        "title": {
         "text": "Hive - digitally made by Dan"
        },
        "width": 800,
        "xaxis": {
         "gridcolor": "lightgray",
         "scaleanchor": "y",
         "scaleratio": 1,
         "showgrid": true,
         "zeroline": true
        },
        "yaxis": {
         "gridcolor": "lightgray",
         "showgrid": true,
         "zeroline": true
        }
       }
      }
     },
     "metadata": {},
     "output_type": "display_data"
    }
   ],
   "source": [
    "game = Game()\n",
    "\n",
    "id = game.apply_turn(Turn(\n",
    "    player='white',\n",
    "    piece_type = 'ant',\n",
    "    action_type='place', \n",
    "    target_coordinates=HexCoordinate(q=0, r=0, s=0)\n",
    "))\n",
    "\n",
    "id = game.apply_turn(Turn(\n",
    "    player='black',\n",
    "    piece_type = 'ant',\n",
    "    action_type='place',\n",
    "    target_coordinates=HexCoordinate(q=1, r=-1, s=0)\n",
    "))\n",
    "\n",
    "game.apply_turn(Turn(\n",
    "    player='white',\n",
    "    piece_type='ant',\n",
    "    action_type='place',\n",
    "    target_coordinates=HexCoordinate(q=-1, r=1, s=0)\n",
    "))\n",
    "\n",
    "game.apply_turn(Turn(\n",
    "    player='black',\n",
    "    piece_type='ant',\n",
    "    action_type='place',\n",
    "    target_coordinates=HexCoordinate(q=2, r=-1, s=-1)\n",
    "))\n",
    "\n",
    "whiteid = game.apply_turn(Turn(\n",
    "    player='white',\n",
    "    piece_type='queen',\n",
    "    action_type='place',\n",
    "    target_coordinates=HexCoordinate(q=0, r=1, s=-1)\n",
    "))\n",
    "\n",
    "id = game.apply_turn(Turn(\n",
    "    player='black',\n",
    "    piece_type='queen',\n",
    "    action_type='place',\n",
    "    target_coordinates=HexCoordinate(q=3, r=-1, s=-2)\n",
    "))\n",
    "\n",
    "movepiece = game.game_state.get_piece_by_coordinates(HexCoordinate(q=-1, r=1, s=0))\n",
    "\n",
    "game.apply_turn(Turn(\n",
    "    player='white',\n",
    "    piece_id=movepiece.piece_id,\n",
    "    action_type='move',\n",
    "    target_coordinates=HexCoordinate(q=2, r=0, s=-2)\n",
    "))\n",
    "\n",
    "\n",
    "visualize_game_board(game.game_state.board_state, show_empty_hexes=game.game_state.get_available_spaces())\n",
    "\n",
    "# # Check white queen location\n",
    "# white_queen = game.game_state.get_queen('white')\n",
    "# if white_queen and white_queen.location == 'board':\n",
    "#     print(f\"White queen is at: ({white_queen.hex_coordinates.q}, {white_queen.hex_coordinates.r}, {white_queen.hex_coordinates.s})\")"
   ]
  },
  {
   "cell_type": "markdown",
   "id": "13d8a4e8",
   "metadata": {},
   "source": [
    "Turn 0: RandomBot (white)\n",
    "  Action: place\n",
    "  Piece: queenbee\n",
    "  Target: (0, 0, 0)\n",
    "\n",
    "Turn 1: RandomBot (black)\n",
    "  Action: place\n",
    "  Piece: ant\n",
    "  Target: (1, 0, -1)\n",
    "\n",
    "Turn 2: RandomBot (white)\n",
    "  Action: place\n",
    "  Piece: ant\n",
    "  Target: (-1, 1, 0)\n",
    "\n",
    "Turn 3: RandomBot (black)\n",
    "  Action: move\n",
    "  Target: (-2, 2, 0)\n",
    "\n",
    "Turn 4: RandomBot (white)\n",
    "  Action: place\n",
    "  Piece: ant\n",
    "  Target: (0, -1, 1)\n",
    "No valid placement spaces for ant\n",
    "Available spaces checked: 12\n",
    "\n",
    "Turn 5: RandomBot (black)\n",
    "  Action: forfeit\n",
    "black has forfeited the game.\n",
    "\n",
    "Turn 6: RandomBot (white)\n",
    "  Action: place\n",
    "  Piece: ant\n",
    "  Target: (0, -2, 2)\n",
    "No valid placement spaces for queenbee\n",
    "Available spaces checked: 14\n",
    "\n",
    "Turn 7: RandomBot (black)\n",
    "  Action: forfeit\n",
    "black has forfeited the game.\n"
   ]
  },
  {
   "cell_type": "code",
   "execution_count": 9,
   "id": "6c97cb6a",
   "metadata": {},
   "outputs": [
    {
     "data": {
      "application/vnd.plotly.v1+json": {
       "config": {
        "plotlyServerURL": "https://plot.ly"
       },
       "data": [
        {
         "fill": "toself",
         "fillcolor": "#F5F5F5",
         "hovertemplate": "Empty<br>q=-1, r=0, s=1<extra></extra>",
         "line": {
          "color": "lightgray",
          "width": 1
         },
         "mode": "lines",
         "name": "",
         "showlegend": false,
         "type": "scatter",
         "x": {
          "bdata": "mpmZmZmZ4b9mZmZmZmbwv5iZmZmZmf+/mpmZmZmZA8CcmZmZmZn/v2lmZmZmZvC/mpmZmZmZ4b8=",
          "dtype": "f8"
         },
         "y": {
          "bdata": "qkxY6Hq2678gCq2GlSumvxAKrYaVK6a/qUxY6Hq2679Y5CI8HgX7v1rkIjweBfu/rExY6Hq2678=",
          "dtype": "f8"
         }
        },
        {
         "hoverinfo": "skip",
         "mode": "text",
         "name": "",
         "showlegend": false,
         "text": [
          "(-1,0,1)"
         ],
         "textfont": {
          "color": "darkgray",
          "size": 10
         },
         "type": "scatter",
         "x": [
          -1.5
         ],
         "y": [
          -0.8660254037844386
         ]
        },
        {
         "fill": "toself",
         "fillcolor": "#F5F5F5",
         "hovertemplate": "Empty<br>q=-1, r=2, s=-1<extra></extra>",
         "line": {
          "color": "lightgray",
          "width": 1
         },
         "mode": "lines",
         "name": "",
         "showlegend": false,
         "type": "scatter",
         "x": {
          "bdata": "mpmZmZmZ4b9mZmZmZmbwv5iZmZmZmf+/mpmZmZmZA8CcmZmZmZn/v2lmZmZmZvC/mpmZmZmZ4b8=",
          "dtype": "f8"
         },
         "y": {
          "bdata": "gDlCLtzIBECCmD2SzF0LQIKYPZLMXQtAgDlCLtzIBED8tI2U12f8P/q0jZTXZ/w/fzlCLtzIBEA=",
          "dtype": "f8"
         }
        },
        {
         "hoverinfo": "skip",
         "mode": "text",
         "name": "",
         "showlegend": false,
         "text": [
          "(-1,2,-1)"
         ],
         "textfont": {
          "color": "darkgray",
          "size": 10
         },
         "type": "scatter",
         "x": [
          -1.5
         ],
         "y": [
          2.598076211353316
         ]
        },
        {
         "fill": "toself",
         "fillcolor": "#F5F5F5",
         "hovertemplate": "Empty<br>q=1, r=0, s=-1<extra></extra>",
         "line": {
          "color": "lightgray",
          "width": 1
         },
         "mode": "lines",
         "name": "",
         "showlegend": false,
         "type": "scatter",
         "x": {
          "bdata": "mpmZmZmZA0CamZmZmZn/P2hmZmZmZvA/mpmZmZmZ4T9kZmZmZmbwP5eZmZmZmf8/mpmZmZmZA0A=",
          "dtype": "f8"
         },
         "y": {
          "bdata": "qkxY6Hq26z9Z5CI8HgX7P1rkIjweBfs/q0xY6Hq26z8wCq2GlSumP/AJrYaVK6Y/qExY6Hq26z8=",
          "dtype": "f8"
         }
        },
        {
         "hoverinfo": "skip",
         "mode": "text",
         "name": "",
         "showlegend": false,
         "text": [
          "(1,0,-1)"
         ],
         "textfont": {
          "color": "darkgray",
          "size": 10
         },
         "type": "scatter",
         "x": [
          1.5
         ],
         "y": [
          0.8660254037844386
         ]
        },
        {
         "fill": "toself",
         "fillcolor": "#F5F5F5",
         "hovertemplate": "Empty<br>q=-1, r=-1, s=2<extra></extra>",
         "line": {
          "color": "lightgray",
          "width": 1
         },
         "mode": "lines",
         "name": "",
         "showlegend": false,
         "type": "scatter",
         "x": {
          "bdata": "mpmZmZmZ4b9mZmZmZmbwv5iZmZmZmf+/mpmZmZmZA8CcmZmZmZn/v2lmZmZmZvC/mpmZmZmZ4b8=",
          "dtype": "f8"
         },
         "y": {
          "bdata": "gDlCLtzIBMD8tI2U12f8v/y0jZTXZ/y/gDlCLtzIBMCCmD2SzF0LwIOYPZLMXQvAgTlCLtzIBMA=",
          "dtype": "f8"
         }
        },
        {
         "hoverinfo": "skip",
         "mode": "text",
         "name": "",
         "showlegend": false,
         "text": [
          "(-1,-1,2)"
         ],
         "textfont": {
          "color": "darkgray",
          "size": 10
         },
         "type": "scatter",
         "x": [
          -1.5
         ],
         "y": [
          -2.598076211353316
         ]
        },
        {
         "fill": "toself",
         "fillcolor": "#F5F5F5",
         "hovertemplate": "Empty<br>q=-2, r=1, s=1<extra></extra>",
         "line": {
          "color": "lightgray",
          "width": 1
         },
         "mode": "lines",
         "name": "",
         "showlegend": false,
         "type": "scatter",
         "x": {
          "bdata": "ZmZmZmZmAMAzMzMzMzMEwMzMzMzMzAvAmpmZmZmZD8DOzMzMzMwLwDUzMzMzMwTAZmZmZmZmAMA=",
          "dtype": "f8"
         },
         "y": {
          "bdata": "AAAAAAAAAAAIfO2PwVPqPwl87Y/BU+o/07254z3EoDwHfO2PwVPqvwt87Y/BU+q/07254z3EsLw=",
          "dtype": "f8"
         }
        },
        {
         "hoverinfo": "skip",
         "mode": "text",
         "name": "",
         "showlegend": false,
         "text": [
          "(-2,1,1)"
         ],
         "textfont": {
          "color": "darkgray",
          "size": 10
         },
         "type": "scatter",
         "x": [
          -3
         ],
         "y": [
          0
         ]
        },
        {
         "fill": "toself",
         "fillcolor": "#F5F5F5",
         "hovertemplate": "Empty<br>q=-2, r=3, s=-1<extra></extra>",
         "line": {
          "color": "lightgray",
          "width": 1
         },
         "mode": "lines",
         "name": "",
         "showlegend": false,
         "type": "scatter",
         "x": {
          "bdata": "ZmZmZmZmAMAzMzMzMzMEwMzMzMzMzAvAmpmZmZmZD8DOzMzMzMwLwDUzMzMzMwTAZmZmZmZmAMA=",
          "dtype": "f8"
         },
         "y": {
          "bdata": "q0xY6Hq2C0DW1SmmtSURQNfVKaa1JRFAq0xY6Hq2C0Cp7VyEiiEFQKjtXISKIQVAqkxY6Hq2C0A=",
          "dtype": "f8"
         }
        },
        {
         "hoverinfo": "skip",
         "mode": "text",
         "name": "",
         "showlegend": false,
         "text": [
          "(-2,3,-1)"
         ],
         "textfont": {
          "color": "darkgray",
          "size": 10
         },
         "type": "scatter",
         "x": [
          -3
         ],
         "y": [
          3.464101615137755
         ]
        },
        {
         "fill": "toself",
         "fillcolor": "#F5F5F5",
         "hovertemplate": "Empty<br>q=-3, r=3, s=0<extra></extra>",
         "line": {
          "color": "lightgray",
          "width": 1
         },
         "mode": "lines",
         "name": "",
         "showlegend": false,
         "type": "scatter",
         "x": {
          "bdata": "ZmZmZmZmDMCamZmZmRkQwGZmZmZm5hPAzczMzMzMFcBnZmZmZuYTwJqZmZmZGRDAZmZmZmZmDMA=",
          "dtype": "f8"
         },
         "y": {
          "bdata": "gDlCLtzIBECCmD2SzF0LQIKYPZLMXQtAgDlCLtzIBED8tI2U12f8P/q0jZTXZ/w/fzlCLtzIBEA=",
          "dtype": "f8"
         }
        },
        {
         "hoverinfo": "skip",
         "mode": "text",
         "name": "",
         "showlegend": false,
         "text": [
          "(-3,3,0)"
         ],
         "textfont": {
          "color": "darkgray",
          "size": 10
         },
         "type": "scatter",
         "x": [
          -4.5
         ],
         "y": [
          2.598076211353316
         ]
        },
        {
         "fill": "toself",
         "fillcolor": "#F5F5F5",
         "hovertemplate": "Empty<br>q=1, r=-2, s=1<extra></extra>",
         "line": {
          "color": "lightgray",
          "width": 1
         },
         "mode": "lines",
         "name": "",
         "showlegend": false,
         "type": "scatter",
         "x": {
          "bdata": "mpmZmZmZA0CamZmZmZn/P2hmZmZmZvA/mpmZmZmZ4T9kZmZmZmbwP5eZmZmZmf8/mpmZmZmZA0A=",
          "dtype": "f8"
         },
         "y": {
          "bdata": "gDlCLtzIBMD8tI2U12f8v/y0jZTXZ/y/gDlCLtzIBMCCmD2SzF0LwIOYPZLMXQvAgTlCLtzIBMA=",
          "dtype": "f8"
         }
        },
        {
         "hoverinfo": "skip",
         "mode": "text",
         "name": "",
         "showlegend": false,
         "text": [
          "(1,-2,1)"
         ],
         "textfont": {
          "color": "darkgray",
          "size": 10
         },
         "type": "scatter",
         "x": [
          1.5
         ],
         "y": [
          -2.598076211353316
         ]
        },
        {
         "fill": "toself",
         "fillcolor": "#F5F5F5",
         "hovertemplate": "Empty<br>q=1, r=-1, s=0<extra></extra>",
         "line": {
          "color": "lightgray",
          "width": 1
         },
         "mode": "lines",
         "name": "",
         "showlegend": false,
         "type": "scatter",
         "x": {
          "bdata": "mpmZmZmZA0CamZmZmZn/P2hmZmZmZvA/mpmZmZmZ4T9kZmZmZmbwP5eZmZmZmf8/mpmZmZmZA0A=",
          "dtype": "f8"
         },
         "y": {
          "bdata": "qkxY6Hq2678gCq2GlSumvxAKrYaVK6a/qUxY6Hq2679Y5CI8HgX7v1rkIjweBfu/rExY6Hq2678=",
          "dtype": "f8"
         }
        },
        {
         "hoverinfo": "skip",
         "mode": "text",
         "name": "",
         "showlegend": false,
         "text": [
          "(1,-1,0)"
         ],
         "textfont": {
          "color": "darkgray",
          "size": 10
         },
         "type": "scatter",
         "x": [
          1.5
         ],
         "y": [
          -0.8660254037844386
         ]
        },
        {
         "fill": "toself",
         "fillcolor": "#F5F5F5",
         "hovertemplate": "Empty<br>q=0, r=1, s=-1<extra></extra>",
         "line": {
          "color": "lightgray",
          "width": 1
         },
         "mode": "lines",
         "name": "",
         "showlegend": false,
         "type": "scatter",
         "x": {
          "bdata": "ZmZmZmZm7j9oZmZmZmbeP2JmZmZmZt6/ZmZmZmZm7r9uZmZmZmbev1tmZmZmZt4/ZmZmZmZm7j8=",
          "dtype": "f8"
         },
         "y": {
          "bdata": "qkxY6Hq2+z9XhSfYLXAEQFeFJ9gtcARAq0xY6Hq2+z9NHcNANBntP0kdw0A0Ge0/qUxY6Hq2+z8=",
          "dtype": "f8"
         }
        },
        {
         "hoverinfo": "skip",
         "mode": "text",
         "name": "",
         "showlegend": false,
         "text": [
          "(0,1,-1)"
         ],
         "textfont": {
          "color": "darkgray",
          "size": 10
         },
         "type": "scatter",
         "x": [
          0
         ],
         "y": [
          1.7320508075688772
         ]
        },
        {
         "fill": "toself",
         "fillcolor": "#F5F5F5",
         "hovertemplate": "Empty<br>q=0, r=-2, s=2<extra></extra>",
         "line": {
          "color": "lightgray",
          "width": 1
         },
         "mode": "lines",
         "name": "",
         "showlegend": false,
         "type": "scatter",
         "x": {
          "bdata": "ZmZmZmZm7j9oZmZmZmbeP2JmZmZmZt6/ZmZmZmZm7r9uZmZmZmbev1tmZmZmZt4/ZmZmZmZm7j8=",
          "dtype": "f8"
         },
         "y": {
          "bdata": "qkxY6Hq2C8Co7VyEiiEFwKjtXISKIQXAqkxY6Hq2C8DW1SmmtSURwNbVKaa1JRHAq0xY6Hq2C8A=",
          "dtype": "f8"
         }
        },
        {
         "hoverinfo": "skip",
         "mode": "text",
         "name": "",
         "showlegend": false,
         "text": [
          "(0,-2,2)"
         ],
         "textfont": {
          "color": "darkgray",
          "size": 10
         },
         "type": "scatter",
         "x": [
          0
         ],
         "y": [
          -3.4641016151377544
         ]
        },
        {
         "fill": "toself",
         "fillcolor": "#F5F5F5",
         "hovertemplate": "Empty<br>q=-3, r=2, s=1<extra></extra>",
         "line": {
          "color": "lightgray",
          "width": 1
         },
         "mode": "lines",
         "name": "",
         "showlegend": false,
         "type": "scatter",
         "x": {
          "bdata": "ZmZmZmZmDMCamZmZmRkQwGZmZmZm5hPAzczMzMzMFcBnZmZmZuYTwJqZmZmZGRDAZmZmZmZmDMA=",
          "dtype": "f8"
         },
         "y": {
          "bdata": "qExY6Hq26z9Y5CI8HgX7P1jkIjweBfs/qUxY6Hq26z8QCq2GlSumP9AJrYaVK6Y/pkxY6Hq26z8=",
          "dtype": "f8"
         }
        },
        {
         "hoverinfo": "skip",
         "mode": "text",
         "name": "",
         "showlegend": false,
         "text": [
          "(-3,2,1)"
         ],
         "textfont": {
          "color": "darkgray",
          "size": 10
         },
         "type": "scatter",
         "x": [
          -4.5
         ],
         "y": [
          0.8660254037844384
         ]
        },
        {
         "fill": "toself",
         "fillcolor": "#FFFFFF",
         "hovertemplate": "QueenBee (white)<br>Position: (0,0,0)<extra></extra>",
         "line": {
          "color": "#808080",
          "width": 2
         },
         "mode": "lines",
         "name": "",
         "showlegend": false,
         "type": "scatter",
         "x": {
          "bdata": "ZmZmZmZm7j9oZmZmZmbeP2JmZmZmZt6/ZmZmZmZm7r9uZmZmZmbev1tmZmZmZt4/ZmZmZmZm7j8=",
          "dtype": "f8"
         },
         "y": {
          "bdata": "AAAAAAAAAAAIfO2PwVPqPwl87Y/BU+o/07254z3EoDwHfO2PwVPqvwt87Y/BU+q/07254z3EsLw=",
          "dtype": "f8"
         }
        },
        {
         "hoverinfo": "skip",
         "mode": "text",
         "name": "",
         "showlegend": false,
         "text": [
          "🐝"
         ],
         "textfont": {
          "color": "black",
          "size": 23
         },
         "type": "scatter",
         "x": [
          0
         ],
         "y": [
          0
         ]
        },
        {
         "hoverinfo": "skip",
         "mode": "text",
         "name": "",
         "showlegend": false,
         "text": [
          "(0,0,0)"
         ],
         "textfont": {
          "color": "gray",
          "size": 8
         },
         "type": "scatter",
         "x": [
          0
         ],
         "y": [
          -0.3
         ]
        },
        {
         "fill": "toself",
         "fillcolor": "#1D1A1A",
         "hovertemplate": "Ant (black)<br>Position: (-2,2,0)<extra></extra>",
         "line": {
          "color": "#000000",
          "width": 2
         },
         "mode": "lines",
         "name": "",
         "showlegend": false,
         "type": "scatter",
         "x": {
          "bdata": "ZmZmZmZmAMAzMzMzMzMEwMzMzMzMzAvAmpmZmZmZD8DOzMzMzMwLwDUzMzMzMwTAZmZmZmZmAMA=",
          "dtype": "f8"
         },
         "y": {
          "bdata": "qkxY6Hq2+z9XhSfYLXAEQFeFJ9gtcARAq0xY6Hq2+z9NHcNANBntP0kdw0A0Ge0/qUxY6Hq2+z8=",
          "dtype": "f8"
         }
        },
        {
         "hoverinfo": "skip",
         "mode": "text",
         "name": "",
         "showlegend": false,
         "text": [
          "🐜"
         ],
         "textfont": {
          "color": "black",
          "size": 23
         },
         "type": "scatter",
         "x": [
          -3
         ],
         "y": [
          1.7320508075688772
         ]
        },
        {
         "hoverinfo": "skip",
         "mode": "text",
         "name": "",
         "showlegend": false,
         "text": [
          "(-2,2,0)"
         ],
         "textfont": {
          "color": "gray",
          "size": 8
         },
         "type": "scatter",
         "x": [
          -3
         ],
         "y": [
          1.4320508075688771
         ]
        },
        {
         "fill": "toself",
         "fillcolor": "#FFFFFF",
         "hovertemplate": "Ant (white)<br>Position: (-1,1,0)<extra></extra>",
         "line": {
          "color": "#808080",
          "width": 2
         },
         "mode": "lines",
         "name": "",
         "showlegend": false,
         "type": "scatter",
         "x": {
          "bdata": "mpmZmZmZ4b9mZmZmZmbwv5iZmZmZmf+/mpmZmZmZA8CcmZmZmZn/v2lmZmZmZvC/mpmZmZmZ4b8=",
          "dtype": "f8"
         },
         "y": {
          "bdata": "qkxY6Hq26z9Z5CI8HgX7P1rkIjweBfs/q0xY6Hq26z8wCq2GlSumP/AJrYaVK6Y/qExY6Hq26z8=",
          "dtype": "f8"
         }
        },
        {
         "hoverinfo": "skip",
         "mode": "text",
         "name": "",
         "showlegend": false,
         "text": [
          "🐜"
         ],
         "textfont": {
          "color": "black",
          "size": 23
         },
         "type": "scatter",
         "x": [
          -1.5
         ],
         "y": [
          0.8660254037844386
         ]
        },
        {
         "hoverinfo": "skip",
         "mode": "text",
         "name": "",
         "showlegend": false,
         "text": [
          "(-1,1,0)"
         ],
         "textfont": {
          "color": "gray",
          "size": 8
         },
         "type": "scatter",
         "x": [
          -1.5
         ],
         "y": [
          0.5660254037844386
         ]
        },
        {
         "fill": "toself",
         "fillcolor": "#FFFFFF",
         "hovertemplate": "Ant (white)<br>Position: (0,-1,1)<extra></extra>",
         "line": {
          "color": "#808080",
          "width": 2
         },
         "mode": "lines",
         "name": "",
         "showlegend": false,
         "type": "scatter",
         "x": {
          "bdata": "ZmZmZmZm7j9oZmZmZmbeP2JmZmZmZt6/ZmZmZmZm7r9uZmZmZmbev1tmZmZmZt4/ZmZmZmZm7j8=",
          "dtype": "f8"
         },
         "y": {
          "bdata": "qkxY6Hq2+79MHcNANBntv0sdw0A0Ge2/qUxY6Hq2+79XhSfYLXAEwFiFJ9gtcATAq0xY6Hq2+78=",
          "dtype": "f8"
         }
        },
        {
         "hoverinfo": "skip",
         "mode": "text",
         "name": "",
         "showlegend": false,
         "text": [
          "🐜"
         ],
         "textfont": {
          "color": "black",
          "size": 23
         },
         "type": "scatter",
         "x": [
          0
         ],
         "y": [
          -1.7320508075688772
         ]
        },
        {
         "hoverinfo": "skip",
         "mode": "text",
         "name": "",
         "showlegend": false,
         "text": [
          "(0,-1,1)"
         ],
         "textfont": {
          "color": "gray",
          "size": 8
         },
         "type": "scatter",
         "x": [
          0
         ],
         "y": [
          -2.032050807568877
         ]
        }
       ],
       "layout": {
        "height": 800,
        "hovermode": "closest",
        "plot_bgcolor": "white",
        "template": {
         "data": {
          "bar": [
           {
            "error_x": {
             "color": "#2a3f5f"
            },
            "error_y": {
             "color": "#2a3f5f"
            },
            "marker": {
             "line": {
              "color": "#E5ECF6",
              "width": 0.5
             },
             "pattern": {
              "fillmode": "overlay",
              "size": 10,
              "solidity": 0.2
             }
            },
            "type": "bar"
           }
          ],
          "barpolar": [
           {
            "marker": {
             "line": {
              "color": "#E5ECF6",
              "width": 0.5
             },
             "pattern": {
              "fillmode": "overlay",
              "size": 10,
              "solidity": 0.2
             }
            },
            "type": "barpolar"
           }
          ],
          "carpet": [
           {
            "aaxis": {
             "endlinecolor": "#2a3f5f",
             "gridcolor": "white",
             "linecolor": "white",
             "minorgridcolor": "white",
             "startlinecolor": "#2a3f5f"
            },
            "baxis": {
             "endlinecolor": "#2a3f5f",
             "gridcolor": "white",
             "linecolor": "white",
             "minorgridcolor": "white",
             "startlinecolor": "#2a3f5f"
            },
            "type": "carpet"
           }
          ],
          "choropleth": [
           {
            "colorbar": {
             "outlinewidth": 0,
             "ticks": ""
            },
            "type": "choropleth"
           }
          ],
          "contour": [
           {
            "colorbar": {
             "outlinewidth": 0,
             "ticks": ""
            },
            "colorscale": [
             [
              0,
              "#0d0887"
             ],
             [
              0.1111111111111111,
              "#46039f"
             ],
             [
              0.2222222222222222,
              "#7201a8"
             ],
             [
              0.3333333333333333,
              "#9c179e"
             ],
             [
              0.4444444444444444,
              "#bd3786"
             ],
             [
              0.5555555555555556,
              "#d8576b"
             ],
             [
              0.6666666666666666,
              "#ed7953"
             ],
             [
              0.7777777777777778,
              "#fb9f3a"
             ],
             [
              0.8888888888888888,
              "#fdca26"
             ],
             [
              1,
              "#f0f921"
             ]
            ],
            "type": "contour"
           }
          ],
          "contourcarpet": [
           {
            "colorbar": {
             "outlinewidth": 0,
             "ticks": ""
            },
            "type": "contourcarpet"
           }
          ],
          "heatmap": [
           {
            "colorbar": {
             "outlinewidth": 0,
             "ticks": ""
            },
            "colorscale": [
             [
              0,
              "#0d0887"
             ],
             [
              0.1111111111111111,
              "#46039f"
             ],
             [
              0.2222222222222222,
              "#7201a8"
             ],
             [
              0.3333333333333333,
              "#9c179e"
             ],
             [
              0.4444444444444444,
              "#bd3786"
             ],
             [
              0.5555555555555556,
              "#d8576b"
             ],
             [
              0.6666666666666666,
              "#ed7953"
             ],
             [
              0.7777777777777778,
              "#fb9f3a"
             ],
             [
              0.8888888888888888,
              "#fdca26"
             ],
             [
              1,
              "#f0f921"
             ]
            ],
            "type": "heatmap"
           }
          ],
          "histogram": [
           {
            "marker": {
             "pattern": {
              "fillmode": "overlay",
              "size": 10,
              "solidity": 0.2
             }
            },
            "type": "histogram"
           }
          ],
          "histogram2d": [
           {
            "colorbar": {
             "outlinewidth": 0,
             "ticks": ""
            },
            "colorscale": [
             [
              0,
              "#0d0887"
             ],
             [
              0.1111111111111111,
              "#46039f"
             ],
             [
              0.2222222222222222,
              "#7201a8"
             ],
             [
              0.3333333333333333,
              "#9c179e"
             ],
             [
              0.4444444444444444,
              "#bd3786"
             ],
             [
              0.5555555555555556,
              "#d8576b"
             ],
             [
              0.6666666666666666,
              "#ed7953"
             ],
             [
              0.7777777777777778,
              "#fb9f3a"
             ],
             [
              0.8888888888888888,
              "#fdca26"
             ],
             [
              1,
              "#f0f921"
             ]
            ],
            "type": "histogram2d"
           }
          ],
          "histogram2dcontour": [
           {
            "colorbar": {
             "outlinewidth": 0,
             "ticks": ""
            },
            "colorscale": [
             [
              0,
              "#0d0887"
             ],
             [
              0.1111111111111111,
              "#46039f"
             ],
             [
              0.2222222222222222,
              "#7201a8"
             ],
             [
              0.3333333333333333,
              "#9c179e"
             ],
             [
              0.4444444444444444,
              "#bd3786"
             ],
             [
              0.5555555555555556,
              "#d8576b"
             ],
             [
              0.6666666666666666,
              "#ed7953"
             ],
             [
              0.7777777777777778,
              "#fb9f3a"
             ],
             [
              0.8888888888888888,
              "#fdca26"
             ],
             [
              1,
              "#f0f921"
             ]
            ],
            "type": "histogram2dcontour"
           }
          ],
          "mesh3d": [
           {
            "colorbar": {
             "outlinewidth": 0,
             "ticks": ""
            },
            "type": "mesh3d"
           }
          ],
          "parcoords": [
           {
            "line": {
             "colorbar": {
              "outlinewidth": 0,
              "ticks": ""
             }
            },
            "type": "parcoords"
           }
          ],
          "pie": [
           {
            "automargin": true,
            "type": "pie"
           }
          ],
          "scatter": [
           {
            "fillpattern": {
             "fillmode": "overlay",
             "size": 10,
             "solidity": 0.2
            },
            "type": "scatter"
           }
          ],
          "scatter3d": [
           {
            "line": {
             "colorbar": {
              "outlinewidth": 0,
              "ticks": ""
             }
            },
            "marker": {
             "colorbar": {
              "outlinewidth": 0,
              "ticks": ""
             }
            },
            "type": "scatter3d"
           }
          ],
          "scattercarpet": [
           {
            "marker": {
             "colorbar": {
              "outlinewidth": 0,
              "ticks": ""
             }
            },
            "type": "scattercarpet"
           }
          ],
          "scattergeo": [
           {
            "marker": {
             "colorbar": {
              "outlinewidth": 0,
              "ticks": ""
             }
            },
            "type": "scattergeo"
           }
          ],
          "scattergl": [
           {
            "marker": {
             "colorbar": {
              "outlinewidth": 0,
              "ticks": ""
             }
            },
            "type": "scattergl"
           }
          ],
          "scattermap": [
           {
            "marker": {
             "colorbar": {
              "outlinewidth": 0,
              "ticks": ""
             }
            },
            "type": "scattermap"
           }
          ],
          "scattermapbox": [
           {
            "marker": {
             "colorbar": {
              "outlinewidth": 0,
              "ticks": ""
             }
            },
            "type": "scattermapbox"
           }
          ],
          "scatterpolar": [
           {
            "marker": {
             "colorbar": {
              "outlinewidth": 0,
              "ticks": ""
             }
            },
            "type": "scatterpolar"
           }
          ],
          "scatterpolargl": [
           {
            "marker": {
             "colorbar": {
              "outlinewidth": 0,
              "ticks": ""
             }
            },
            "type": "scatterpolargl"
           }
          ],
          "scatterternary": [
           {
            "marker": {
             "colorbar": {
              "outlinewidth": 0,
              "ticks": ""
             }
            },
            "type": "scatterternary"
           }
          ],
          "surface": [
           {
            "colorbar": {
             "outlinewidth": 0,
             "ticks": ""
            },
            "colorscale": [
             [
              0,
              "#0d0887"
             ],
             [
              0.1111111111111111,
              "#46039f"
             ],
             [
              0.2222222222222222,
              "#7201a8"
             ],
             [
              0.3333333333333333,
              "#9c179e"
             ],
             [
              0.4444444444444444,
              "#bd3786"
             ],
             [
              0.5555555555555556,
              "#d8576b"
             ],
             [
              0.6666666666666666,
              "#ed7953"
             ],
             [
              0.7777777777777778,
              "#fb9f3a"
             ],
             [
              0.8888888888888888,
              "#fdca26"
             ],
             [
              1,
              "#f0f921"
             ]
            ],
            "type": "surface"
           }
          ],
          "table": [
           {
            "cells": {
             "fill": {
              "color": "#EBF0F8"
             },
             "line": {
              "color": "white"
             }
            },
            "header": {
             "fill": {
              "color": "#C8D4E3"
             },
             "line": {
              "color": "white"
             }
            },
            "type": "table"
           }
          ]
         },
         "layout": {
          "annotationdefaults": {
           "arrowcolor": "#2a3f5f",
           "arrowhead": 0,
           "arrowwidth": 1
          },
          "autotypenumbers": "strict",
          "coloraxis": {
           "colorbar": {
            "outlinewidth": 0,
            "ticks": ""
           }
          },
          "colorscale": {
           "diverging": [
            [
             0,
             "#8e0152"
            ],
            [
             0.1,
             "#c51b7d"
            ],
            [
             0.2,
             "#de77ae"
            ],
            [
             0.3,
             "#f1b6da"
            ],
            [
             0.4,
             "#fde0ef"
            ],
            [
             0.5,
             "#f7f7f7"
            ],
            [
             0.6,
             "#e6f5d0"
            ],
            [
             0.7,
             "#b8e186"
            ],
            [
             0.8,
             "#7fbc41"
            ],
            [
             0.9,
             "#4d9221"
            ],
            [
             1,
             "#276419"
            ]
           ],
           "sequential": [
            [
             0,
             "#0d0887"
            ],
            [
             0.1111111111111111,
             "#46039f"
            ],
            [
             0.2222222222222222,
             "#7201a8"
            ],
            [
             0.3333333333333333,
             "#9c179e"
            ],
            [
             0.4444444444444444,
             "#bd3786"
            ],
            [
             0.5555555555555556,
             "#d8576b"
            ],
            [
             0.6666666666666666,
             "#ed7953"
            ],
            [
             0.7777777777777778,
             "#fb9f3a"
            ],
            [
             0.8888888888888888,
             "#fdca26"
            ],
            [
             1,
             "#f0f921"
            ]
           ],
           "sequentialminus": [
            [
             0,
             "#0d0887"
            ],
            [
             0.1111111111111111,
             "#46039f"
            ],
            [
             0.2222222222222222,
             "#7201a8"
            ],
            [
             0.3333333333333333,
             "#9c179e"
            ],
            [
             0.4444444444444444,
             "#bd3786"
            ],
            [
             0.5555555555555556,
             "#d8576b"
            ],
            [
             0.6666666666666666,
             "#ed7953"
            ],
            [
             0.7777777777777778,
             "#fb9f3a"
            ],
            [
             0.8888888888888888,
             "#fdca26"
            ],
            [
             1,
             "#f0f921"
            ]
           ]
          },
          "colorway": [
           "#636efa",
           "#EF553B",
           "#00cc96",
           "#ab63fa",
           "#FFA15A",
           "#19d3f3",
           "#FF6692",
           "#B6E880",
           "#FF97FF",
           "#FECB52"
          ],
          "font": {
           "color": "#2a3f5f"
          },
          "geo": {
           "bgcolor": "white",
           "lakecolor": "white",
           "landcolor": "#E5ECF6",
           "showlakes": true,
           "showland": true,
           "subunitcolor": "white"
          },
          "hoverlabel": {
           "align": "left"
          },
          "hovermode": "closest",
          "mapbox": {
           "style": "light"
          },
          "paper_bgcolor": "white",
          "plot_bgcolor": "#E5ECF6",
          "polar": {
           "angularaxis": {
            "gridcolor": "white",
            "linecolor": "white",
            "ticks": ""
           },
           "bgcolor": "#E5ECF6",
           "radialaxis": {
            "gridcolor": "white",
            "linecolor": "white",
            "ticks": ""
           }
          },
          "scene": {
           "xaxis": {
            "backgroundcolor": "#E5ECF6",
            "gridcolor": "white",
            "gridwidth": 2,
            "linecolor": "white",
            "showbackground": true,
            "ticks": "",
            "zerolinecolor": "white"
           },
           "yaxis": {
            "backgroundcolor": "#E5ECF6",
            "gridcolor": "white",
            "gridwidth": 2,
            "linecolor": "white",
            "showbackground": true,
            "ticks": "",
            "zerolinecolor": "white"
           },
           "zaxis": {
            "backgroundcolor": "#E5ECF6",
            "gridcolor": "white",
            "gridwidth": 2,
            "linecolor": "white",
            "showbackground": true,
            "ticks": "",
            "zerolinecolor": "white"
           }
          },
          "shapedefaults": {
           "line": {
            "color": "#2a3f5f"
           }
          },
          "ternary": {
           "aaxis": {
            "gridcolor": "white",
            "linecolor": "white",
            "ticks": ""
           },
           "baxis": {
            "gridcolor": "white",
            "linecolor": "white",
            "ticks": ""
           },
           "bgcolor": "#E5ECF6",
           "caxis": {
            "gridcolor": "white",
            "linecolor": "white",
            "ticks": ""
           }
          },
          "title": {
           "x": 0.05
          },
          "xaxis": {
           "automargin": true,
           "gridcolor": "white",
           "linecolor": "white",
           "ticks": "",
           "title": {
            "standoff": 15
           },
           "zerolinecolor": "white",
           "zerolinewidth": 2
          },
          "yaxis": {
           "automargin": true,
           "gridcolor": "white",
           "linecolor": "white",
           "ticks": "",
           "title": {
            "standoff": 15
           },
           "zerolinecolor": "white",
           "zerolinewidth": 2
          }
         }
        },
        "title": {
         "text": "Hive - digitally made by Dan"
        },
        "width": 800,
        "xaxis": {
         "gridcolor": "lightgray",
         "scaleanchor": "y",
         "scaleratio": 1,
         "showgrid": true,
         "zeroline": true
        },
        "yaxis": {
         "gridcolor": "lightgray",
         "showgrid": true,
         "zeroline": true
        }
       }
      }
     },
     "metadata": {},
     "output_type": "display_data"
    }
   ],
   "source": [
    "game = Game()\n",
    "\n",
    "id = game.apply_turn(Turn(\n",
    "    player='white',\n",
    "    piece_type = 'queen',\n",
    "    action_type='place', \n",
    "    target_coordinates=HexCoordinate(q=0, r=0, s=0)\n",
    "))\n",
    "\n",
    "id = game.apply_turn(Turn(\n",
    "    player='black',\n",
    "    piece_type = 'ant',\n",
    "    action_type='place',\n",
    "    target_coordinates=HexCoordinate(q=1, r=0, s=-1)\n",
    "))\n",
    "\n",
    "game.apply_turn(Turn(\n",
    "    player='white',\n",
    "    piece_type='ant',\n",
    "    action_type='place',\n",
    "    target_coordinates=HexCoordinate(q=-1, r=1, s=0)\n",
    "))\n",
    "\n",
    "movepiece = game.game_state.get_piece_by_coordinates(HexCoordinate(q=1, r=0, s=-1))\n",
    "\n",
    "game.apply_turn(Turn(\n",
    "    player='black',\n",
    "    piece_id=movepiece.piece_id,\n",
    "    action_type='move',\n",
    "    target_coordinates=HexCoordinate(q=-2, r=2, s=0)\n",
    "))\n",
    "\n",
    "whiteid = game.apply_turn(Turn(\n",
    "    player='white',\n",
    "    piece_type='ant',\n",
    "    action_type='place',\n",
    "    target_coordinates=HexCoordinate(q=0, r=-1, s=1)\n",
    "))\n",
    "\n",
    "# id = game.apply_turn(Turn(\n",
    "#     player='black',\n",
    "#     piece_type='queen',\n",
    "#     action_type='place',\n",
    "#     target_coordinates=HexCoordinate(q=3, r=-1, s=-2)\n",
    "# ))\n",
    "\n",
    "# movepiece = game.game_state.get_piece_by_coordinates(HexCoordinate(q=-1, r=1, s=0))\n",
    "\n",
    "# game.apply_turn(Turn(\n",
    "#     player='white',\n",
    "#     piece_id=movepiece.piece_id,\n",
    "#     action_type='move',\n",
    "#     target_coordinates=HexCoordinate(q=2, r=0, s=-2)\n",
    "# ))\n",
    "\n",
    "\n",
    "visualize_game_board(game.game_state.board_state, show_empty_hexes=game.game_state.get_available_spaces())\n"
   ]
  },
  {
   "cell_type": "code",
   "execution_count": null,
   "id": "8193fe86",
   "metadata": {},
   "outputs": [],
   "source": []
  }
 ],
 "metadata": {
  "kernelspec": {
   "display_name": "HiveSim",
   "language": "python",
   "name": "python3"
  },
  "language_info": {
   "codemirror_mode": {
    "name": "ipython",
    "version": 3
   },
   "file_extension": ".py",
   "mimetype": "text/x-python",
   "name": "python",
   "nbconvert_exporter": "python",
   "pygments_lexer": "ipython3",
   "version": "3.11.9"
  }
 },
 "nbformat": 4,
 "nbformat_minor": 5
}
