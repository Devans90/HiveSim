{
 "cells": [
  {
   "cell_type": "code",
   "execution_count": 20,
   "id": "14dd03d2",
   "metadata": {},
   "outputs": [],
   "source": [
    "import unittest\n",
    "from pydantic import BaseModel, Field, field_validator, model_validator\n",
    "import plotly.graph_objects as go\n",
    "import numpy as np\n",
    "from typing import List, Optional\n",
    "import uuid"
   ]
  },
  {
   "cell_type": "markdown",
   "id": "8c1c61c2",
   "metadata": {},
   "source": [
    "uses a hexagonal coordinate system\n",
    "\n",
    "ie, going clockwise around origin, pointy side up\n",
    "\n",
    "| q | r | s |\n",
    " |----|--|--|\n",
    "1 |-1 |0\n",
    "1 |0 |-1\n",
    "0 |1 |-1\n",
    "-1| 1 |0\n",
    "-1 |0 |1\n",
    "0 |-1| 1\n",
    "\n",
    "q is in the up right orientation  \n",
    "r is rows in the down orientation  \n",
    "s is in the up left direction  "
   ]
  },
  {
   "cell_type": "markdown",
   "id": "d9045c9f",
   "metadata": {},
   "source": [
    "two coordinates that are adjacant"
   ]
  },
  {
   "cell_type": "markdown",
   "id": "a73f66bb",
   "metadata": {},
   "source": [
    "https://www.redblobgames.com/grids/hexagons/"
   ]
  },
  {
   "cell_type": "code",
   "execution_count": null,
   "id": "43cd65fe",
   "metadata": {},
   "outputs": [],
   "source": [
    "class HexCoordinate(BaseModel):\n",
    "    q: int\n",
    "    r: int\n",
    "    s: int\n",
    "    @field_validator('s', mode='before')\n",
    "    @classmethod\n",
    "    def validate_cube_coordinates(cls, v, values):\n",
    "        if values.data['q'] + values.data['r'] + v != 0:\n",
    "            raise ValueError('Invalid cube coordinates')\n",
    "        return v\n",
    "\n",
    "    def get_adjacent_hexes(self):\n",
    "        directions = [(1, -1, 0), (1, 0, -1), (0, 1, -1), (-1, 1, 0), (-1, 0, 1), (0, -1, 1)]\n",
    "        adjacent = []\n",
    "        for dq, dr, ds in directions:\n",
    "            adjacent.append(HexCoordinate(q=self.q + dq, r=self.r + dr, s=self.s + ds))\n",
    "        return adjacent\n",
    "\n",
    "class GamePiece(BaseModel):\n",
    "    hex_coordinates: Optional[HexCoordinate] = None\n",
    "    icon: str = \"�\"\n",
    "    team: str\n",
    "    piece_id: int = Field(default_factory=lambda: str(uuid.uuid4()))\n",
    "    location: str = Field(default='offboard') # 'offboard', 'board', 'stacked'\n",
    "\n",
    "    @field_validator('team')\n",
    "    @classmethod\n",
    "    def validate_team(cls, v):\n",
    "        if v not in ['black', 'white']:\n",
    "            raise ValueError('Team must be either \"black\" or \"white\"')\n",
    "        return v\n",
    "\n",
    "class Spider(GamePiece):\n",
    "    def __init__(self, hex_coordinates=None, team: str = 'white'):\n",
    "        super().__init__(\n",
    "            hex_coordinates=hex_coordinates, \n",
    "            team=team,\n",
    "            icon=\"🕷️\",\n",
    "            location='offboard'\n",
    "            )\n",
    "\n",
    "class Ant(GamePiece):\n",
    "    def __init__(self, hex_coordinates=None, team: str = 'white'):\n",
    "        super().__init__(\n",
    "            hex_coordinates=hex_coordinates, \n",
    "            team=team,\n",
    "            icon=\"🐜\",\n",
    "            location='offboard'\n",
    "            )\n",
    "\n",
    "class Beetle(GamePiece):\n",
    "    def __init__(self, hex_coordinates=None, team: str = 'white'):\n",
    "        super().__init__(\n",
    "            hex_coordinates=hex_coordinates, \n",
    "            team=team,\n",
    "            icon=\"🪲\",\n",
    "            location='offboard'\n",
    "            )\n",
    "\n",
    "class Grasshopper(GamePiece):\n",
    "    def __init__(self, hex_coordinates=None, team: str = 'white'):\n",
    "        super().__init__(\n",
    "            hex_coordinates=hex_coordinates, \n",
    "            team=team,\n",
    "            icon=\"🦗\",\n",
    "            location='offboard'\n",
    "            )\n",
    "\n",
    "class QueenBee(GamePiece):\n",
    "    def __init__(self, hex_coordinates=None, team: str = 'white'):\n",
    "        super().__init__(\n",
    "            hex_coordinates=hex_coordinates, \n",
    "            team=team,\n",
    "            icon=\"🐝\",\n",
    "            location='offboard'\n",
    "            )\n",
    "\n",
    "class Ladybug(GamePiece):\n",
    "    def __init__(self, hex_coordinates=None, team: str = 'white'):\n",
    "        super().__init__(\n",
    "            hex_coordinates=hex_coordinates, \n",
    "            team=team,\n",
    "            icon=\"🐞\",\n",
    "            location='offboard'\n",
    "            )\n",
    "\n",
    "class Mosquito(GamePiece):\n",
    "    def __init__(self, hex_coordinates=None, team: str = 'white'):\n",
    "        super().__init__(\n",
    "            hex_coordinates=hex_coordinates, \n",
    "            team=team,\n",
    "            icon=\"🦟\",\n",
    "            location='offboard'\n",
    "            )\n",
    "\n",
    "class BoardState(BaseModel):\n",
    "    pieces: dict = Field(default_factory=dict)\n",
    "\n",
    "    def add_piece(self, piece_id: str, coordinates: HexCoordinate):\n",
    "        for existing_piece in self.pieces.values():\n",
    "            if existing_piece.hex_coordinates == coordinates:\n",
    "                raise ValueError('Coordinates already occupied')\n",
    "            if existing_piece.piece_id == piece_id:\n",
    "                raise ValueError('Piece ID already exists on the board')\n",
    "\n",
    "        self.pieces[piece_id] = GamePiece(hex_coordinates=coordinates)\n",
    "        self.pieces[piece_id].location = 'board'\n",
    "\n",
    "    def get_piece(self, piece_id: str):\n",
    "        return self.pieces.get(piece_id, None)\n",
    "    \n",
    "class Player(BaseModel):\n",
    "    name: str\n",
    "    team: str\n",
    "    pieces: List[GamePiece] = Field(default_factory=None)\n",
    "\n",
    "    def __init__(self, name: str, team: str, pieces: Optional[List[GamePiece]] = None):\n",
    "        if pieces is None:\n",
    "            pieces = [\n",
    "                *[Ant(team=team) for _ in range(12)],\n",
    "                QueenBee(team=team)\n",
    "                # super basic mode to start. add more pieces later\n",
    "            ]\n",
    "        super().__init__(name=name, team=team, pieces=pieces)\n",
    "\n",
    "    @field_validator('team')\n",
    "    @classmethod\n",
    "    def validate_team(cls, v):\n",
    "        if v not in ['black', 'white']:\n",
    "            raise ValueError('Team must be either \"black\" or \"white\"')\n",
    "        return v\n",
    "\n",
    "class GameState(BaseModel):\n",
    "    turn: int = Field(0, ge=0)\n",
    "    white_player: Player = Player(name='white', team='white', pieces=[])\n",
    "    black_player: Player = Player(name='black', team='black', pieces=[])\n",
    "    current_team: str = Field(default='white')\n",
    "    board_state: BoardState = Field(default_factory=BoardState)\n",
    "    verbose: bool = Field(default=True)\n",
    "\n",
    "    def __init__(self, white_player: Player = None, black_player: Player = None, **data):\n",
    "        if white_player is None:\n",
    "            white_player = Player(name='white', team='white')\n",
    "        if black_player is None:\n",
    "            black_player = Player(name='black', team='black')\n",
    "        super().__init__(white_player=white_player, black_player=black_player, **data)\n",
    "\n",
    "    def get_occupied_spaces(self):\n",
    "        occupied = []\n",
    "        for piece in self.board_state.pieces.values():\n",
    "            if piece.location == 'offboard':    \n",
    "                pass\n",
    "            elif piece.location == 'board':\n",
    "                occupied.append((piece.hex_coordinates.q, piece.hex_coordinates.r, piece.hex_coordinates.s))\n",
    "\n",
    "        return occupied\n",
    "\n",
    "    def get_available_spaces(self):\n",
    "        if len(self.board_state.pieces) == 0:\n",
    "            if self.verbose:\n",
    "                print(\"No pieces on the board, returning center hex (0,0,0) as available space.\")\n",
    "            return HexCoordinate(q=0, r=0, s=0)  # If no pieces are on the board, return the center hex\n",
    "        \n",
    "        # get occupied spaces\n",
    "        occupied = set(self.get_occupied_spaces())\n",
    "        adjacent = set()\n",
    "\n",
    "        for q, r, s in occupied:\n",
    "            for dq, dr, ds in [(1, -1, 0), (1, 0, -1), (0, 1, -1), (-1, 1, 0), (-1, 0, 1), (0, -1, 1)]:\n",
    "                adjacent.add((q + dq, r + dr, s + ds))\n",
    "        relative = adjacent - occupied\n",
    "        coords = []\n",
    "        for coord in relative:\n",
    "            coords.append(HexCoordinate(q=coord[0], r=coord[1], s=coord[2]))\n",
    "        return coords\n",
    "\n",
    "    def check_win_condition(self):\n",
    "        # Check if either queen bee is completely surrounded\n",
    "        white_queen = next((p for p in self.white_player.pieces if isinstance(p, QueenBee)), None)\n",
    "        black_queen = next((p for p in self.black_player.pieces if isinstance(p, QueenBee)), None)\n",
    "        if white_queen and white_queen.location == 'board':\n",
    "            white_adjacent = set((hex.q, hex.r, hex.s) for hex in white_queen.hex_coordinates.get_adjacent_hexes())\n",
    "            occupied = set(self.get_occupied_spaces())\n",
    "            if white_adjacent.issubset(occupied):\n",
    "                return 'black'  # Black wins\n",
    "        if black_queen and black_queen.location == 'board':\n",
    "            black_adjacent = set((hex.q, hex.r, hex.s) for hex in black_queen.hex_coordinates.get_adjacent_hexes())\n",
    "            occupied = set(self.get_occupied_spaces())\n",
    "            if black_adjacent.issubset(occupied):\n",
    "                return 'white'  # White wins\n",
    "        return None  # No winner yet\n",
    "\n",
    "    @model_validator(mode='after')\n",
    "    def validate_current_team(self):\n",
    "        if self.current_team not in ['white', 'black']:\n",
    "            raise ValueError('Current team must be either \"white\" or \"black\"')\n",
    "        return self\n",
    "\n",
    "\n",
    "class Turn(BaseModel):\n",
    "    player: str\n",
    "    piece_id: str\n",
    "    action_type: str = Field(default_factory=lambda: ['move', 'place', 'forfeit'])\n",
    "    target_coordinates: Optional[HexCoordinate] = None\n",
    "\n",
    "    @staticmethod\n",
    "    def validate_movement(turn, game_state):\n",
    "        return turn\n",
    "    \n",
    "    @staticmethod\n",
    "    def validate_placement(turn, game_state):\n",
    "        \n",
    "\n",
    "        # First piece must be placed at the center\n",
    "        if game_state.turn == 0:\n",
    "            if turn.target_coordinates != HexCoordinate(q=0, r=0, s=0):\n",
    "                raise ValueError('First piece must be placed at the center (0,0,0)')\n",
    "            else:\n",
    "                return turn\n",
    "        \n",
    "        # check its next to an occupied space\n",
    "        occupied = game_state.get_occupied_spaces()\n",
    "        adjacent = turn.target_coordinates.get_adjacent_hexes()\n",
    "        adjacent = [(hex.q, hex.r, hex.s) for hex in adjacent]\n",
    "        occupied = set(occupied)\n",
    "        adjacent = set(adjacent)\n",
    "        if len(occupied.intersection(adjacent)) == 0:\n",
    "            raise ValueError('Target coordinates must be adjacent to an occupied space')\n",
    "\n",
    "        # check its not next to an opposite colour\n",
    "        if game_state.turn > 1: # skip this check for the first placement\n",
    "            player = game_state.white_player if turn.player == 'white' else game_state.black_player\n",
    "            opponent = game_state.black_player if turn.player == 'white' else game_state.white_player\n",
    "            player_piece_ids = [piece.piece_id for piece in player.pieces if piece.location == 'board']\n",
    "            opponent_piece_ids = [piece.piece_id for piece in opponent.pieces if piece.location == 'board']\n",
    "            player_occupied = [piece.hex_coordinates for pid, piece in game_state.board_state.pieces.items() if pid in player_piece_ids]\n",
    "            opponent_occupied = [piece.hex_coordinates for pid, piece in game_state.board_state.pieces.items() if pid in opponent_piece_ids]\n",
    "            player_adjacent = set()\n",
    "            for hex in player_occupied:\n",
    "                for adj in hex.get_adjacent_hexes():\n",
    "                    player_adjacent.add((adj.q, adj.r, adj.s))\n",
    "            opponent_adjacent = set()\n",
    "            for hex in opponent_occupied:\n",
    "                for adj in hex.get_adjacent_hexes():\n",
    "                    opponent_adjacent.add((adj.q, adj.r, adj.s))\n",
    "            target = (turn.target_coordinates.q, turn.target_coordinates.r, turn.target_coordinates.s)\n",
    "            if target in opponent_adjacent:\n",
    "                raise ValueError('Target coordinates cannot be adjacent to an opponent piece')\n",
    "            # Check if the target coordinates are adjacent to an occupied space\n",
    "            if turn.target_coordinates not in occupied:\n",
    "                raise ValueError('Target coordinates must be adjacent to an occupied space')\n",
    "\n",
    "        # check piece is offboard\n",
    "        # get piece\n",
    "        for p in game_state.board_state.pieces.values():\n",
    "            if p.piece_id == turn.piece_id:\n",
    "                piece = p\n",
    "                break\n",
    "\n",
    "        if piece is None:\n",
    "            raise ValueError('Piece not found in player pieces')\n",
    "        if piece.location != 'offboard':\n",
    "            raise ValueError('Piece is already on the board')\n",
    "        \n",
    "        win = game_state.check_win_condition()\n",
    "        return turn\n",
    "\n",
    "class Game(BaseModel):\n",
    "    game_state: GameState = Field(default_factory=GameState)\n",
    "    history: List[Turn] = Field(default_factory=list)\n",
    "\n",
    "    def apply_turn(self, turn: Turn):\n",
    "        # Validate turn\n",
    "        if turn.action_type == 'place':\n",
    "            turn = Turn.validate_placement(turn, self.game_state)\n",
    "            # actually place piece\n",
    "            self.game_state.board_state.add_piece(turn.piece_id, turn.target_coordinates)\n",
    "\n",
    "        elif turn.action_type == 'move':\n",
    "            Turn.validate_movement(turn, self.game_state)\n",
    "            # Movement logic to be implemented\n",
    "            pass\n",
    "        \n",
    "        elif turn.action_type == 'forfeit':\n",
    "            if self.game_state.verbose:\n",
    "                print(f\"{turn.player} has forfeited the game.\")\n",
    "            # Forfeit logic to be implemented\n",
    "            pass\n",
    "        \n",
    "        else:\n",
    "            raise ValueError('Invalid action type')\n",
    "        \n",
    "        # Update game state for next turn\n",
    "        self.history.append(turn)\n",
    "        self.game_state.turn += 1\n",
    "        self.game_state.current_team = 'black' if self.game_state.current_team == 'white' else 'white'\n"
   ]
  },
  {
   "cell_type": "code",
   "execution_count": null,
   "id": "2ab49a8e",
   "metadata": {},
   "outputs": [
    {
     "data": {
      "text/plain": [
       "[HexCoordinate(q=1, r=-1, s=0),\n",
       " HexCoordinate(q=1, r=0, s=-1),\n",
       " HexCoordinate(q=0, r=1, s=-1),\n",
       " HexCoordinate(q=-1, r=1, s=0),\n",
       " HexCoordinate(q=-1, r=0, s=1),\n",
       " HexCoordinate(q=0, r=-1, s=1)]"
      ]
     },
     "execution_count": 42,
     "metadata": {},
     "output_type": "execute_result"
    }
   ],
   "source": [
    "def hex_to_pixel(coord: HexCoordinate, size: float = 1.0):\n",
    "    \"\"\"Convert hex coordinate to pixel position for plotting.\"\"\"\n",
    "    x = size * (3/2 * coord.q)\n",
    "    y = size * (np.sqrt(3)/2 * coord.q + np.sqrt(3) * coord.r)\n",
    "    return x, y\n",
    "\n",
    "\n",
    "def get_hexagon_vertices(x: float, y: float, size: float = 1.0):\n",
    "    \"\"\"Get vertices of a hexagon centered at (x, y).\"\"\"\n",
    "    angles = np.linspace(0, 2*np.pi, 7)  # 7 points to close the hexagon\n",
    "    vertices_x = x + size * np.cos(angles)\n",
    "    vertices_y = y + size * np.sin(angles)\n",
    "    return vertices_x, vertices_y\n",
    "\n",
    "def visualize_game_board(board_state: BoardState, show_empty_hexes: Optional[List[HexCoordinate]] = None, show_coordinates: bool = True):\n",
    "    \"\"\"\n",
    "    Visualize game pieces on hex coordinates\n",
    "    \"\"\"\n",
    "    fig = go.Figure()\n",
    "    \n",
    "    hex_size = 0.95\n",
    "    \n",
    "    # CUSTOMIZATION: Team colors mapping\n",
    "    team_colors = {\n",
    "        \"black\": \"#1D1A1A\",  # black team\n",
    "        \"white\": \"#FFFFFF\",  # white team\n",
    "    }\n",
    "    \n",
    "    team_border_colors = {\n",
    "        \"black\": \"#000000\",  # black border\n",
    "        \"white\": \"#808080\",  # white border for visibility\n",
    "    }\n",
    "    \n",
    "    # Draw empty hexes if provided\n",
    "    if show_empty_hexes:\n",
    "        for coord in show_empty_hexes:\n",
    "            center_x, center_y = hex_to_pixel(coord, size=1.0)\n",
    "            hex_x, hex_y = get_hexagon_vertices(center_x, center_y, hex_size)\n",
    "            \n",
    "            fig.add_trace(go.Scatter(\n",
    "                x=hex_x,\n",
    "                y=hex_y,\n",
    "                fill='toself',\n",
    "                fillcolor='#F5F5F5',\n",
    "                line=dict(color='lightgray', width=1),\n",
    "                mode='lines',\n",
    "                showlegend=False,\n",
    "                hoverinfo='text',\n",
    "                hovertext=f'Empty: q={coord.q}, r={coord.r}, s={coord.s}',\n",
    "            ))\n",
    "    \n",
    "    # Draw hexes with game pieces (only pieces that are on the board)\n",
    "    for piece in board_state.pieces.values():\n",
    "        # Skip pieces without coordinates (offboard pieces)\n",
    "        if piece.hex_coordinates is None:\n",
    "            continue\n",
    "            \n",
    "        # Skip pieces that are explicitly offboard\n",
    "        if piece.location == 'offboard':\n",
    "            continue\n",
    "        \n",
    "        coord = piece.hex_coordinates\n",
    "        center_x, center_y = hex_to_pixel(coord, size=1.0)\n",
    "        hex_x, hex_y = get_hexagon_vertices(center_x, center_y, hex_size)\n",
    "        \n",
    "        # Get team colors\n",
    "        fill_color = team_colors.get(piece.team, 'lightgray')\n",
    "        line_color = team_border_colors.get(piece.team, 'gray')\n",
    "        \n",
    "        # Draw hexagon\n",
    "        fig.add_trace(go.Scatter(\n",
    "            x=hex_x,\n",
    "            y=hex_y,\n",
    "            fill='toself',\n",
    "            fillcolor=fill_color,\n",
    "            line=dict(color=line_color, width=2),\n",
    "            mode='lines',\n",
    "            showlegend=False,\n",
    "            hoverinfo='text',\n",
    "            hovertext=f'{piece.__class__.__name__} ({piece.team})<br>Position: ({coord.q},{coord.r},{coord.s})',\n",
    "        ))\n",
    "        \n",
    "        # Add piece icon\n",
    "        fig.add_trace(go.Scatter(\n",
    "            x=[center_x],\n",
    "            y=[center_y],\n",
    "            mode='text',\n",
    "            text=[piece.icon],\n",
    "            textfont=dict(size=60, color='black'),  # CUSTOMIZATION: Icon size\n",
    "            showlegend=False,\n",
    "            hoverinfo='skip'\n",
    "        ))\n",
    "        \n",
    "        # Add coordinate labels (optional)\n",
    "        if show_coordinates:\n",
    "            fig.add_trace(go.Scatter(\n",
    "                x=[center_x],\n",
    "                y=[center_y - 0.3],\n",
    "                mode='text',\n",
    "                text=[f'({coord.q},{coord.r},{coord.s})'],\n",
    "                textfont=dict(size=8, color='gray'),\n",
    "                showlegend=False,\n",
    "                hoverinfo='skip'\n",
    "            ))\n",
    "\n",
    "    fig.update_layout(\n",
    "        title='Current State of the Game Board',\n",
    "        xaxis=dict(\n",
    "            scaleanchor='y',\n",
    "            scaleratio=1,\n",
    "            showgrid=True,\n",
    "            zeroline=True,\n",
    "            gridcolor='lightgray'\n",
    "        ),\n",
    "        yaxis=dict(\n",
    "            showgrid=True,\n",
    "            zeroline=True,\n",
    "            gridcolor='lightgray'\n",
    "        ),\n",
    "        plot_bgcolor='white',\n",
    "        width=800,\n",
    "        height=800,\n",
    "    )\n",
    "    \n",
    "    fig.show()\n"
   ]
  },
  {
   "cell_type": "code",
   "execution_count": null,
   "id": "5dfc24f7",
   "metadata": {},
   "outputs": [],
   "source": [
    "game = Game()\n",
    "\n",
    "game.apply_turn(Turn(\n",
    "    player='white', \n",
    "    piece_id=game.game_state.white_player.pieces[0].piece_id, \n",
    "    action_type='place', \n",
    "    target_coordinates=HexCoordinate(q=0, r=0, s=0)\n",
    "    ))\n",
    "\n",
    "game.apply_turn(Turn(\n",
    "    player='black', \n",
    "    piece_id=game.game_state.black_player.pieces[0].piece_id, \n",
    "    action_type='place', \n",
    "    target_coordinates=HexCoordinate(q=1, r=-1, s=0)\n",
    "    ))\n",
    "\n",
    "# try a bad move\n",
    "game.apply_turn(Turn(\n",
    "    player='white', \n",
    "    piece_id=game.game_state.white_player.pieces[0].piece_id, \n",
    "    action_type='place', \n",
    "    target_coordinates=HexCoordinate(q=2, r=-2, s=0)\n",
    "    ))\n",
    "\n",
    "visualize_game_board(game.game_state.board_state, show_empty_hexes=game.game_state.get_available_spaces())\n"
   ]
  },
  {
   "cell_type": "code",
   "execution_count": null,
   "id": "5fb6caf7",
   "metadata": {},
   "outputs": [],
   "source": []
  },
  {
   "cell_type": "code",
   "execution_count": null,
   "id": "df7ffb1e",
   "metadata": {},
   "outputs": [
    {
     "name": "stdout",
     "output_type": "stream",
     "text": [
      "No pieces on the board, returning center hex (0,0,0) as available space.\n"
     ]
    }
   ],
   "source": [
    "game.get_available_spaces()\n",
    "\n",
    "# add piece1 and piece2 to the board state for visualization\n",
    "# psudo game moves\n",
    "piece1 = game.white_player.pieces[0]\n",
    "piece2 = game.black_player.pieces[4]\n",
    "\n",
    "game.board_state.add_piece(piece1.piece_id, HexCoordinate(q=0, r=0, s=0))\n",
    "game.board_state.add_piece(piece2.piece_id, HexCoordinate(q=1, r=-1, s=0))\n",
    "\n",
    "available_spaces = game.get_available_spaces()\n"
   ]
  },
  {
   "cell_type": "code",
   "execution_count": null,
   "id": "05c5f098",
   "metadata": {},
   "outputs": [
    {
     "name": "stdout",
     "output_type": "stream",
     "text": [
      "Error: Coordinates already occupied\n"
     ]
    }
   ],
   "source": [
    "# attempt to add piece3 to an occupied space\n",
    "piece3 = game.white_player.pieces[1]\n",
    "try:\n",
    "    game.board_state.add_piece(piece3.piece_id, HexCoordinate(q=0, r=0, s=0))\n",
    "except ValueError as e:\n",
    "    print(f\"Error: {e}\")  # Expected error since (0,0,0) is already occupied"
   ]
  },
  {
   "cell_type": "code",
   "execution_count": 25,
   "id": "7463507b",
   "metadata": {},
   "outputs": [
    {
     "name": "stdout",
     "output_type": "stream",
     "text": [
      "Error: Piece ID already exists on the board\n"
     ]
    }
   ],
   "source": [
    "# attempt to add a peice that is already added\n",
    "try:\n",
    "    game.board_state.add_piece(piece1.piece_id, piece1, HexCoordinate(q=2, r=-2, s=0))\n",
    "except ValueError as e:\n",
    "    print(f\"Error: {e}\")  # Expected error since piece1 is already on the board"
   ]
  },
  {
   "cell_type": "markdown",
   "id": "5b9fe945",
   "metadata": {},
   "source": [
    "adjacant"
   ]
  },
  {
   "cell_type": "code",
   "execution_count": 26,
   "id": "1d5f9e60",
   "metadata": {},
   "outputs": [
    {
     "data": {
      "text/plain": [
       "0"
      ]
     },
     "execution_count": 26,
     "metadata": {},
     "output_type": "execute_result"
    }
   ],
   "source": [
    "game.turn\n"
   ]
  },
  {
   "cell_type": "code",
   "execution_count": 51,
   "id": "a4b650f1",
   "metadata": {},
   "outputs": [
    {
     "data": {
      "application/vnd.plotly.v1+json": {
       "config": {
        "plotlyServerURL": "https://plot.ly"
       },
       "data": [
        {
         "fill": "toself",
         "fillcolor": "#F5F5F5",
         "hoverinfo": "text",
         "hovertext": "Empty: q=2, r=-2, s=0",
         "line": {
          "color": "lightgray",
          "width": 1
         },
         "mode": "lines",
         "showlegend": false,
         "type": "scatter",
         "x": {
          "bdata": "mpmZmZmZD0DNzMzMzMwLQDQzMzMzMwRAZmZmZmZmAEAyMzMzMzMEQMvMzMzMzAtAmpmZmZmZD0A=",
          "dtype": "f8"
         },
         "y": {
          "bdata": "qkxY6Hq2+79MHcNANBntv0sdw0A0Ge2/qUxY6Hq2+79XhSfYLXAEwFiFJ9gtcATAq0xY6Hq2+78=",
          "dtype": "f8"
         }
        },
        {
         "fill": "toself",
         "fillcolor": "#F5F5F5",
         "hoverinfo": "text",
         "hovertext": "Empty: q=-1, r=0, s=1",
         "line": {
          "color": "lightgray",
          "width": 1
         },
         "mode": "lines",
         "showlegend": false,
         "type": "scatter",
         "x": {
          "bdata": "mpmZmZmZ4b9mZmZmZmbwv5iZmZmZmf+/mpmZmZmZA8CcmZmZmZn/v2lmZmZmZvC/mpmZmZmZ4b8=",
          "dtype": "f8"
         },
         "y": {
          "bdata": "qkxY6Hq2678gCq2GlSumvxAKrYaVK6a/qUxY6Hq2679Y5CI8HgX7v1rkIjweBfu/rExY6Hq2678=",
          "dtype": "f8"
         }
        },
        {
         "fill": "toself",
         "fillcolor": "#F5F5F5",
         "hoverinfo": "text",
         "hovertext": "Empty: q=0, r=-1, s=1",
         "line": {
          "color": "lightgray",
          "width": 1
         },
         "mode": "lines",
         "showlegend": false,
         "type": "scatter",
         "x": {
          "bdata": "ZmZmZmZm7j9oZmZmZmbeP2JmZmZmZt6/ZmZmZmZm7r9uZmZmZmbev1tmZmZmZt4/ZmZmZmZm7j8=",
          "dtype": "f8"
         },
         "y": {
          "bdata": "qkxY6Hq2+79MHcNANBntv0sdw0A0Ge2/qUxY6Hq2+79XhSfYLXAEwFiFJ9gtcATAq0xY6Hq2+78=",
          "dtype": "f8"
         }
        },
        {
         "fill": "toself",
         "fillcolor": "#F5F5F5",
         "hoverinfo": "text",
         "hovertext": "Empty: q=1, r=0, s=-1",
         "line": {
          "color": "lightgray",
          "width": 1
         },
         "mode": "lines",
         "showlegend": false,
         "type": "scatter",
         "x": {
          "bdata": "mpmZmZmZA0CamZmZmZn/P2hmZmZmZvA/mpmZmZmZ4T9kZmZmZmbwP5eZmZmZmf8/mpmZmZmZA0A=",
          "dtype": "f8"
         },
         "y": {
          "bdata": "qkxY6Hq26z9Z5CI8HgX7P1rkIjweBfs/q0xY6Hq26z8wCq2GlSumP/AJrYaVK6Y/qExY6Hq26z8=",
          "dtype": "f8"
         }
        },
        {
         "fill": "toself",
         "fillcolor": "#F5F5F5",
         "hoverinfo": "text",
         "hovertext": "Empty: q=1, r=-2, s=1",
         "line": {
          "color": "lightgray",
          "width": 1
         },
         "mode": "lines",
         "showlegend": false,
         "type": "scatter",
         "x": {
          "bdata": "mpmZmZmZA0CamZmZmZn/P2hmZmZmZvA/mpmZmZmZ4T9kZmZmZmbwP5eZmZmZmf8/mpmZmZmZA0A=",
          "dtype": "f8"
         },
         "y": {
          "bdata": "gDlCLtzIBMD8tI2U12f8v/y0jZTXZ/y/gDlCLtzIBMCCmD2SzF0LwIOYPZLMXQvAgTlCLtzIBMA=",
          "dtype": "f8"
         }
        },
        {
         "fill": "toself",
         "fillcolor": "#F5F5F5",
         "hoverinfo": "text",
         "hovertext": "Empty: q=2, r=-1, s=-1",
         "line": {
          "color": "lightgray",
          "width": 1
         },
         "mode": "lines",
         "showlegend": false,
         "type": "scatter",
         "x": {
          "bdata": "mpmZmZmZD0DNzMzMzMwLQDQzMzMzMwRAZmZmZmZmAEAyMzMzMzMEQMvMzMzMzAtAmpmZmZmZD0A=",
          "dtype": "f8"
         },
         "y": {
          "bdata": "AAAAAAAAAAAIfO2PwVPqPwl87Y/BU+o/07254z3EoDwHfO2PwVPqvwt87Y/BU+q/07254z3EsLw=",
          "dtype": "f8"
         }
        },
        {
         "fill": "toself",
         "fillcolor": "#F5F5F5",
         "hoverinfo": "text",
         "hovertext": "Empty: q=-1, r=1, s=0",
         "line": {
          "color": "lightgray",
          "width": 1
         },
         "mode": "lines",
         "showlegend": false,
         "type": "scatter",
         "x": {
          "bdata": "mpmZmZmZ4b9mZmZmZmbwv5iZmZmZmf+/mpmZmZmZA8CcmZmZmZn/v2lmZmZmZvC/mpmZmZmZ4b8=",
          "dtype": "f8"
         },
         "y": {
          "bdata": "qkxY6Hq26z9Z5CI8HgX7P1rkIjweBfs/q0xY6Hq26z8wCq2GlSumP/AJrYaVK6Y/qExY6Hq26z8=",
          "dtype": "f8"
         }
        },
        {
         "fill": "toself",
         "fillcolor": "#F5F5F5",
         "hoverinfo": "text",
         "hovertext": "Empty: q=0, r=1, s=-1",
         "line": {
          "color": "lightgray",
          "width": 1
         },
         "mode": "lines",
         "showlegend": false,
         "type": "scatter",
         "x": {
          "bdata": "ZmZmZmZm7j9oZmZmZmbeP2JmZmZmZt6/ZmZmZmZm7r9uZmZmZmbev1tmZmZmZt4/ZmZmZmZm7j8=",
          "dtype": "f8"
         },
         "y": {
          "bdata": "qkxY6Hq2+z9XhSfYLXAEQFeFJ9gtcARAq0xY6Hq2+z9NHcNANBntP0kdw0A0Ge0/qUxY6Hq2+z8=",
          "dtype": "f8"
         }
        },
        {
         "fill": "toself",
         "fillcolor": "#FFFFFF",
         "hoverinfo": "text",
         "hovertext": "Ant (white)<br>Position: (0,0,0)",
         "line": {
          "color": "#808080",
          "width": 2
         },
         "mode": "lines",
         "showlegend": false,
         "type": "scatter",
         "x": {
          "bdata": "ZmZmZmZm7j9oZmZmZmbeP2JmZmZmZt6/ZmZmZmZm7r9uZmZmZmbev1tmZmZmZt4/ZmZmZmZm7j8=",
          "dtype": "f8"
         },
         "y": {
          "bdata": "AAAAAAAAAAAIfO2PwVPqPwl87Y/BU+o/07254z3EoDwHfO2PwVPqvwt87Y/BU+q/07254z3EsLw=",
          "dtype": "f8"
         }
        },
        {
         "hoverinfo": "skip",
         "mode": "text",
         "showlegend": false,
         "text": [
          "🐜"
         ],
         "textfont": {
          "color": "black",
          "size": 60
         },
         "type": "scatter",
         "x": [
          0
         ],
         "y": [
          0
         ]
        },
        {
         "hoverinfo": "skip",
         "mode": "text",
         "showlegend": false,
         "text": [
          "(0,0,0)"
         ],
         "textfont": {
          "color": "gray",
          "size": 8
         },
         "type": "scatter",
         "x": [
          0
         ],
         "y": [
          -0.3
         ]
        },
        {
         "fill": "toself",
         "fillcolor": "#1D1A1A",
         "hoverinfo": "text",
         "hovertext": "Ant (black)<br>Position: (1,-1,0)",
         "line": {
          "color": "#000000",
          "width": 2
         },
         "mode": "lines",
         "showlegend": false,
         "type": "scatter",
         "x": {
          "bdata": "mpmZmZmZA0CamZmZmZn/P2hmZmZmZvA/mpmZmZmZ4T9kZmZmZmbwP5eZmZmZmf8/mpmZmZmZA0A=",
          "dtype": "f8"
         },
         "y": {
          "bdata": "qkxY6Hq2678gCq2GlSumvxAKrYaVK6a/qUxY6Hq2679Y5CI8HgX7v1rkIjweBfu/rExY6Hq2678=",
          "dtype": "f8"
         }
        },
        {
         "hoverinfo": "skip",
         "mode": "text",
         "showlegend": false,
         "text": [
          "🐜"
         ],
         "textfont": {
          "color": "black",
          "size": 60
         },
         "type": "scatter",
         "x": [
          1.5
         ],
         "y": [
          -0.8660254037844386
         ]
        },
        {
         "hoverinfo": "skip",
         "mode": "text",
         "showlegend": false,
         "text": [
          "(1,-1,0)"
         ],
         "textfont": {
          "color": "gray",
          "size": 8
         },
         "type": "scatter",
         "x": [
          1.5
         ],
         "y": [
          -1.1660254037844386
         ]
        }
       ],
       "layout": {
        "height": 800,
        "plot_bgcolor": "white",
        "template": {
         "data": {
          "bar": [
           {
            "error_x": {
             "color": "#2a3f5f"
            },
            "error_y": {
             "color": "#2a3f5f"
            },
            "marker": {
             "line": {
              "color": "#E5ECF6",
              "width": 0.5
             },
             "pattern": {
              "fillmode": "overlay",
              "size": 10,
              "solidity": 0.2
             }
            },
            "type": "bar"
           }
          ],
          "barpolar": [
           {
            "marker": {
             "line": {
              "color": "#E5ECF6",
              "width": 0.5
             },
             "pattern": {
              "fillmode": "overlay",
              "size": 10,
              "solidity": 0.2
             }
            },
            "type": "barpolar"
           }
          ],
          "carpet": [
           {
            "aaxis": {
             "endlinecolor": "#2a3f5f",
             "gridcolor": "white",
             "linecolor": "white",
             "minorgridcolor": "white",
             "startlinecolor": "#2a3f5f"
            },
            "baxis": {
             "endlinecolor": "#2a3f5f",
             "gridcolor": "white",
             "linecolor": "white",
             "minorgridcolor": "white",
             "startlinecolor": "#2a3f5f"
            },
            "type": "carpet"
           }
          ],
          "choropleth": [
           {
            "colorbar": {
             "outlinewidth": 0,
             "ticks": ""
            },
            "type": "choropleth"
           }
          ],
          "contour": [
           {
            "colorbar": {
             "outlinewidth": 0,
             "ticks": ""
            },
            "colorscale": [
             [
              0,
              "#0d0887"
             ],
             [
              0.1111111111111111,
              "#46039f"
             ],
             [
              0.2222222222222222,
              "#7201a8"
             ],
             [
              0.3333333333333333,
              "#9c179e"
             ],
             [
              0.4444444444444444,
              "#bd3786"
             ],
             [
              0.5555555555555556,
              "#d8576b"
             ],
             [
              0.6666666666666666,
              "#ed7953"
             ],
             [
              0.7777777777777778,
              "#fb9f3a"
             ],
             [
              0.8888888888888888,
              "#fdca26"
             ],
             [
              1,
              "#f0f921"
             ]
            ],
            "type": "contour"
           }
          ],
          "contourcarpet": [
           {
            "colorbar": {
             "outlinewidth": 0,
             "ticks": ""
            },
            "type": "contourcarpet"
           }
          ],
          "heatmap": [
           {
            "colorbar": {
             "outlinewidth": 0,
             "ticks": ""
            },
            "colorscale": [
             [
              0,
              "#0d0887"
             ],
             [
              0.1111111111111111,
              "#46039f"
             ],
             [
              0.2222222222222222,
              "#7201a8"
             ],
             [
              0.3333333333333333,
              "#9c179e"
             ],
             [
              0.4444444444444444,
              "#bd3786"
             ],
             [
              0.5555555555555556,
              "#d8576b"
             ],
             [
              0.6666666666666666,
              "#ed7953"
             ],
             [
              0.7777777777777778,
              "#fb9f3a"
             ],
             [
              0.8888888888888888,
              "#fdca26"
             ],
             [
              1,
              "#f0f921"
             ]
            ],
            "type": "heatmap"
           }
          ],
          "histogram": [
           {
            "marker": {
             "pattern": {
              "fillmode": "overlay",
              "size": 10,
              "solidity": 0.2
             }
            },
            "type": "histogram"
           }
          ],
          "histogram2d": [
           {
            "colorbar": {
             "outlinewidth": 0,
             "ticks": ""
            },
            "colorscale": [
             [
              0,
              "#0d0887"
             ],
             [
              0.1111111111111111,
              "#46039f"
             ],
             [
              0.2222222222222222,
              "#7201a8"
             ],
             [
              0.3333333333333333,
              "#9c179e"
             ],
             [
              0.4444444444444444,
              "#bd3786"
             ],
             [
              0.5555555555555556,
              "#d8576b"
             ],
             [
              0.6666666666666666,
              "#ed7953"
             ],
             [
              0.7777777777777778,
              "#fb9f3a"
             ],
             [
              0.8888888888888888,
              "#fdca26"
             ],
             [
              1,
              "#f0f921"
             ]
            ],
            "type": "histogram2d"
           }
          ],
          "histogram2dcontour": [
           {
            "colorbar": {
             "outlinewidth": 0,
             "ticks": ""
            },
            "colorscale": [
             [
              0,
              "#0d0887"
             ],
             [
              0.1111111111111111,
              "#46039f"
             ],
             [
              0.2222222222222222,
              "#7201a8"
             ],
             [
              0.3333333333333333,
              "#9c179e"
             ],
             [
              0.4444444444444444,
              "#bd3786"
             ],
             [
              0.5555555555555556,
              "#d8576b"
             ],
             [
              0.6666666666666666,
              "#ed7953"
             ],
             [
              0.7777777777777778,
              "#fb9f3a"
             ],
             [
              0.8888888888888888,
              "#fdca26"
             ],
             [
              1,
              "#f0f921"
             ]
            ],
            "type": "histogram2dcontour"
           }
          ],
          "mesh3d": [
           {
            "colorbar": {
             "outlinewidth": 0,
             "ticks": ""
            },
            "type": "mesh3d"
           }
          ],
          "parcoords": [
           {
            "line": {
             "colorbar": {
              "outlinewidth": 0,
              "ticks": ""
             }
            },
            "type": "parcoords"
           }
          ],
          "pie": [
           {
            "automargin": true,
            "type": "pie"
           }
          ],
          "scatter": [
           {
            "fillpattern": {
             "fillmode": "overlay",
             "size": 10,
             "solidity": 0.2
            },
            "type": "scatter"
           }
          ],
          "scatter3d": [
           {
            "line": {
             "colorbar": {
              "outlinewidth": 0,
              "ticks": ""
             }
            },
            "marker": {
             "colorbar": {
              "outlinewidth": 0,
              "ticks": ""
             }
            },
            "type": "scatter3d"
           }
          ],
          "scattercarpet": [
           {
            "marker": {
             "colorbar": {
              "outlinewidth": 0,
              "ticks": ""
             }
            },
            "type": "scattercarpet"
           }
          ],
          "scattergeo": [
           {
            "marker": {
             "colorbar": {
              "outlinewidth": 0,
              "ticks": ""
             }
            },
            "type": "scattergeo"
           }
          ],
          "scattergl": [
           {
            "marker": {
             "colorbar": {
              "outlinewidth": 0,
              "ticks": ""
             }
            },
            "type": "scattergl"
           }
          ],
          "scattermap": [
           {
            "marker": {
             "colorbar": {
              "outlinewidth": 0,
              "ticks": ""
             }
            },
            "type": "scattermap"
           }
          ],
          "scattermapbox": [
           {
            "marker": {
             "colorbar": {
              "outlinewidth": 0,
              "ticks": ""
             }
            },
            "type": "scattermapbox"
           }
          ],
          "scatterpolar": [
           {
            "marker": {
             "colorbar": {
              "outlinewidth": 0,
              "ticks": ""
             }
            },
            "type": "scatterpolar"
           }
          ],
          "scatterpolargl": [
           {
            "marker": {
             "colorbar": {
              "outlinewidth": 0,
              "ticks": ""
             }
            },
            "type": "scatterpolargl"
           }
          ],
          "scatterternary": [
           {
            "marker": {
             "colorbar": {
              "outlinewidth": 0,
              "ticks": ""
             }
            },
            "type": "scatterternary"
           }
          ],
          "surface": [
           {
            "colorbar": {
             "outlinewidth": 0,
             "ticks": ""
            },
            "colorscale": [
             [
              0,
              "#0d0887"
             ],
             [
              0.1111111111111111,
              "#46039f"
             ],
             [
              0.2222222222222222,
              "#7201a8"
             ],
             [
              0.3333333333333333,
              "#9c179e"
             ],
             [
              0.4444444444444444,
              "#bd3786"
             ],
             [
              0.5555555555555556,
              "#d8576b"
             ],
             [
              0.6666666666666666,
              "#ed7953"
             ],
             [
              0.7777777777777778,
              "#fb9f3a"
             ],
             [
              0.8888888888888888,
              "#fdca26"
             ],
             [
              1,
              "#f0f921"
             ]
            ],
            "type": "surface"
           }
          ],
          "table": [
           {
            "cells": {
             "fill": {
              "color": "#EBF0F8"
             },
             "line": {
              "color": "white"
             }
            },
            "header": {
             "fill": {
              "color": "#C8D4E3"
             },
             "line": {
              "color": "white"
             }
            },
            "type": "table"
           }
          ]
         },
         "layout": {
          "annotationdefaults": {
           "arrowcolor": "#2a3f5f",
           "arrowhead": 0,
           "arrowwidth": 1
          },
          "autotypenumbers": "strict",
          "coloraxis": {
           "colorbar": {
            "outlinewidth": 0,
            "ticks": ""
           }
          },
          "colorscale": {
           "diverging": [
            [
             0,
             "#8e0152"
            ],
            [
             0.1,
             "#c51b7d"
            ],
            [
             0.2,
             "#de77ae"
            ],
            [
             0.3,
             "#f1b6da"
            ],
            [
             0.4,
             "#fde0ef"
            ],
            [
             0.5,
             "#f7f7f7"
            ],
            [
             0.6,
             "#e6f5d0"
            ],
            [
             0.7,
             "#b8e186"
            ],
            [
             0.8,
             "#7fbc41"
            ],
            [
             0.9,
             "#4d9221"
            ],
            [
             1,
             "#276419"
            ]
           ],
           "sequential": [
            [
             0,
             "#0d0887"
            ],
            [
             0.1111111111111111,
             "#46039f"
            ],
            [
             0.2222222222222222,
             "#7201a8"
            ],
            [
             0.3333333333333333,
             "#9c179e"
            ],
            [
             0.4444444444444444,
             "#bd3786"
            ],
            [
             0.5555555555555556,
             "#d8576b"
            ],
            [
             0.6666666666666666,
             "#ed7953"
            ],
            [
             0.7777777777777778,
             "#fb9f3a"
            ],
            [
             0.8888888888888888,
             "#fdca26"
            ],
            [
             1,
             "#f0f921"
            ]
           ],
           "sequentialminus": [
            [
             0,
             "#0d0887"
            ],
            [
             0.1111111111111111,
             "#46039f"
            ],
            [
             0.2222222222222222,
             "#7201a8"
            ],
            [
             0.3333333333333333,
             "#9c179e"
            ],
            [
             0.4444444444444444,
             "#bd3786"
            ],
            [
             0.5555555555555556,
             "#d8576b"
            ],
            [
             0.6666666666666666,
             "#ed7953"
            ],
            [
             0.7777777777777778,
             "#fb9f3a"
            ],
            [
             0.8888888888888888,
             "#fdca26"
            ],
            [
             1,
             "#f0f921"
            ]
           ]
          },
          "colorway": [
           "#636efa",
           "#EF553B",
           "#00cc96",
           "#ab63fa",
           "#FFA15A",
           "#19d3f3",
           "#FF6692",
           "#B6E880",
           "#FF97FF",
           "#FECB52"
          ],
          "font": {
           "color": "#2a3f5f"
          },
          "geo": {
           "bgcolor": "white",
           "lakecolor": "white",
           "landcolor": "#E5ECF6",
           "showlakes": true,
           "showland": true,
           "subunitcolor": "white"
          },
          "hoverlabel": {
           "align": "left"
          },
          "hovermode": "closest",
          "mapbox": {
           "style": "light"
          },
          "paper_bgcolor": "white",
          "plot_bgcolor": "#E5ECF6",
          "polar": {
           "angularaxis": {
            "gridcolor": "white",
            "linecolor": "white",
            "ticks": ""
           },
           "bgcolor": "#E5ECF6",
           "radialaxis": {
            "gridcolor": "white",
            "linecolor": "white",
            "ticks": ""
           }
          },
          "scene": {
           "xaxis": {
            "backgroundcolor": "#E5ECF6",
            "gridcolor": "white",
            "gridwidth": 2,
            "linecolor": "white",
            "showbackground": true,
            "ticks": "",
            "zerolinecolor": "white"
           },
           "yaxis": {
            "backgroundcolor": "#E5ECF6",
            "gridcolor": "white",
            "gridwidth": 2,
            "linecolor": "white",
            "showbackground": true,
            "ticks": "",
            "zerolinecolor": "white"
           },
           "zaxis": {
            "backgroundcolor": "#E5ECF6",
            "gridcolor": "white",
            "gridwidth": 2,
            "linecolor": "white",
            "showbackground": true,
            "ticks": "",
            "zerolinecolor": "white"
           }
          },
          "shapedefaults": {
           "line": {
            "color": "#2a3f5f"
           }
          },
          "ternary": {
           "aaxis": {
            "gridcolor": "white",
            "linecolor": "white",
            "ticks": ""
           },
           "baxis": {
            "gridcolor": "white",
            "linecolor": "white",
            "ticks": ""
           },
           "bgcolor": "#E5ECF6",
           "caxis": {
            "gridcolor": "white",
            "linecolor": "white",
            "ticks": ""
           }
          },
          "title": {
           "x": 0.05
          },
          "xaxis": {
           "automargin": true,
           "gridcolor": "white",
           "linecolor": "white",
           "ticks": "",
           "title": {
            "standoff": 15
           },
           "zerolinecolor": "white",
           "zerolinewidth": 2
          },
          "yaxis": {
           "automargin": true,
           "gridcolor": "white",
           "linecolor": "white",
           "ticks": "",
           "title": {
            "standoff": 15
           },
           "zerolinecolor": "white",
           "zerolinewidth": 2
          }
         }
        },
        "title": {
         "text": "Current State of the Game Board"
        },
        "width": 800,
        "xaxis": {
         "gridcolor": "lightgray",
         "scaleanchor": "y",
         "scaleratio": 1,
         "showgrid": true,
         "zeroline": true
        },
        "yaxis": {
         "gridcolor": "lightgray",
         "showgrid": true,
         "zeroline": true
        }
       }
      }
     },
     "metadata": {},
     "output_type": "display_data"
    }
   ],
   "source": [
    "def hex_to_pixel(coord: HexCoordinate, size: float = 1.0):\n",
    "    \"\"\"Convert hex coordinate to pixel position for plotting.\"\"\"\n",
    "    x = size * (3/2 * coord.q)\n",
    "    y = size * (np.sqrt(3)/2 * coord.q + np.sqrt(3) * coord.r)\n",
    "    return x, y\n",
    "\n",
    "\n",
    "def get_hexagon_vertices(x: float, y: float, size: float = 1.0):\n",
    "    \"\"\"Get vertices of a hexagon centered at (x, y).\"\"\"\n",
    "    angles = np.linspace(0, 2*np.pi, 7)  # 7 points to close the hexagon\n",
    "    vertices_x = x + size * np.cos(angles)\n",
    "    vertices_y = y + size * np.sin(angles)\n",
    "    return vertices_x, vertices_y\n",
    "\n",
    "def visualize_game_board(board_state: BoardState, show_empty_hexes: Optional[List[HexCoordinate]] = None, show_coordinates: bool = True):\n",
    "    \"\"\"\n",
    "    Visualize game pieces on hex coordinates\n",
    "    \"\"\"\n",
    "    fig = go.Figure()\n",
    "    \n",
    "    hex_size = 0.95\n",
    "    \n",
    "    # CUSTOMIZATION: Team colors mapping\n",
    "    team_colors = {\n",
    "        \"black\": \"#1D1A1A\",  # black team\n",
    "        \"white\": \"#FFFFFF\",  # white team\n",
    "    }\n",
    "    \n",
    "    team_border_colors = {\n",
    "        \"black\": \"#000000\",  # black border\n",
    "        \"white\": \"#808080\",  # white border for visibility\n",
    "    }\n",
    "    \n",
    "    # Draw empty hexes if provided\n",
    "    if show_empty_hexes:\n",
    "        for coord in show_empty_hexes:\n",
    "            center_x, center_y = hex_to_pixel(coord, size=1.0)\n",
    "            hex_x, hex_y = get_hexagon_vertices(center_x, center_y, hex_size)\n",
    "            \n",
    "            fig.add_trace(go.Scatter(\n",
    "                x=hex_x,\n",
    "                y=hex_y,\n",
    "                fill='toself',\n",
    "                fillcolor='#F5F5F5',\n",
    "                line=dict(color='lightgray', width=1),\n",
    "                mode='lines',\n",
    "                showlegend=False,\n",
    "                hoverinfo='text',\n",
    "                hovertext=f'Empty: q={coord.q}, r={coord.r}, s={coord.s}',\n",
    "            ))\n",
    "    \n",
    "    # Draw hexes with game pieces (only pieces that are on the board)\n",
    "    for piece in board_state.pieces.values():\n",
    "        # Skip pieces without coordinates (offboard pieces)\n",
    "        if piece.hex_coordinates is None:\n",
    "            continue\n",
    "            \n",
    "        # Skip pieces that are explicitly offboard\n",
    "        if piece.location == 'offboard':\n",
    "            continue\n",
    "        \n",
    "        coord = piece.hex_coordinates\n",
    "        center_x, center_y = hex_to_pixel(coord, size=1.0)\n",
    "        hex_x, hex_y = get_hexagon_vertices(center_x, center_y, hex_size)\n",
    "        \n",
    "        # Get team colors\n",
    "        fill_color = team_colors.get(piece.team, 'lightgray')\n",
    "        line_color = team_border_colors.get(piece.team, 'gray')\n",
    "        \n",
    "        # Draw hexagon\n",
    "        fig.add_trace(go.Scatter(\n",
    "            x=hex_x,\n",
    "            y=hex_y,\n",
    "            fill='toself',\n",
    "            fillcolor=fill_color,\n",
    "            line=dict(color=line_color, width=2),\n",
    "            mode='lines',\n",
    "            showlegend=False,\n",
    "            hoverinfo='text',\n",
    "            hovertext=f'{piece.__class__.__name__} ({piece.team})<br>Position: ({coord.q},{coord.r},{coord.s})',\n",
    "        ))\n",
    "        \n",
    "        # Add piece icon\n",
    "        fig.add_trace(go.Scatter(\n",
    "            x=[center_x],\n",
    "            y=[center_y],\n",
    "            mode='text',\n",
    "            text=[piece.icon],\n",
    "            textfont=dict(size=60, color='black'),  # CUSTOMIZATION: Icon size\n",
    "            showlegend=False,\n",
    "            hoverinfo='skip'\n",
    "        ))\n",
    "        \n",
    "        # Add coordinate labels (optional)\n",
    "        if show_coordinates:\n",
    "            fig.add_trace(go.Scatter(\n",
    "                x=[center_x],\n",
    "                y=[center_y - 0.3],\n",
    "                mode='text',\n",
    "                text=[f'({coord.q},{coord.r},{coord.s})'],\n",
    "                textfont=dict(size=8, color='gray'),\n",
    "                showlegend=False,\n",
    "                hoverinfo='skip'\n",
    "            ))\n",
    "\n",
    "    fig.update_layout(\n",
    "        title='Current State of the Game Board',\n",
    "        xaxis=dict(\n",
    "            scaleanchor='y',\n",
    "            scaleratio=1,\n",
    "            showgrid=True,\n",
    "            zeroline=True,\n",
    "            gridcolor='lightgray'\n",
    "        ),\n",
    "        yaxis=dict(\n",
    "            showgrid=True,\n",
    "            zeroline=True,\n",
    "            gridcolor='lightgray'\n",
    "        ),\n",
    "        plot_bgcolor='white',\n",
    "        width=800,\n",
    "        height=800,\n",
    "    )\n",
    "    \n",
    "    fig.show()\n",
    "\n",
    "# Usage\n",
    "visualize_game_board(game.game_state.board_state, show_empty_hexes=game.game_state.get_available_spaces())\n"
   ]
  },
  {
   "cell_type": "code",
   "execution_count": null,
   "id": "bc7813a5",
   "metadata": {},
   "outputs": [],
   "source": []
  }
 ],
 "metadata": {
  "kernelspec": {
   "display_name": "HiveSim",
   "language": "python",
   "name": "python3"
  },
  "language_info": {
   "codemirror_mode": {
    "name": "ipython",
    "version": 3
   },
   "file_extension": ".py",
   "mimetype": "text/x-python",
   "name": "python",
   "nbconvert_exporter": "python",
   "pygments_lexer": "ipython3",
   "version": "3.11.9"
  }
 },
 "nbformat": 4,
 "nbformat_minor": 5
}
