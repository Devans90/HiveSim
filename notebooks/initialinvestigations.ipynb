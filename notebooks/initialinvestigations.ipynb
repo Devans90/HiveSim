{
 "cells": [
  {
   "cell_type": "code",
   "execution_count": 317,
   "id": "14dd03d2",
   "metadata": {},
   "outputs": [],
   "source": [
    "import unittest\n",
    "from pydantic import BaseModel, Field, field_validator, model_validator\n",
    "import plotly.graph_objects as go\n",
    "import numpy as np\n",
    "from typing import List, Optional\n",
    "import uuid"
   ]
  },
  {
   "cell_type": "markdown",
   "id": "8c1c61c2",
   "metadata": {},
   "source": [
    "uses a hexagonal coordinate system\n",
    "\n",
    "ie, going clockwise around origin, pointy side up\n",
    "\n",
    "| q | r | s |\n",
    " |----|--|--|\n",
    "1 |-1 |0\n",
    "1 |0 |-1\n",
    "0 |1 |-1\n",
    "-1| 1 |0\n",
    "-1 |0 |1\n",
    "0 |-1| 1\n",
    "\n",
    "q is in the up right orientation  \n",
    "r is rows in the down orientation  \n",
    "s is in the up left direction  "
   ]
  },
  {
   "cell_type": "markdown",
   "id": "d9045c9f",
   "metadata": {},
   "source": [
    "two coordinates that are adjacant"
   ]
  },
  {
   "cell_type": "markdown",
   "id": "a73f66bb",
   "metadata": {},
   "source": [
    "https://www.redblobgames.com/grids/hexagons/"
   ]
  },
  {
   "cell_type": "code",
   "execution_count": 318,
   "id": "43cd65fe",
   "metadata": {},
   "outputs": [],
   "source": [
    "from typing import Dict\n",
    "\n",
    "\n",
    "class HexCoordinate(BaseModel):\n",
    "    q: int\n",
    "    r: int\n",
    "    s: int\n",
    "    @field_validator('s', mode='before')\n",
    "    @classmethod\n",
    "    def validate_cube_coordinates(cls, v, values):\n",
    "        if values.data['q'] + values.data['r'] + v != 0:\n",
    "            raise ValueError('Invalid cube coordinates')\n",
    "        return v\n",
    "\n",
    "    def get_adjacent_hexes(self):\n",
    "        directions = [(1, -1, 0), (1, 0, -1), (0, 1, -1), (-1, 1, 0), (-1, 0, 1), (0, -1, 1)]\n",
    "        adjacent = []\n",
    "        for dq, dr, ds in directions:\n",
    "            adjacent.append(HexCoordinate(q=self.q + dq, r=self.r + dr, s=self.s + ds))\n",
    "        return adjacent\n",
    "\n",
    "class GamePiece(BaseModel):\n",
    "    hex_coordinates: Optional[HexCoordinate] = None\n",
    "    icon: str = \"�\"\n",
    "    team: str\n",
    "    piece_id: int = Field(default_factory=lambda: str(uuid.uuid4()))\n",
    "    location: str = Field(default='offboard') # 'offboard', 'board', 'stacked'\n",
    "\n",
    "    @field_validator('team')\n",
    "    @classmethod\n",
    "    def validate_team(cls, v):\n",
    "        if v not in ['black', 'white']:\n",
    "            raise ValueError('Team must be either \"black\" or \"white\"')\n",
    "        return v\n",
    "\n",
    "class Spider(GamePiece):\n",
    "    def __init__(self, hex_coordinates=None, team: str = 'white'):\n",
    "        super().__init__(\n",
    "            hex_coordinates=hex_coordinates, \n",
    "            team=team,\n",
    "            icon=\"🕷️\",\n",
    "            location='offboard'\n",
    "            )\n",
    "\n",
    "class Ant(GamePiece):\n",
    "    def __init__(self, hex_coordinates=None, team: str = 'white'):\n",
    "        super().__init__(\n",
    "            hex_coordinates=hex_coordinates, \n",
    "            team=team,\n",
    "            icon=\"🐜\",\n",
    "            location='offboard'\n",
    "            )\n",
    "\n",
    "class Beetle(GamePiece):\n",
    "    def __init__(self, hex_coordinates=None, team: str = 'white'):\n",
    "        super().__init__(\n",
    "            hex_coordinates=hex_coordinates, \n",
    "            team=team,\n",
    "            icon=\"🪲\",\n",
    "            location='offboard'\n",
    "            )\n",
    "\n",
    "class Grasshopper(GamePiece):\n",
    "    def __init__(self, hex_coordinates=None, team: str = 'white'):\n",
    "        super().__init__(\n",
    "            hex_coordinates=hex_coordinates, \n",
    "            team=team,\n",
    "            icon=\"🦗\",\n",
    "            location='offboard'\n",
    "            )\n",
    "\n",
    "class QueenBee(GamePiece):\n",
    "    def __init__(self, hex_coordinates=None, team: str = 'white'):\n",
    "        super().__init__(\n",
    "            hex_coordinates=hex_coordinates, \n",
    "            team=team,\n",
    "            icon=\"🐝\",\n",
    "            location='offboard'\n",
    "            )\n",
    "\n",
    "class Ladybug(GamePiece):\n",
    "    def __init__(self, hex_coordinates=None, team: str = 'white'):\n",
    "        super().__init__(\n",
    "            hex_coordinates=hex_coordinates, \n",
    "            team=team,\n",
    "            icon=\"🐞\",\n",
    "            location='offboard'\n",
    "            )\n",
    "\n",
    "class Mosquito(GamePiece):\n",
    "    def __init__(self, hex_coordinates=None, team: str = 'white'):\n",
    "        super().__init__(\n",
    "            hex_coordinates=hex_coordinates, \n",
    "            team=team,\n",
    "            icon=\"🦟\",\n",
    "            location='offboard'\n",
    "            )\n",
    "\n",
    "class BoardState(BaseModel):\n",
    "    pieces: dict = Field(default_factory=dict)\n",
    "\n",
    "    def add_piece(self, piece_id: str, piece: GamePiece, coordinates: HexCoordinate):\n",
    "        piece.hex_coordinates = coordinates\n",
    "        piece.location = 'board'\n",
    "        self.pieces[piece_id] = piece\n",
    "\n",
    "        \n",
    "    def get_piece(self, piece_id: str):\n",
    "        return self.pieces.get(piece_id, None)\n",
    "    \n",
    "class Player(BaseModel):\n",
    "    name: str\n",
    "    team: str\n",
    "    pieces: List[GamePiece] = Field(default_factory=None)\n",
    "\n",
    "    def __init__(self, name: str, team: str, pieces: Optional[List[GamePiece]] = None):\n",
    "        if pieces is None:\n",
    "            pieces = [\n",
    "                *[Ant(team=team) for _ in range(12)],\n",
    "                QueenBee(team=team)\n",
    "                # super basic mode to start. add more pieces later\n",
    "            ]\n",
    "        super().__init__(name=name, team=team, pieces=pieces)\n",
    "\n",
    "    @field_validator('team')\n",
    "    @classmethod\n",
    "    def validate_team(cls, v):\n",
    "        if v not in ['black', 'white']:\n",
    "            raise ValueError('Team must be either \"black\" or \"white\"')\n",
    "        return v\n",
    "\n",
    "class GameState(BaseModel):\n",
    "    turn: int = Field(0, ge=0)\n",
    "    white_player: Player = Player(name='white', team='white', pieces=[])\n",
    "    black_player: Player = Player(name='black', team='black', pieces=[])\n",
    "    current_team: str = Field(default='white')\n",
    "    board_state: BoardState = Field(default_factory=BoardState)\n",
    "    verbose: bool = Field(default=True)\n",
    "    all_pieces: Dict[str, GamePiece] = Field(default_factory=dict)\n",
    "\n",
    "    def __init__(self, white_player: Player = None, black_player: Player = None, **data):\n",
    "        if white_player is None:\n",
    "            white_player = Player(name='white', team='white')\n",
    "        if black_player is None:\n",
    "            black_player = Player(name='black', team='black')\n",
    "        super().__init__(white_player=white_player, black_player=black_player, **data)\n",
    "\n",
    "        # construct a big ol' dictionary of all pieces for easy access\n",
    "        for piece in self.white_player.pieces:\n",
    "            self.all_pieces[piece.piece_id] = piece\n",
    "        for piece in self.black_player.pieces:\n",
    "            self.all_pieces[piece.piece_id] = piece\n",
    "\n",
    "    def get_occupied_spaces(self):\n",
    "        occupied = []\n",
    "        for piece in self.board_state.pieces.values():\n",
    "            if piece.location == 'offboard':    \n",
    "                pass\n",
    "            elif piece.location == 'board':\n",
    "                occupied.append((piece.hex_coordinates.q, piece.hex_coordinates.r, piece.hex_coordinates.s))\n",
    "\n",
    "        return occupied\n",
    "\n",
    "    def get_available_spaces(self):\n",
    "        if len(self.board_state.pieces) == 0:\n",
    "            if self.verbose:\n",
    "                print(\"No pieces on the board, returning center hex (0,0,0) as available space.\")\n",
    "            return HexCoordinate(q=0, r=0, s=0)  # If no pieces are on the board, return the center hex\n",
    "        \n",
    "        # get occupied spaces\n",
    "        occupied = set(self.get_occupied_spaces())\n",
    "        adjacent = set()\n",
    "\n",
    "        for q, r, s in occupied:\n",
    "            for dq, dr, ds in [(1, -1, 0), (1, 0, -1), (0, 1, -1), (-1, 1, 0), (-1, 0, 1), (0, -1, 1)]:\n",
    "                adjacent.add((q + dq, r + dr, s + ds))\n",
    "        relative = adjacent - occupied\n",
    "        coords = []\n",
    "        for coord in relative:\n",
    "            coords.append(HexCoordinate(q=coord[0], r=coord[1], s=coord[2]))\n",
    "        return coords\n",
    "\n",
    "    def check_win_condition(self):\n",
    "        # Check if either queen bee is completely surrounded\n",
    "        white_queen = next((p for p in self.white_player.pieces if isinstance(p, QueenBee)), None)\n",
    "        black_queen = next((p for p in self.black_player.pieces if isinstance(p, QueenBee)), None)\n",
    "        if white_queen and white_queen.location == 'board':\n",
    "            white_adjacent = set((hex.q, hex.r, hex.s) for hex in white_queen.hex_coordinates.get_adjacent_hexes())\n",
    "            occupied = set(self.get_occupied_spaces())\n",
    "            if white_adjacent.issubset(occupied):\n",
    "                return 'black'  # Black wins\n",
    "        if black_queen and black_queen.location == 'board':\n",
    "            black_adjacent = set((hex.q, hex.r, hex.s) for hex in black_queen.hex_coordinates.get_adjacent_hexes())\n",
    "            occupied = set(self.get_occupied_spaces())\n",
    "            if black_adjacent.issubset(occupied):\n",
    "                return 'white'  # White wins\n",
    "        return None  # No winner yet\n",
    "\n",
    "    def get_queen(self, team: str) -> Optional[QueenBee]:\n",
    "        \"\"\"Get the queen bee for a specific team.\"\"\"\n",
    "        for piece in self.all_pieces.values():\n",
    "            if isinstance(piece, QueenBee) and piece.team == team:\n",
    "                return piece\n",
    "        return None\n",
    "    \n",
    "    def get_pieces_by_type(self, piece_type: type, team: Optional[str] = None) -> List[GamePiece]:\n",
    "        \"\"\"Get all pieces of a specific type, optionally filtered by team.\"\"\"\n",
    "        pieces = [p for p in self.all_pieces.values() if isinstance(p, piece_type)]\n",
    "        if team:\n",
    "            pieces = [p for p in pieces if p.team == team]\n",
    "        return pieces\n",
    "\n",
    "    @model_validator(mode='after')\n",
    "    def validate_current_team(self):\n",
    "        if self.current_team not in ['white', 'black']:\n",
    "            raise ValueError('Current team must be either \"white\" or \"black\"')\n",
    "        return self\n",
    "\n",
    "class Turn(BaseModel):\n",
    "    player: str\n",
    "    piece_id: Optional[str] = None\n",
    "    piece_type: Optional[str] = None\n",
    "    action_type: str # 'place', 'move', 'forfeit'\n",
    "    target_coordinates: Optional[HexCoordinate] = None\n",
    "\n",
    "    @staticmethod\n",
    "    def validate_movement(turn, game_state):\n",
    "        # have to know what id to move\n",
    "        if turn.piece_id is None:\n",
    "            raise ValueError('Movement requires piece_id to specify which piece to move')\n",
    "        \n",
    "        piece = game_state.all_pieces.get(turn.piece_id)\n",
    "        if piece is None: # wrong id\n",
    "            raise ValueError('Piece not found')\n",
    "        if piece.team != turn.player: # hands off not yours\n",
    "            raise ValueError('Cannot move opponent piece')\n",
    "        if piece.location != 'board': # not on board\n",
    "            raise ValueError('Can only move pieces that are on the board')\n",
    "        \n",
    "        # way more validation to do here later\n",
    "        return turn\n",
    "    \n",
    "    @staticmethod\n",
    "    def validate_placement(turn, game_state):\n",
    "        \n",
    "        # need either id or type, find an id if not given\n",
    "        if turn.piece_id is None: \n",
    "            if turn.piece_type is None:\n",
    "                raise ValueError('Placement requires either piece_id or piece_type to specify which piece to place')\n",
    "            \n",
    "            # find an unplaced piece of that type for that player\n",
    "            piece_type_map = {\n",
    "                'ant': Ant,\n",
    "                'beetle': Beetle,\n",
    "                'grasshopper': Grasshopper,\n",
    "                'queen': QueenBee,\n",
    "                'spider': Spider,\n",
    "                'ladybug': Ladybug,\n",
    "                'mosquito': Mosquito\n",
    "            }\n",
    "            piece_class = piece_type_map.get(turn.piece_type.lower())\n",
    "            \n",
    "            player = game_state.white_player if turn.player == 'white' else game_state.black_player\n",
    "            available_piece = next(\n",
    "                (p for p in player.pieces \n",
    "                 if isinstance(p, piece_class) and p.location == 'offboard'),\n",
    "                None\n",
    "            )\n",
    "            # player = game_state.white_player if turn.player == 'white' else game_state.black_player\n",
    "\n",
    "            if available_piece is None:\n",
    "                raise ValueError(f'No unplaced piece of type {turn.piece_type} available for player {turn.player}')\n",
    "            \n",
    "            turn.piece_id = available_piece.piece_id\n",
    "        \n",
    "        # First piece must be placed at the center\n",
    "        if game_state.turn == 0:\n",
    "            if turn.target_coordinates != HexCoordinate(q=0, r=0, s=0):\n",
    "                raise ValueError('First piece must be placed at the center (0,0,0)')\n",
    "            else:\n",
    "                return turn\n",
    "        \n",
    "        # check its next to an occupied space\n",
    "        occupied = game_state.get_occupied_spaces()\n",
    "        adjacent = turn.target_coordinates.get_adjacent_hexes()\n",
    "        adjacent = [(hex.q, hex.r, hex.s) for hex in adjacent]\n",
    "        occupied = set(occupied)\n",
    "        adjacent = set(adjacent)\n",
    "        if len(occupied.intersection(adjacent)) == 0:\n",
    "            raise ValueError('Target coordinates must be adjacent to an occupied space')\n",
    "\n",
    "        # check its not next to an opposite colour\n",
    "        if game_state.turn > 1: # skip this check for the first placement\n",
    "            player = game_state.white_player if turn.player == 'white' else game_state.black_player\n",
    "            opponent = game_state.black_player if turn.player == 'white' else game_state.white_player\n",
    "            player_piece_ids = [piece.piece_id for piece in player.pieces if piece.location == 'board']\n",
    "            opponent_piece_ids = [piece.piece_id for piece in opponent.pieces if piece.location == 'board']\n",
    "            player_occupied = [piece.hex_coordinates for pid, piece in game_state.board_state.pieces.items() if pid in player_piece_ids]\n",
    "            opponent_occupied = [piece.hex_coordinates for pid, piece in game_state.board_state.pieces.items() if pid in opponent_piece_ids]\n",
    "            player_adjacent = set()\n",
    "            for hex in player_occupied:\n",
    "                for adj in hex.get_adjacent_hexes():\n",
    "                    player_adjacent.add((adj.q, adj.r, adj.s))\n",
    "            opponent_adjacent = set()\n",
    "            for hex in opponent_occupied:\n",
    "                for adj in hex.get_adjacent_hexes():\n",
    "                    opponent_adjacent.add((adj.q, adj.r, adj.s))\n",
    "            target = (turn.target_coordinates.q, turn.target_coordinates.r, turn.target_coordinates.s)\n",
    "            if target in opponent_adjacent:\n",
    "                raise ValueError('Target coordinates cannot be adjacent to an opponent piece')\n",
    "            # Check if the target coordinates are adjacent to an occupied space\n",
    "            if target in occupied:\n",
    "                raise ValueError('Target coordinates must be adjacent to an occupied space')\n",
    "\n",
    "        # check piece is offboard\n",
    "        # get piece\n",
    "        piece = game_state.all_pieces.get(turn.piece_id)\n",
    "\n",
    "        if piece is None:\n",
    "            raise ValueError('Piece not found in player pieces')\n",
    "        if piece.location != 'offboard':\n",
    "            raise ValueError('Piece is already on the board')\n",
    "        \n",
    "        # check if queen has been placed by turn 4\n",
    "        queen = game_state.get_queen(turn.player)\n",
    "        if game_state.turn > 3 and queen.location == 'offboard':\n",
    "            if turn.piece_type != 'queen':\n",
    "                raise ValueError(f'{game_state.current_team.capitalize()}\\'s Queen must be placed by turn 4, place the queen now')\n",
    "\n",
    "        return turn\n",
    "\n",
    "class Game(BaseModel):\n",
    "    game_state: GameState = Field(default_factory=GameState)\n",
    "    history: List[Turn] = Field(default_factory=list)\n",
    "\n",
    "    def apply_turn(self, turn: Turn):\n",
    "        # Validate turn\n",
    "\n",
    "        if turn.action_type == 'place':\n",
    "            turn = Turn.validate_placement(turn, self.game_state)\n",
    "            \n",
    "            piece = self.game_state.all_pieces.get(turn.piece_id)\n",
    "\n",
    "            if piece is None:\n",
    "                raise ValueError('Piece not found')\n",
    "            \n",
    "            self.game_state.board_state.add_piece(turn.piece_id, piece, turn.target_coordinates)\n",
    "            \n",
    "\n",
    "\n",
    "        elif turn.action_type == 'move':\n",
    "            Turn.validate_movement(turn, self.game_state)\n",
    "            # Movement logic to be implemented\n",
    "            pass\n",
    "        \n",
    "        elif turn.action_type == 'forfeit':\n",
    "            if self.game_state.verbose:\n",
    "                print(f\"{turn.player} has forfeited the game.\")\n",
    "            # Forfeit logic to be implemented\n",
    "            pass\n",
    "        \n",
    "        else:\n",
    "            raise ValueError('Invalid action type')\n",
    "        \n",
    "        # Update game state for next turn\n",
    "        self.history.append(turn)\n",
    "        win = self.game_state.check_win_condition()\n",
    "        self.game_state.turn += 1\n",
    "        self.game_state.current_team = 'black' if self.game_state.current_team == 'white' else 'white'\n"
   ]
  },
  {
   "cell_type": "code",
   "execution_count": 319,
   "id": "383468e1",
   "metadata": {},
   "outputs": [],
   "source": [
    "import random\n",
    "from typing import Optional, List\n",
    "\n",
    "\n",
    "class BaseBot:    \n",
    "    def __init__(self, team: str, name: str = \"Bot\"):\n",
    "        self.team = team\n",
    "        self.name = name\n",
    "    \n",
    "    def get_available_pieces(self, game_state) -> dict:\n",
    "        \"\"\"Get all available pieces for this bot's team.\"\"\"\n",
    "        player = game_state.white_player if self.team == 'white' else game_state.black_player\n",
    "        \n",
    "        available = {}\n",
    "        for piece in player.pieces:\n",
    "            if piece.location == 'offboard':\n",
    "                piece_type = piece.__class__.__name__.lower()\n",
    "                if piece_type == 'queenbee':\n",
    "                    piece_type = 'queen'\n",
    "                \n",
    "                if piece_type not in available:\n",
    "                    available[piece_type] = []\n",
    "                available[piece_type].append(piece.piece_id)\n",
    "        \n",
    "        return available\n",
    "    \n",
    "    def must_place_queen(self, game_state) -> bool:\n",
    "        \"\"\"Check if the bot must place the queen this turn.\"\"\"\n",
    "        queen = game_state.get_queen(self.team)\n",
    "        player_turn_number = game_state.turn // 2\n",
    "        return queen and queen.location == 'offboard' and player_turn_number >= 3\n",
    "    \n",
    "    def get_available_spaces(self, game_state) -> List:\n",
    "        \"\"\"Get all available placement spaces.\"\"\"\n",
    "        spaces = game_state.get_available_spaces()\n",
    "        # If it's a single HexCoordinate (first move), convert to list\n",
    "        if not isinstance(spaces, list):\n",
    "            spaces = [spaces]\n",
    "        return spaces\n",
    "    \n",
    "    def get_move(self, game_state) -> 'Turn':\n",
    "        \"\"\"Generate a move. Delegates decision-making to subclass.\"\"\"\n",
    "        \n",
    "        available_pieces = self.get_available_pieces(game_state)\n",
    "        \n",
    "        if not available_pieces:\n",
    "            return Turn(player=self.team, action_type='forfeit')\n",
    "        \n",
    "        # Check if we must place the queen\n",
    "        if self.must_place_queen(game_state):\n",
    "            piece_type = 'queen'\n",
    "        else:\n",
    "            # Delegate piece selection to subclass\n",
    "            piece_type = self.choose_piece_type(available_pieces, game_state)\n",
    "        \n",
    "        # Get available spaces\n",
    "        available_spaces = self.get_available_spaces(game_state)\n",
    "        \n",
    "        # check available spaces using validation ONLY FOR PLACING\n",
    "        valid_spaces = []\n",
    "        for space in available_spaces:\n",
    "            try:\n",
    "                Turn.validate_placement(Turn(\n",
    "                    player=self.team,\n",
    "                    piece_type=piece_type,\n",
    "                    action_type='place',\n",
    "                    target_coordinates=space\n",
    "                ), game_state)\n",
    "                valid_spaces.append(space)\n",
    "            except ValueError: # invalid space\n",
    "                available_spaces.remove(space)\n",
    "\n",
    "        if not valid_spaces:\n",
    "            return Turn(player=self.team, action_type='forfeit') # no valid spaces, forfeit for now\n",
    "        \n",
    "        # Delegate location selection to subclass\n",
    "        target = self.choose_target_location(valid_spaces, piece_type, game_state)\n",
    "\n",
    "        # Create and return the turn\n",
    "        return Turn(\n",
    "            player=self.team,\n",
    "            action_type='place',\n",
    "            piece_type=piece_type,\n",
    "            target_coordinates=target\n",
    "        )\n",
    "\n",
    "class RandomBot(BaseBot):\n",
    "    \"\"\"A bot that makes completely random valid moves.\"\"\"\n",
    "    \n",
    "    def __init__(self, team: str, name: str = \"RandomBot\"):\n",
    "        super().__init__(team, name)\n",
    "    \n",
    "    def choose_piece_type(self, available_pieces: dict, game_state) -> str:\n",
    "        \"\"\"Randomly select an available piece type.\"\"\"\n",
    "        return random.choice(list(available_pieces.keys()))\n",
    "    \n",
    "    def choose_target_location(self, available_spaces: List, piece_type: str, game_state):\n",
    "        \"\"\"Randomly select an available space.\"\"\"\n",
    "        return random.choice(available_spaces)\n",
    "\n",
    "\n",
    "class QueenFirstBot(BaseBot):\n",
    "    \"\"\"A bot that places the queen as early as possible, then random.\"\"\"\n",
    "    \n",
    "    def __init__(self, team: str, name: str = \"QueenFirstBot\"):\n",
    "        super().__init__(team, name)\n",
    "    \n",
    "    def choose_piece_type(self, available_pieces: dict, game_state) -> str:\n",
    "        \"\"\"Place queen if available, otherwise random.\"\"\"\n",
    "        if 'queen' in available_pieces:\n",
    "            return 'queen'\n",
    "        return random.choice(list(available_pieces.keys()))\n",
    "    \n",
    "    def choose_target_location(self, available_spaces: List, piece_type: str, game_state):\n",
    "        \"\"\"Randomly select an available space.\"\"\"\n",
    "        return random.choice(available_spaces)\n",
    "\n",
    "\n",
    "\n",
    "# Example usage:\n",
    "def simulate_game(white_bot, black_bot, verbose=False):\n",
    "    \"\"\"Simulate a game between two bots.\"\"\"\n",
    "    \n",
    "    game = Game(game_state=GameState(verbose=verbose))\n",
    "    \n",
    "    max_turns = 200  # Prevent infinite games\n",
    "    \n",
    "    for turn_num in range(max_turns):\n",
    "        current_bot = white_bot if game.game_state.current_team == 'white' else black_bot\n",
    "        \n",
    "        # Get bot's move\n",
    "        turn = current_bot.get_move(game.game_state)\n",
    "        \n",
    "        if verbose:\n",
    "            print(f\"\\nTurn {turn_num}: {current_bot.name} ({current_bot.team})\")\n",
    "            print(f\"  Action: {turn.action_type}\")\n",
    "            if turn.piece_type:\n",
    "                print(f\"  Piece: {turn.piece_type}\")\n",
    "            if turn.target_coordinates:\n",
    "                print(f\"  Target: ({turn.target_coordinates.q}, {turn.target_coordinates.r}, {turn.target_coordinates.s})\")\n",
    "        \n",
    "        # Apply the turn\n",
    "        try:\n",
    "            game.apply_turn(turn)\n",
    "        except Exception as e:\n",
    "            print(f\"Error applying turn: {e}\")\n",
    "            break\n",
    "        \n",
    "        # Check for winner\n",
    "        winner = game.game_state.check_win_condition()\n",
    "        if winner:\n",
    "            if verbose:\n",
    "                print(f\"\\n{winner.upper()} WINS after {turn_num + 1} turns!\")\n",
    "            return winner, turn_num + 1, game\n",
    "    \n",
    "    if verbose:\n",
    "        print(f\"\\nGame reached maximum turns ({max_turns})\")\n",
    "    return None, max_turns, game\n",
    "\n",
    "\n"
   ]
  },
  {
   "cell_type": "code",
   "execution_count": 320,
   "id": "627dadbb",
   "metadata": {},
   "outputs": [],
   "source": [
    "def hex_to_pixel(coord: HexCoordinate, size: float = 1.0):\n",
    "    \"\"\"Convert hex coordinate to pixel position for plotting.\"\"\"\n",
    "    x = size * (3/2 * coord.q)\n",
    "    y = size * (np.sqrt(3)/2 * coord.q + np.sqrt(3) * coord.r)\n",
    "    return x, y\n",
    "\n",
    "def get_hexagon_vertices(x: float, y: float, size: float = 1.0):\n",
    "    \"\"\"Get vertices of a hexagon centered at (x, y).\"\"\"\n",
    "    angles = np.linspace(0, 2*np.pi, 7)  # 7 points to close the hexagon\n",
    "    vertices_x = x + size * np.cos(angles)\n",
    "    vertices_y = y + size * np.sin(angles)\n",
    "    return vertices_x, vertices_y\n",
    "\n",
    "def visualize_game_board(board_state: BoardState, show_empty_hexes: Optional[List[HexCoordinate]] = None, show_coordinates: bool = True):\n",
    "    \"\"\"\n",
    "    Visualize game pieces on hex coordinates\n",
    "    \"\"\"\n",
    "    fig = go.Figure()\n",
    "    \n",
    "    hex_size = 0.95\n",
    "    icon_size = int(25 * hex_size)\n",
    "    \n",
    "    # CUSTOMIZATION: Team colors mapping\n",
    "    team_colors = {\n",
    "        \"black\": \"#1D1A1A\",  # black team\n",
    "        \"white\": \"#FFFFFF\",  # white team\n",
    "    }\n",
    "    \n",
    "    team_border_colors = {\n",
    "        \"black\": \"#000000\",  # black border\n",
    "        \"white\": \"#808080\",  # white border for visibility\n",
    "    }\n",
    "    \n",
    "    # Draw empty hexes if provided\n",
    "    if show_empty_hexes:\n",
    "        for coord in show_empty_hexes:\n",
    "            center_x, center_y = hex_to_pixel(coord, size=1.0)\n",
    "            hex_x, hex_y = get_hexagon_vertices(center_x, center_y, hex_size)\n",
    "            \n",
    "            fig.add_trace(go.Scatter(\n",
    "                x=hex_x,\n",
    "                y=hex_y,\n",
    "                fill='toself',\n",
    "                fillcolor='#F5F5F5',\n",
    "                line=dict(color='lightgray', width=1),\n",
    "                mode='lines',\n",
    "                showlegend=False,\n",
    "                name='',\n",
    "                hovertemplate=f'Empty<br>q={coord.q}, r={coord.r}, s={coord.s}<extra></extra>',\n",
    "            ))\n",
    "            \n",
    "            if show_coordinates:\n",
    "                fig.add_trace(go.Scatter(\n",
    "                    x=[center_x],\n",
    "                    y=[center_y],\n",
    "                    mode='text',\n",
    "                    text=[f'({coord.q},{coord.r},{coord.s})'],\n",
    "                    textfont=dict(size=10, color='darkgray'),\n",
    "                    showlegend=False,\n",
    "                    name='',\n",
    "                    hoverinfo='skip'\n",
    "                ))\n",
    "        \n",
    "    # Draw hexes with game pieces (only pieces that are on the board)\n",
    "    for piece in board_state.pieces.values():\n",
    "        # Skip pieces without coordinates (offboard pieces)\n",
    "        if piece.hex_coordinates is None:\n",
    "            continue\n",
    "            \n",
    "        # Skip pieces that are explicitly offboard\n",
    "        if piece.location == 'offboard':\n",
    "            continue\n",
    "        \n",
    "        coord = piece.hex_coordinates\n",
    "        center_x, center_y = hex_to_pixel(coord, size=1.0)\n",
    "        hex_x, hex_y = get_hexagon_vertices(center_x, center_y, hex_size)\n",
    "        \n",
    "        # Get team colors\n",
    "        fill_color = team_colors.get(piece.team, 'lightgray')\n",
    "        line_color = team_border_colors.get(piece.team, 'gray')\n",
    "        \n",
    "        # Draw hexagon\n",
    "        fig.add_trace(go.Scatter(\n",
    "            x=hex_x,\n",
    "            y=hex_y,\n",
    "            fill='toself',\n",
    "            fillcolor=fill_color,\n",
    "            line=dict(color=line_color, width=2),\n",
    "            mode='lines',\n",
    "            showlegend=False,\n",
    "            name='',\n",
    "            hovertemplate=f'{piece.__class__.__name__} ({piece.team})<br>Position: ({coord.q},{coord.r},{coord.s})<extra></extra>',\n",
    "        ))\n",
    "        \n",
    "        # Add piece icon\n",
    "        fig.add_trace(go.Scatter(\n",
    "            x=[center_x],\n",
    "            y=[center_y],\n",
    "            mode='text',\n",
    "            text=[piece.icon],\n",
    "            textfont=dict(size=icon_size, color='black'),\n",
    "            showlegend=False,\n",
    "            name='',\n",
    "            hoverinfo='skip'\n",
    "        ))\n",
    "        \n",
    "        # Add coordinate labels (optional)\n",
    "        if show_coordinates:\n",
    "            fig.add_trace(go.Scatter(\n",
    "                x=[center_x],\n",
    "                y=[center_y - 0.3],\n",
    "                mode='text',\n",
    "                text=[f'({coord.q},{coord.r},{coord.s})'],\n",
    "                textfont=dict(size=8, color='gray'),\n",
    "                showlegend=False,\n",
    "                name='',\n",
    "                hoverinfo='skip'\n",
    "            ))\n",
    "\n",
    "    fig.update_layout(\n",
    "        title='Hive - digitally made by Dan',\n",
    "        hovermode='closest',\n",
    "        xaxis=dict(\n",
    "            scaleanchor='y',\n",
    "            scaleratio=1,\n",
    "            showgrid=True,\n",
    "            zeroline=True,\n",
    "            gridcolor='lightgray'\n",
    "        ),\n",
    "        yaxis=dict(\n",
    "            showgrid=True,\n",
    "            zeroline=True,\n",
    "            gridcolor='lightgray'\n",
    "        ),\n",
    "        plot_bgcolor='white',\n",
    "        width=800,\n",
    "        height=800,\n",
    "    )\n",
    "    \n",
    "    fig.show()"
   ]
  },
  {
   "cell_type": "code",
   "execution_count": 321,
   "id": "9b51756f",
   "metadata": {},
   "outputs": [
    {
     "name": "stdout",
     "output_type": "stream",
     "text": [
      "No pieces on the board, returning center hex (0,0,0) as available space.\n",
      "\n",
      "Turn 0: RandomBot (white)\n",
      "  Action: place\n",
      "  Piece: queen\n",
      "  Target: (0, 0, 0)\n",
      "\n",
      "Turn 1: RandomBot (black)\n",
      "  Action: place\n",
      "  Piece: queen\n",
      "  Target: (-1, 1, 0)\n",
      "\n",
      "Turn 2: RandomBot (white)\n",
      "  Action: place\n",
      "  Piece: ant\n",
      "  Target: (1, -1, 0)\n",
      "\n",
      "Turn 3: RandomBot (black)\n",
      "  Action: place\n",
      "  Piece: ant\n",
      "  Target: (-2, 2, 0)\n",
      "\n",
      "Turn 4: RandomBot (white)\n",
      "  Action: place\n",
      "  Piece: ant\n",
      "  Target: (2, -2, 0)\n",
      "\n",
      "Turn 5: RandomBot (black)\n",
      "  Action: place\n",
      "  Piece: ant\n",
      "  Target: (-2, 1, 1)\n",
      "\n",
      "Turn 6: RandomBot (white)\n",
      "  Action: place\n",
      "  Piece: ant\n",
      "  Target: (1, 0, -1)\n",
      "\n",
      "Turn 7: RandomBot (black)\n",
      "  Action: place\n",
      "  Piece: ant\n",
      "  Target: (-3, 3, 0)\n",
      "\n",
      "Turn 8: RandomBot (white)\n",
      "  Action: place\n",
      "  Piece: ant\n",
      "  Target: (2, -1, -1)\n",
      "\n",
      "Turn 9: RandomBot (black)\n",
      "  Action: place\n",
      "  Piece: ant\n",
      "  Target: (-3, 2, 1)\n",
      "\n",
      "Turn 10: RandomBot (white)\n",
      "  Action: place\n",
      "  Piece: ant\n",
      "  Target: (1, 1, -2)\n",
      "\n",
      "Turn 11: RandomBot (black)\n",
      "  Action: place\n",
      "  Piece: ant\n",
      "  Target: (-3, 4, -1)\n",
      "\n",
      "Turn 12: RandomBot (white)\n",
      "  Action: place\n",
      "  Piece: ant\n",
      "  Target: (0, 2, -2)\n",
      "\n",
      "Turn 13: RandomBot (black)\n",
      "  Action: place\n",
      "  Piece: ant\n",
      "  Target: (-4, 5, -1)\n",
      "\n",
      "Turn 14: RandomBot (white)\n",
      "  Action: place\n",
      "  Piece: ant\n",
      "  Target: (2, -3, 1)\n",
      "\n",
      "Turn 15: RandomBot (black)\n",
      "  Action: place\n",
      "  Piece: ant\n",
      "  Target: (-5, 6, -1)\n",
      "\n",
      "Turn 16: RandomBot (white)\n",
      "  Action: place\n",
      "  Piece: ant\n",
      "  Target: (1, -3, 2)\n",
      "\n",
      "Turn 17: RandomBot (black)\n",
      "  Action: place\n",
      "  Piece: ant\n",
      "  Target: (-2, 4, -2)\n",
      "\n",
      "Turn 18: RandomBot (white)\n",
      "  Action: place\n",
      "  Piece: ant\n",
      "  Target: (2, -4, 2)\n",
      "\n",
      "Turn 19: RandomBot (black)\n",
      "  Action: place\n",
      "  Piece: ant\n",
      "  Target: (-2, 3, -1)\n",
      "\n",
      "Turn 20: RandomBot (white)\n",
      "  Action: place\n",
      "  Piece: ant\n",
      "  Target: (3, -2, -1)\n",
      "\n",
      "Turn 21: RandomBot (black)\n",
      "  Action: place\n",
      "  Piece: ant\n",
      "  Target: (-4, 6, -2)\n",
      "\n",
      "Turn 22: RandomBot (white)\n",
      "  Action: place\n",
      "  Piece: ant\n",
      "  Target: (3, -5, 2)\n",
      "\n",
      "Turn 23: RandomBot (black)\n",
      "  Action: place\n",
      "  Piece: ant\n",
      "  Target: (-6, 6, 0)\n",
      "\n",
      "Turn 24: RandomBot (white)\n",
      "  Action: place\n",
      "  Piece: ant\n",
      "  Target: (1, -2, 1)\n",
      "\n",
      "Turn 25: RandomBot (black)\n",
      "  Action: place\n",
      "  Piece: ant\n",
      "  Target: (-5, 5, 0)\n",
      "\n",
      "Turn 26: RandomBot (white)\n",
      "  Action: forfeit\n",
      "white has forfeited the game.\n",
      "\n",
      "Turn 27: RandomBot (black)\n",
      "  Action: forfeit\n",
      "black has forfeited the game.\n",
      "\n",
      "Turn 28: RandomBot (white)\n",
      "  Action: forfeit\n",
      "white has forfeited the game.\n",
      "\n",
      "Turn 29: RandomBot (black)\n",
      "  Action: forfeit\n",
      "black has forfeited the game.\n",
      "\n",
      "Turn 30: RandomBot (white)\n",
      "  Action: forfeit\n",
      "white has forfeited the game.\n",
      "\n",
      "Turn 31: RandomBot (black)\n",
      "  Action: forfeit\n",
      "black has forfeited the game.\n",
      "\n",
      "Turn 32: RandomBot (white)\n",
      "  Action: forfeit\n",
      "white has forfeited the game.\n",
      "\n",
      "Turn 33: RandomBot (black)\n",
      "  Action: forfeit\n",
      "black has forfeited the game.\n",
      "\n",
      "Turn 34: RandomBot (white)\n",
      "  Action: forfeit\n",
      "white has forfeited the game.\n",
      "\n",
      "Turn 35: RandomBot (black)\n",
      "  Action: forfeit\n",
      "black has forfeited the game.\n",
      "\n",
      "Turn 36: RandomBot (white)\n",
      "  Action: forfeit\n",
      "white has forfeited the game.\n",
      "\n",
      "Turn 37: RandomBot (black)\n",
      "  Action: forfeit\n",
      "black has forfeited the game.\n",
      "\n",
      "Turn 38: RandomBot (white)\n",
      "  Action: forfeit\n",
      "white has forfeited the game.\n",
      "\n",
      "Turn 39: RandomBot (black)\n",
      "  Action: forfeit\n",
      "black has forfeited the game.\n",
      "\n",
      "Turn 40: RandomBot (white)\n",
      "  Action: forfeit\n",
      "white has forfeited the game.\n",
      "\n",
      "Turn 41: RandomBot (black)\n",
      "  Action: forfeit\n",
      "black has forfeited the game.\n",
      "\n",
      "Turn 42: RandomBot (white)\n",
      "  Action: forfeit\n",
      "white has forfeited the game.\n",
      "\n",
      "Turn 43: RandomBot (black)\n",
      "  Action: forfeit\n",
      "black has forfeited the game.\n",
      "\n",
      "Turn 44: RandomBot (white)\n",
      "  Action: forfeit\n",
      "white has forfeited the game.\n",
      "\n",
      "Turn 45: RandomBot (black)\n",
      "  Action: forfeit\n",
      "black has forfeited the game.\n",
      "\n",
      "Turn 46: RandomBot (white)\n",
      "  Action: forfeit\n",
      "white has forfeited the game.\n",
      "\n",
      "Turn 47: RandomBot (black)\n",
      "  Action: forfeit\n",
      "black has forfeited the game.\n",
      "\n",
      "Turn 48: RandomBot (white)\n",
      "  Action: forfeit\n",
      "white has forfeited the game.\n",
      "\n",
      "Turn 49: RandomBot (black)\n",
      "  Action: forfeit\n",
      "black has forfeited the game.\n",
      "\n",
      "Turn 50: RandomBot (white)\n",
      "  Action: forfeit\n",
      "white has forfeited the game.\n",
      "\n",
      "Turn 51: RandomBot (black)\n",
      "  Action: forfeit\n",
      "black has forfeited the game.\n",
      "\n",
      "Turn 52: RandomBot (white)\n",
      "  Action: forfeit\n",
      "white has forfeited the game.\n",
      "\n",
      "Turn 53: RandomBot (black)\n",
      "  Action: forfeit\n",
      "black has forfeited the game.\n",
      "\n",
      "Turn 54: RandomBot (white)\n",
      "  Action: forfeit\n",
      "white has forfeited the game.\n",
      "\n",
      "Turn 55: RandomBot (black)\n",
      "  Action: forfeit\n",
      "black has forfeited the game.\n",
      "\n",
      "Turn 56: RandomBot (white)\n",
      "  Action: forfeit\n",
      "white has forfeited the game.\n",
      "\n",
      "Turn 57: RandomBot (black)\n",
      "  Action: forfeit\n",
      "black has forfeited the game.\n",
      "\n",
      "Turn 58: RandomBot (white)\n",
      "  Action: forfeit\n",
      "white has forfeited the game.\n",
      "\n",
      "Turn 59: RandomBot (black)\n",
      "  Action: forfeit\n",
      "black has forfeited the game.\n",
      "\n",
      "Turn 60: RandomBot (white)\n",
      "  Action: forfeit\n",
      "white has forfeited the game.\n",
      "\n",
      "Turn 61: RandomBot (black)\n",
      "  Action: forfeit\n",
      "black has forfeited the game.\n",
      "\n",
      "Turn 62: RandomBot (white)\n",
      "  Action: forfeit\n",
      "white has forfeited the game.\n",
      "\n",
      "Turn 63: RandomBot (black)\n",
      "  Action: forfeit\n",
      "black has forfeited the game.\n",
      "\n",
      "Turn 64: RandomBot (white)\n",
      "  Action: forfeit\n",
      "white has forfeited the game.\n",
      "\n",
      "Turn 65: RandomBot (black)\n",
      "  Action: forfeit\n",
      "black has forfeited the game.\n",
      "\n",
      "Turn 66: RandomBot (white)\n",
      "  Action: forfeit\n",
      "white has forfeited the game.\n",
      "\n",
      "Turn 67: RandomBot (black)\n",
      "  Action: forfeit\n",
      "black has forfeited the game.\n",
      "\n",
      "Turn 68: RandomBot (white)\n",
      "  Action: forfeit\n",
      "white has forfeited the game.\n",
      "\n",
      "Turn 69: RandomBot (black)\n",
      "  Action: forfeit\n",
      "black has forfeited the game.\n",
      "\n",
      "Turn 70: RandomBot (white)\n",
      "  Action: forfeit\n",
      "white has forfeited the game.\n",
      "\n",
      "Turn 71: RandomBot (black)\n",
      "  Action: forfeit\n",
      "black has forfeited the game.\n",
      "\n",
      "Turn 72: RandomBot (white)\n",
      "  Action: forfeit\n",
      "white has forfeited the game.\n",
      "\n",
      "Turn 73: RandomBot (black)\n",
      "  Action: forfeit\n",
      "black has forfeited the game.\n",
      "\n",
      "Turn 74: RandomBot (white)\n",
      "  Action: forfeit\n",
      "white has forfeited the game.\n",
      "\n",
      "Turn 75: RandomBot (black)\n",
      "  Action: forfeit\n",
      "black has forfeited the game.\n",
      "\n",
      "Turn 76: RandomBot (white)\n",
      "  Action: forfeit\n",
      "white has forfeited the game.\n",
      "\n",
      "Turn 77: RandomBot (black)\n",
      "  Action: forfeit\n",
      "black has forfeited the game.\n",
      "\n",
      "Turn 78: RandomBot (white)\n",
      "  Action: forfeit\n",
      "white has forfeited the game.\n",
      "\n",
      "Turn 79: RandomBot (black)\n",
      "  Action: forfeit\n",
      "black has forfeited the game.\n",
      "\n",
      "Turn 80: RandomBot (white)\n",
      "  Action: forfeit\n",
      "white has forfeited the game.\n",
      "\n",
      "Turn 81: RandomBot (black)\n",
      "  Action: forfeit\n",
      "black has forfeited the game.\n",
      "\n",
      "Turn 82: RandomBot (white)\n",
      "  Action: forfeit\n",
      "white has forfeited the game.\n",
      "\n",
      "Turn 83: RandomBot (black)\n",
      "  Action: forfeit\n",
      "black has forfeited the game.\n",
      "\n",
      "Turn 84: RandomBot (white)\n",
      "  Action: forfeit\n",
      "white has forfeited the game.\n",
      "\n",
      "Turn 85: RandomBot (black)\n",
      "  Action: forfeit\n",
      "black has forfeited the game.\n",
      "\n",
      "Turn 86: RandomBot (white)\n",
      "  Action: forfeit\n",
      "white has forfeited the game.\n",
      "\n",
      "Turn 87: RandomBot (black)\n",
      "  Action: forfeit\n",
      "black has forfeited the game.\n",
      "\n",
      "Turn 88: RandomBot (white)\n",
      "  Action: forfeit\n",
      "white has forfeited the game.\n",
      "\n",
      "Turn 89: RandomBot (black)\n",
      "  Action: forfeit\n",
      "black has forfeited the game.\n",
      "\n",
      "Turn 90: RandomBot (white)\n",
      "  Action: forfeit\n",
      "white has forfeited the game.\n",
      "\n",
      "Turn 91: RandomBot (black)\n",
      "  Action: forfeit\n",
      "black has forfeited the game.\n",
      "\n",
      "Turn 92: RandomBot (white)\n",
      "  Action: forfeit\n",
      "white has forfeited the game.\n",
      "\n",
      "Turn 93: RandomBot (black)\n",
      "  Action: forfeit\n",
      "black has forfeited the game.\n",
      "\n",
      "Turn 94: RandomBot (white)\n",
      "  Action: forfeit\n",
      "white has forfeited the game.\n",
      "\n",
      "Turn 95: RandomBot (black)\n",
      "  Action: forfeit\n",
      "black has forfeited the game.\n",
      "\n",
      "Turn 96: RandomBot (white)\n",
      "  Action: forfeit\n",
      "white has forfeited the game.\n",
      "\n",
      "Turn 97: RandomBot (black)\n",
      "  Action: forfeit\n",
      "black has forfeited the game.\n",
      "\n",
      "Turn 98: RandomBot (white)\n",
      "  Action: forfeit\n",
      "white has forfeited the game.\n",
      "\n",
      "Turn 99: RandomBot (black)\n",
      "  Action: forfeit\n",
      "black has forfeited the game.\n",
      "\n",
      "Turn 100: RandomBot (white)\n",
      "  Action: forfeit\n",
      "white has forfeited the game.\n",
      "\n",
      "Turn 101: RandomBot (black)\n",
      "  Action: forfeit\n",
      "black has forfeited the game.\n",
      "\n",
      "Turn 102: RandomBot (white)\n",
      "  Action: forfeit\n",
      "white has forfeited the game.\n",
      "\n",
      "Turn 103: RandomBot (black)\n",
      "  Action: forfeit\n",
      "black has forfeited the game.\n",
      "\n",
      "Turn 104: RandomBot (white)\n",
      "  Action: forfeit\n",
      "white has forfeited the game.\n",
      "\n",
      "Turn 105: RandomBot (black)\n",
      "  Action: forfeit\n",
      "black has forfeited the game.\n",
      "\n",
      "Turn 106: RandomBot (white)\n",
      "  Action: forfeit\n",
      "white has forfeited the game.\n",
      "\n",
      "Turn 107: RandomBot (black)\n",
      "  Action: forfeit\n",
      "black has forfeited the game.\n",
      "\n",
      "Turn 108: RandomBot (white)\n",
      "  Action: forfeit\n",
      "white has forfeited the game.\n",
      "\n",
      "Turn 109: RandomBot (black)\n",
      "  Action: forfeit\n",
      "black has forfeited the game.\n",
      "\n",
      "Turn 110: RandomBot (white)\n",
      "  Action: forfeit\n",
      "white has forfeited the game.\n",
      "\n",
      "Turn 111: RandomBot (black)\n",
      "  Action: forfeit\n",
      "black has forfeited the game.\n",
      "\n",
      "Turn 112: RandomBot (white)\n",
      "  Action: forfeit\n",
      "white has forfeited the game.\n",
      "\n",
      "Turn 113: RandomBot (black)\n",
      "  Action: forfeit\n",
      "black has forfeited the game.\n",
      "\n",
      "Turn 114: RandomBot (white)\n",
      "  Action: forfeit\n",
      "white has forfeited the game.\n",
      "\n",
      "Turn 115: RandomBot (black)\n",
      "  Action: forfeit\n",
      "black has forfeited the game.\n",
      "\n",
      "Turn 116: RandomBot (white)\n",
      "  Action: forfeit\n",
      "white has forfeited the game.\n",
      "\n",
      "Turn 117: RandomBot (black)\n",
      "  Action: forfeit\n",
      "black has forfeited the game.\n",
      "\n",
      "Turn 118: RandomBot (white)\n",
      "  Action: forfeit\n",
      "white has forfeited the game.\n",
      "\n",
      "Turn 119: RandomBot (black)\n",
      "  Action: forfeit\n",
      "black has forfeited the game.\n",
      "\n",
      "Turn 120: RandomBot (white)\n",
      "  Action: forfeit\n",
      "white has forfeited the game.\n",
      "\n",
      "Turn 121: RandomBot (black)\n",
      "  Action: forfeit\n",
      "black has forfeited the game.\n",
      "\n",
      "Turn 122: RandomBot (white)\n",
      "  Action: forfeit\n",
      "white has forfeited the game.\n",
      "\n",
      "Turn 123: RandomBot (black)\n",
      "  Action: forfeit\n",
      "black has forfeited the game.\n",
      "\n",
      "Turn 124: RandomBot (white)\n",
      "  Action: forfeit\n",
      "white has forfeited the game.\n",
      "\n",
      "Turn 125: RandomBot (black)\n",
      "  Action: forfeit\n",
      "black has forfeited the game.\n",
      "\n",
      "Turn 126: RandomBot (white)\n",
      "  Action: forfeit\n",
      "white has forfeited the game.\n",
      "\n",
      "Turn 127: RandomBot (black)\n",
      "  Action: forfeit\n",
      "black has forfeited the game.\n",
      "\n",
      "Turn 128: RandomBot (white)\n",
      "  Action: forfeit\n",
      "white has forfeited the game.\n",
      "\n",
      "Turn 129: RandomBot (black)\n",
      "  Action: forfeit\n",
      "black has forfeited the game.\n",
      "\n",
      "Turn 130: RandomBot (white)\n",
      "  Action: forfeit\n",
      "white has forfeited the game.\n",
      "\n",
      "Turn 131: RandomBot (black)\n",
      "  Action: forfeit\n",
      "black has forfeited the game.\n",
      "\n",
      "Turn 132: RandomBot (white)\n",
      "  Action: forfeit\n",
      "white has forfeited the game.\n",
      "\n",
      "Turn 133: RandomBot (black)\n",
      "  Action: forfeit\n",
      "black has forfeited the game.\n",
      "\n",
      "Turn 134: RandomBot (white)\n",
      "  Action: forfeit\n",
      "white has forfeited the game.\n",
      "\n",
      "Turn 135: RandomBot (black)\n",
      "  Action: forfeit\n",
      "black has forfeited the game.\n",
      "\n",
      "Turn 136: RandomBot (white)\n",
      "  Action: forfeit\n",
      "white has forfeited the game.\n",
      "\n",
      "Turn 137: RandomBot (black)\n",
      "  Action: forfeit\n",
      "black has forfeited the game.\n",
      "\n",
      "Turn 138: RandomBot (white)\n",
      "  Action: forfeit\n",
      "white has forfeited the game.\n",
      "\n",
      "Turn 139: RandomBot (black)\n",
      "  Action: forfeit\n",
      "black has forfeited the game.\n",
      "\n",
      "Turn 140: RandomBot (white)\n",
      "  Action: forfeit\n",
      "white has forfeited the game.\n",
      "\n",
      "Turn 141: RandomBot (black)\n",
      "  Action: forfeit\n",
      "black has forfeited the game.\n",
      "\n",
      "Turn 142: RandomBot (white)\n",
      "  Action: forfeit\n",
      "white has forfeited the game.\n",
      "\n",
      "Turn 143: RandomBot (black)\n",
      "  Action: forfeit\n",
      "black has forfeited the game.\n",
      "\n",
      "Turn 144: RandomBot (white)\n",
      "  Action: forfeit\n",
      "white has forfeited the game.\n",
      "\n",
      "Turn 145: RandomBot (black)\n",
      "  Action: forfeit\n",
      "black has forfeited the game.\n",
      "\n",
      "Turn 146: RandomBot (white)\n",
      "  Action: forfeit\n",
      "white has forfeited the game.\n",
      "\n",
      "Turn 147: RandomBot (black)\n",
      "  Action: forfeit\n",
      "black has forfeited the game.\n",
      "\n",
      "Turn 148: RandomBot (white)\n",
      "  Action: forfeit\n",
      "white has forfeited the game.\n",
      "\n",
      "Turn 149: RandomBot (black)\n",
      "  Action: forfeit\n",
      "black has forfeited the game.\n",
      "\n",
      "Turn 150: RandomBot (white)\n",
      "  Action: forfeit\n",
      "white has forfeited the game.\n",
      "\n",
      "Turn 151: RandomBot (black)\n",
      "  Action: forfeit\n",
      "black has forfeited the game.\n",
      "\n",
      "Turn 152: RandomBot (white)\n",
      "  Action: forfeit\n",
      "white has forfeited the game.\n",
      "\n",
      "Turn 153: RandomBot (black)\n",
      "  Action: forfeit\n",
      "black has forfeited the game.\n",
      "\n",
      "Turn 154: RandomBot (white)\n",
      "  Action: forfeit\n",
      "white has forfeited the game.\n",
      "\n",
      "Turn 155: RandomBot (black)\n",
      "  Action: forfeit\n",
      "black has forfeited the game.\n",
      "\n",
      "Turn 156: RandomBot (white)\n",
      "  Action: forfeit\n",
      "white has forfeited the game.\n",
      "\n",
      "Turn 157: RandomBot (black)\n",
      "  Action: forfeit\n",
      "black has forfeited the game.\n",
      "\n",
      "Turn 158: RandomBot (white)\n",
      "  Action: forfeit\n",
      "white has forfeited the game.\n",
      "\n",
      "Turn 159: RandomBot (black)\n",
      "  Action: forfeit\n",
      "black has forfeited the game.\n",
      "\n",
      "Turn 160: RandomBot (white)\n",
      "  Action: forfeit\n",
      "white has forfeited the game.\n",
      "\n",
      "Turn 161: RandomBot (black)\n",
      "  Action: forfeit\n",
      "black has forfeited the game.\n",
      "\n",
      "Turn 162: RandomBot (white)\n",
      "  Action: forfeit\n",
      "white has forfeited the game.\n",
      "\n",
      "Turn 163: RandomBot (black)\n",
      "  Action: forfeit\n",
      "black has forfeited the game.\n",
      "\n",
      "Turn 164: RandomBot (white)\n",
      "  Action: forfeit\n",
      "white has forfeited the game.\n",
      "\n",
      "Turn 165: RandomBot (black)\n",
      "  Action: forfeit\n",
      "black has forfeited the game.\n",
      "\n",
      "Turn 166: RandomBot (white)\n",
      "  Action: forfeit\n",
      "white has forfeited the game.\n",
      "\n",
      "Turn 167: RandomBot (black)\n",
      "  Action: forfeit\n",
      "black has forfeited the game.\n",
      "\n",
      "Turn 168: RandomBot (white)\n",
      "  Action: forfeit\n",
      "white has forfeited the game.\n",
      "\n",
      "Turn 169: RandomBot (black)\n",
      "  Action: forfeit\n",
      "black has forfeited the game.\n",
      "\n",
      "Turn 170: RandomBot (white)\n",
      "  Action: forfeit\n",
      "white has forfeited the game.\n",
      "\n",
      "Turn 171: RandomBot (black)\n",
      "  Action: forfeit\n",
      "black has forfeited the game.\n",
      "\n",
      "Turn 172: RandomBot (white)\n",
      "  Action: forfeit\n",
      "white has forfeited the game.\n",
      "\n",
      "Turn 173: RandomBot (black)\n",
      "  Action: forfeit\n",
      "black has forfeited the game.\n",
      "\n",
      "Turn 174: RandomBot (white)\n",
      "  Action: forfeit\n",
      "white has forfeited the game.\n",
      "\n",
      "Turn 175: RandomBot (black)\n",
      "  Action: forfeit\n",
      "black has forfeited the game.\n",
      "\n",
      "Turn 176: RandomBot (white)\n",
      "  Action: forfeit\n",
      "white has forfeited the game.\n",
      "\n",
      "Turn 177: RandomBot (black)\n",
      "  Action: forfeit\n",
      "black has forfeited the game.\n",
      "\n",
      "Turn 178: RandomBot (white)\n",
      "  Action: forfeit\n",
      "white has forfeited the game.\n",
      "\n",
      "Turn 179: RandomBot (black)\n",
      "  Action: forfeit\n",
      "black has forfeited the game.\n",
      "\n",
      "Turn 180: RandomBot (white)\n",
      "  Action: forfeit\n",
      "white has forfeited the game.\n",
      "\n",
      "Turn 181: RandomBot (black)\n",
      "  Action: forfeit\n",
      "black has forfeited the game.\n",
      "\n",
      "Turn 182: RandomBot (white)\n",
      "  Action: forfeit\n",
      "white has forfeited the game.\n",
      "\n",
      "Turn 183: RandomBot (black)\n",
      "  Action: forfeit\n",
      "black has forfeited the game.\n",
      "\n",
      "Turn 184: RandomBot (white)\n",
      "  Action: forfeit\n",
      "white has forfeited the game.\n",
      "\n",
      "Turn 185: RandomBot (black)\n",
      "  Action: forfeit\n",
      "black has forfeited the game.\n",
      "\n",
      "Turn 186: RandomBot (white)\n",
      "  Action: forfeit\n",
      "white has forfeited the game.\n",
      "\n",
      "Turn 187: RandomBot (black)\n",
      "  Action: forfeit\n",
      "black has forfeited the game.\n",
      "\n",
      "Turn 188: RandomBot (white)\n",
      "  Action: forfeit\n",
      "white has forfeited the game.\n",
      "\n",
      "Turn 189: RandomBot (black)\n",
      "  Action: forfeit\n",
      "black has forfeited the game.\n",
      "\n",
      "Turn 190: RandomBot (white)\n",
      "  Action: forfeit\n",
      "white has forfeited the game.\n",
      "\n",
      "Turn 191: RandomBot (black)\n",
      "  Action: forfeit\n",
      "black has forfeited the game.\n",
      "\n",
      "Turn 192: RandomBot (white)\n",
      "  Action: forfeit\n",
      "white has forfeited the game.\n",
      "\n",
      "Turn 193: RandomBot (black)\n",
      "  Action: forfeit\n",
      "black has forfeited the game.\n",
      "\n",
      "Turn 194: RandomBot (white)\n",
      "  Action: forfeit\n",
      "white has forfeited the game.\n",
      "\n",
      "Turn 195: RandomBot (black)\n",
      "  Action: forfeit\n",
      "black has forfeited the game.\n",
      "\n",
      "Turn 196: RandomBot (white)\n",
      "  Action: forfeit\n",
      "white has forfeited the game.\n",
      "\n",
      "Turn 197: RandomBot (black)\n",
      "  Action: forfeit\n",
      "black has forfeited the game.\n",
      "\n",
      "Turn 198: RandomBot (white)\n",
      "  Action: forfeit\n",
      "white has forfeited the game.\n",
      "\n",
      "Turn 199: RandomBot (black)\n",
      "  Action: forfeit\n",
      "black has forfeited the game.\n",
      "\n",
      "Game reached maximum turns (200)\n"
     ]
    },
    {
     "data": {
      "application/vnd.plotly.v1+json": {
       "config": {
        "plotlyServerURL": "https://plot.ly"
       },
       "data": [
        {
         "fill": "toself",
         "fillcolor": "#F5F5F5",
         "hovertemplate": "Empty<br>q=2, r=1, s=-3<extra></extra>",
         "line": {
          "color": "lightgray",
          "width": 1
         },
         "mode": "lines",
         "name": "",
         "showlegend": false,
         "type": "scatter",
         "x": {
          "bdata": "mpmZmZmZD0DNzMzMzMwLQDQzMzMzMwRAZmZmZmZmAEAyMzMzMzMEQMvMzMzMzAtAmpmZmZmZD0A=",
          "dtype": "f8"
         },
         "y": {
          "bdata": "qkxY6Hq2C0DW1SmmtSURQNbVKaa1JRFAqkxY6Hq2C0Co7VyEiiEFQKftXISKIQVAqUxY6Hq2C0A=",
          "dtype": "f8"
         }
        },
        {
         "hoverinfo": "skip",
         "mode": "text",
         "name": "",
         "showlegend": false,
         "text": [
          "(2,1,-3)"
         ],
         "textfont": {
          "color": "darkgray",
          "size": 10
         },
         "type": "scatter",
         "x": [
          3
         ],
         "y": [
          3.4641016151377544
         ]
        },
        {
         "fill": "toself",
         "fillcolor": "#F5F5F5",
         "hovertemplate": "Empty<br>q=3, r=-6, s=3<extra></extra>",
         "line": {
          "color": "lightgray",
          "width": 1
         },
         "mode": "lines",
         "name": "",
         "showlegend": false,
         "type": "scatter",
         "x": {
          "bdata": "zczMzMzMFUBmZmZmZuYTQJqZmZmZGRBAZmZmZmZmDECZmZmZmRkQQGZmZmZm5hNAzczMzMzMFUA=",
          "dtype": "f8"
         },
         "y": {
          "bdata": "QFZjRUotH8C/pmUT0uIbwL+mZRPS4hvAQFZjRUotH8DggrA74TshwOGCsDvhOyHAQFZjRUotH8A=",
          "dtype": "f8"
         }
        },
        {
         "hoverinfo": "skip",
         "mode": "text",
         "name": "",
         "showlegend": false,
         "text": [
          "(3,-6,3)"
         ],
         "textfont": {
          "color": "darkgray",
          "size": 10
         },
         "type": "scatter",
         "x": [
          4.5
         ],
         "y": [
          -7.794228634059948
         ]
        },
        {
         "fill": "toself",
         "fillcolor": "#F5F5F5",
         "hovertemplate": "Empty<br>q=0, r=-1, s=1<extra></extra>",
         "line": {
          "color": "lightgray",
          "width": 1
         },
         "mode": "lines",
         "name": "",
         "showlegend": false,
         "type": "scatter",
         "x": {
          "bdata": "ZmZmZmZm7j9oZmZmZmbeP2JmZmZmZt6/ZmZmZmZm7r9uZmZmZmbev1tmZmZmZt4/ZmZmZmZm7j8=",
          "dtype": "f8"
         },
         "y": {
          "bdata": "qkxY6Hq2+79MHcNANBntv0sdw0A0Ge2/qUxY6Hq2+79XhSfYLXAEwFiFJ9gtcATAq0xY6Hq2+78=",
          "dtype": "f8"
         }
        },
        {
         "hoverinfo": "skip",
         "mode": "text",
         "name": "",
         "showlegend": false,
         "text": [
          "(0,-1,1)"
         ],
         "textfont": {
          "color": "darkgray",
          "size": 10
         },
         "type": "scatter",
         "x": [
          0
         ],
         "y": [
          -1.7320508075688772
         ]
        },
        {
         "fill": "toself",
         "fillcolor": "#F5F5F5",
         "hovertemplate": "Empty<br>q=-1, r=3, s=-2<extra></extra>",
         "line": {
          "color": "lightgray",
          "width": 1
         },
         "mode": "lines",
         "name": "",
         "showlegend": false,
         "type": "scatter",
         "x": {
          "bdata": "mpmZmZmZ4b9mZmZmZmbwv5iZmZmZmf+/mpmZmZmZA8CcmZmZmZn/v2lmZmZmZvC/mpmZmZmZ4b8=",
          "dtype": "f8"
         },
         "y": {
          "bdata": "6y830QxSEUBs3zQDhZwUQGzfNAOFnBRA6y830QxSEUDUAHM+KQ8MQNMAcz4pDwxA6y830QxSEUA=",
          "dtype": "f8"
         }
        },
        {
         "hoverinfo": "skip",
         "mode": "text",
         "name": "",
         "showlegend": false,
         "text": [
          "(-1,3,-2)"
         ],
         "textfont": {
          "color": "darkgray",
          "size": 10
         },
         "type": "scatter",
         "x": [
          -1.5
         ],
         "y": [
          4.330127018922194
         ]
        },
        {
         "fill": "toself",
         "fillcolor": "#F5F5F5",
         "hovertemplate": "Empty<br>q=-1, r=4, s=-3<extra></extra>",
         "line": {
          "color": "lightgray",
          "width": 1
         },
         "mode": "lines",
         "name": "",
         "showlegend": false,
         "type": "scatter",
         "x": {
          "bdata": "mpmZmZmZ4b9mZmZmZmbwv5iZmZmZmf+/mpmZmZmZA8CcmZmZmZn/v2lmZmZmZvC/mpmZmZmZ4b8=",
          "dtype": "f8"
         },
         "y": {
          "bdata": "FUNNi6s/GECW8kq9I4obQJbySr0jihtAFUNNi6s/GECUk09ZM/UUQJSTT1kz9RRAFUNNi6s/GEA=",
          "dtype": "f8"
         }
        },
        {
         "hoverinfo": "skip",
         "mode": "text",
         "name": "",
         "showlegend": false,
         "text": [
          "(-1,4,-3)"
         ],
         "textfont": {
          "color": "darkgray",
          "size": 10
         },
         "type": "scatter",
         "x": [
          -1.5
         ],
         "y": [
          6.06217782649107
         ]
        },
        {
         "fill": "toself",
         "fillcolor": "#F5F5F5",
         "hovertemplate": "Empty<br>q=0, r=3, s=-3<extra></extra>",
         "line": {
          "color": "lightgray",
          "width": 1
         },
         "mode": "lines",
         "name": "",
         "showlegend": false,
         "type": "scatter",
         "x": {
          "bdata": "ZmZmZmZm7j9oZmZmZmbeP2JmZmZmZt6/ZmZmZmZm7r9uZmZmZmbev1tmZmZmZt4/ZmZmZmZm7j8=",
          "dtype": "f8"
         },
         "y": {
          "bdata": "gDlCLtzIFEAB6T9gVBMYQAHpP2BUExhAgDlCLtzIFED/iUT8Y34RQP+JRPxjfhFAgDlCLtzIFEA=",
          "dtype": "f8"
         }
        },
        {
         "hoverinfo": "skip",
         "mode": "text",
         "name": "",
         "showlegend": false,
         "text": [
          "(0,3,-3)"
         ],
         "textfont": {
          "color": "darkgray",
          "size": 10
         },
         "type": "scatter",
         "x": [
          0
         ],
         "y": [
          5.196152422706632
         ]
        },
        {
         "fill": "toself",
         "fillcolor": "#F5F5F5",
         "hovertemplate": "Empty<br>q=-4, r=2, s=2<extra></extra>",
         "line": {
          "color": "lightgray",
          "width": 1
         },
         "mode": "lines",
         "name": "",
         "showlegend": false,
         "type": "scatter",
         "x": {
          "bdata": "MzMzMzMzFMCamZmZmRkWwGZmZmZm5hnAzczMzMzMG8BnZmZmZuYZwJqZmZmZGRbAMzMzMzMzFMA=",
          "dtype": "f8"
         },
         "y": {
          "bdata": "AAAAAAAAAAAIfO2PwVPqPwl87Y/BU+o/07254z3EoDwHfO2PwVPqvwt87Y/BU+q/07254z3EsLw=",
          "dtype": "f8"
         }
        },
        {
         "hoverinfo": "skip",
         "mode": "text",
         "name": "",
         "showlegend": false,
         "text": [
          "(-4,2,2)"
         ],
         "textfont": {
          "color": "darkgray",
          "size": 10
         },
         "type": "scatter",
         "x": [
          -6
         ],
         "y": [
          0
         ]
        },
        {
         "fill": "toself",
         "fillcolor": "#F5F5F5",
         "hovertemplate": "Empty<br>q=-2, r=0, s=2<extra></extra>",
         "line": {
          "color": "lightgray",
          "width": 1
         },
         "mode": "lines",
         "name": "",
         "showlegend": false,
         "type": "scatter",
         "x": {
          "bdata": "ZmZmZmZmAMAzMzMzMzMEwMzMzMzMzAvAmpmZmZmZD8DOzMzMzMwLwDUzMzMzMwTAZmZmZmZmAMA=",
          "dtype": "f8"
         },
         "y": {
          "bdata": "qkxY6Hq2+79MHcNANBntv0sdw0A0Ge2/qUxY6Hq2+79XhSfYLXAEwFiFJ9gtcATAq0xY6Hq2+78=",
          "dtype": "f8"
         }
        },
        {
         "hoverinfo": "skip",
         "mode": "text",
         "name": "",
         "showlegend": false,
         "text": [
          "(-2,0,2)"
         ],
         "textfont": {
          "color": "darkgray",
          "size": 10
         },
         "type": "scatter",
         "x": [
          -3
         ],
         "y": [
          -1.7320508075688772
         ]
        },
        {
         "fill": "toself",
         "fillcolor": "#F5F5F5",
         "hovertemplate": "Empty<br>q=-7, r=6, s=1<extra></extra>",
         "line": {
          "color": "lightgray",
          "width": 1
         },
         "mode": "lines",
         "name": "",
         "showlegend": false,
         "type": "scatter",
         "x": {
          "bdata": "mpmZmZkZI8DNzMzMzAwkwDMzMzMz8yXAZmZmZmbmJsAzMzMzM/MlwM3MzMzMDCTAmpmZmZkZI8A=",
          "dtype": "f8"
         },
         "y": {
          "bdata": "6y830QxSEUBs3zQDhZwUQGzfNAOFnBRA6y830QxSEUDUAHM+KQ8MQNMAcz4pDwxA6y830QxSEUA=",
          "dtype": "f8"
         }
        },
        {
         "hoverinfo": "skip",
         "mode": "text",
         "name": "",
         "showlegend": false,
         "text": [
          "(-7,6,1)"
         ],
         "textfont": {
          "color": "darkgray",
          "size": 10
         },
         "type": "scatter",
         "x": [
          -10.5
         ],
         "y": [
          4.330127018922194
         ]
        },
        {
         "fill": "toself",
         "fillcolor": "#F5F5F5",
         "hovertemplate": "Empty<br>q=-7, r=7, s=0<extra></extra>",
         "line": {
          "color": "lightgray",
          "width": 1
         },
         "mode": "lines",
         "name": "",
         "showlegend": false,
         "type": "scatter",
         "x": {
          "bdata": "mpmZmZkZI8DNzMzMzAwkwDMzMzMz8yXAZmZmZmbmJsAzMzMzM/MlwM3MzMzMDCTAmpmZmZkZI8A=",
          "dtype": "f8"
         },
         "y": {
          "bdata": "FUNNi6s/GECW8kq9I4obQJbySr0jihtAFUNNi6s/GECUk09ZM/UUQJSTT1kz9RRAFUNNi6s/GEA=",
          "dtype": "f8"
         }
        },
        {
         "hoverinfo": "skip",
         "mode": "text",
         "name": "",
         "showlegend": false,
         "text": [
          "(-7,7,0)"
         ],
         "textfont": {
          "color": "darkgray",
          "size": 10
         },
         "type": "scatter",
         "x": [
          -10.5
         ],
         "y": [
          6.06217782649107
         ]
        },
        {
         "fill": "toself",
         "fillcolor": "#F5F5F5",
         "hovertemplate": "Empty<br>q=4, r=-6, s=2<extra></extra>",
         "line": {
          "color": "lightgray",
          "width": 1
         },
         "mode": "lines",
         "name": "",
         "showlegend": false,
         "type": "scatter",
         "x": {
          "bdata": "zczMzMzMG0BmZmZmZuYZQJqZmZmZGRZAMzMzMzMzFECZmZmZmRkWQGZmZmZm5hlAzczMzMzMG0A=",
          "dtype": "f8"
         },
         "y": {
          "bdata": "q0xY6Hq2G8AqnVq2AmwYwCqdWrYCbBjAq0xY6Hq2G8As/FUa8wAfwCz8VRrzAB/Aq0xY6Hq2G8A=",
          "dtype": "f8"
         }
        },
        {
         "hoverinfo": "skip",
         "mode": "text",
         "name": "",
         "showlegend": false,
         "text": [
          "(4,-6,2)"
         ],
         "textfont": {
          "color": "darkgray",
          "size": 10
         },
         "type": "scatter",
         "x": [
          6
         ],
         "y": [
          -6.92820323027551
         ]
        },
        {
         "fill": "toself",
         "fillcolor": "#F5F5F5",
         "hovertemplate": "Empty<br>q=4, r=-5, s=1<extra></extra>",
         "line": {
          "color": "lightgray",
          "width": 1
         },
         "mode": "lines",
         "name": "",
         "showlegend": false,
         "type": "scatter",
         "x": {
          "bdata": "zczMzMzMG0BmZmZmZuYZQJqZmZmZGRZAMzMzMzMzFECZmZmZmRkWQGZmZmZm5hlAzczMzMzMG0A=",
          "dtype": "f8"
         },
         "y": {
          "bdata": "fzlCLtzIFMD+iUT8Y34RwP6JRPxjfhHAfzlCLtzIFMAA6T9gVBMYwADpP2BUExjAfzlCLtzIFMA=",
          "dtype": "f8"
         }
        },
        {
         "hoverinfo": "skip",
         "mode": "text",
         "name": "",
         "showlegend": false,
         "text": [
          "(4,-5,1)"
         ],
         "textfont": {
          "color": "darkgray",
          "size": 10
         },
         "type": "scatter",
         "x": [
          6
         ],
         "y": [
          -5.196152422706631
         ]
        },
        {
         "fill": "toself",
         "fillcolor": "#F5F5F5",
         "hovertemplate": "Empty<br>q=4, r=-3, s=-1<extra></extra>",
         "line": {
          "color": "lightgray",
          "width": 1
         },
         "mode": "lines",
         "name": "",
         "showlegend": false,
         "type": "scatter",
         "x": {
          "bdata": "zczMzMzMG0BmZmZmZuYZQJqZmZmZGRZAMzMzMzMzFECZmZmZmRkWQGZmZmZm5hlAzczMzMzMG0A=",
          "dtype": "f8"
         },
         "y": {
          "bdata": "rExY6Hq2+79QHcNANBntv08dw0A0Ge2/q0xY6Hq2+79YhSfYLXAEwFmFJ9gtcATArUxY6Hq2+78=",
          "dtype": "f8"
         }
        },
        {
         "hoverinfo": "skip",
         "mode": "text",
         "name": "",
         "showlegend": false,
         "text": [
          "(4,-3,-1)"
         ],
         "textfont": {
          "color": "darkgray",
          "size": 10
         },
         "type": "scatter",
         "x": [
          6
         ],
         "y": [
          -1.7320508075688776
         ]
        },
        {
         "fill": "toself",
         "fillcolor": "#F5F5F5",
         "hovertemplate": "Empty<br>q=2, r=0, s=-2<extra></extra>",
         "line": {
          "color": "lightgray",
          "width": 1
         },
         "mode": "lines",
         "name": "",
         "showlegend": false,
         "type": "scatter",
         "x": {
          "bdata": "mpmZmZmZD0DNzMzMzMwLQDQzMzMzMwRAZmZmZmZmAEAyMzMzMzMEQMvMzMzMzAtAmpmZmZmZD0A=",
          "dtype": "f8"
         },
         "y": {
          "bdata": "qkxY6Hq2+z9XhSfYLXAEQFeFJ9gtcARAq0xY6Hq2+z9NHcNANBntP0kdw0A0Ge0/qUxY6Hq2+z8=",
          "dtype": "f8"
         }
        },
        {
         "hoverinfo": "skip",
         "mode": "text",
         "name": "",
         "showlegend": false,
         "text": [
          "(2,0,-2)"
         ],
         "textfont": {
          "color": "darkgray",
          "size": 10
         },
         "type": "scatter",
         "x": [
          3
         ],
         "y": [
          1.7320508075688772
         ]
        },
        {
         "fill": "toself",
         "fillcolor": "#F5F5F5",
         "hovertemplate": "Empty<br>q=-3, r=6, s=-3<extra></extra>",
         "line": {
          "color": "lightgray",
          "width": 1
         },
         "mode": "lines",
         "name": "",
         "showlegend": false,
         "type": "scatter",
         "x": {
          "bdata": "ZmZmZmZmDMCamZmZmRkQwGZmZmZm5hPAzczMzMzMFcBnZmZmZuYTwJqZmZmZGRDAZmZmZmZmDMA=",
          "dtype": "f8"
         },
         "y": {
          "bdata": "QFZjRUotH0DggrA74TshQOGCsDvhOyFAQFZjRUotH0C/pmUT0uIbQL+mZRPS4htAQFZjRUotH0A=",
          "dtype": "f8"
         }
        },
        {
         "hoverinfo": "skip",
         "mode": "text",
         "name": "",
         "showlegend": false,
         "text": [
          "(-3,6,-3)"
         ],
         "textfont": {
          "color": "darkgray",
          "size": 10
         },
         "type": "scatter",
         "x": [
          -4.5
         ],
         "y": [
          7.794228634059948
         ]
        },
        {
         "fill": "toself",
         "fillcolor": "#F5F5F5",
         "hovertemplate": "Empty<br>q=1, r=-4, s=3<extra></extra>",
         "line": {
          "color": "lightgray",
          "width": 1
         },
         "mode": "lines",
         "name": "",
         "showlegend": false,
         "type": "scatter",
         "x": {
          "bdata": "mpmZmZmZA0CamZmZmZn/P2hmZmZmZvA/mpmZmZmZ4T9kZmZmZmbwP5eZmZmZmf8/mpmZmZmZA0A=",
          "dtype": "f8"
         },
         "y": {
          "bdata": "FUNNi6s/GMCUk09ZM/UUwJSTT1kz9RTAFUNNi6s/GMCW8kq9I4obwJbySr0jihvAFUNNi6s/GMA=",
          "dtype": "f8"
         }
        },
        {
         "hoverinfo": "skip",
         "mode": "text",
         "name": "",
         "showlegend": false,
         "text": [
          "(1,-4,3)"
         ],
         "textfont": {
          "color": "darkgray",
          "size": 10
         },
         "type": "scatter",
         "x": [
          1.5
         ],
         "y": [
          -6.06217782649107
         ]
        },
        {
         "fill": "toself",
         "fillcolor": "#F5F5F5",
         "hovertemplate": "Empty<br>q=-6, r=5, s=1<extra></extra>",
         "line": {
          "color": "lightgray",
          "width": 1
         },
         "mode": "lines",
         "name": "",
         "showlegend": false,
         "type": "scatter",
         "x": {
          "bdata": "mpmZmZkZIMDNzMzMzAwhwDMzMzMz8yLAZmZmZmbmI8AzMzMzM/MiwM3MzMzMDCHAmpmZmZkZIMA=",
          "dtype": "f8"
         },
         "y": {
          "bdata": "qExY6Hq2C0DV1SmmtSURQNXVKaa1JRFAqExY6Hq2C0Cm7VyEiiEFQKXtXISKIQVAp0xY6Hq2C0A=",
          "dtype": "f8"
         }
        },
        {
         "hoverinfo": "skip",
         "mode": "text",
         "name": "",
         "showlegend": false,
         "text": [
          "(-6,5,1)"
         ],
         "textfont": {
          "color": "darkgray",
          "size": 10
         },
         "type": "scatter",
         "x": [
          -9
         ],
         "y": [
          3.4641016151377535
         ]
        },
        {
         "fill": "toself",
         "fillcolor": "#F5F5F5",
         "hovertemplate": "Empty<br>q=-6, r=7, s=-1<extra></extra>",
         "line": {
          "color": "lightgray",
          "width": 1
         },
         "mode": "lines",
         "name": "",
         "showlegend": false,
         "type": "scatter",
         "x": {
          "bdata": "mpmZmZkZIMDNzMzMzAwhwDMzMzMz8yLAZmZmZmbmI8AzMzMzM/MiwM3MzMzMDCHAmpmZmZkZIMA=",
          "dtype": "f8"
         },
         "y": {
          "bdata": "qkxY6Hq2G0Ar/FUa8wAfQCv8VRrzAB9AqkxY6Hq2G0ApnVq2AmwYQCmdWrYCbBhAqkxY6Hq2G0A=",
          "dtype": "f8"
         }
        },
        {
         "hoverinfo": "skip",
         "mode": "text",
         "name": "",
         "showlegend": false,
         "text": [
          "(-6,7,-1)"
         ],
         "textfont": {
          "color": "darkgray",
          "size": 10
         },
         "type": "scatter",
         "x": [
          -9
         ],
         "y": [
          6.928203230275509
         ]
        },
        {
         "fill": "toself",
         "fillcolor": "#F5F5F5",
         "hovertemplate": "Empty<br>q=-4, r=7, s=-3<extra></extra>",
         "line": {
          "color": "lightgray",
          "width": 1
         },
         "mode": "lines",
         "name": "",
         "showlegend": false,
         "type": "scatter",
         "x": {
          "bdata": "MzMzMzMzFMCamZmZmRkWwGZmZmZm5hnAzczMzMzMG8BnZmZmZuYZwJqZmZmZGRbAMzMzMzMzFMA=",
          "dtype": "f8"
         },
         "y": {
          "bdata": "6i830QxSIUCqBzbqSPciQKsHNupI9yJA6i830QxSIUBTsHBwoVkfQFOwcHChWR9A6i830QxSIUA=",
          "dtype": "f8"
         }
        },
        {
         "hoverinfo": "skip",
         "mode": "text",
         "name": "",
         "showlegend": false,
         "text": [
          "(-4,7,-3)"
         ],
         "textfont": {
          "color": "darkgray",
          "size": 10
         },
         "type": "scatter",
         "x": [
          -6
         ],
         "y": [
          8.660254037844386
         ]
        },
        {
         "fill": "toself",
         "fillcolor": "#F5F5F5",
         "hovertemplate": "Empty<br>q=-3, r=5, s=-2<extra></extra>",
         "line": {
          "color": "lightgray",
          "width": 1
         },
         "mode": "lines",
         "name": "",
         "showlegend": false,
         "type": "scatter",
         "x": {
          "bdata": "ZmZmZmZmDMCamZmZmRkQwGZmZmZm5hPAzczMzMzMFcBnZmZmZuYTwJqZmZmZGRDAZmZmZmZmDMA=",
          "dtype": "f8"
         },
         "y": {
          "bdata": "FENNi6s/GECV8kq9I4obQJXySr0jihtAFENNi6s/GECTk09ZM/UUQJOTT1kz9RRAFENNi6s/GEA=",
          "dtype": "f8"
         }
        },
        {
         "hoverinfo": "skip",
         "mode": "text",
         "name": "",
         "showlegend": false,
         "text": [
          "(-3,5,-2)"
         ],
         "textfont": {
          "color": "darkgray",
          "size": 10
         },
         "type": "scatter",
         "x": [
          -4.5
         ],
         "y": [
          6.0621778264910695
         ]
        },
        {
         "fill": "toself",
         "fillcolor": "#F5F5F5",
         "hovertemplate": "Empty<br>q=-1, r=0, s=1<extra></extra>",
         "line": {
          "color": "lightgray",
          "width": 1
         },
         "mode": "lines",
         "name": "",
         "showlegend": false,
         "type": "scatter",
         "x": {
          "bdata": "mpmZmZmZ4b9mZmZmZmbwv5iZmZmZmf+/mpmZmZmZA8CcmZmZmZn/v2lmZmZmZvC/mpmZmZmZ4b8=",
          "dtype": "f8"
         },
         "y": {
          "bdata": "qkxY6Hq2678gCq2GlSumvxAKrYaVK6a/qUxY6Hq2679Y5CI8HgX7v1rkIjweBfu/rExY6Hq2678=",
          "dtype": "f8"
         }
        },
        {
         "hoverinfo": "skip",
         "mode": "text",
         "name": "",
         "showlegend": false,
         "text": [
          "(-1,0,1)"
         ],
         "textfont": {
          "color": "darkgray",
          "size": 10
         },
         "type": "scatter",
         "x": [
          -1.5
         ],
         "y": [
          -0.8660254037844386
         ]
        },
        {
         "fill": "toself",
         "fillcolor": "#F5F5F5",
         "hovertemplate": "Empty<br>q=-1, r=2, s=-1<extra></extra>",
         "line": {
          "color": "lightgray",
          "width": 1
         },
         "mode": "lines",
         "name": "",
         "showlegend": false,
         "type": "scatter",
         "x": {
          "bdata": "mpmZmZmZ4b9mZmZmZmbwv5iZmZmZmf+/mpmZmZmZA8CcmZmZmZn/v2lmZmZmZvC/mpmZmZmZ4b8=",
          "dtype": "f8"
         },
         "y": {
          "bdata": "gDlCLtzIBECCmD2SzF0LQIKYPZLMXQtAgDlCLtzIBED8tI2U12f8P/q0jZTXZ/w/fzlCLtzIBEA=",
          "dtype": "f8"
         }
        },
        {
         "hoverinfo": "skip",
         "mode": "text",
         "name": "",
         "showlegend": false,
         "text": [
          "(-1,2,-1)"
         ],
         "textfont": {
          "color": "darkgray",
          "size": 10
         },
         "type": "scatter",
         "x": [
          -1.5
         ],
         "y": [
          2.598076211353316
         ]
        },
        {
         "fill": "toself",
         "fillcolor": "#F5F5F5",
         "hovertemplate": "Empty<br>q=-5, r=7, s=-2<extra></extra>",
         "line": {
          "color": "lightgray",
          "width": 1
         },
         "mode": "lines",
         "name": "",
         "showlegend": false,
         "type": "scatter",
         "x": {
          "bdata": "MzMzMzMzGsCamZmZmRkcwGZmZmZm5h/AZmZmZmbmIMBnZmZmZuYfwJqZmZmZGRzAMzMzMzMzGsA=",
          "dtype": "f8"
         },
         "y": {
          "bdata": "QFZjRUotH0DggrA74TshQOGCsDvhOyFAQFZjRUotH0C/pmUT0uIbQL+mZRPS4htAQFZjRUotH0A=",
          "dtype": "f8"
         }
        },
        {
         "hoverinfo": "skip",
         "mode": "text",
         "name": "",
         "showlegend": false,
         "text": [
          "(-5,7,-2)"
         ],
         "textfont": {
          "color": "darkgray",
          "size": 10
         },
         "type": "scatter",
         "x": [
          -7.5
         ],
         "y": [
          7.794228634059948
         ]
        },
        {
         "fill": "toself",
         "fillcolor": "#F5F5F5",
         "hovertemplate": "Empty<br>q=-2, r=5, s=-3<extra></extra>",
         "line": {
          "color": "lightgray",
          "width": 1
         },
         "mode": "lines",
         "name": "",
         "showlegend": false,
         "type": "scatter",
         "x": {
          "bdata": "ZmZmZmZmAMAzMzMzMzMEwMzMzMzMzAvAmpmZmZmZD8DOzMzMzMwLwDUzMzMzMwTAZmZmZmZmAMA=",
          "dtype": "f8"
         },
         "y": {
          "bdata": "qkxY6Hq2G0Ar/FUa8wAfQCv8VRrzAB9AqkxY6Hq2G0ApnVq2AmwYQCmdWrYCbBhAqkxY6Hq2G0A=",
          "dtype": "f8"
         }
        },
        {
         "hoverinfo": "skip",
         "mode": "text",
         "name": "",
         "showlegend": false,
         "text": [
          "(-2,5,-3)"
         ],
         "textfont": {
          "color": "darkgray",
          "size": 10
         },
         "type": "scatter",
         "x": [
          -3
         ],
         "y": [
          6.928203230275509
         ]
        },
        {
         "fill": "toself",
         "fillcolor": "#F5F5F5",
         "hovertemplate": "Empty<br>q=-4, r=3, s=1<extra></extra>",
         "line": {
          "color": "lightgray",
          "width": 1
         },
         "mode": "lines",
         "name": "",
         "showlegend": false,
         "type": "scatter",
         "x": {
          "bdata": "MzMzMzMzFMCamZmZmRkWwGZmZmZm5hnAzczMzMzMG8BnZmZmZuYZwJqZmZmZGRbAMzMzMzMzFMA=",
          "dtype": "f8"
         },
         "y": {
          "bdata": "rExY6Hq2+z9YhSfYLXAEQFiFJ9gtcARArUxY6Hq2+z9RHcNANBntP00dw0A0Ge0/q0xY6Hq2+z8=",
          "dtype": "f8"
         }
        },
        {
         "hoverinfo": "skip",
         "mode": "text",
         "name": "",
         "showlegend": false,
         "text": [
          "(-4,3,1)"
         ],
         "textfont": {
          "color": "darkgray",
          "size": 10
         },
         "type": "scatter",
         "x": [
          -6
         ],
         "y": [
          1.7320508075688776
         ]
        },
        {
         "fill": "toself",
         "fillcolor": "#F5F5F5",
         "hovertemplate": "Empty<br>q=0, r=1, s=-1<extra></extra>",
         "line": {
          "color": "lightgray",
          "width": 1
         },
         "mode": "lines",
         "name": "",
         "showlegend": false,
         "type": "scatter",
         "x": {
          "bdata": "ZmZmZmZm7j9oZmZmZmbeP2JmZmZmZt6/ZmZmZmZm7r9uZmZmZmbev1tmZmZmZt4/ZmZmZmZm7j8=",
          "dtype": "f8"
         },
         "y": {
          "bdata": "qkxY6Hq2+z9XhSfYLXAEQFeFJ9gtcARAq0xY6Hq2+z9NHcNANBntP0kdw0A0Ge0/qUxY6Hq2+z8=",
          "dtype": "f8"
         }
        },
        {
         "hoverinfo": "skip",
         "mode": "text",
         "name": "",
         "showlegend": false,
         "text": [
          "(0,1,-1)"
         ],
         "textfont": {
          "color": "darkgray",
          "size": 10
         },
         "type": "scatter",
         "x": [
          0
         ],
         "y": [
          1.7320508075688772
         ]
        },
        {
         "fill": "toself",
         "fillcolor": "#F5F5F5",
         "hovertemplate": "Empty<br>q=0, r=-2, s=2<extra></extra>",
         "line": {
          "color": "lightgray",
          "width": 1
         },
         "mode": "lines",
         "name": "",
         "showlegend": false,
         "type": "scatter",
         "x": {
          "bdata": "ZmZmZmZm7j9oZmZmZmbeP2JmZmZmZt6/ZmZmZmZm7r9uZmZmZmbev1tmZmZmZt4/ZmZmZmZm7j8=",
          "dtype": "f8"
         },
         "y": {
          "bdata": "qkxY6Hq2C8Co7VyEiiEFwKjtXISKIQXAqkxY6Hq2C8DW1SmmtSURwNbVKaa1JRHAq0xY6Hq2C8A=",
          "dtype": "f8"
         }
        },
        {
         "hoverinfo": "skip",
         "mode": "text",
         "name": "",
         "showlegend": false,
         "text": [
          "(0,-2,2)"
         ],
         "textfont": {
          "color": "darkgray",
          "size": 10
         },
         "type": "scatter",
         "x": [
          0
         ],
         "y": [
          -3.4641016151377544
         ]
        },
        {
         "fill": "toself",
         "fillcolor": "#F5F5F5",
         "hovertemplate": "Empty<br>q=3, r=-4, s=1<extra></extra>",
         "line": {
          "color": "lightgray",
          "width": 1
         },
         "mode": "lines",
         "name": "",
         "showlegend": false,
         "type": "scatter",
         "x": {
          "bdata": "zczMzMzMFUBmZmZmZuYTQJqZmZmZGRBAZmZmZmZmDECZmZmZmRkQQGZmZmZm5hNAzczMzMzMFUA=",
          "dtype": "f8"
         },
         "y": {
          "bdata": "6i830QxSEcDSAHM+KQ8MwNIAcz4pDwzA6i830QxSEcBr3zQDhZwUwGvfNAOFnBTA6i830QxSEcA=",
          "dtype": "f8"
         }
        },
        {
         "hoverinfo": "skip",
         "mode": "text",
         "name": "",
         "showlegend": false,
         "text": [
          "(3,-4,1)"
         ],
         "textfont": {
          "color": "darkgray",
          "size": 10
         },
         "type": "scatter",
         "x": [
          4.5
         ],
         "y": [
          -4.330127018922193
         ]
        },
        {
         "fill": "toself",
         "fillcolor": "#F5F5F5",
         "hovertemplate": "Empty<br>q=3, r=-3, s=0<extra></extra>",
         "line": {
          "color": "lightgray",
          "width": 1
         },
         "mode": "lines",
         "name": "",
         "showlegend": false,
         "type": "scatter",
         "x": {
          "bdata": "zczMzMzMFUBmZmZmZuYTQJqZmZmZGRBAZmZmZmZmDECZmZmZmRkQQGZmZmZm5hNAzczMzMzMFUA=",
          "dtype": "f8"
         },
         "y": {
          "bdata": "gDlCLtzIBMD8tI2U12f8v/y0jZTXZ/y/gDlCLtzIBMCCmD2SzF0LwIOYPZLMXQvAgTlCLtzIBMA=",
          "dtype": "f8"
         }
        },
        {
         "hoverinfo": "skip",
         "mode": "text",
         "name": "",
         "showlegend": false,
         "text": [
          "(3,-3,0)"
         ],
         "textfont": {
          "color": "darkgray",
          "size": 10
         },
         "type": "scatter",
         "x": [
          4.5
         ],
         "y": [
          -2.598076211353316
         ]
        },
        {
         "fill": "toself",
         "fillcolor": "#F5F5F5",
         "hovertemplate": "Empty<br>q=1, r=2, s=-3<extra></extra>",
         "line": {
          "color": "lightgray",
          "width": 1
         },
         "mode": "lines",
         "name": "",
         "showlegend": false,
         "type": "scatter",
         "x": {
          "bdata": "mpmZmZmZA0CamZmZmZn/P2hmZmZmZvA/mpmZmZmZ4T9kZmZmZmbwP5eZmZmZmf8/mpmZmZmZA0A=",
          "dtype": "f8"
         },
         "y": {
          "bdata": "6i830QxSEUBr3zQDhZwUQGvfNAOFnBRA6i830QxSEUDSAHM+KQ8MQNEAcz4pDwxA6i830QxSEUA=",
          "dtype": "f8"
         }
        },
        {
         "hoverinfo": "skip",
         "mode": "text",
         "name": "",
         "showlegend": false,
         "text": [
          "(1,2,-3)"
         ],
         "textfont": {
          "color": "darkgray",
          "size": 10
         },
         "type": "scatter",
         "x": [
          1.5
         ],
         "y": [
          4.330127018922193
         ]
        },
        {
         "fill": "toself",
         "fillcolor": "#F5F5F5",
         "hovertemplate": "Empty<br>q=4, r=-2, s=-2<extra></extra>",
         "line": {
          "color": "lightgray",
          "width": 1
         },
         "mode": "lines",
         "name": "",
         "showlegend": false,
         "type": "scatter",
         "x": {
          "bdata": "zczMzMzMG0BmZmZmZuYZQJqZmZmZGRZAMzMzMzMzFECZmZmZmRkWQGZmZmZm5hlAzczMzMzMG0A=",
          "dtype": "f8"
         },
         "y": {
          "bdata": "AAAAAAAAAAAIfO2PwVPqPwl87Y/BU+o/07254z3EoDwHfO2PwVPqvwt87Y/BU+q/07254z3EsLw=",
          "dtype": "f8"
         }
        },
        {
         "hoverinfo": "skip",
         "mode": "text",
         "name": "",
         "showlegend": false,
         "text": [
          "(4,-2,-2)"
         ],
         "textfont": {
          "color": "darkgray",
          "size": 10
         },
         "type": "scatter",
         "x": [
          6
         ],
         "y": [
          0
         ]
        },
        {
         "fill": "toself",
         "fillcolor": "#F5F5F5",
         "hovertemplate": "Empty<br>q=-5, r=4, s=1<extra></extra>",
         "line": {
          "color": "lightgray",
          "width": 1
         },
         "mode": "lines",
         "name": "",
         "showlegend": false,
         "type": "scatter",
         "x": {
          "bdata": "MzMzMzMzGsCamZmZmRkcwGZmZmZm5h/AZmZmZmbmIMBnZmZmZuYfwJqZmZmZGRzAMzMzMzMzGsA=",
          "dtype": "f8"
         },
         "y": {
          "bdata": "gDlCLtzIBECCmD2SzF0LQIKYPZLMXQtAgDlCLtzIBED8tI2U12f8P/q0jZTXZ/w/fzlCLtzIBEA=",
          "dtype": "f8"
         }
        },
        {
         "hoverinfo": "skip",
         "mode": "text",
         "name": "",
         "showlegend": false,
         "text": [
          "(-5,4,1)"
         ],
         "textfont": {
          "color": "darkgray",
          "size": 10
         },
         "type": "scatter",
         "x": [
          -7.5
         ],
         "y": [
          2.598076211353316
         ]
        },
        {
         "fill": "toself",
         "fillcolor": "#F5F5F5",
         "hovertemplate": "Empty<br>q=3, r=-1, s=-2<extra></extra>",
         "line": {
          "color": "lightgray",
          "width": 1
         },
         "mode": "lines",
         "name": "",
         "showlegend": false,
         "type": "scatter",
         "x": {
          "bdata": "zczMzMzMFUBmZmZmZuYTQJqZmZmZGRBAZmZmZmZmDECZmZmZmRkQQGZmZmZm5hNAzczMzMzMFUA=",
          "dtype": "f8"
         },
         "y": {
          "bdata": "rExY6Hq26z9a5CI8HgX7P1rkIjweBfs/rUxY6Hq26z9QCq2GlSumPxAKrYaVK6Y/qkxY6Hq26z8=",
          "dtype": "f8"
         }
        },
        {
         "hoverinfo": "skip",
         "mode": "text",
         "name": "",
         "showlegend": false,
         "text": [
          "(3,-1,-2)"
         ],
         "textfont": {
          "color": "darkgray",
          "size": 10
         },
         "type": "scatter",
         "x": [
          4.5
         ],
         "y": [
          0.8660254037844388
         ]
        },
        {
         "fill": "toself",
         "fillcolor": "#F5F5F5",
         "hovertemplate": "Empty<br>q=-4, r=4, s=0<extra></extra>",
         "line": {
          "color": "lightgray",
          "width": 1
         },
         "mode": "lines",
         "name": "",
         "showlegend": false,
         "type": "scatter",
         "x": {
          "bdata": "MzMzMzMzFMCamZmZmRkWwGZmZmZm5hnAzczMzMzMG8BnZmZmZuYZwJqZmZmZGRbAMzMzMzMzFMA=",
          "dtype": "f8"
         },
         "y": {
          "bdata": "qkxY6Hq2C0DW1SmmtSURQNbVKaa1JRFAqkxY6Hq2C0Co7VyEiiEFQKftXISKIQVAqUxY6Hq2C0A=",
          "dtype": "f8"
         }
        },
        {
         "hoverinfo": "skip",
         "mode": "text",
         "name": "",
         "showlegend": false,
         "text": [
          "(-4,4,0)"
         ],
         "textfont": {
          "color": "darkgray",
          "size": 10
         },
         "type": "scatter",
         "x": [
          -6
         ],
         "y": [
          3.4641016151377544
         ]
        },
        {
         "fill": "toself",
         "fillcolor": "#F5F5F5",
         "hovertemplate": "Empty<br>q=2, r=-5, s=3<extra></extra>",
         "line": {
          "color": "lightgray",
          "width": 1
         },
         "mode": "lines",
         "name": "",
         "showlegend": false,
         "type": "scatter",
         "x": {
          "bdata": "mpmZmZmZD0DNzMzMzMwLQDQzMzMzMwRAZmZmZmZmAEAyMzMzMzMEQMvMzMzMzAtAmpmZmZmZD0A=",
          "dtype": "f8"
         },
         "y": {
          "bdata": "qkxY6Hq2G8ApnVq2AmwYwCmdWrYCbBjAqkxY6Hq2G8Ar/FUa8wAfwCv8VRrzAB/AqkxY6Hq2G8A=",
          "dtype": "f8"
         }
        },
        {
         "hoverinfo": "skip",
         "mode": "text",
         "name": "",
         "showlegend": false,
         "text": [
          "(2,-5,3)"
         ],
         "textfont": {
          "color": "darkgray",
          "size": 10
         },
         "type": "scatter",
         "x": [
          3
         ],
         "y": [
          -6.928203230275509
         ]
        },
        {
         "fill": "toself",
         "fillcolor": "#F5F5F5",
         "hovertemplate": "Empty<br>q=-3, r=1, s=2<extra></extra>",
         "line": {
          "color": "lightgray",
          "width": 1
         },
         "mode": "lines",
         "name": "",
         "showlegend": false,
         "type": "scatter",
         "x": {
          "bdata": "ZmZmZmZmDMCamZmZmRkQwGZmZmZm5hPAzczMzMzMFcBnZmZmZuYTwJqZmZmZGRDAZmZmZmZmDMA=",
          "dtype": "f8"
         },
         "y": {
          "bdata": "rExY6Hq2679ACq2GlSumvzAKrYaVK6a/q0xY6Hq2679a5CI8HgX7v1zkIjweBfu/rkxY6Hq2678=",
          "dtype": "f8"
         }
        },
        {
         "hoverinfo": "skip",
         "mode": "text",
         "name": "",
         "showlegend": false,
         "text": [
          "(-3,1,2)"
         ],
         "textfont": {
          "color": "darkgray",
          "size": 10
         },
         "type": "scatter",
         "x": [
          -4.5
         ],
         "y": [
          -0.8660254037844388
         ]
        },
        {
         "fill": "toself",
         "fillcolor": "#F5F5F5",
         "hovertemplate": "Empty<br>q=0, r=-3, s=3<extra></extra>",
         "line": {
          "color": "lightgray",
          "width": 1
         },
         "mode": "lines",
         "name": "",
         "showlegend": false,
         "type": "scatter",
         "x": {
          "bdata": "ZmZmZmZm7j9oZmZmZmbeP2JmZmZmZt6/ZmZmZmZm7r9uZmZmZmbev1tmZmZmZt4/ZmZmZmZm7j8=",
          "dtype": "f8"
         },
         "y": {
          "bdata": "gDlCLtzIFMD/iUT8Y34RwP+JRPxjfhHAgDlCLtzIFMAB6T9gVBMYwAHpP2BUExjAgDlCLtzIFMA=",
          "dtype": "f8"
         }
        },
        {
         "hoverinfo": "skip",
         "mode": "text",
         "name": "",
         "showlegend": false,
         "text": [
          "(0,-3,3)"
         ],
         "textfont": {
          "color": "darkgray",
          "size": 10
         },
         "type": "scatter",
         "x": [
          0
         ],
         "y": [
          -5.196152422706632
         ]
        },
        {
         "fill": "toself",
         "fillcolor": "#FFFFFF",
         "hovertemplate": "QueenBee (white)<br>Position: (0,0,0)<extra></extra>",
         "line": {
          "color": "#808080",
          "width": 2
         },
         "mode": "lines",
         "name": "",
         "showlegend": false,
         "type": "scatter",
         "x": {
          "bdata": "ZmZmZmZm7j9oZmZmZmbeP2JmZmZmZt6/ZmZmZmZm7r9uZmZmZmbev1tmZmZmZt4/ZmZmZmZm7j8=",
          "dtype": "f8"
         },
         "y": {
          "bdata": "AAAAAAAAAAAIfO2PwVPqPwl87Y/BU+o/07254z3EoDwHfO2PwVPqvwt87Y/BU+q/07254z3EsLw=",
          "dtype": "f8"
         }
        },
        {
         "hoverinfo": "skip",
         "mode": "text",
         "name": "",
         "showlegend": false,
         "text": [
          "🐝"
         ],
         "textfont": {
          "color": "black",
          "size": 23
         },
         "type": "scatter",
         "x": [
          0
         ],
         "y": [
          0
         ]
        },
        {
         "hoverinfo": "skip",
         "mode": "text",
         "name": "",
         "showlegend": false,
         "text": [
          "(0,0,0)"
         ],
         "textfont": {
          "color": "gray",
          "size": 8
         },
         "type": "scatter",
         "x": [
          0
         ],
         "y": [
          -0.3
         ]
        },
        {
         "fill": "toself",
         "fillcolor": "#1D1A1A",
         "hovertemplate": "QueenBee (black)<br>Position: (-1,1,0)<extra></extra>",
         "line": {
          "color": "#000000",
          "width": 2
         },
         "mode": "lines",
         "name": "",
         "showlegend": false,
         "type": "scatter",
         "x": {
          "bdata": "mpmZmZmZ4b9mZmZmZmbwv5iZmZmZmf+/mpmZmZmZA8CcmZmZmZn/v2lmZmZmZvC/mpmZmZmZ4b8=",
          "dtype": "f8"
         },
         "y": {
          "bdata": "qkxY6Hq26z9Z5CI8HgX7P1rkIjweBfs/q0xY6Hq26z8wCq2GlSumP/AJrYaVK6Y/qExY6Hq26z8=",
          "dtype": "f8"
         }
        },
        {
         "hoverinfo": "skip",
         "mode": "text",
         "name": "",
         "showlegend": false,
         "text": [
          "🐝"
         ],
         "textfont": {
          "color": "black",
          "size": 23
         },
         "type": "scatter",
         "x": [
          -1.5
         ],
         "y": [
          0.8660254037844386
         ]
        },
        {
         "hoverinfo": "skip",
         "mode": "text",
         "name": "",
         "showlegend": false,
         "text": [
          "(-1,1,0)"
         ],
         "textfont": {
          "color": "gray",
          "size": 8
         },
         "type": "scatter",
         "x": [
          -1.5
         ],
         "y": [
          0.5660254037844386
         ]
        },
        {
         "fill": "toself",
         "fillcolor": "#FFFFFF",
         "hovertemplate": "Ant (white)<br>Position: (1,-1,0)<extra></extra>",
         "line": {
          "color": "#808080",
          "width": 2
         },
         "mode": "lines",
         "name": "",
         "showlegend": false,
         "type": "scatter",
         "x": {
          "bdata": "mpmZmZmZA0CamZmZmZn/P2hmZmZmZvA/mpmZmZmZ4T9kZmZmZmbwP5eZmZmZmf8/mpmZmZmZA0A=",
          "dtype": "f8"
         },
         "y": {
          "bdata": "qkxY6Hq2678gCq2GlSumvxAKrYaVK6a/qUxY6Hq2679Y5CI8HgX7v1rkIjweBfu/rExY6Hq2678=",
          "dtype": "f8"
         }
        },
        {
         "hoverinfo": "skip",
         "mode": "text",
         "name": "",
         "showlegend": false,
         "text": [
          "🐜"
         ],
         "textfont": {
          "color": "black",
          "size": 23
         },
         "type": "scatter",
         "x": [
          1.5
         ],
         "y": [
          -0.8660254037844386
         ]
        },
        {
         "hoverinfo": "skip",
         "mode": "text",
         "name": "",
         "showlegend": false,
         "text": [
          "(1,-1,0)"
         ],
         "textfont": {
          "color": "gray",
          "size": 8
         },
         "type": "scatter",
         "x": [
          1.5
         ],
         "y": [
          -1.1660254037844386
         ]
        },
        {
         "fill": "toself",
         "fillcolor": "#1D1A1A",
         "hovertemplate": "Ant (black)<br>Position: (-2,2,0)<extra></extra>",
         "line": {
          "color": "#000000",
          "width": 2
         },
         "mode": "lines",
         "name": "",
         "showlegend": false,
         "type": "scatter",
         "x": {
          "bdata": "ZmZmZmZmAMAzMzMzMzMEwMzMzMzMzAvAmpmZmZmZD8DOzMzMzMwLwDUzMzMzMwTAZmZmZmZmAMA=",
          "dtype": "f8"
         },
         "y": {
          "bdata": "qkxY6Hq2+z9XhSfYLXAEQFeFJ9gtcARAq0xY6Hq2+z9NHcNANBntP0kdw0A0Ge0/qUxY6Hq2+z8=",
          "dtype": "f8"
         }
        },
        {
         "hoverinfo": "skip",
         "mode": "text",
         "name": "",
         "showlegend": false,
         "text": [
          "🐜"
         ],
         "textfont": {
          "color": "black",
          "size": 23
         },
         "type": "scatter",
         "x": [
          -3
         ],
         "y": [
          1.7320508075688772
         ]
        },
        {
         "hoverinfo": "skip",
         "mode": "text",
         "name": "",
         "showlegend": false,
         "text": [
          "(-2,2,0)"
         ],
         "textfont": {
          "color": "gray",
          "size": 8
         },
         "type": "scatter",
         "x": [
          -3
         ],
         "y": [
          1.4320508075688771
         ]
        },
        {
         "fill": "toself",
         "fillcolor": "#FFFFFF",
         "hovertemplate": "Ant (white)<br>Position: (2,-2,0)<extra></extra>",
         "line": {
          "color": "#808080",
          "width": 2
         },
         "mode": "lines",
         "name": "",
         "showlegend": false,
         "type": "scatter",
         "x": {
          "bdata": "mpmZmZmZD0DNzMzMzMwLQDQzMzMzMwRAZmZmZmZmAEAyMzMzMzMEQMvMzMzMzAtAmpmZmZmZD0A=",
          "dtype": "f8"
         },
         "y": {
          "bdata": "qkxY6Hq2+79MHcNANBntv0sdw0A0Ge2/qUxY6Hq2+79XhSfYLXAEwFiFJ9gtcATAq0xY6Hq2+78=",
          "dtype": "f8"
         }
        },
        {
         "hoverinfo": "skip",
         "mode": "text",
         "name": "",
         "showlegend": false,
         "text": [
          "🐜"
         ],
         "textfont": {
          "color": "black",
          "size": 23
         },
         "type": "scatter",
         "x": [
          3
         ],
         "y": [
          -1.7320508075688772
         ]
        },
        {
         "hoverinfo": "skip",
         "mode": "text",
         "name": "",
         "showlegend": false,
         "text": [
          "(2,-2,0)"
         ],
         "textfont": {
          "color": "gray",
          "size": 8
         },
         "type": "scatter",
         "x": [
          3
         ],
         "y": [
          -2.032050807568877
         ]
        },
        {
         "fill": "toself",
         "fillcolor": "#1D1A1A",
         "hovertemplate": "Ant (black)<br>Position: (-2,1,1)<extra></extra>",
         "line": {
          "color": "#000000",
          "width": 2
         },
         "mode": "lines",
         "name": "",
         "showlegend": false,
         "type": "scatter",
         "x": {
          "bdata": "ZmZmZmZmAMAzMzMzMzMEwMzMzMzMzAvAmpmZmZmZD8DOzMzMzMwLwDUzMzMzMwTAZmZmZmZmAMA=",
          "dtype": "f8"
         },
         "y": {
          "bdata": "AAAAAAAAAAAIfO2PwVPqPwl87Y/BU+o/07254z3EoDwHfO2PwVPqvwt87Y/BU+q/07254z3EsLw=",
          "dtype": "f8"
         }
        },
        {
         "hoverinfo": "skip",
         "mode": "text",
         "name": "",
         "showlegend": false,
         "text": [
          "🐜"
         ],
         "textfont": {
          "color": "black",
          "size": 23
         },
         "type": "scatter",
         "x": [
          -3
         ],
         "y": [
          0
         ]
        },
        {
         "hoverinfo": "skip",
         "mode": "text",
         "name": "",
         "showlegend": false,
         "text": [
          "(-2,1,1)"
         ],
         "textfont": {
          "color": "gray",
          "size": 8
         },
         "type": "scatter",
         "x": [
          -3
         ],
         "y": [
          -0.3
         ]
        },
        {
         "fill": "toself",
         "fillcolor": "#FFFFFF",
         "hovertemplate": "Ant (white)<br>Position: (1,0,-1)<extra></extra>",
         "line": {
          "color": "#808080",
          "width": 2
         },
         "mode": "lines",
         "name": "",
         "showlegend": false,
         "type": "scatter",
         "x": {
          "bdata": "mpmZmZmZA0CamZmZmZn/P2hmZmZmZvA/mpmZmZmZ4T9kZmZmZmbwP5eZmZmZmf8/mpmZmZmZA0A=",
          "dtype": "f8"
         },
         "y": {
          "bdata": "qkxY6Hq26z9Z5CI8HgX7P1rkIjweBfs/q0xY6Hq26z8wCq2GlSumP/AJrYaVK6Y/qExY6Hq26z8=",
          "dtype": "f8"
         }
        },
        {
         "hoverinfo": "skip",
         "mode": "text",
         "name": "",
         "showlegend": false,
         "text": [
          "🐜"
         ],
         "textfont": {
          "color": "black",
          "size": 23
         },
         "type": "scatter",
         "x": [
          1.5
         ],
         "y": [
          0.8660254037844386
         ]
        },
        {
         "hoverinfo": "skip",
         "mode": "text",
         "name": "",
         "showlegend": false,
         "text": [
          "(1,0,-1)"
         ],
         "textfont": {
          "color": "gray",
          "size": 8
         },
         "type": "scatter",
         "x": [
          1.5
         ],
         "y": [
          0.5660254037844386
         ]
        },
        {
         "fill": "toself",
         "fillcolor": "#1D1A1A",
         "hovertemplate": "Ant (black)<br>Position: (-3,3,0)<extra></extra>",
         "line": {
          "color": "#000000",
          "width": 2
         },
         "mode": "lines",
         "name": "",
         "showlegend": false,
         "type": "scatter",
         "x": {
          "bdata": "ZmZmZmZmDMCamZmZmRkQwGZmZmZm5hPAzczMzMzMFcBnZmZmZuYTwJqZmZmZGRDAZmZmZmZmDMA=",
          "dtype": "f8"
         },
         "y": {
          "bdata": "gDlCLtzIBECCmD2SzF0LQIKYPZLMXQtAgDlCLtzIBED8tI2U12f8P/q0jZTXZ/w/fzlCLtzIBEA=",
          "dtype": "f8"
         }
        },
        {
         "hoverinfo": "skip",
         "mode": "text",
         "name": "",
         "showlegend": false,
         "text": [
          "🐜"
         ],
         "textfont": {
          "color": "black",
          "size": 23
         },
         "type": "scatter",
         "x": [
          -4.5
         ],
         "y": [
          2.598076211353316
         ]
        },
        {
         "hoverinfo": "skip",
         "mode": "text",
         "name": "",
         "showlegend": false,
         "text": [
          "(-3,3,0)"
         ],
         "textfont": {
          "color": "gray",
          "size": 8
         },
         "type": "scatter",
         "x": [
          -4.5
         ],
         "y": [
          2.298076211353316
         ]
        },
        {
         "fill": "toself",
         "fillcolor": "#FFFFFF",
         "hovertemplate": "Ant (white)<br>Position: (2,-1,-1)<extra></extra>",
         "line": {
          "color": "#808080",
          "width": 2
         },
         "mode": "lines",
         "name": "",
         "showlegend": false,
         "type": "scatter",
         "x": {
          "bdata": "mpmZmZmZD0DNzMzMzMwLQDQzMzMzMwRAZmZmZmZmAEAyMzMzMzMEQMvMzMzMzAtAmpmZmZmZD0A=",
          "dtype": "f8"
         },
         "y": {
          "bdata": "AAAAAAAAAAAIfO2PwVPqPwl87Y/BU+o/07254z3EoDwHfO2PwVPqvwt87Y/BU+q/07254z3EsLw=",
          "dtype": "f8"
         }
        },
        {
         "hoverinfo": "skip",
         "mode": "text",
         "name": "",
         "showlegend": false,
         "text": [
          "🐜"
         ],
         "textfont": {
          "color": "black",
          "size": 23
         },
         "type": "scatter",
         "x": [
          3
         ],
         "y": [
          0
         ]
        },
        {
         "hoverinfo": "skip",
         "mode": "text",
         "name": "",
         "showlegend": false,
         "text": [
          "(2,-1,-1)"
         ],
         "textfont": {
          "color": "gray",
          "size": 8
         },
         "type": "scatter",
         "x": [
          3
         ],
         "y": [
          -0.3
         ]
        },
        {
         "fill": "toself",
         "fillcolor": "#1D1A1A",
         "hovertemplate": "Ant (black)<br>Position: (-3,2,1)<extra></extra>",
         "line": {
          "color": "#000000",
          "width": 2
         },
         "mode": "lines",
         "name": "",
         "showlegend": false,
         "type": "scatter",
         "x": {
          "bdata": "ZmZmZmZmDMCamZmZmRkQwGZmZmZm5hPAzczMzMzMFcBnZmZmZuYTwJqZmZmZGRDAZmZmZmZmDMA=",
          "dtype": "f8"
         },
         "y": {
          "bdata": "qExY6Hq26z9Y5CI8HgX7P1jkIjweBfs/qUxY6Hq26z8QCq2GlSumP9AJrYaVK6Y/pkxY6Hq26z8=",
          "dtype": "f8"
         }
        },
        {
         "hoverinfo": "skip",
         "mode": "text",
         "name": "",
         "showlegend": false,
         "text": [
          "🐜"
         ],
         "textfont": {
          "color": "black",
          "size": 23
         },
         "type": "scatter",
         "x": [
          -4.5
         ],
         "y": [
          0.8660254037844384
         ]
        },
        {
         "hoverinfo": "skip",
         "mode": "text",
         "name": "",
         "showlegend": false,
         "text": [
          "(-3,2,1)"
         ],
         "textfont": {
          "color": "gray",
          "size": 8
         },
         "type": "scatter",
         "x": [
          -4.5
         ],
         "y": [
          0.5660254037844383
         ]
        },
        {
         "fill": "toself",
         "fillcolor": "#FFFFFF",
         "hovertemplate": "Ant (white)<br>Position: (1,1,-2)<extra></extra>",
         "line": {
          "color": "#808080",
          "width": 2
         },
         "mode": "lines",
         "name": "",
         "showlegend": false,
         "type": "scatter",
         "x": {
          "bdata": "mpmZmZmZA0CamZmZmZn/P2hmZmZmZvA/mpmZmZmZ4T9kZmZmZmbwP5eZmZmZmf8/mpmZmZmZA0A=",
          "dtype": "f8"
         },
         "y": {
          "bdata": "gDlCLtzIBECCmD2SzF0LQIKYPZLMXQtAgDlCLtzIBED8tI2U12f8P/q0jZTXZ/w/fzlCLtzIBEA=",
          "dtype": "f8"
         }
        },
        {
         "hoverinfo": "skip",
         "mode": "text",
         "name": "",
         "showlegend": false,
         "text": [
          "🐜"
         ],
         "textfont": {
          "color": "black",
          "size": 23
         },
         "type": "scatter",
         "x": [
          1.5
         ],
         "y": [
          2.598076211353316
         ]
        },
        {
         "hoverinfo": "skip",
         "mode": "text",
         "name": "",
         "showlegend": false,
         "text": [
          "(1,1,-2)"
         ],
         "textfont": {
          "color": "gray",
          "size": 8
         },
         "type": "scatter",
         "x": [
          1.5
         ],
         "y": [
          2.298076211353316
         ]
        },
        {
         "fill": "toself",
         "fillcolor": "#1D1A1A",
         "hovertemplate": "Ant (black)<br>Position: (-3,4,-1)<extra></extra>",
         "line": {
          "color": "#000000",
          "width": 2
         },
         "mode": "lines",
         "name": "",
         "showlegend": false,
         "type": "scatter",
         "x": {
          "bdata": "ZmZmZmZmDMCamZmZmRkQwGZmZmZm5hPAzczMzMzMFcBnZmZmZuYTwJqZmZmZGRDAZmZmZmZmDMA=",
          "dtype": "f8"
         },
         "y": {
          "bdata": "6i830QxSEUBr3zQDhZwUQGvfNAOFnBRA6i830QxSEUDSAHM+KQ8MQNEAcz4pDwxA6i830QxSEUA=",
          "dtype": "f8"
         }
        },
        {
         "hoverinfo": "skip",
         "mode": "text",
         "name": "",
         "showlegend": false,
         "text": [
          "🐜"
         ],
         "textfont": {
          "color": "black",
          "size": 23
         },
         "type": "scatter",
         "x": [
          -4.5
         ],
         "y": [
          4.330127018922193
         ]
        },
        {
         "hoverinfo": "skip",
         "mode": "text",
         "name": "",
         "showlegend": false,
         "text": [
          "(-3,4,-1)"
         ],
         "textfont": {
          "color": "gray",
          "size": 8
         },
         "type": "scatter",
         "x": [
          -4.5
         ],
         "y": [
          4.030127018922193
         ]
        },
        {
         "fill": "toself",
         "fillcolor": "#FFFFFF",
         "hovertemplate": "Ant (white)<br>Position: (0,2,-2)<extra></extra>",
         "line": {
          "color": "#808080",
          "width": 2
         },
         "mode": "lines",
         "name": "",
         "showlegend": false,
         "type": "scatter",
         "x": {
          "bdata": "ZmZmZmZm7j9oZmZmZmbeP2JmZmZmZt6/ZmZmZmZm7r9uZmZmZmbev1tmZmZmZt4/ZmZmZmZm7j8=",
          "dtype": "f8"
         },
         "y": {
          "bdata": "qkxY6Hq2C0DW1SmmtSURQNbVKaa1JRFAqkxY6Hq2C0Co7VyEiiEFQKftXISKIQVAqUxY6Hq2C0A=",
          "dtype": "f8"
         }
        },
        {
         "hoverinfo": "skip",
         "mode": "text",
         "name": "",
         "showlegend": false,
         "text": [
          "🐜"
         ],
         "textfont": {
          "color": "black",
          "size": 23
         },
         "type": "scatter",
         "x": [
          0
         ],
         "y": [
          3.4641016151377544
         ]
        },
        {
         "hoverinfo": "skip",
         "mode": "text",
         "name": "",
         "showlegend": false,
         "text": [
          "(0,2,-2)"
         ],
         "textfont": {
          "color": "gray",
          "size": 8
         },
         "type": "scatter",
         "x": [
          0
         ],
         "y": [
          3.1641016151377546
         ]
        },
        {
         "fill": "toself",
         "fillcolor": "#1D1A1A",
         "hovertemplate": "Ant (black)<br>Position: (-4,5,-1)<extra></extra>",
         "line": {
          "color": "#000000",
          "width": 2
         },
         "mode": "lines",
         "name": "",
         "showlegend": false,
         "type": "scatter",
         "x": {
          "bdata": "MzMzMzMzFMCamZmZmRkWwGZmZmZm5hnAzczMzMzMG8BnZmZmZuYZwJqZmZmZGRbAMzMzMzMzFMA=",
          "dtype": "f8"
         },
         "y": {
          "bdata": "fzlCLtzIFEAA6T9gVBMYQADpP2BUExhAfzlCLtzIFED+iUT8Y34RQP6JRPxjfhFAfzlCLtzIFEA=",
          "dtype": "f8"
         }
        },
        {
         "hoverinfo": "skip",
         "mode": "text",
         "name": "",
         "showlegend": false,
         "text": [
          "🐜"
         ],
         "textfont": {
          "color": "black",
          "size": 23
         },
         "type": "scatter",
         "x": [
          -6
         ],
         "y": [
          5.196152422706631
         ]
        },
        {
         "hoverinfo": "skip",
         "mode": "text",
         "name": "",
         "showlegend": false,
         "text": [
          "(-4,5,-1)"
         ],
         "textfont": {
          "color": "gray",
          "size": 8
         },
         "type": "scatter",
         "x": [
          -6
         ],
         "y": [
          4.896152422706631
         ]
        },
        {
         "fill": "toself",
         "fillcolor": "#FFFFFF",
         "hovertemplate": "Ant (white)<br>Position: (2,-3,1)<extra></extra>",
         "line": {
          "color": "#808080",
          "width": 2
         },
         "mode": "lines",
         "name": "",
         "showlegend": false,
         "type": "scatter",
         "x": {
          "bdata": "mpmZmZmZD0DNzMzMzMwLQDQzMzMzMwRAZmZmZmZmAEAyMzMzMzMEQMvMzMzMzAtAmpmZmZmZD0A=",
          "dtype": "f8"
         },
         "y": {
          "bdata": "q0xY6Hq2C8Cp7VyEiiEFwKntXISKIQXAq0xY6Hq2C8DW1SmmtSURwNfVKaa1JRHArExY6Hq2C8A=",
          "dtype": "f8"
         }
        },
        {
         "hoverinfo": "skip",
         "mode": "text",
         "name": "",
         "showlegend": false,
         "text": [
          "🐜"
         ],
         "textfont": {
          "color": "black",
          "size": 23
         },
         "type": "scatter",
         "x": [
          3
         ],
         "y": [
          -3.464101615137755
         ]
        },
        {
         "hoverinfo": "skip",
         "mode": "text",
         "name": "",
         "showlegend": false,
         "text": [
          "(2,-3,1)"
         ],
         "textfont": {
          "color": "gray",
          "size": 8
         },
         "type": "scatter",
         "x": [
          3
         ],
         "y": [
          -3.7641016151377547
         ]
        },
        {
         "fill": "toself",
         "fillcolor": "#1D1A1A",
         "hovertemplate": "Ant (black)<br>Position: (-5,6,-1)<extra></extra>",
         "line": {
          "color": "#000000",
          "width": 2
         },
         "mode": "lines",
         "name": "",
         "showlegend": false,
         "type": "scatter",
         "x": {
          "bdata": "MzMzMzMzGsCamZmZmRkcwGZmZmZm5h/AZmZmZmbmIMBnZmZmZuYfwJqZmZmZGRzAMzMzMzMzGsA=",
          "dtype": "f8"
         },
         "y": {
          "bdata": "FkNNi6s/GECX8kq9I4obQJfySr0jihtAFkNNi6s/GECVk09ZM/UUQJWTT1kz9RRAFkNNi6s/GEA=",
          "dtype": "f8"
         }
        },
        {
         "hoverinfo": "skip",
         "mode": "text",
         "name": "",
         "showlegend": false,
         "text": [
          "🐜"
         ],
         "textfont": {
          "color": "black",
          "size": 23
         },
         "type": "scatter",
         "x": [
          -7.5
         ],
         "y": [
          6.062177826491071
         ]
        },
        {
         "hoverinfo": "skip",
         "mode": "text",
         "name": "",
         "showlegend": false,
         "text": [
          "(-5,6,-1)"
         ],
         "textfont": {
          "color": "gray",
          "size": 8
         },
         "type": "scatter",
         "x": [
          -7.5
         ],
         "y": [
          5.7621778264910715
         ]
        },
        {
         "fill": "toself",
         "fillcolor": "#FFFFFF",
         "hovertemplate": "Ant (white)<br>Position: (1,-3,2)<extra></extra>",
         "line": {
          "color": "#808080",
          "width": 2
         },
         "mode": "lines",
         "name": "",
         "showlegend": false,
         "type": "scatter",
         "x": {
          "bdata": "mpmZmZmZA0CamZmZmZn/P2hmZmZmZvA/mpmZmZmZ4T9kZmZmZmbwP5eZmZmZmf8/mpmZmZmZA0A=",
          "dtype": "f8"
         },
         "y": {
          "bdata": "6y830QxSEcDUAHM+KQ8MwNQAcz4pDwzA6y830QxSEcBs3zQDhZwUwGzfNAOFnBTA6y830QxSEcA=",
          "dtype": "f8"
         }
        },
        {
         "hoverinfo": "skip",
         "mode": "text",
         "name": "",
         "showlegend": false,
         "text": [
          "🐜"
         ],
         "textfont": {
          "color": "black",
          "size": 23
         },
         "type": "scatter",
         "x": [
          1.5
         ],
         "y": [
          -4.330127018922194
         ]
        },
        {
         "hoverinfo": "skip",
         "mode": "text",
         "name": "",
         "showlegend": false,
         "text": [
          "(1,-3,2)"
         ],
         "textfont": {
          "color": "gray",
          "size": 8
         },
         "type": "scatter",
         "x": [
          1.5
         ],
         "y": [
          -4.6301270189221935
         ]
        },
        {
         "fill": "toself",
         "fillcolor": "#1D1A1A",
         "hovertemplate": "Ant (black)<br>Position: (-2,4,-2)<extra></extra>",
         "line": {
          "color": "#000000",
          "width": 2
         },
         "mode": "lines",
         "name": "",
         "showlegend": false,
         "type": "scatter",
         "x": {
          "bdata": "ZmZmZmZmAMAzMzMzMzMEwMzMzMzMzAvAmpmZmZmZD8DOzMzMzMwLwDUzMzMzMwTAZmZmZmZmAMA=",
          "dtype": "f8"
         },
         "y": {
          "bdata": "gDlCLtzIFEAB6T9gVBMYQAHpP2BUExhAgDlCLtzIFED/iUT8Y34RQP+JRPxjfhFAgDlCLtzIFEA=",
          "dtype": "f8"
         }
        },
        {
         "hoverinfo": "skip",
         "mode": "text",
         "name": "",
         "showlegend": false,
         "text": [
          "🐜"
         ],
         "textfont": {
          "color": "black",
          "size": 23
         },
         "type": "scatter",
         "x": [
          -3
         ],
         "y": [
          5.196152422706632
         ]
        },
        {
         "hoverinfo": "skip",
         "mode": "text",
         "name": "",
         "showlegend": false,
         "text": [
          "(-2,4,-2)"
         ],
         "textfont": {
          "color": "gray",
          "size": 8
         },
         "type": "scatter",
         "x": [
          -3
         ],
         "y": [
          4.896152422706632
         ]
        },
        {
         "fill": "toself",
         "fillcolor": "#FFFFFF",
         "hovertemplate": "Ant (white)<br>Position: (2,-4,2)<extra></extra>",
         "line": {
          "color": "#808080",
          "width": 2
         },
         "mode": "lines",
         "name": "",
         "showlegend": false,
         "type": "scatter",
         "x": {
          "bdata": "mpmZmZmZD0DNzMzMzMwLQDQzMzMzMwRAZmZmZmZmAEAyMzMzMzMEQMvMzMzMzAtAmpmZmZmZD0A=",
          "dtype": "f8"
         },
         "y": {
          "bdata": "gDlCLtzIFMD/iUT8Y34RwP+JRPxjfhHAgDlCLtzIFMAB6T9gVBMYwAHpP2BUExjAgDlCLtzIFMA=",
          "dtype": "f8"
         }
        },
        {
         "hoverinfo": "skip",
         "mode": "text",
         "name": "",
         "showlegend": false,
         "text": [
          "🐜"
         ],
         "textfont": {
          "color": "black",
          "size": 23
         },
         "type": "scatter",
         "x": [
          3
         ],
         "y": [
          -5.196152422706632
         ]
        },
        {
         "hoverinfo": "skip",
         "mode": "text",
         "name": "",
         "showlegend": false,
         "text": [
          "(2,-4,2)"
         ],
         "textfont": {
          "color": "gray",
          "size": 8
         },
         "type": "scatter",
         "x": [
          3
         ],
         "y": [
          -5.496152422706632
         ]
        },
        {
         "fill": "toself",
         "fillcolor": "#1D1A1A",
         "hovertemplate": "Ant (black)<br>Position: (-2,3,-1)<extra></extra>",
         "line": {
          "color": "#000000",
          "width": 2
         },
         "mode": "lines",
         "name": "",
         "showlegend": false,
         "type": "scatter",
         "x": {
          "bdata": "ZmZmZmZmAMAzMzMzMzMEwMzMzMzMzAvAmpmZmZmZD8DOzMzMzMwLwDUzMzMzMwTAZmZmZmZmAMA=",
          "dtype": "f8"
         },
         "y": {
          "bdata": "q0xY6Hq2C0DW1SmmtSURQNfVKaa1JRFAq0xY6Hq2C0Cp7VyEiiEFQKjtXISKIQVAqkxY6Hq2C0A=",
          "dtype": "f8"
         }
        },
        {
         "hoverinfo": "skip",
         "mode": "text",
         "name": "",
         "showlegend": false,
         "text": [
          "🐜"
         ],
         "textfont": {
          "color": "black",
          "size": 23
         },
         "type": "scatter",
         "x": [
          -3
         ],
         "y": [
          3.464101615137755
         ]
        },
        {
         "hoverinfo": "skip",
         "mode": "text",
         "name": "",
         "showlegend": false,
         "text": [
          "(-2,3,-1)"
         ],
         "textfont": {
          "color": "gray",
          "size": 8
         },
         "type": "scatter",
         "x": [
          -3
         ],
         "y": [
          3.164101615137755
         ]
        },
        {
         "fill": "toself",
         "fillcolor": "#FFFFFF",
         "hovertemplate": "Ant (white)<br>Position: (3,-2,-1)<extra></extra>",
         "line": {
          "color": "#808080",
          "width": 2
         },
         "mode": "lines",
         "name": "",
         "showlegend": false,
         "type": "scatter",
         "x": {
          "bdata": "zczMzMzMFUBmZmZmZuYTQJqZmZmZGRBAZmZmZmZmDECZmZmZmRkQQGZmZmZm5hNAzczMzMzMFUA=",
          "dtype": "f8"
         },
         "y": {
          "bdata": "qExY6Hq2678ACq2GlSumv/AJrYaVK6a/p0xY6Hq2679Y5CI8HgX7v1rkIjweBfu/qkxY6Hq2678=",
          "dtype": "f8"
         }
        },
        {
         "hoverinfo": "skip",
         "mode": "text",
         "name": "",
         "showlegend": false,
         "text": [
          "🐜"
         ],
         "textfont": {
          "color": "black",
          "size": 23
         },
         "type": "scatter",
         "x": [
          4.5
         ],
         "y": [
          -0.8660254037844384
         ]
        },
        {
         "hoverinfo": "skip",
         "mode": "text",
         "name": "",
         "showlegend": false,
         "text": [
          "(3,-2,-1)"
         ],
         "textfont": {
          "color": "gray",
          "size": 8
         },
         "type": "scatter",
         "x": [
          4.5
         ],
         "y": [
          -1.1660254037844384
         ]
        },
        {
         "fill": "toself",
         "fillcolor": "#1D1A1A",
         "hovertemplate": "Ant (black)<br>Position: (-4,6,-2)<extra></extra>",
         "line": {
          "color": "#000000",
          "width": 2
         },
         "mode": "lines",
         "name": "",
         "showlegend": false,
         "type": "scatter",
         "x": {
          "bdata": "MzMzMzMzFMCamZmZmRkWwGZmZmZm5hnAzczMzMzMG8BnZmZmZuYZwJqZmZmZGRbAMzMzMzMzFMA=",
          "dtype": "f8"
         },
         "y": {
          "bdata": "q0xY6Hq2G0As/FUa8wAfQCz8VRrzAB9Aq0xY6Hq2G0AqnVq2AmwYQCqdWrYCbBhAq0xY6Hq2G0A=",
          "dtype": "f8"
         }
        },
        {
         "hoverinfo": "skip",
         "mode": "text",
         "name": "",
         "showlegend": false,
         "text": [
          "🐜"
         ],
         "textfont": {
          "color": "black",
          "size": 23
         },
         "type": "scatter",
         "x": [
          -6
         ],
         "y": [
          6.92820323027551
         ]
        },
        {
         "hoverinfo": "skip",
         "mode": "text",
         "name": "",
         "showlegend": false,
         "text": [
          "(-4,6,-2)"
         ],
         "textfont": {
          "color": "gray",
          "size": 8
         },
         "type": "scatter",
         "x": [
          -6
         ],
         "y": [
          6.62820323027551
         ]
        },
        {
         "fill": "toself",
         "fillcolor": "#FFFFFF",
         "hovertemplate": "Ant (white)<br>Position: (3,-5,2)<extra></extra>",
         "line": {
          "color": "#808080",
          "width": 2
         },
         "mode": "lines",
         "name": "",
         "showlegend": false,
         "type": "scatter",
         "x": {
          "bdata": "zczMzMzMFUBmZmZmZuYTQJqZmZmZGRBAZmZmZmZmDECZmZmZmRkQQGZmZmZm5hNAzczMzMzMFUA=",
          "dtype": "f8"
         },
         "y": {
          "bdata": "FENNi6s/GMCTk09ZM/UUwJOTT1kz9RTAFENNi6s/GMCV8kq9I4obwJXySr0jihvAFENNi6s/GMA=",
          "dtype": "f8"
         }
        },
        {
         "hoverinfo": "skip",
         "mode": "text",
         "name": "",
         "showlegend": false,
         "text": [
          "🐜"
         ],
         "textfont": {
          "color": "black",
          "size": 23
         },
         "type": "scatter",
         "x": [
          4.5
         ],
         "y": [
          -6.0621778264910695
         ]
        },
        {
         "hoverinfo": "skip",
         "mode": "text",
         "name": "",
         "showlegend": false,
         "text": [
          "(3,-5,2)"
         ],
         "textfont": {
          "color": "gray",
          "size": 8
         },
         "type": "scatter",
         "x": [
          4.5
         ],
         "y": [
          -6.362177826491069
         ]
        },
        {
         "fill": "toself",
         "fillcolor": "#1D1A1A",
         "hovertemplate": "Ant (black)<br>Position: (-6,6,0)<extra></extra>",
         "line": {
          "color": "#000000",
          "width": 2
         },
         "mode": "lines",
         "name": "",
         "showlegend": false,
         "type": "scatter",
         "x": {
          "bdata": "mpmZmZkZIMDNzMzMzAwhwDMzMzMz8yLAZmZmZmbmI8AzMzMzM/MiwM3MzMzMDCHAmpmZmZkZIMA=",
          "dtype": "f8"
         },
         "y": {
          "bdata": "gDlCLtzIFEAB6T9gVBMYQAHpP2BUExhAgDlCLtzIFED/iUT8Y34RQP+JRPxjfhFAgDlCLtzIFEA=",
          "dtype": "f8"
         }
        },
        {
         "hoverinfo": "skip",
         "mode": "text",
         "name": "",
         "showlegend": false,
         "text": [
          "🐜"
         ],
         "textfont": {
          "color": "black",
          "size": 23
         },
         "type": "scatter",
         "x": [
          -9
         ],
         "y": [
          5.196152422706632
         ]
        },
        {
         "hoverinfo": "skip",
         "mode": "text",
         "name": "",
         "showlegend": false,
         "text": [
          "(-6,6,0)"
         ],
         "textfont": {
          "color": "gray",
          "size": 8
         },
         "type": "scatter",
         "x": [
          -9
         ],
         "y": [
          4.896152422706632
         ]
        },
        {
         "fill": "toself",
         "fillcolor": "#FFFFFF",
         "hovertemplate": "Ant (white)<br>Position: (1,-2,1)<extra></extra>",
         "line": {
          "color": "#808080",
          "width": 2
         },
         "mode": "lines",
         "name": "",
         "showlegend": false,
         "type": "scatter",
         "x": {
          "bdata": "mpmZmZmZA0CamZmZmZn/P2hmZmZmZvA/mpmZmZmZ4T9kZmZmZmbwP5eZmZmZmf8/mpmZmZmZA0A=",
          "dtype": "f8"
         },
         "y": {
          "bdata": "gDlCLtzIBMD8tI2U12f8v/y0jZTXZ/y/gDlCLtzIBMCCmD2SzF0LwIOYPZLMXQvAgTlCLtzIBMA=",
          "dtype": "f8"
         }
        },
        {
         "hoverinfo": "skip",
         "mode": "text",
         "name": "",
         "showlegend": false,
         "text": [
          "🐜"
         ],
         "textfont": {
          "color": "black",
          "size": 23
         },
         "type": "scatter",
         "x": [
          1.5
         ],
         "y": [
          -2.598076211353316
         ]
        },
        {
         "hoverinfo": "skip",
         "mode": "text",
         "name": "",
         "showlegend": false,
         "text": [
          "(1,-2,1)"
         ],
         "textfont": {
          "color": "gray",
          "size": 8
         },
         "type": "scatter",
         "x": [
          1.5
         ],
         "y": [
          -2.898076211353316
         ]
        },
        {
         "fill": "toself",
         "fillcolor": "#1D1A1A",
         "hovertemplate": "Ant (black)<br>Position: (-5,5,0)<extra></extra>",
         "line": {
          "color": "#000000",
          "width": 2
         },
         "mode": "lines",
         "name": "",
         "showlegend": false,
         "type": "scatter",
         "x": {
          "bdata": "MzMzMzMzGsCamZmZmRkcwGZmZmZm5h/AZmZmZmbmIMBnZmZmZuYfwJqZmZmZGRzAMzMzMzMzGsA=",
          "dtype": "f8"
         },
         "y": {
          "bdata": "6i830QxSEUBr3zQDhZwUQGvfNAOFnBRA6i830QxSEUDSAHM+KQ8MQNEAcz4pDwxA6i830QxSEUA=",
          "dtype": "f8"
         }
        },
        {
         "hoverinfo": "skip",
         "mode": "text",
         "name": "",
         "showlegend": false,
         "text": [
          "🐜"
         ],
         "textfont": {
          "color": "black",
          "size": 23
         },
         "type": "scatter",
         "x": [
          -7.5
         ],
         "y": [
          4.330127018922193
         ]
        },
        {
         "hoverinfo": "skip",
         "mode": "text",
         "name": "",
         "showlegend": false,
         "text": [
          "(-5,5,0)"
         ],
         "textfont": {
          "color": "gray",
          "size": 8
         },
         "type": "scatter",
         "x": [
          -7.5
         ],
         "y": [
          4.030127018922193
         ]
        }
       ],
       "layout": {
        "height": 800,
        "hovermode": "closest",
        "plot_bgcolor": "white",
        "template": {
         "data": {
          "bar": [
           {
            "error_x": {
             "color": "#2a3f5f"
            },
            "error_y": {
             "color": "#2a3f5f"
            },
            "marker": {
             "line": {
              "color": "#E5ECF6",
              "width": 0.5
             },
             "pattern": {
              "fillmode": "overlay",
              "size": 10,
              "solidity": 0.2
             }
            },
            "type": "bar"
           }
          ],
          "barpolar": [
           {
            "marker": {
             "line": {
              "color": "#E5ECF6",
              "width": 0.5
             },
             "pattern": {
              "fillmode": "overlay",
              "size": 10,
              "solidity": 0.2
             }
            },
            "type": "barpolar"
           }
          ],
          "carpet": [
           {
            "aaxis": {
             "endlinecolor": "#2a3f5f",
             "gridcolor": "white",
             "linecolor": "white",
             "minorgridcolor": "white",
             "startlinecolor": "#2a3f5f"
            },
            "baxis": {
             "endlinecolor": "#2a3f5f",
             "gridcolor": "white",
             "linecolor": "white",
             "minorgridcolor": "white",
             "startlinecolor": "#2a3f5f"
            },
            "type": "carpet"
           }
          ],
          "choropleth": [
           {
            "colorbar": {
             "outlinewidth": 0,
             "ticks": ""
            },
            "type": "choropleth"
           }
          ],
          "contour": [
           {
            "colorbar": {
             "outlinewidth": 0,
             "ticks": ""
            },
            "colorscale": [
             [
              0,
              "#0d0887"
             ],
             [
              0.1111111111111111,
              "#46039f"
             ],
             [
              0.2222222222222222,
              "#7201a8"
             ],
             [
              0.3333333333333333,
              "#9c179e"
             ],
             [
              0.4444444444444444,
              "#bd3786"
             ],
             [
              0.5555555555555556,
              "#d8576b"
             ],
             [
              0.6666666666666666,
              "#ed7953"
             ],
             [
              0.7777777777777778,
              "#fb9f3a"
             ],
             [
              0.8888888888888888,
              "#fdca26"
             ],
             [
              1,
              "#f0f921"
             ]
            ],
            "type": "contour"
           }
          ],
          "contourcarpet": [
           {
            "colorbar": {
             "outlinewidth": 0,
             "ticks": ""
            },
            "type": "contourcarpet"
           }
          ],
          "heatmap": [
           {
            "colorbar": {
             "outlinewidth": 0,
             "ticks": ""
            },
            "colorscale": [
             [
              0,
              "#0d0887"
             ],
             [
              0.1111111111111111,
              "#46039f"
             ],
             [
              0.2222222222222222,
              "#7201a8"
             ],
             [
              0.3333333333333333,
              "#9c179e"
             ],
             [
              0.4444444444444444,
              "#bd3786"
             ],
             [
              0.5555555555555556,
              "#d8576b"
             ],
             [
              0.6666666666666666,
              "#ed7953"
             ],
             [
              0.7777777777777778,
              "#fb9f3a"
             ],
             [
              0.8888888888888888,
              "#fdca26"
             ],
             [
              1,
              "#f0f921"
             ]
            ],
            "type": "heatmap"
           }
          ],
          "histogram": [
           {
            "marker": {
             "pattern": {
              "fillmode": "overlay",
              "size": 10,
              "solidity": 0.2
             }
            },
            "type": "histogram"
           }
          ],
          "histogram2d": [
           {
            "colorbar": {
             "outlinewidth": 0,
             "ticks": ""
            },
            "colorscale": [
             [
              0,
              "#0d0887"
             ],
             [
              0.1111111111111111,
              "#46039f"
             ],
             [
              0.2222222222222222,
              "#7201a8"
             ],
             [
              0.3333333333333333,
              "#9c179e"
             ],
             [
              0.4444444444444444,
              "#bd3786"
             ],
             [
              0.5555555555555556,
              "#d8576b"
             ],
             [
              0.6666666666666666,
              "#ed7953"
             ],
             [
              0.7777777777777778,
              "#fb9f3a"
             ],
             [
              0.8888888888888888,
              "#fdca26"
             ],
             [
              1,
              "#f0f921"
             ]
            ],
            "type": "histogram2d"
           }
          ],
          "histogram2dcontour": [
           {
            "colorbar": {
             "outlinewidth": 0,
             "ticks": ""
            },
            "colorscale": [
             [
              0,
              "#0d0887"
             ],
             [
              0.1111111111111111,
              "#46039f"
             ],
             [
              0.2222222222222222,
              "#7201a8"
             ],
             [
              0.3333333333333333,
              "#9c179e"
             ],
             [
              0.4444444444444444,
              "#bd3786"
             ],
             [
              0.5555555555555556,
              "#d8576b"
             ],
             [
              0.6666666666666666,
              "#ed7953"
             ],
             [
              0.7777777777777778,
              "#fb9f3a"
             ],
             [
              0.8888888888888888,
              "#fdca26"
             ],
             [
              1,
              "#f0f921"
             ]
            ],
            "type": "histogram2dcontour"
           }
          ],
          "mesh3d": [
           {
            "colorbar": {
             "outlinewidth": 0,
             "ticks": ""
            },
            "type": "mesh3d"
           }
          ],
          "parcoords": [
           {
            "line": {
             "colorbar": {
              "outlinewidth": 0,
              "ticks": ""
             }
            },
            "type": "parcoords"
           }
          ],
          "pie": [
           {
            "automargin": true,
            "type": "pie"
           }
          ],
          "scatter": [
           {
            "fillpattern": {
             "fillmode": "overlay",
             "size": 10,
             "solidity": 0.2
            },
            "type": "scatter"
           }
          ],
          "scatter3d": [
           {
            "line": {
             "colorbar": {
              "outlinewidth": 0,
              "ticks": ""
             }
            },
            "marker": {
             "colorbar": {
              "outlinewidth": 0,
              "ticks": ""
             }
            },
            "type": "scatter3d"
           }
          ],
          "scattercarpet": [
           {
            "marker": {
             "colorbar": {
              "outlinewidth": 0,
              "ticks": ""
             }
            },
            "type": "scattercarpet"
           }
          ],
          "scattergeo": [
           {
            "marker": {
             "colorbar": {
              "outlinewidth": 0,
              "ticks": ""
             }
            },
            "type": "scattergeo"
           }
          ],
          "scattergl": [
           {
            "marker": {
             "colorbar": {
              "outlinewidth": 0,
              "ticks": ""
             }
            },
            "type": "scattergl"
           }
          ],
          "scattermap": [
           {
            "marker": {
             "colorbar": {
              "outlinewidth": 0,
              "ticks": ""
             }
            },
            "type": "scattermap"
           }
          ],
          "scattermapbox": [
           {
            "marker": {
             "colorbar": {
              "outlinewidth": 0,
              "ticks": ""
             }
            },
            "type": "scattermapbox"
           }
          ],
          "scatterpolar": [
           {
            "marker": {
             "colorbar": {
              "outlinewidth": 0,
              "ticks": ""
             }
            },
            "type": "scatterpolar"
           }
          ],
          "scatterpolargl": [
           {
            "marker": {
             "colorbar": {
              "outlinewidth": 0,
              "ticks": ""
             }
            },
            "type": "scatterpolargl"
           }
          ],
          "scatterternary": [
           {
            "marker": {
             "colorbar": {
              "outlinewidth": 0,
              "ticks": ""
             }
            },
            "type": "scatterternary"
           }
          ],
          "surface": [
           {
            "colorbar": {
             "outlinewidth": 0,
             "ticks": ""
            },
            "colorscale": [
             [
              0,
              "#0d0887"
             ],
             [
              0.1111111111111111,
              "#46039f"
             ],
             [
              0.2222222222222222,
              "#7201a8"
             ],
             [
              0.3333333333333333,
              "#9c179e"
             ],
             [
              0.4444444444444444,
              "#bd3786"
             ],
             [
              0.5555555555555556,
              "#d8576b"
             ],
             [
              0.6666666666666666,
              "#ed7953"
             ],
             [
              0.7777777777777778,
              "#fb9f3a"
             ],
             [
              0.8888888888888888,
              "#fdca26"
             ],
             [
              1,
              "#f0f921"
             ]
            ],
            "type": "surface"
           }
          ],
          "table": [
           {
            "cells": {
             "fill": {
              "color": "#EBF0F8"
             },
             "line": {
              "color": "white"
             }
            },
            "header": {
             "fill": {
              "color": "#C8D4E3"
             },
             "line": {
              "color": "white"
             }
            },
            "type": "table"
           }
          ]
         },
         "layout": {
          "annotationdefaults": {
           "arrowcolor": "#2a3f5f",
           "arrowhead": 0,
           "arrowwidth": 1
          },
          "autotypenumbers": "strict",
          "coloraxis": {
           "colorbar": {
            "outlinewidth": 0,
            "ticks": ""
           }
          },
          "colorscale": {
           "diverging": [
            [
             0,
             "#8e0152"
            ],
            [
             0.1,
             "#c51b7d"
            ],
            [
             0.2,
             "#de77ae"
            ],
            [
             0.3,
             "#f1b6da"
            ],
            [
             0.4,
             "#fde0ef"
            ],
            [
             0.5,
             "#f7f7f7"
            ],
            [
             0.6,
             "#e6f5d0"
            ],
            [
             0.7,
             "#b8e186"
            ],
            [
             0.8,
             "#7fbc41"
            ],
            [
             0.9,
             "#4d9221"
            ],
            [
             1,
             "#276419"
            ]
           ],
           "sequential": [
            [
             0,
             "#0d0887"
            ],
            [
             0.1111111111111111,
             "#46039f"
            ],
            [
             0.2222222222222222,
             "#7201a8"
            ],
            [
             0.3333333333333333,
             "#9c179e"
            ],
            [
             0.4444444444444444,
             "#bd3786"
            ],
            [
             0.5555555555555556,
             "#d8576b"
            ],
            [
             0.6666666666666666,
             "#ed7953"
            ],
            [
             0.7777777777777778,
             "#fb9f3a"
            ],
            [
             0.8888888888888888,
             "#fdca26"
            ],
            [
             1,
             "#f0f921"
            ]
           ],
           "sequentialminus": [
            [
             0,
             "#0d0887"
            ],
            [
             0.1111111111111111,
             "#46039f"
            ],
            [
             0.2222222222222222,
             "#7201a8"
            ],
            [
             0.3333333333333333,
             "#9c179e"
            ],
            [
             0.4444444444444444,
             "#bd3786"
            ],
            [
             0.5555555555555556,
             "#d8576b"
            ],
            [
             0.6666666666666666,
             "#ed7953"
            ],
            [
             0.7777777777777778,
             "#fb9f3a"
            ],
            [
             0.8888888888888888,
             "#fdca26"
            ],
            [
             1,
             "#f0f921"
            ]
           ]
          },
          "colorway": [
           "#636efa",
           "#EF553B",
           "#00cc96",
           "#ab63fa",
           "#FFA15A",
           "#19d3f3",
           "#FF6692",
           "#B6E880",
           "#FF97FF",
           "#FECB52"
          ],
          "font": {
           "color": "#2a3f5f"
          },
          "geo": {
           "bgcolor": "white",
           "lakecolor": "white",
           "landcolor": "#E5ECF6",
           "showlakes": true,
           "showland": true,
           "subunitcolor": "white"
          },
          "hoverlabel": {
           "align": "left"
          },
          "hovermode": "closest",
          "mapbox": {
           "style": "light"
          },
          "paper_bgcolor": "white",
          "plot_bgcolor": "#E5ECF6",
          "polar": {
           "angularaxis": {
            "gridcolor": "white",
            "linecolor": "white",
            "ticks": ""
           },
           "bgcolor": "#E5ECF6",
           "radialaxis": {
            "gridcolor": "white",
            "linecolor": "white",
            "ticks": ""
           }
          },
          "scene": {
           "xaxis": {
            "backgroundcolor": "#E5ECF6",
            "gridcolor": "white",
            "gridwidth": 2,
            "linecolor": "white",
            "showbackground": true,
            "ticks": "",
            "zerolinecolor": "white"
           },
           "yaxis": {
            "backgroundcolor": "#E5ECF6",
            "gridcolor": "white",
            "gridwidth": 2,
            "linecolor": "white",
            "showbackground": true,
            "ticks": "",
            "zerolinecolor": "white"
           },
           "zaxis": {
            "backgroundcolor": "#E5ECF6",
            "gridcolor": "white",
            "gridwidth": 2,
            "linecolor": "white",
            "showbackground": true,
            "ticks": "",
            "zerolinecolor": "white"
           }
          },
          "shapedefaults": {
           "line": {
            "color": "#2a3f5f"
           }
          },
          "ternary": {
           "aaxis": {
            "gridcolor": "white",
            "linecolor": "white",
            "ticks": ""
           },
           "baxis": {
            "gridcolor": "white",
            "linecolor": "white",
            "ticks": ""
           },
           "bgcolor": "#E5ECF6",
           "caxis": {
            "gridcolor": "white",
            "linecolor": "white",
            "ticks": ""
           }
          },
          "title": {
           "x": 0.05
          },
          "xaxis": {
           "automargin": true,
           "gridcolor": "white",
           "linecolor": "white",
           "ticks": "",
           "title": {
            "standoff": 15
           },
           "zerolinecolor": "white",
           "zerolinewidth": 2
          },
          "yaxis": {
           "automargin": true,
           "gridcolor": "white",
           "linecolor": "white",
           "ticks": "",
           "title": {
            "standoff": 15
           },
           "zerolinecolor": "white",
           "zerolinewidth": 2
          }
         }
        },
        "title": {
         "text": "Hive - digitally made by Dan"
        },
        "width": 800,
        "xaxis": {
         "gridcolor": "lightgray",
         "scaleanchor": "y",
         "scaleratio": 1,
         "showgrid": true,
         "zeroline": true
        },
        "yaxis": {
         "gridcolor": "lightgray",
         "showgrid": true,
         "zeroline": true
        }
       }
      }
     },
     "metadata": {},
     "output_type": "display_data"
    }
   ],
   "source": [
    "# Single game with verbose output\n",
    "\n",
    "white = RandomBot(team='white')\n",
    "black = RandomBot(team='black')\n",
    "_, max_turns, game =simulate_game(white, black, verbose=True)\n",
    "\n",
    "visualize_game_board(game.game_state.board_state, show_empty_hexes=game.game_state.get_available_spaces())"
   ]
  },
  {
   "cell_type": "code",
   "execution_count": 322,
   "id": "5fb6caf7",
   "metadata": {},
   "outputs": [
    {
     "data": {
      "application/vnd.plotly.v1+json": {
       "config": {
        "plotlyServerURL": "https://plot.ly"
       },
       "data": [
        {
         "fill": "toself",
         "fillcolor": "#F5F5F5",
         "hovertemplate": "Empty<br>q=2, r=-2, s=0<extra></extra>",
         "line": {
          "color": "lightgray",
          "width": 1
         },
         "mode": "lines",
         "name": "",
         "showlegend": false,
         "type": "scatter",
         "x": {
          "bdata": "mpmZmZmZD0DNzMzMzMwLQDQzMzMzMwRAZmZmZmZmAEAyMzMzMzMEQMvMzMzMzAtAmpmZmZmZD0A=",
          "dtype": "f8"
         },
         "y": {
          "bdata": "qkxY6Hq2+79MHcNANBntv0sdw0A0Ge2/qUxY6Hq2+79XhSfYLXAEwFiFJ9gtcATAq0xY6Hq2+78=",
          "dtype": "f8"
         }
        },
        {
         "hoverinfo": "skip",
         "mode": "text",
         "name": "",
         "showlegend": false,
         "text": [
          "(2,-2,0)"
         ],
         "textfont": {
          "color": "darkgray",
          "size": 10
         },
         "type": "scatter",
         "x": [
          3
         ],
         "y": [
          -1.7320508075688772
         ]
        },
        {
         "fill": "toself",
         "fillcolor": "#F5F5F5",
         "hovertemplate": "Empty<br>q=-1, r=0, s=1<extra></extra>",
         "line": {
          "color": "lightgray",
          "width": 1
         },
         "mode": "lines",
         "name": "",
         "showlegend": false,
         "type": "scatter",
         "x": {
          "bdata": "mpmZmZmZ4b9mZmZmZmbwv5iZmZmZmf+/mpmZmZmZA8CcmZmZmZn/v2lmZmZmZvC/mpmZmZmZ4b8=",
          "dtype": "f8"
         },
         "y": {
          "bdata": "qkxY6Hq2678gCq2GlSumvxAKrYaVK6a/qUxY6Hq2679Y5CI8HgX7v1rkIjweBfu/rExY6Hq2678=",
          "dtype": "f8"
         }
        },
        {
         "hoverinfo": "skip",
         "mode": "text",
         "name": "",
         "showlegend": false,
         "text": [
          "(-1,0,1)"
         ],
         "textfont": {
          "color": "darkgray",
          "size": 10
         },
         "type": "scatter",
         "x": [
          -1.5
         ],
         "y": [
          -0.8660254037844386
         ]
        },
        {
         "fill": "toself",
         "fillcolor": "#F5F5F5",
         "hovertemplate": "Empty<br>q=1, r=0, s=-1<extra></extra>",
         "line": {
          "color": "lightgray",
          "width": 1
         },
         "mode": "lines",
         "name": "",
         "showlegend": false,
         "type": "scatter",
         "x": {
          "bdata": "mpmZmZmZA0CamZmZmZn/P2hmZmZmZvA/mpmZmZmZ4T9kZmZmZmbwP5eZmZmZmf8/mpmZmZmZA0A=",
          "dtype": "f8"
         },
         "y": {
          "bdata": "qkxY6Hq26z9Z5CI8HgX7P1rkIjweBfs/q0xY6Hq26z8wCq2GlSumP/AJrYaVK6Y/qExY6Hq26z8=",
          "dtype": "f8"
         }
        },
        {
         "hoverinfo": "skip",
         "mode": "text",
         "name": "",
         "showlegend": false,
         "text": [
          "(1,0,-1)"
         ],
         "textfont": {
          "color": "darkgray",
          "size": 10
         },
         "type": "scatter",
         "x": [
          1.5
         ],
         "y": [
          0.8660254037844386
         ]
        },
        {
         "fill": "toself",
         "fillcolor": "#F5F5F5",
         "hovertemplate": "Empty<br>q=0, r=-1, s=1<extra></extra>",
         "line": {
          "color": "lightgray",
          "width": 1
         },
         "mode": "lines",
         "name": "",
         "showlegend": false,
         "type": "scatter",
         "x": {
          "bdata": "ZmZmZmZm7j9oZmZmZmbeP2JmZmZmZt6/ZmZmZmZm7r9uZmZmZmbev1tmZmZmZt4/ZmZmZmZm7j8=",
          "dtype": "f8"
         },
         "y": {
          "bdata": "qkxY6Hq2+79MHcNANBntv0sdw0A0Ge2/qUxY6Hq2+79XhSfYLXAEwFiFJ9gtcATAq0xY6Hq2+78=",
          "dtype": "f8"
         }
        },
        {
         "hoverinfo": "skip",
         "mode": "text",
         "name": "",
         "showlegend": false,
         "text": [
          "(0,-1,1)"
         ],
         "textfont": {
          "color": "darkgray",
          "size": 10
         },
         "type": "scatter",
         "x": [
          0
         ],
         "y": [
          -1.7320508075688772
         ]
        },
        {
         "fill": "toself",
         "fillcolor": "#F5F5F5",
         "hovertemplate": "Empty<br>q=-1, r=2, s=-1<extra></extra>",
         "line": {
          "color": "lightgray",
          "width": 1
         },
         "mode": "lines",
         "name": "",
         "showlegend": false,
         "type": "scatter",
         "x": {
          "bdata": "mpmZmZmZ4b9mZmZmZmbwv5iZmZmZmf+/mpmZmZmZA8CcmZmZmZn/v2lmZmZmZvC/mpmZmZmZ4b8=",
          "dtype": "f8"
         },
         "y": {
          "bdata": "gDlCLtzIBECCmD2SzF0LQIKYPZLMXQtAgDlCLtzIBED8tI2U12f8P/q0jZTXZ/w/fzlCLtzIBEA=",
          "dtype": "f8"
         }
        },
        {
         "hoverinfo": "skip",
         "mode": "text",
         "name": "",
         "showlegend": false,
         "text": [
          "(-1,2,-1)"
         ],
         "textfont": {
          "color": "darkgray",
          "size": 10
         },
         "type": "scatter",
         "x": [
          -1.5
         ],
         "y": [
          2.598076211353316
         ]
        },
        {
         "fill": "toself",
         "fillcolor": "#F5F5F5",
         "hovertemplate": "Empty<br>q=3, r=-1, s=-2<extra></extra>",
         "line": {
          "color": "lightgray",
          "width": 1
         },
         "mode": "lines",
         "name": "",
         "showlegend": false,
         "type": "scatter",
         "x": {
          "bdata": "zczMzMzMFUBmZmZmZuYTQJqZmZmZGRBAZmZmZmZmDECZmZmZmRkQQGZmZmZm5hNAzczMzMzMFUA=",
          "dtype": "f8"
         },
         "y": {
          "bdata": "rExY6Hq26z9a5CI8HgX7P1rkIjweBfs/rUxY6Hq26z9QCq2GlSumPxAKrYaVK6Y/qkxY6Hq26z8=",
          "dtype": "f8"
         }
        },
        {
         "hoverinfo": "skip",
         "mode": "text",
         "name": "",
         "showlegend": false,
         "text": [
          "(3,-1,-2)"
         ],
         "textfont": {
          "color": "darkgray",
          "size": 10
         },
         "type": "scatter",
         "x": [
          4.5
         ],
         "y": [
          0.8660254037844388
         ]
        },
        {
         "fill": "toself",
         "fillcolor": "#F5F5F5",
         "hovertemplate": "Empty<br>q=-3, r=1, s=2<extra></extra>",
         "line": {
          "color": "lightgray",
          "width": 1
         },
         "mode": "lines",
         "name": "",
         "showlegend": false,
         "type": "scatter",
         "x": {
          "bdata": "ZmZmZmZmDMCamZmZmRkQwGZmZmZm5hPAzczMzMzMFcBnZmZmZuYTwJqZmZmZGRDAZmZmZmZmDMA=",
          "dtype": "f8"
         },
         "y": {
          "bdata": "rExY6Hq2679ACq2GlSumvzAKrYaVK6a/q0xY6Hq2679a5CI8HgX7v1zkIjweBfu/rkxY6Hq2678=",
          "dtype": "f8"
         }
        },
        {
         "hoverinfo": "skip",
         "mode": "text",
         "name": "",
         "showlegend": false,
         "text": [
          "(-3,1,2)"
         ],
         "textfont": {
          "color": "darkgray",
          "size": 10
         },
         "type": "scatter",
         "x": [
          -4.5
         ],
         "y": [
          -0.8660254037844388
         ]
        },
        {
         "fill": "toself",
         "fillcolor": "#F5F5F5",
         "hovertemplate": "Empty<br>q=1, r=-2, s=1<extra></extra>",
         "line": {
          "color": "lightgray",
          "width": 1
         },
         "mode": "lines",
         "name": "",
         "showlegend": false,
         "type": "scatter",
         "x": {
          "bdata": "mpmZmZmZA0CamZmZmZn/P2hmZmZmZvA/mpmZmZmZ4T9kZmZmZmbwP5eZmZmZmf8/mpmZmZmZA0A=",
          "dtype": "f8"
         },
         "y": {
          "bdata": "gDlCLtzIBMD8tI2U12f8v/y0jZTXZ/y/gDlCLtzIBMCCmD2SzF0LwIOYPZLMXQvAgTlCLtzIBMA=",
          "dtype": "f8"
         }
        },
        {
         "hoverinfo": "skip",
         "mode": "text",
         "name": "",
         "showlegend": false,
         "text": [
          "(1,-2,1)"
         ],
         "textfont": {
          "color": "darkgray",
          "size": 10
         },
         "type": "scatter",
         "x": [
          1.5
         ],
         "y": [
          -2.598076211353316
         ]
        },
        {
         "fill": "toself",
         "fillcolor": "#F5F5F5",
         "hovertemplate": "Empty<br>q=2, r=0, s=-2<extra></extra>",
         "line": {
          "color": "lightgray",
          "width": 1
         },
         "mode": "lines",
         "name": "",
         "showlegend": false,
         "type": "scatter",
         "x": {
          "bdata": "mpmZmZmZD0DNzMzMzMwLQDQzMzMzMwRAZmZmZmZmAEAyMzMzMzMEQMvMzMzMzAtAmpmZmZmZD0A=",
          "dtype": "f8"
         },
         "y": {
          "bdata": "qkxY6Hq2+z9XhSfYLXAEQFeFJ9gtcARAq0xY6Hq2+z9NHcNANBntP0kdw0A0Ge0/qUxY6Hq2+z8=",
          "dtype": "f8"
         }
        },
        {
         "hoverinfo": "skip",
         "mode": "text",
         "name": "",
         "showlegend": false,
         "text": [
          "(2,0,-2)"
         ],
         "textfont": {
          "color": "darkgray",
          "size": 10
         },
         "type": "scatter",
         "x": [
          3
         ],
         "y": [
          1.7320508075688772
         ]
        },
        {
         "fill": "toself",
         "fillcolor": "#F5F5F5",
         "hovertemplate": "Empty<br>q=-2, r=2, s=0<extra></extra>",
         "line": {
          "color": "lightgray",
          "width": 1
         },
         "mode": "lines",
         "name": "",
         "showlegend": false,
         "type": "scatter",
         "x": {
          "bdata": "ZmZmZmZmAMAzMzMzMzMEwMzMzMzMzAvAmpmZmZmZD8DOzMzMzMwLwDUzMzMzMwTAZmZmZmZmAMA=",
          "dtype": "f8"
         },
         "y": {
          "bdata": "qkxY6Hq2+z9XhSfYLXAEQFeFJ9gtcARAq0xY6Hq2+z9NHcNANBntP0kdw0A0Ge0/qUxY6Hq2+z8=",
          "dtype": "f8"
         }
        },
        {
         "hoverinfo": "skip",
         "mode": "text",
         "name": "",
         "showlegend": false,
         "text": [
          "(-2,2,0)"
         ],
         "textfont": {
          "color": "darkgray",
          "size": 10
         },
         "type": "scatter",
         "x": [
          -3
         ],
         "y": [
          1.7320508075688772
         ]
        },
        {
         "fill": "toself",
         "fillcolor": "#F5F5F5",
         "hovertemplate": "Empty<br>q=3, r=-2, s=-1<extra></extra>",
         "line": {
          "color": "lightgray",
          "width": 1
         },
         "mode": "lines",
         "name": "",
         "showlegend": false,
         "type": "scatter",
         "x": {
          "bdata": "zczMzMzMFUBmZmZmZuYTQJqZmZmZGRBAZmZmZmZmDECZmZmZmRkQQGZmZmZm5hNAzczMzMzMFUA=",
          "dtype": "f8"
         },
         "y": {
          "bdata": "qExY6Hq2678ACq2GlSumv/AJrYaVK6a/p0xY6Hq2679Y5CI8HgX7v1rkIjweBfu/qkxY6Hq2678=",
          "dtype": "f8"
         }
        },
        {
         "hoverinfo": "skip",
         "mode": "text",
         "name": "",
         "showlegend": false,
         "text": [
          "(3,-2,-1)"
         ],
         "textfont": {
          "color": "darkgray",
          "size": 10
         },
         "type": "scatter",
         "x": [
          4.5
         ],
         "y": [
          -0.8660254037844384
         ]
        },
        {
         "fill": "toself",
         "fillcolor": "#F5F5F5",
         "hovertemplate": "Empty<br>q=0, r=1, s=-1<extra></extra>",
         "line": {
          "color": "lightgray",
          "width": 1
         },
         "mode": "lines",
         "name": "",
         "showlegend": false,
         "type": "scatter",
         "x": {
          "bdata": "ZmZmZmZm7j9oZmZmZmbeP2JmZmZmZt6/ZmZmZmZm7r9uZmZmZmbev1tmZmZmZt4/ZmZmZmZm7j8=",
          "dtype": "f8"
         },
         "y": {
          "bdata": "qkxY6Hq2+z9XhSfYLXAEQFeFJ9gtcARAq0xY6Hq2+z9NHcNANBntP0kdw0A0Ge0/qUxY6Hq2+z8=",
          "dtype": "f8"
         }
        },
        {
         "hoverinfo": "skip",
         "mode": "text",
         "name": "",
         "showlegend": false,
         "text": [
          "(0,1,-1)"
         ],
         "textfont": {
          "color": "darkgray",
          "size": 10
         },
         "type": "scatter",
         "x": [
          0
         ],
         "y": [
          1.7320508075688772
         ]
        },
        {
         "fill": "toself",
         "fillcolor": "#F5F5F5",
         "hovertemplate": "Empty<br>q=-2, r=0, s=2<extra></extra>",
         "line": {
          "color": "lightgray",
          "width": 1
         },
         "mode": "lines",
         "name": "",
         "showlegend": false,
         "type": "scatter",
         "x": {
          "bdata": "ZmZmZmZmAMAzMzMzMzMEwMzMzMzMzAvAmpmZmZmZD8DOzMzMzMwLwDUzMzMzMwTAZmZmZmZmAMA=",
          "dtype": "f8"
         },
         "y": {
          "bdata": "qkxY6Hq2+79MHcNANBntv0sdw0A0Ge2/qUxY6Hq2+79XhSfYLXAEwFiFJ9gtcATAq0xY6Hq2+78=",
          "dtype": "f8"
         }
        },
        {
         "hoverinfo": "skip",
         "mode": "text",
         "name": "",
         "showlegend": false,
         "text": [
          "(-2,0,2)"
         ],
         "textfont": {
          "color": "darkgray",
          "size": 10
         },
         "type": "scatter",
         "x": [
          -3
         ],
         "y": [
          -1.7320508075688772
         ]
        },
        {
         "fill": "toself",
         "fillcolor": "#F5F5F5",
         "hovertemplate": "Empty<br>q=-3, r=2, s=1<extra></extra>",
         "line": {
          "color": "lightgray",
          "width": 1
         },
         "mode": "lines",
         "name": "",
         "showlegend": false,
         "type": "scatter",
         "x": {
          "bdata": "ZmZmZmZmDMCamZmZmRkQwGZmZmZm5hPAzczMzMzMFcBnZmZmZuYTwJqZmZmZGRDAZmZmZmZmDMA=",
          "dtype": "f8"
         },
         "y": {
          "bdata": "qExY6Hq26z9Y5CI8HgX7P1jkIjweBfs/qUxY6Hq26z8QCq2GlSumP9AJrYaVK6Y/pkxY6Hq26z8=",
          "dtype": "f8"
         }
        },
        {
         "hoverinfo": "skip",
         "mode": "text",
         "name": "",
         "showlegend": false,
         "text": [
          "(-3,2,1)"
         ],
         "textfont": {
          "color": "darkgray",
          "size": 10
         },
         "type": "scatter",
         "x": [
          -4.5
         ],
         "y": [
          0.8660254037844384
         ]
        },
        {
         "fill": "toself",
         "fillcolor": "#FFFFFF",
         "hovertemplate": "Ant (white)<br>Position: (0,0,0)<extra></extra>",
         "line": {
          "color": "#808080",
          "width": 2
         },
         "mode": "lines",
         "name": "",
         "showlegend": false,
         "type": "scatter",
         "x": {
          "bdata": "ZmZmZmZm7j9oZmZmZmbeP2JmZmZmZt6/ZmZmZmZm7r9uZmZmZmbev1tmZmZmZt4/ZmZmZmZm7j8=",
          "dtype": "f8"
         },
         "y": {
          "bdata": "AAAAAAAAAAAIfO2PwVPqPwl87Y/BU+o/07254z3EoDwHfO2PwVPqvwt87Y/BU+q/07254z3EsLw=",
          "dtype": "f8"
         }
        },
        {
         "hoverinfo": "skip",
         "mode": "text",
         "name": "",
         "showlegend": false,
         "text": [
          "🐜"
         ],
         "textfont": {
          "color": "black",
          "size": 23
         },
         "type": "scatter",
         "x": [
          0
         ],
         "y": [
          0
         ]
        },
        {
         "hoverinfo": "skip",
         "mode": "text",
         "name": "",
         "showlegend": false,
         "text": [
          "(0,0,0)"
         ],
         "textfont": {
          "color": "gray",
          "size": 8
         },
         "type": "scatter",
         "x": [
          0
         ],
         "y": [
          -0.3
         ]
        },
        {
         "fill": "toself",
         "fillcolor": "#1D1A1A",
         "hovertemplate": "Ant (black)<br>Position: (1,-1,0)<extra></extra>",
         "line": {
          "color": "#000000",
          "width": 2
         },
         "mode": "lines",
         "name": "",
         "showlegend": false,
         "type": "scatter",
         "x": {
          "bdata": "mpmZmZmZA0CamZmZmZn/P2hmZmZmZvA/mpmZmZmZ4T9kZmZmZmbwP5eZmZmZmf8/mpmZmZmZA0A=",
          "dtype": "f8"
         },
         "y": {
          "bdata": "qkxY6Hq2678gCq2GlSumvxAKrYaVK6a/qUxY6Hq2679Y5CI8HgX7v1rkIjweBfu/rExY6Hq2678=",
          "dtype": "f8"
         }
        },
        {
         "hoverinfo": "skip",
         "mode": "text",
         "name": "",
         "showlegend": false,
         "text": [
          "🐜"
         ],
         "textfont": {
          "color": "black",
          "size": 23
         },
         "type": "scatter",
         "x": [
          1.5
         ],
         "y": [
          -0.8660254037844386
         ]
        },
        {
         "hoverinfo": "skip",
         "mode": "text",
         "name": "",
         "showlegend": false,
         "text": [
          "(1,-1,0)"
         ],
         "textfont": {
          "color": "gray",
          "size": 8
         },
         "type": "scatter",
         "x": [
          1.5
         ],
         "y": [
          -1.1660254037844386
         ]
        },
        {
         "fill": "toself",
         "fillcolor": "#FFFFFF",
         "hovertemplate": "Ant (white)<br>Position: (-1,1,0)<extra></extra>",
         "line": {
          "color": "#808080",
          "width": 2
         },
         "mode": "lines",
         "name": "",
         "showlegend": false,
         "type": "scatter",
         "x": {
          "bdata": "mpmZmZmZ4b9mZmZmZmbwv5iZmZmZmf+/mpmZmZmZA8CcmZmZmZn/v2lmZmZmZvC/mpmZmZmZ4b8=",
          "dtype": "f8"
         },
         "y": {
          "bdata": "qkxY6Hq26z9Z5CI8HgX7P1rkIjweBfs/q0xY6Hq26z8wCq2GlSumP/AJrYaVK6Y/qExY6Hq26z8=",
          "dtype": "f8"
         }
        },
        {
         "hoverinfo": "skip",
         "mode": "text",
         "name": "",
         "showlegend": false,
         "text": [
          "🐜"
         ],
         "textfont": {
          "color": "black",
          "size": 23
         },
         "type": "scatter",
         "x": [
          -1.5
         ],
         "y": [
          0.8660254037844386
         ]
        },
        {
         "hoverinfo": "skip",
         "mode": "text",
         "name": "",
         "showlegend": false,
         "text": [
          "(-1,1,0)"
         ],
         "textfont": {
          "color": "gray",
          "size": 8
         },
         "type": "scatter",
         "x": [
          -1.5
         ],
         "y": [
          0.5660254037844386
         ]
        },
        {
         "fill": "toself",
         "fillcolor": "#1D1A1A",
         "hovertemplate": "Ant (black)<br>Position: (2,-1,-1)<extra></extra>",
         "line": {
          "color": "#000000",
          "width": 2
         },
         "mode": "lines",
         "name": "",
         "showlegend": false,
         "type": "scatter",
         "x": {
          "bdata": "mpmZmZmZD0DNzMzMzMwLQDQzMzMzMwRAZmZmZmZmAEAyMzMzMzMEQMvMzMzMzAtAmpmZmZmZD0A=",
          "dtype": "f8"
         },
         "y": {
          "bdata": "AAAAAAAAAAAIfO2PwVPqPwl87Y/BU+o/07254z3EoDwHfO2PwVPqvwt87Y/BU+q/07254z3EsLw=",
          "dtype": "f8"
         }
        },
        {
         "hoverinfo": "skip",
         "mode": "text",
         "name": "",
         "showlegend": false,
         "text": [
          "🐜"
         ],
         "textfont": {
          "color": "black",
          "size": 23
         },
         "type": "scatter",
         "x": [
          3
         ],
         "y": [
          0
         ]
        },
        {
         "hoverinfo": "skip",
         "mode": "text",
         "name": "",
         "showlegend": false,
         "text": [
          "(2,-1,-1)"
         ],
         "textfont": {
          "color": "gray",
          "size": 8
         },
         "type": "scatter",
         "x": [
          3
         ],
         "y": [
          -0.3
         ]
        },
        {
         "fill": "toself",
         "fillcolor": "#FFFFFF",
         "hovertemplate": "QueenBee (white)<br>Position: (-2,1,1)<extra></extra>",
         "line": {
          "color": "#808080",
          "width": 2
         },
         "mode": "lines",
         "name": "",
         "showlegend": false,
         "type": "scatter",
         "x": {
          "bdata": "ZmZmZmZmAMAzMzMzMzMEwMzMzMzMzAvAmpmZmZmZD8DOzMzMzMwLwDUzMzMzMwTAZmZmZmZmAMA=",
          "dtype": "f8"
         },
         "y": {
          "bdata": "AAAAAAAAAAAIfO2PwVPqPwl87Y/BU+o/07254z3EoDwHfO2PwVPqvwt87Y/BU+q/07254z3EsLw=",
          "dtype": "f8"
         }
        },
        {
         "hoverinfo": "skip",
         "mode": "text",
         "name": "",
         "showlegend": false,
         "text": [
          "🐝"
         ],
         "textfont": {
          "color": "black",
          "size": 23
         },
         "type": "scatter",
         "x": [
          -3
         ],
         "y": [
          0
         ]
        },
        {
         "hoverinfo": "skip",
         "mode": "text",
         "name": "",
         "showlegend": false,
         "text": [
          "(-2,1,1)"
         ],
         "textfont": {
          "color": "gray",
          "size": 8
         },
         "type": "scatter",
         "x": [
          -3
         ],
         "y": [
          -0.3
         ]
        }
       ],
       "layout": {
        "height": 800,
        "hovermode": "closest",
        "plot_bgcolor": "white",
        "template": {
         "data": {
          "bar": [
           {
            "error_x": {
             "color": "#2a3f5f"
            },
            "error_y": {
             "color": "#2a3f5f"
            },
            "marker": {
             "line": {
              "color": "#E5ECF6",
              "width": 0.5
             },
             "pattern": {
              "fillmode": "overlay",
              "size": 10,
              "solidity": 0.2
             }
            },
            "type": "bar"
           }
          ],
          "barpolar": [
           {
            "marker": {
             "line": {
              "color": "#E5ECF6",
              "width": 0.5
             },
             "pattern": {
              "fillmode": "overlay",
              "size": 10,
              "solidity": 0.2
             }
            },
            "type": "barpolar"
           }
          ],
          "carpet": [
           {
            "aaxis": {
             "endlinecolor": "#2a3f5f",
             "gridcolor": "white",
             "linecolor": "white",
             "minorgridcolor": "white",
             "startlinecolor": "#2a3f5f"
            },
            "baxis": {
             "endlinecolor": "#2a3f5f",
             "gridcolor": "white",
             "linecolor": "white",
             "minorgridcolor": "white",
             "startlinecolor": "#2a3f5f"
            },
            "type": "carpet"
           }
          ],
          "choropleth": [
           {
            "colorbar": {
             "outlinewidth": 0,
             "ticks": ""
            },
            "type": "choropleth"
           }
          ],
          "contour": [
           {
            "colorbar": {
             "outlinewidth": 0,
             "ticks": ""
            },
            "colorscale": [
             [
              0,
              "#0d0887"
             ],
             [
              0.1111111111111111,
              "#46039f"
             ],
             [
              0.2222222222222222,
              "#7201a8"
             ],
             [
              0.3333333333333333,
              "#9c179e"
             ],
             [
              0.4444444444444444,
              "#bd3786"
             ],
             [
              0.5555555555555556,
              "#d8576b"
             ],
             [
              0.6666666666666666,
              "#ed7953"
             ],
             [
              0.7777777777777778,
              "#fb9f3a"
             ],
             [
              0.8888888888888888,
              "#fdca26"
             ],
             [
              1,
              "#f0f921"
             ]
            ],
            "type": "contour"
           }
          ],
          "contourcarpet": [
           {
            "colorbar": {
             "outlinewidth": 0,
             "ticks": ""
            },
            "type": "contourcarpet"
           }
          ],
          "heatmap": [
           {
            "colorbar": {
             "outlinewidth": 0,
             "ticks": ""
            },
            "colorscale": [
             [
              0,
              "#0d0887"
             ],
             [
              0.1111111111111111,
              "#46039f"
             ],
             [
              0.2222222222222222,
              "#7201a8"
             ],
             [
              0.3333333333333333,
              "#9c179e"
             ],
             [
              0.4444444444444444,
              "#bd3786"
             ],
             [
              0.5555555555555556,
              "#d8576b"
             ],
             [
              0.6666666666666666,
              "#ed7953"
             ],
             [
              0.7777777777777778,
              "#fb9f3a"
             ],
             [
              0.8888888888888888,
              "#fdca26"
             ],
             [
              1,
              "#f0f921"
             ]
            ],
            "type": "heatmap"
           }
          ],
          "histogram": [
           {
            "marker": {
             "pattern": {
              "fillmode": "overlay",
              "size": 10,
              "solidity": 0.2
             }
            },
            "type": "histogram"
           }
          ],
          "histogram2d": [
           {
            "colorbar": {
             "outlinewidth": 0,
             "ticks": ""
            },
            "colorscale": [
             [
              0,
              "#0d0887"
             ],
             [
              0.1111111111111111,
              "#46039f"
             ],
             [
              0.2222222222222222,
              "#7201a8"
             ],
             [
              0.3333333333333333,
              "#9c179e"
             ],
             [
              0.4444444444444444,
              "#bd3786"
             ],
             [
              0.5555555555555556,
              "#d8576b"
             ],
             [
              0.6666666666666666,
              "#ed7953"
             ],
             [
              0.7777777777777778,
              "#fb9f3a"
             ],
             [
              0.8888888888888888,
              "#fdca26"
             ],
             [
              1,
              "#f0f921"
             ]
            ],
            "type": "histogram2d"
           }
          ],
          "histogram2dcontour": [
           {
            "colorbar": {
             "outlinewidth": 0,
             "ticks": ""
            },
            "colorscale": [
             [
              0,
              "#0d0887"
             ],
             [
              0.1111111111111111,
              "#46039f"
             ],
             [
              0.2222222222222222,
              "#7201a8"
             ],
             [
              0.3333333333333333,
              "#9c179e"
             ],
             [
              0.4444444444444444,
              "#bd3786"
             ],
             [
              0.5555555555555556,
              "#d8576b"
             ],
             [
              0.6666666666666666,
              "#ed7953"
             ],
             [
              0.7777777777777778,
              "#fb9f3a"
             ],
             [
              0.8888888888888888,
              "#fdca26"
             ],
             [
              1,
              "#f0f921"
             ]
            ],
            "type": "histogram2dcontour"
           }
          ],
          "mesh3d": [
           {
            "colorbar": {
             "outlinewidth": 0,
             "ticks": ""
            },
            "type": "mesh3d"
           }
          ],
          "parcoords": [
           {
            "line": {
             "colorbar": {
              "outlinewidth": 0,
              "ticks": ""
             }
            },
            "type": "parcoords"
           }
          ],
          "pie": [
           {
            "automargin": true,
            "type": "pie"
           }
          ],
          "scatter": [
           {
            "fillpattern": {
             "fillmode": "overlay",
             "size": 10,
             "solidity": 0.2
            },
            "type": "scatter"
           }
          ],
          "scatter3d": [
           {
            "line": {
             "colorbar": {
              "outlinewidth": 0,
              "ticks": ""
             }
            },
            "marker": {
             "colorbar": {
              "outlinewidth": 0,
              "ticks": ""
             }
            },
            "type": "scatter3d"
           }
          ],
          "scattercarpet": [
           {
            "marker": {
             "colorbar": {
              "outlinewidth": 0,
              "ticks": ""
             }
            },
            "type": "scattercarpet"
           }
          ],
          "scattergeo": [
           {
            "marker": {
             "colorbar": {
              "outlinewidth": 0,
              "ticks": ""
             }
            },
            "type": "scattergeo"
           }
          ],
          "scattergl": [
           {
            "marker": {
             "colorbar": {
              "outlinewidth": 0,
              "ticks": ""
             }
            },
            "type": "scattergl"
           }
          ],
          "scattermap": [
           {
            "marker": {
             "colorbar": {
              "outlinewidth": 0,
              "ticks": ""
             }
            },
            "type": "scattermap"
           }
          ],
          "scattermapbox": [
           {
            "marker": {
             "colorbar": {
              "outlinewidth": 0,
              "ticks": ""
             }
            },
            "type": "scattermapbox"
           }
          ],
          "scatterpolar": [
           {
            "marker": {
             "colorbar": {
              "outlinewidth": 0,
              "ticks": ""
             }
            },
            "type": "scatterpolar"
           }
          ],
          "scatterpolargl": [
           {
            "marker": {
             "colorbar": {
              "outlinewidth": 0,
              "ticks": ""
             }
            },
            "type": "scatterpolargl"
           }
          ],
          "scatterternary": [
           {
            "marker": {
             "colorbar": {
              "outlinewidth": 0,
              "ticks": ""
             }
            },
            "type": "scatterternary"
           }
          ],
          "surface": [
           {
            "colorbar": {
             "outlinewidth": 0,
             "ticks": ""
            },
            "colorscale": [
             [
              0,
              "#0d0887"
             ],
             [
              0.1111111111111111,
              "#46039f"
             ],
             [
              0.2222222222222222,
              "#7201a8"
             ],
             [
              0.3333333333333333,
              "#9c179e"
             ],
             [
              0.4444444444444444,
              "#bd3786"
             ],
             [
              0.5555555555555556,
              "#d8576b"
             ],
             [
              0.6666666666666666,
              "#ed7953"
             ],
             [
              0.7777777777777778,
              "#fb9f3a"
             ],
             [
              0.8888888888888888,
              "#fdca26"
             ],
             [
              1,
              "#f0f921"
             ]
            ],
            "type": "surface"
           }
          ],
          "table": [
           {
            "cells": {
             "fill": {
              "color": "#EBF0F8"
             },
             "line": {
              "color": "white"
             }
            },
            "header": {
             "fill": {
              "color": "#C8D4E3"
             },
             "line": {
              "color": "white"
             }
            },
            "type": "table"
           }
          ]
         },
         "layout": {
          "annotationdefaults": {
           "arrowcolor": "#2a3f5f",
           "arrowhead": 0,
           "arrowwidth": 1
          },
          "autotypenumbers": "strict",
          "coloraxis": {
           "colorbar": {
            "outlinewidth": 0,
            "ticks": ""
           }
          },
          "colorscale": {
           "diverging": [
            [
             0,
             "#8e0152"
            ],
            [
             0.1,
             "#c51b7d"
            ],
            [
             0.2,
             "#de77ae"
            ],
            [
             0.3,
             "#f1b6da"
            ],
            [
             0.4,
             "#fde0ef"
            ],
            [
             0.5,
             "#f7f7f7"
            ],
            [
             0.6,
             "#e6f5d0"
            ],
            [
             0.7,
             "#b8e186"
            ],
            [
             0.8,
             "#7fbc41"
            ],
            [
             0.9,
             "#4d9221"
            ],
            [
             1,
             "#276419"
            ]
           ],
           "sequential": [
            [
             0,
             "#0d0887"
            ],
            [
             0.1111111111111111,
             "#46039f"
            ],
            [
             0.2222222222222222,
             "#7201a8"
            ],
            [
             0.3333333333333333,
             "#9c179e"
            ],
            [
             0.4444444444444444,
             "#bd3786"
            ],
            [
             0.5555555555555556,
             "#d8576b"
            ],
            [
             0.6666666666666666,
             "#ed7953"
            ],
            [
             0.7777777777777778,
             "#fb9f3a"
            ],
            [
             0.8888888888888888,
             "#fdca26"
            ],
            [
             1,
             "#f0f921"
            ]
           ],
           "sequentialminus": [
            [
             0,
             "#0d0887"
            ],
            [
             0.1111111111111111,
             "#46039f"
            ],
            [
             0.2222222222222222,
             "#7201a8"
            ],
            [
             0.3333333333333333,
             "#9c179e"
            ],
            [
             0.4444444444444444,
             "#bd3786"
            ],
            [
             0.5555555555555556,
             "#d8576b"
            ],
            [
             0.6666666666666666,
             "#ed7953"
            ],
            [
             0.7777777777777778,
             "#fb9f3a"
            ],
            [
             0.8888888888888888,
             "#fdca26"
            ],
            [
             1,
             "#f0f921"
            ]
           ]
          },
          "colorway": [
           "#636efa",
           "#EF553B",
           "#00cc96",
           "#ab63fa",
           "#FFA15A",
           "#19d3f3",
           "#FF6692",
           "#B6E880",
           "#FF97FF",
           "#FECB52"
          ],
          "font": {
           "color": "#2a3f5f"
          },
          "geo": {
           "bgcolor": "white",
           "lakecolor": "white",
           "landcolor": "#E5ECF6",
           "showlakes": true,
           "showland": true,
           "subunitcolor": "white"
          },
          "hoverlabel": {
           "align": "left"
          },
          "hovermode": "closest",
          "mapbox": {
           "style": "light"
          },
          "paper_bgcolor": "white",
          "plot_bgcolor": "#E5ECF6",
          "polar": {
           "angularaxis": {
            "gridcolor": "white",
            "linecolor": "white",
            "ticks": ""
           },
           "bgcolor": "#E5ECF6",
           "radialaxis": {
            "gridcolor": "white",
            "linecolor": "white",
            "ticks": ""
           }
          },
          "scene": {
           "xaxis": {
            "backgroundcolor": "#E5ECF6",
            "gridcolor": "white",
            "gridwidth": 2,
            "linecolor": "white",
            "showbackground": true,
            "ticks": "",
            "zerolinecolor": "white"
           },
           "yaxis": {
            "backgroundcolor": "#E5ECF6",
            "gridcolor": "white",
            "gridwidth": 2,
            "linecolor": "white",
            "showbackground": true,
            "ticks": "",
            "zerolinecolor": "white"
           },
           "zaxis": {
            "backgroundcolor": "#E5ECF6",
            "gridcolor": "white",
            "gridwidth": 2,
            "linecolor": "white",
            "showbackground": true,
            "ticks": "",
            "zerolinecolor": "white"
           }
          },
          "shapedefaults": {
           "line": {
            "color": "#2a3f5f"
           }
          },
          "ternary": {
           "aaxis": {
            "gridcolor": "white",
            "linecolor": "white",
            "ticks": ""
           },
           "baxis": {
            "gridcolor": "white",
            "linecolor": "white",
            "ticks": ""
           },
           "bgcolor": "#E5ECF6",
           "caxis": {
            "gridcolor": "white",
            "linecolor": "white",
            "ticks": ""
           }
          },
          "title": {
           "x": 0.05
          },
          "xaxis": {
           "automargin": true,
           "gridcolor": "white",
           "linecolor": "white",
           "ticks": "",
           "title": {
            "standoff": 15
           },
           "zerolinecolor": "white",
           "zerolinewidth": 2
          },
          "yaxis": {
           "automargin": true,
           "gridcolor": "white",
           "linecolor": "white",
           "ticks": "",
           "title": {
            "standoff": 15
           },
           "zerolinecolor": "white",
           "zerolinewidth": 2
          }
         }
        },
        "title": {
         "text": "Hive - digitally made by Dan"
        },
        "width": 800,
        "xaxis": {
         "gridcolor": "lightgray",
         "scaleanchor": "y",
         "scaleratio": 1,
         "showgrid": true,
         "zeroline": true
        },
        "yaxis": {
         "gridcolor": "lightgray",
         "showgrid": true,
         "zeroline": true
        }
       }
      }
     },
     "metadata": {},
     "output_type": "display_data"
    },
    {
     "name": "stdout",
     "output_type": "stream",
     "text": [
      "White queen is at: (-2, 1, 1)\n"
     ]
    }
   ],
   "source": [
    "game = Game()\n",
    "\n",
    "game.apply_turn(Turn(\n",
    "    player='white',\n",
    "    piece_type = 'ant',\n",
    "    action_type='place', \n",
    "    target_coordinates=HexCoordinate(q=0, r=0, s=0)\n",
    "))\n",
    "\n",
    "game.apply_turn(Turn(\n",
    "    player='black',\n",
    "    piece_type = 'ant',\n",
    "    action_type='place',\n",
    "    target_coordinates=HexCoordinate(q=1, r=-1, s=0)\n",
    "))\n",
    "\n",
    "game.apply_turn(Turn(\n",
    "    player='white',\n",
    "    piece_type='ant',\n",
    "    action_type='place',\n",
    "    target_coordinates=HexCoordinate(q=-1, r=1, s=0)\n",
    "))\n",
    "\n",
    "game.apply_turn(Turn(\n",
    "    player='black',\n",
    "    piece_type='ant',\n",
    "    action_type='place',\n",
    "    target_coordinates=HexCoordinate(q=2, r=-1, s=-1)\n",
    "))\n",
    "\n",
    "game.apply_turn(Turn(\n",
    "    player='white',\n",
    "    piece_type='queen',\n",
    "    action_type='place',\n",
    "    target_coordinates=HexCoordinate(q=-2, r=1, s=1)\n",
    "))\n",
    "\n",
    "\n",
    "visualize_game_board(game.game_state.board_state, show_empty_hexes=game.game_state.get_available_spaces())\n",
    "\n",
    "# Check white queen location\n",
    "white_queen = game.game_state.get_queen('white')\n",
    "if white_queen and white_queen.location == 'board':\n",
    "    print(f\"White queen is at: ({white_queen.hex_coordinates.q}, {white_queen.hex_coordinates.r}, {white_queen.hex_coordinates.s})\")"
   ]
  },
  {
   "cell_type": "code",
   "execution_count": 323,
   "id": "df7ffb1e",
   "metadata": {},
   "outputs": [
    {
     "ename": "AttributeError",
     "evalue": "'Game' object has no attribute 'get_available_spaces'",
     "output_type": "error",
     "traceback": [
      "\u001b[31m---------------------------------------------------------------------------\u001b[39m",
      "\u001b[31mAttributeError\u001b[39m                            Traceback (most recent call last)",
      "\u001b[36mCell\u001b[39m\u001b[36m \u001b[39m\u001b[32mIn[323]\u001b[39m\u001b[32m, line 1\u001b[39m\n\u001b[32m----> \u001b[39m\u001b[32m1\u001b[39m \u001b[43mgame\u001b[49m\u001b[43m.\u001b[49m\u001b[43mget_available_spaces\u001b[49m()\n\u001b[32m      3\u001b[39m \u001b[38;5;66;03m# add piece1 and piece2 to the board state for visualization\u001b[39;00m\n\u001b[32m      4\u001b[39m \u001b[38;5;66;03m# psudo game moves\u001b[39;00m\n\u001b[32m      5\u001b[39m piece1 = game.white_player.pieces[\u001b[32m0\u001b[39m]\n",
      "\u001b[36mFile \u001b[39m\u001b[32mc:\\Users\\devan\\OneDrive\\Documents\\repos\\HiveSim\\.venv\\Lib\\site-packages\\pydantic\\main.py:1026\u001b[39m, in \u001b[36mBaseModel.__getattr__\u001b[39m\u001b[34m(self, item)\u001b[39m\n\u001b[32m   1023\u001b[39m     \u001b[38;5;28;01mreturn\u001b[39;00m \u001b[38;5;28msuper\u001b[39m().\u001b[34m__getattribute__\u001b[39m(item)  \u001b[38;5;66;03m# Raises AttributeError if appropriate\u001b[39;00m\n\u001b[32m   1024\u001b[39m \u001b[38;5;28;01melse\u001b[39;00m:\n\u001b[32m   1025\u001b[39m     \u001b[38;5;66;03m# this is the current error\u001b[39;00m\n\u001b[32m-> \u001b[39m\u001b[32m1026\u001b[39m     \u001b[38;5;28;01mraise\u001b[39;00m \u001b[38;5;167;01mAttributeError\u001b[39;00m(\u001b[33mf\u001b[39m\u001b[33m'\u001b[39m\u001b[38;5;132;01m{\u001b[39;00m\u001b[38;5;28mtype\u001b[39m(\u001b[38;5;28mself\u001b[39m).\u001b[34m__name__\u001b[39m\u001b[38;5;132;01m!r}\u001b[39;00m\u001b[33m object has no attribute \u001b[39m\u001b[38;5;132;01m{\u001b[39;00mitem\u001b[38;5;132;01m!r}\u001b[39;00m\u001b[33m'\u001b[39m)\n",
      "\u001b[31mAttributeError\u001b[39m: 'Game' object has no attribute 'get_available_spaces'"
     ]
    }
   ],
   "source": [
    "game.get_available_spaces()\n",
    "\n",
    "# add piece1 and piece2 to the board state for visualization\n",
    "# psudo game moves\n",
    "piece1 = game.white_player.pieces[0]\n",
    "piece2 = game.black_player.pieces[4]\n",
    "\n",
    "game.board_state.add_piece(piece1.piece_id, HexCoordinate(q=0, r=0, s=0))\n",
    "game.board_state.add_piece(piece2.piece_id, HexCoordinate(q=1, r=-1, s=0))\n",
    "\n",
    "available_spaces = game.get_available_spaces()\n"
   ]
  },
  {
   "cell_type": "code",
   "execution_count": null,
   "id": "05c5f098",
   "metadata": {},
   "outputs": [
    {
     "name": "stdout",
     "output_type": "stream",
     "text": [
      "Error: Coordinates already occupied\n"
     ]
    }
   ],
   "source": [
    "# attempt to add piece3 to an occupied space\n",
    "piece3 = game.white_player.pieces[1]\n",
    "try:\n",
    "    game.board_state.add_piece(piece3.piece_id, HexCoordinate(q=0, r=0, s=0))\n",
    "except ValueError as e:\n",
    "    print(f\"Error: {e}\")  # Expected error since (0,0,0) is already occupied"
   ]
  },
  {
   "cell_type": "code",
   "execution_count": null,
   "id": "7463507b",
   "metadata": {},
   "outputs": [
    {
     "name": "stdout",
     "output_type": "stream",
     "text": [
      "Error: Piece ID already exists on the board\n"
     ]
    }
   ],
   "source": [
    "# attempt to add a peice that is already added\n",
    "try:\n",
    "    game.board_state.add_piece(piece1.piece_id, piece1, HexCoordinate(q=2, r=-2, s=0))\n",
    "except ValueError as e:\n",
    "    print(f\"Error: {e}\")  # Expected error since piece1 is already on the board"
   ]
  },
  {
   "cell_type": "markdown",
   "id": "5b9fe945",
   "metadata": {},
   "source": [
    "adjacant"
   ]
  },
  {
   "cell_type": "code",
   "execution_count": null,
   "id": "1d5f9e60",
   "metadata": {},
   "outputs": [
    {
     "data": {
      "text/plain": [
       "0"
      ]
     },
     "execution_count": 26,
     "metadata": {},
     "output_type": "execute_result"
    }
   ],
   "source": [
    "game.turn\n"
   ]
  },
  {
   "cell_type": "code",
   "execution_count": null,
   "id": "a4b650f1",
   "metadata": {},
   "outputs": [
    {
     "data": {
      "application/vnd.plotly.v1+json": {
       "config": {
        "plotlyServerURL": "https://plot.ly"
       },
       "data": [
        {
         "fill": "toself",
         "fillcolor": "#F5F5F5",
         "hoverinfo": "text",
         "hovertext": "Empty: q=2, r=-2, s=0",
         "line": {
          "color": "lightgray",
          "width": 1
         },
         "mode": "lines",
         "showlegend": false,
         "type": "scatter",
         "x": {
          "bdata": "mpmZmZmZD0DNzMzMzMwLQDQzMzMzMwRAZmZmZmZmAEAyMzMzMzMEQMvMzMzMzAtAmpmZmZmZD0A=",
          "dtype": "f8"
         },
         "y": {
          "bdata": "qkxY6Hq2+79MHcNANBntv0sdw0A0Ge2/qUxY6Hq2+79XhSfYLXAEwFiFJ9gtcATAq0xY6Hq2+78=",
          "dtype": "f8"
         }
        },
        {
         "fill": "toself",
         "fillcolor": "#F5F5F5",
         "hoverinfo": "text",
         "hovertext": "Empty: q=-1, r=0, s=1",
         "line": {
          "color": "lightgray",
          "width": 1
         },
         "mode": "lines",
         "showlegend": false,
         "type": "scatter",
         "x": {
          "bdata": "mpmZmZmZ4b9mZmZmZmbwv5iZmZmZmf+/mpmZmZmZA8CcmZmZmZn/v2lmZmZmZvC/mpmZmZmZ4b8=",
          "dtype": "f8"
         },
         "y": {
          "bdata": "qkxY6Hq2678gCq2GlSumvxAKrYaVK6a/qUxY6Hq2679Y5CI8HgX7v1rkIjweBfu/rExY6Hq2678=",
          "dtype": "f8"
         }
        },
        {
         "fill": "toself",
         "fillcolor": "#F5F5F5",
         "hoverinfo": "text",
         "hovertext": "Empty: q=0, r=-1, s=1",
         "line": {
          "color": "lightgray",
          "width": 1
         },
         "mode": "lines",
         "showlegend": false,
         "type": "scatter",
         "x": {
          "bdata": "ZmZmZmZm7j9oZmZmZmbeP2JmZmZmZt6/ZmZmZmZm7r9uZmZmZmbev1tmZmZmZt4/ZmZmZmZm7j8=",
          "dtype": "f8"
         },
         "y": {
          "bdata": "qkxY6Hq2+79MHcNANBntv0sdw0A0Ge2/qUxY6Hq2+79XhSfYLXAEwFiFJ9gtcATAq0xY6Hq2+78=",
          "dtype": "f8"
         }
        },
        {
         "fill": "toself",
         "fillcolor": "#F5F5F5",
         "hoverinfo": "text",
         "hovertext": "Empty: q=1, r=0, s=-1",
         "line": {
          "color": "lightgray",
          "width": 1
         },
         "mode": "lines",
         "showlegend": false,
         "type": "scatter",
         "x": {
          "bdata": "mpmZmZmZA0CamZmZmZn/P2hmZmZmZvA/mpmZmZmZ4T9kZmZmZmbwP5eZmZmZmf8/mpmZmZmZA0A=",
          "dtype": "f8"
         },
         "y": {
          "bdata": "qkxY6Hq26z9Z5CI8HgX7P1rkIjweBfs/q0xY6Hq26z8wCq2GlSumP/AJrYaVK6Y/qExY6Hq26z8=",
          "dtype": "f8"
         }
        },
        {
         "fill": "toself",
         "fillcolor": "#F5F5F5",
         "hoverinfo": "text",
         "hovertext": "Empty: q=1, r=-2, s=1",
         "line": {
          "color": "lightgray",
          "width": 1
         },
         "mode": "lines",
         "showlegend": false,
         "type": "scatter",
         "x": {
          "bdata": "mpmZmZmZA0CamZmZmZn/P2hmZmZmZvA/mpmZmZmZ4T9kZmZmZmbwP5eZmZmZmf8/mpmZmZmZA0A=",
          "dtype": "f8"
         },
         "y": {
          "bdata": "gDlCLtzIBMD8tI2U12f8v/y0jZTXZ/y/gDlCLtzIBMCCmD2SzF0LwIOYPZLMXQvAgTlCLtzIBMA=",
          "dtype": "f8"
         }
        },
        {
         "fill": "toself",
         "fillcolor": "#F5F5F5",
         "hoverinfo": "text",
         "hovertext": "Empty: q=2, r=-1, s=-1",
         "line": {
          "color": "lightgray",
          "width": 1
         },
         "mode": "lines",
         "showlegend": false,
         "type": "scatter",
         "x": {
          "bdata": "mpmZmZmZD0DNzMzMzMwLQDQzMzMzMwRAZmZmZmZmAEAyMzMzMzMEQMvMzMzMzAtAmpmZmZmZD0A=",
          "dtype": "f8"
         },
         "y": {
          "bdata": "AAAAAAAAAAAIfO2PwVPqPwl87Y/BU+o/07254z3EoDwHfO2PwVPqvwt87Y/BU+q/07254z3EsLw=",
          "dtype": "f8"
         }
        },
        {
         "fill": "toself",
         "fillcolor": "#F5F5F5",
         "hoverinfo": "text",
         "hovertext": "Empty: q=-1, r=1, s=0",
         "line": {
          "color": "lightgray",
          "width": 1
         },
         "mode": "lines",
         "showlegend": false,
         "type": "scatter",
         "x": {
          "bdata": "mpmZmZmZ4b9mZmZmZmbwv5iZmZmZmf+/mpmZmZmZA8CcmZmZmZn/v2lmZmZmZvC/mpmZmZmZ4b8=",
          "dtype": "f8"
         },
         "y": {
          "bdata": "qkxY6Hq26z9Z5CI8HgX7P1rkIjweBfs/q0xY6Hq26z8wCq2GlSumP/AJrYaVK6Y/qExY6Hq26z8=",
          "dtype": "f8"
         }
        },
        {
         "fill": "toself",
         "fillcolor": "#F5F5F5",
         "hoverinfo": "text",
         "hovertext": "Empty: q=0, r=1, s=-1",
         "line": {
          "color": "lightgray",
          "width": 1
         },
         "mode": "lines",
         "showlegend": false,
         "type": "scatter",
         "x": {
          "bdata": "ZmZmZmZm7j9oZmZmZmbeP2JmZmZmZt6/ZmZmZmZm7r9uZmZmZmbev1tmZmZmZt4/ZmZmZmZm7j8=",
          "dtype": "f8"
         },
         "y": {
          "bdata": "qkxY6Hq2+z9XhSfYLXAEQFeFJ9gtcARAq0xY6Hq2+z9NHcNANBntP0kdw0A0Ge0/qUxY6Hq2+z8=",
          "dtype": "f8"
         }
        },
        {
         "fill": "toself",
         "fillcolor": "#FFFFFF",
         "hoverinfo": "text",
         "hovertext": "Ant (white)<br>Position: (0,0,0)",
         "line": {
          "color": "#808080",
          "width": 2
         },
         "mode": "lines",
         "showlegend": false,
         "type": "scatter",
         "x": {
          "bdata": "ZmZmZmZm7j9oZmZmZmbeP2JmZmZmZt6/ZmZmZmZm7r9uZmZmZmbev1tmZmZmZt4/ZmZmZmZm7j8=",
          "dtype": "f8"
         },
         "y": {
          "bdata": "AAAAAAAAAAAIfO2PwVPqPwl87Y/BU+o/07254z3EoDwHfO2PwVPqvwt87Y/BU+q/07254z3EsLw=",
          "dtype": "f8"
         }
        },
        {
         "hoverinfo": "skip",
         "mode": "text",
         "showlegend": false,
         "text": [
          "🐜"
         ],
         "textfont": {
          "color": "black",
          "size": 60
         },
         "type": "scatter",
         "x": [
          0
         ],
         "y": [
          0
         ]
        },
        {
         "hoverinfo": "skip",
         "mode": "text",
         "showlegend": false,
         "text": [
          "(0,0,0)"
         ],
         "textfont": {
          "color": "gray",
          "size": 8
         },
         "type": "scatter",
         "x": [
          0
         ],
         "y": [
          -0.3
         ]
        },
        {
         "fill": "toself",
         "fillcolor": "#1D1A1A",
         "hoverinfo": "text",
         "hovertext": "Ant (black)<br>Position: (1,-1,0)",
         "line": {
          "color": "#000000",
          "width": 2
         },
         "mode": "lines",
         "showlegend": false,
         "type": "scatter",
         "x": {
          "bdata": "mpmZmZmZA0CamZmZmZn/P2hmZmZmZvA/mpmZmZmZ4T9kZmZmZmbwP5eZmZmZmf8/mpmZmZmZA0A=",
          "dtype": "f8"
         },
         "y": {
          "bdata": "qkxY6Hq2678gCq2GlSumvxAKrYaVK6a/qUxY6Hq2679Y5CI8HgX7v1rkIjweBfu/rExY6Hq2678=",
          "dtype": "f8"
         }
        },
        {
         "hoverinfo": "skip",
         "mode": "text",
         "showlegend": false,
         "text": [
          "🐜"
         ],
         "textfont": {
          "color": "black",
          "size": 60
         },
         "type": "scatter",
         "x": [
          1.5
         ],
         "y": [
          -0.8660254037844386
         ]
        },
        {
         "hoverinfo": "skip",
         "mode": "text",
         "showlegend": false,
         "text": [
          "(1,-1,0)"
         ],
         "textfont": {
          "color": "gray",
          "size": 8
         },
         "type": "scatter",
         "x": [
          1.5
         ],
         "y": [
          -1.1660254037844386
         ]
        }
       ],
       "layout": {
        "height": 800,
        "plot_bgcolor": "white",
        "template": {
         "data": {
          "bar": [
           {
            "error_x": {
             "color": "#2a3f5f"
            },
            "error_y": {
             "color": "#2a3f5f"
            },
            "marker": {
             "line": {
              "color": "#E5ECF6",
              "width": 0.5
             },
             "pattern": {
              "fillmode": "overlay",
              "size": 10,
              "solidity": 0.2
             }
            },
            "type": "bar"
           }
          ],
          "barpolar": [
           {
            "marker": {
             "line": {
              "color": "#E5ECF6",
              "width": 0.5
             },
             "pattern": {
              "fillmode": "overlay",
              "size": 10,
              "solidity": 0.2
             }
            },
            "type": "barpolar"
           }
          ],
          "carpet": [
           {
            "aaxis": {
             "endlinecolor": "#2a3f5f",
             "gridcolor": "white",
             "linecolor": "white",
             "minorgridcolor": "white",
             "startlinecolor": "#2a3f5f"
            },
            "baxis": {
             "endlinecolor": "#2a3f5f",
             "gridcolor": "white",
             "linecolor": "white",
             "minorgridcolor": "white",
             "startlinecolor": "#2a3f5f"
            },
            "type": "carpet"
           }
          ],
          "choropleth": [
           {
            "colorbar": {
             "outlinewidth": 0,
             "ticks": ""
            },
            "type": "choropleth"
           }
          ],
          "contour": [
           {
            "colorbar": {
             "outlinewidth": 0,
             "ticks": ""
            },
            "colorscale": [
             [
              0,
              "#0d0887"
             ],
             [
              0.1111111111111111,
              "#46039f"
             ],
             [
              0.2222222222222222,
              "#7201a8"
             ],
             [
              0.3333333333333333,
              "#9c179e"
             ],
             [
              0.4444444444444444,
              "#bd3786"
             ],
             [
              0.5555555555555556,
              "#d8576b"
             ],
             [
              0.6666666666666666,
              "#ed7953"
             ],
             [
              0.7777777777777778,
              "#fb9f3a"
             ],
             [
              0.8888888888888888,
              "#fdca26"
             ],
             [
              1,
              "#f0f921"
             ]
            ],
            "type": "contour"
           }
          ],
          "contourcarpet": [
           {
            "colorbar": {
             "outlinewidth": 0,
             "ticks": ""
            },
            "type": "contourcarpet"
           }
          ],
          "heatmap": [
           {
            "colorbar": {
             "outlinewidth": 0,
             "ticks": ""
            },
            "colorscale": [
             [
              0,
              "#0d0887"
             ],
             [
              0.1111111111111111,
              "#46039f"
             ],
             [
              0.2222222222222222,
              "#7201a8"
             ],
             [
              0.3333333333333333,
              "#9c179e"
             ],
             [
              0.4444444444444444,
              "#bd3786"
             ],
             [
              0.5555555555555556,
              "#d8576b"
             ],
             [
              0.6666666666666666,
              "#ed7953"
             ],
             [
              0.7777777777777778,
              "#fb9f3a"
             ],
             [
              0.8888888888888888,
              "#fdca26"
             ],
             [
              1,
              "#f0f921"
             ]
            ],
            "type": "heatmap"
           }
          ],
          "histogram": [
           {
            "marker": {
             "pattern": {
              "fillmode": "overlay",
              "size": 10,
              "solidity": 0.2
             }
            },
            "type": "histogram"
           }
          ],
          "histogram2d": [
           {
            "colorbar": {
             "outlinewidth": 0,
             "ticks": ""
            },
            "colorscale": [
             [
              0,
              "#0d0887"
             ],
             [
              0.1111111111111111,
              "#46039f"
             ],
             [
              0.2222222222222222,
              "#7201a8"
             ],
             [
              0.3333333333333333,
              "#9c179e"
             ],
             [
              0.4444444444444444,
              "#bd3786"
             ],
             [
              0.5555555555555556,
              "#d8576b"
             ],
             [
              0.6666666666666666,
              "#ed7953"
             ],
             [
              0.7777777777777778,
              "#fb9f3a"
             ],
             [
              0.8888888888888888,
              "#fdca26"
             ],
             [
              1,
              "#f0f921"
             ]
            ],
            "type": "histogram2d"
           }
          ],
          "histogram2dcontour": [
           {
            "colorbar": {
             "outlinewidth": 0,
             "ticks": ""
            },
            "colorscale": [
             [
              0,
              "#0d0887"
             ],
             [
              0.1111111111111111,
              "#46039f"
             ],
             [
              0.2222222222222222,
              "#7201a8"
             ],
             [
              0.3333333333333333,
              "#9c179e"
             ],
             [
              0.4444444444444444,
              "#bd3786"
             ],
             [
              0.5555555555555556,
              "#d8576b"
             ],
             [
              0.6666666666666666,
              "#ed7953"
             ],
             [
              0.7777777777777778,
              "#fb9f3a"
             ],
             [
              0.8888888888888888,
              "#fdca26"
             ],
             [
              1,
              "#f0f921"
             ]
            ],
            "type": "histogram2dcontour"
           }
          ],
          "mesh3d": [
           {
            "colorbar": {
             "outlinewidth": 0,
             "ticks": ""
            },
            "type": "mesh3d"
           }
          ],
          "parcoords": [
           {
            "line": {
             "colorbar": {
              "outlinewidth": 0,
              "ticks": ""
             }
            },
            "type": "parcoords"
           }
          ],
          "pie": [
           {
            "automargin": true,
            "type": "pie"
           }
          ],
          "scatter": [
           {
            "fillpattern": {
             "fillmode": "overlay",
             "size": 10,
             "solidity": 0.2
            },
            "type": "scatter"
           }
          ],
          "scatter3d": [
           {
            "line": {
             "colorbar": {
              "outlinewidth": 0,
              "ticks": ""
             }
            },
            "marker": {
             "colorbar": {
              "outlinewidth": 0,
              "ticks": ""
             }
            },
            "type": "scatter3d"
           }
          ],
          "scattercarpet": [
           {
            "marker": {
             "colorbar": {
              "outlinewidth": 0,
              "ticks": ""
             }
            },
            "type": "scattercarpet"
           }
          ],
          "scattergeo": [
           {
            "marker": {
             "colorbar": {
              "outlinewidth": 0,
              "ticks": ""
             }
            },
            "type": "scattergeo"
           }
          ],
          "scattergl": [
           {
            "marker": {
             "colorbar": {
              "outlinewidth": 0,
              "ticks": ""
             }
            },
            "type": "scattergl"
           }
          ],
          "scattermap": [
           {
            "marker": {
             "colorbar": {
              "outlinewidth": 0,
              "ticks": ""
             }
            },
            "type": "scattermap"
           }
          ],
          "scattermapbox": [
           {
            "marker": {
             "colorbar": {
              "outlinewidth": 0,
              "ticks": ""
             }
            },
            "type": "scattermapbox"
           }
          ],
          "scatterpolar": [
           {
            "marker": {
             "colorbar": {
              "outlinewidth": 0,
              "ticks": ""
             }
            },
            "type": "scatterpolar"
           }
          ],
          "scatterpolargl": [
           {
            "marker": {
             "colorbar": {
              "outlinewidth": 0,
              "ticks": ""
             }
            },
            "type": "scatterpolargl"
           }
          ],
          "scatterternary": [
           {
            "marker": {
             "colorbar": {
              "outlinewidth": 0,
              "ticks": ""
             }
            },
            "type": "scatterternary"
           }
          ],
          "surface": [
           {
            "colorbar": {
             "outlinewidth": 0,
             "ticks": ""
            },
            "colorscale": [
             [
              0,
              "#0d0887"
             ],
             [
              0.1111111111111111,
              "#46039f"
             ],
             [
              0.2222222222222222,
              "#7201a8"
             ],
             [
              0.3333333333333333,
              "#9c179e"
             ],
             [
              0.4444444444444444,
              "#bd3786"
             ],
             [
              0.5555555555555556,
              "#d8576b"
             ],
             [
              0.6666666666666666,
              "#ed7953"
             ],
             [
              0.7777777777777778,
              "#fb9f3a"
             ],
             [
              0.8888888888888888,
              "#fdca26"
             ],
             [
              1,
              "#f0f921"
             ]
            ],
            "type": "surface"
           }
          ],
          "table": [
           {
            "cells": {
             "fill": {
              "color": "#EBF0F8"
             },
             "line": {
              "color": "white"
             }
            },
            "header": {
             "fill": {
              "color": "#C8D4E3"
             },
             "line": {
              "color": "white"
             }
            },
            "type": "table"
           }
          ]
         },
         "layout": {
          "annotationdefaults": {
           "arrowcolor": "#2a3f5f",
           "arrowhead": 0,
           "arrowwidth": 1
          },
          "autotypenumbers": "strict",
          "coloraxis": {
           "colorbar": {
            "outlinewidth": 0,
            "ticks": ""
           }
          },
          "colorscale": {
           "diverging": [
            [
             0,
             "#8e0152"
            ],
            [
             0.1,
             "#c51b7d"
            ],
            [
             0.2,
             "#de77ae"
            ],
            [
             0.3,
             "#f1b6da"
            ],
            [
             0.4,
             "#fde0ef"
            ],
            [
             0.5,
             "#f7f7f7"
            ],
            [
             0.6,
             "#e6f5d0"
            ],
            [
             0.7,
             "#b8e186"
            ],
            [
             0.8,
             "#7fbc41"
            ],
            [
             0.9,
             "#4d9221"
            ],
            [
             1,
             "#276419"
            ]
           ],
           "sequential": [
            [
             0,
             "#0d0887"
            ],
            [
             0.1111111111111111,
             "#46039f"
            ],
            [
             0.2222222222222222,
             "#7201a8"
            ],
            [
             0.3333333333333333,
             "#9c179e"
            ],
            [
             0.4444444444444444,
             "#bd3786"
            ],
            [
             0.5555555555555556,
             "#d8576b"
            ],
            [
             0.6666666666666666,
             "#ed7953"
            ],
            [
             0.7777777777777778,
             "#fb9f3a"
            ],
            [
             0.8888888888888888,
             "#fdca26"
            ],
            [
             1,
             "#f0f921"
            ]
           ],
           "sequentialminus": [
            [
             0,
             "#0d0887"
            ],
            [
             0.1111111111111111,
             "#46039f"
            ],
            [
             0.2222222222222222,
             "#7201a8"
            ],
            [
             0.3333333333333333,
             "#9c179e"
            ],
            [
             0.4444444444444444,
             "#bd3786"
            ],
            [
             0.5555555555555556,
             "#d8576b"
            ],
            [
             0.6666666666666666,
             "#ed7953"
            ],
            [
             0.7777777777777778,
             "#fb9f3a"
            ],
            [
             0.8888888888888888,
             "#fdca26"
            ],
            [
             1,
             "#f0f921"
            ]
           ]
          },
          "colorway": [
           "#636efa",
           "#EF553B",
           "#00cc96",
           "#ab63fa",
           "#FFA15A",
           "#19d3f3",
           "#FF6692",
           "#B6E880",
           "#FF97FF",
           "#FECB52"
          ],
          "font": {
           "color": "#2a3f5f"
          },
          "geo": {
           "bgcolor": "white",
           "lakecolor": "white",
           "landcolor": "#E5ECF6",
           "showlakes": true,
           "showland": true,
           "subunitcolor": "white"
          },
          "hoverlabel": {
           "align": "left"
          },
          "hovermode": "closest",
          "mapbox": {
           "style": "light"
          },
          "paper_bgcolor": "white",
          "plot_bgcolor": "#E5ECF6",
          "polar": {
           "angularaxis": {
            "gridcolor": "white",
            "linecolor": "white",
            "ticks": ""
           },
           "bgcolor": "#E5ECF6",
           "radialaxis": {
            "gridcolor": "white",
            "linecolor": "white",
            "ticks": ""
           }
          },
          "scene": {
           "xaxis": {
            "backgroundcolor": "#E5ECF6",
            "gridcolor": "white",
            "gridwidth": 2,
            "linecolor": "white",
            "showbackground": true,
            "ticks": "",
            "zerolinecolor": "white"
           },
           "yaxis": {
            "backgroundcolor": "#E5ECF6",
            "gridcolor": "white",
            "gridwidth": 2,
            "linecolor": "white",
            "showbackground": true,
            "ticks": "",
            "zerolinecolor": "white"
           },
           "zaxis": {
            "backgroundcolor": "#E5ECF6",
            "gridcolor": "white",
            "gridwidth": 2,
            "linecolor": "white",
            "showbackground": true,
            "ticks": "",
            "zerolinecolor": "white"
           }
          },
          "shapedefaults": {
           "line": {
            "color": "#2a3f5f"
           }
          },
          "ternary": {
           "aaxis": {
            "gridcolor": "white",
            "linecolor": "white",
            "ticks": ""
           },
           "baxis": {
            "gridcolor": "white",
            "linecolor": "white",
            "ticks": ""
           },
           "bgcolor": "#E5ECF6",
           "caxis": {
            "gridcolor": "white",
            "linecolor": "white",
            "ticks": ""
           }
          },
          "title": {
           "x": 0.05
          },
          "xaxis": {
           "automargin": true,
           "gridcolor": "white",
           "linecolor": "white",
           "ticks": "",
           "title": {
            "standoff": 15
           },
           "zerolinecolor": "white",
           "zerolinewidth": 2
          },
          "yaxis": {
           "automargin": true,
           "gridcolor": "white",
           "linecolor": "white",
           "ticks": "",
           "title": {
            "standoff": 15
           },
           "zerolinecolor": "white",
           "zerolinewidth": 2
          }
         }
        },
        "title": {
         "text": "Current State of the Game Board"
        },
        "width": 800,
        "xaxis": {
         "gridcolor": "lightgray",
         "scaleanchor": "y",
         "scaleratio": 1,
         "showgrid": true,
         "zeroline": true
        },
        "yaxis": {
         "gridcolor": "lightgray",
         "showgrid": true,
         "zeroline": true
        }
       }
      }
     },
     "metadata": {},
     "output_type": "display_data"
    }
   ],
   "source": [
    "def hex_to_pixel(coord: HexCoordinate, size: float = 1.0):\n",
    "    \"\"\"Convert hex coordinate to pixel position for plotting.\"\"\"\n",
    "    x = size * (3/2 * coord.q)\n",
    "    y = size * (np.sqrt(3)/2 * coord.q + np.sqrt(3) * coord.r)\n",
    "    return x, y\n",
    "\n",
    "\n",
    "def get_hexagon_vertices(x: float, y: float, size: float = 1.0):\n",
    "    \"\"\"Get vertices of a hexagon centered at (x, y).\"\"\"\n",
    "    angles = np.linspace(0, 2*np.pi, 7)  # 7 points to close the hexagon\n",
    "    vertices_x = x + size * np.cos(angles)\n",
    "    vertices_y = y + size * np.sin(angles)\n",
    "    return vertices_x, vertices_y\n",
    "\n",
    "def visualize_game_board(board_state: BoardState, show_empty_hexes: Optional[List[HexCoordinate]] = None, show_coordinates: bool = True):\n",
    "    \"\"\"\n",
    "    Visualize game pieces on hex coordinates\n",
    "    \"\"\"\n",
    "    fig = go.Figure()\n",
    "    \n",
    "    hex_size = 0.95\n",
    "    \n",
    "    # CUSTOMIZATION: Team colors mapping\n",
    "    team_colors = {\n",
    "        \"black\": \"#1D1A1A\",  # black team\n",
    "        \"white\": \"#FFFFFF\",  # white team\n",
    "    }\n",
    "    \n",
    "    team_border_colors = {\n",
    "        \"black\": \"#000000\",  # black border\n",
    "        \"white\": \"#808080\",  # white border for visibility\n",
    "    }\n",
    "    \n",
    "    # Draw empty hexes if provided\n",
    "    if show_empty_hexes:\n",
    "        for coord in show_empty_hexes:\n",
    "            center_x, center_y = hex_to_pixel(coord, size=1.0)\n",
    "            hex_x, hex_y = get_hexagon_vertices(center_x, center_y, hex_size)\n",
    "            \n",
    "            fig.add_trace(go.Scatter(\n",
    "                x=hex_x,\n",
    "                y=hex_y,\n",
    "                fill='toself',\n",
    "                fillcolor='#F5F5F5',\n",
    "                line=dict(color='lightgray', width=1),\n",
    "                mode='lines',\n",
    "                showlegend=False,\n",
    "                hoverinfo='text',\n",
    "                hovertext=f'Empty: q={coord.q}, r={coord.r}, s={coord.s}',\n",
    "            ))\n",
    "    \n",
    "    # Draw hexes with game pieces (only pieces that are on the board)\n",
    "    for piece in board_state.pieces.values():\n",
    "        # Skip pieces without coordinates (offboard pieces)\n",
    "        if piece.hex_coordinates is None:\n",
    "            continue\n",
    "            \n",
    "        # Skip pieces that are explicitly offboard\n",
    "        if piece.location == 'offboard':\n",
    "            continue\n",
    "        \n",
    "        coord = piece.hex_coordinates\n",
    "        center_x, center_y = hex_to_pixel(coord, size=1.0)\n",
    "        hex_x, hex_y = get_hexagon_vertices(center_x, center_y, hex_size)\n",
    "        \n",
    "        # Get team colors\n",
    "        fill_color = team_colors.get(piece.team, 'lightgray')\n",
    "        line_color = team_border_colors.get(piece.team, 'gray')\n",
    "        \n",
    "        # Draw hexagon\n",
    "        fig.add_trace(go.Scatter(\n",
    "            x=hex_x,\n",
    "            y=hex_y,\n",
    "            fill='toself',\n",
    "            fillcolor=fill_color,\n",
    "            line=dict(color=line_color, width=2),\n",
    "            mode='lines',\n",
    "            showlegend=False,\n",
    "            hoverinfo='text',\n",
    "            hovertext=f'{piece.__class__.__name__} ({piece.team})<br>Position: ({coord.q},{coord.r},{coord.s})',\n",
    "        ))\n",
    "        \n",
    "        # Add piece icon\n",
    "        fig.add_trace(go.Scatter(\n",
    "            x=[center_x],\n",
    "            y=[center_y],\n",
    "            mode='text',\n",
    "            text=[piece.icon],\n",
    "            textfont=dict(size=60, color='black'),  # CUSTOMIZATION: Icon size\n",
    "            showlegend=False,\n",
    "            hoverinfo='skip'\n",
    "        ))\n",
    "        \n",
    "        # Add coordinate labels (optional)\n",
    "        if show_coordinates:\n",
    "            fig.add_trace(go.Scatter(\n",
    "                x=[center_x],\n",
    "                y=[center_y - 0.3],\n",
    "                mode='text',\n",
    "                text=[f'({coord.q},{coord.r},{coord.s})'],\n",
    "                textfont=dict(size=8, color='gray'),\n",
    "                showlegend=False,\n",
    "                hoverinfo='skip'\n",
    "            ))\n",
    "\n",
    "    fig.update_layout(\n",
    "        title='Current State of the Game Board',\n",
    "        xaxis=dict(\n",
    "            scaleanchor='y',\n",
    "            scaleratio=1,\n",
    "            showgrid=True,\n",
    "            zeroline=True,\n",
    "            gridcolor='lightgray'\n",
    "        ),\n",
    "        yaxis=dict(\n",
    "            showgrid=True,\n",
    "            zeroline=True,\n",
    "            gridcolor='lightgray'\n",
    "        ),\n",
    "        plot_bgcolor='white',\n",
    "        width=800,\n",
    "        height=800,\n",
    "    )\n",
    "    \n",
    "    fig.show()\n",
    "\n",
    "# Usage\n",
    "visualize_game_board(game.game_state.board_state, show_empty_hexes=game.game_state.get_available_spaces())\n"
   ]
  },
  {
   "cell_type": "code",
   "execution_count": null,
   "id": "bc7813a5",
   "metadata": {},
   "outputs": [],
   "source": []
  }
 ],
 "metadata": {
  "kernelspec": {
   "display_name": "HiveSim",
   "language": "python",
   "name": "python3"
  },
  "language_info": {
   "codemirror_mode": {
    "name": "ipython",
    "version": 3
   },
   "file_extension": ".py",
   "mimetype": "text/x-python",
   "name": "python",
   "nbconvert_exporter": "python",
   "pygments_lexer": "ipython3",
   "version": "3.11.9"
  }
 },
 "nbformat": 4,
 "nbformat_minor": 5
}
