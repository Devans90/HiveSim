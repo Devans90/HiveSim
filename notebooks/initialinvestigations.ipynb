{
 "cells": [
  {
   "cell_type": "code",
   "execution_count": 63,
   "id": "14dd03d2",
   "metadata": {},
   "outputs": [],
   "source": [
    "import unittest\n",
    "from pydantic import BaseModel, Field, field_validator\n",
    "import plotly.graph_objects as go\n",
    "import numpy as np\n",
    "from typing import List, Optional"
   ]
  },
  {
   "cell_type": "markdown",
   "id": "8c1c61c2",
   "metadata": {},
   "source": [
    "uses a hexagonal coordinate system\n",
    "\n",
    "ie, going clockwise around origin, pointy side up\n",
    "\n",
    "| q | r | s |\n",
    " |----|--|--|\n",
    "1 |-1 |0\n",
    "1 |0 |-1\n",
    "0 |1 |-1\n",
    "-1| 1 |0\n",
    "-1 |0 |1\n",
    "0 |-1| 1\n",
    "\n",
    "q is in the up right orientation  \n",
    "r is rows in the down orientation  \n",
    "s is in the up left direction  "
   ]
  },
  {
   "cell_type": "markdown",
   "id": "d9045c9f",
   "metadata": {},
   "source": [
    "two coordinates that are adjacant"
   ]
  },
  {
   "cell_type": "code",
   "execution_count": 64,
   "id": "43cd65fe",
   "metadata": {},
   "outputs": [],
   "source": [
    "class HexCoordinate(BaseModel):\n",
    "    q: int\n",
    "    r: int\n",
    "    s: int\n",
    "\n",
    "    @field_validator('s', mode='before')\n",
    "    @classmethod\n",
    "    def validate_cube_coordinates(cls, v, values):\n",
    "        if values.data['q'] + values.data['r'] + v != 0:\n",
    "            raise ValueError('Invalid cube coordinates')\n",
    "        return v\n",
    "\n",
    "class GamePiece(BaseModel):\n",
    "    hex_coordinates: list[HexCoordinate]\n",
    "    icon: str = \"�\"\n",
    "    team: str\n",
    "\n",
    "    @field_validator('team')\n",
    "    @classmethod\n",
    "    def validate_team(cls, v):\n",
    "        if v not in ['black', 'white']:\n",
    "            raise ValueError('Team must be either \"black\" or \"white\"')\n",
    "        return v\n",
    "\n",
    "spider1 = GamePiece(hex_coordinates=[HexCoordinate(q=1, r=-1, s=0)], icon=\"🕷️\", team='black')\n",
    "grasshopper1 = GamePiece(hex_coordinates=[HexCoordinate(q=2, r=-2, s=0)], icon=\"🦗\", team='white')"
   ]
  },
  {
   "cell_type": "markdown",
   "id": "5b9fe945",
   "metadata": {},
   "source": [
    "adjacant"
   ]
  },
  {
   "cell_type": "code",
   "execution_count": 65,
   "id": "b06720da",
   "metadata": {},
   "outputs": [
    {
     "name": "stdout",
     "output_type": "stream",
     "text": [
      "The coordinates are adjacent\n"
     ]
    },
    {
     "data": {
      "text/plain": [
       "True"
      ]
     },
     "execution_count": 65,
     "metadata": {},
     "output_type": "execute_result"
    }
   ],
   "source": [
    "def are_adjacent(coord1: GamePiece, coord2: GamePiece, verbose: bool) -> bool:\n",
    "    dq = abs(coord1.q - coord2.q)\n",
    "    dr = abs(coord1.r - coord2.r)\n",
    "    ds = abs(coord1.s - coord2.s)\n",
    "    distance = (dq + dr + ds) == 2\n",
    "    if verbose:\n",
    "        if distance:\n",
    "            print(\"The coordinates are adjacent\")\n",
    "        else:\n",
    "            print(f\"The coordinates are not adjacent, distance is {dq + dr + ds}\")\n",
    "\n",
    "    return distance\n",
    "\n",
    "are_adjacent(spider1.hex_coordinates[0], grasshopper1.hex_coordinates[0], True)"
   ]
  },
  {
   "cell_type": "code",
   "execution_count": 66,
   "id": "fa8c34b9",
   "metadata": {},
   "outputs": [],
   "source": [
    "def hex_to_pixel(coord: HexCoordinate, size: float = 1.0):\n",
    "    \"\"\"Convert hex coordinate to pixel position for plotting.\"\"\"\n",
    "    x = size * (3/2 * coord.q)\n",
    "    y = size * (np.sqrt(3)/2 * coord.q + np.sqrt(3) * coord.r)\n",
    "    return x, y\n",
    "\n",
    "def get_hexagon_vertices(x: float, y: float, size: float = 1.0):\n",
    "    \"\"\"Get vertices of a hexagon centered at (x, y).\"\"\"\n",
    "    angles = np.linspace(0, 2*np.pi, 7)  # 7 points to close the hexagon\n",
    "    vertices_x = x + size * np.cos(angles)\n",
    "    vertices_y = y + size * np.sin(angles)\n",
    "    return vertices_x, vertices_y\n",
    "\n"
   ]
  },
  {
   "cell_type": "code",
   "execution_count": null,
   "id": "1d5f9e60",
   "metadata": {},
   "outputs": [
    {
     "data": {
      "application/vnd.plotly.v1+json": {
       "config": {
        "plotlyServerURL": "https://plot.ly"
       },
       "data": [
        {
         "fill": "toself",
         "fillcolor": "#1D1A1A",
         "hoverinfo": "text",
         "hovertext": "(black)<br>Position: (1,-1,0)",
         "line": {
          "color": "#000000",
          "width": 2
         },
         "mode": "lines",
         "showlegend": false,
         "type": "scatter",
         "x": {
          "bdata": "mpmZmZmZA0CamZmZmZn/P2hmZmZmZvA/mpmZmZmZ4T9kZmZmZmbwP5eZmZmZmf8/mpmZmZmZA0A=",
          "dtype": "f8"
         },
         "y": {
          "bdata": "qkxY6Hq2678gCq2GlSumvxAKrYaVK6a/qUxY6Hq2679Y5CI8HgX7v1rkIjweBfu/rExY6Hq2678=",
          "dtype": "f8"
         }
        },
        {
         "hoverinfo": "skip",
         "mode": "text",
         "showlegend": false,
         "text": [
          "🕷️"
         ],
         "textfont": {
          "color": "black",
          "size": 60
         },
         "type": "scatter",
         "x": [
          1.5
         ],
         "y": [
          -0.8660254037844386
         ]
        },
        {
         "fill": "toself",
         "fillcolor": "#FFFFFF",
         "hoverinfo": "text",
         "hovertext": "(white)<br>Position: (2,-2,0)",
         "line": {
          "color": "#808080",
          "width": 2
         },
         "mode": "lines",
         "showlegend": false,
         "type": "scatter",
         "x": {
          "bdata": "mpmZmZmZD0DNzMzMzMwLQDQzMzMzMwRAZmZmZmZmAEAyMzMzMzMEQMvMzMzMzAtAmpmZmZmZD0A=",
          "dtype": "f8"
         },
         "y": {
          "bdata": "qkxY6Hq2+79MHcNANBntv0sdw0A0Ge2/qUxY6Hq2+79XhSfYLXAEwFiFJ9gtcATAq0xY6Hq2+78=",
          "dtype": "f8"
         }
        },
        {
         "hoverinfo": "skip",
         "mode": "text",
         "showlegend": false,
         "text": [
          "🦗"
         ],
         "textfont": {
          "color": "black",
          "size": 60
         },
         "type": "scatter",
         "x": [
          3
         ],
         "y": [
          -1.7320508075688772
         ]
        }
       ],
       "layout": {
        "height": 800,
        "plot_bgcolor": "white",
        "template": {
         "data": {
          "bar": [
           {
            "error_x": {
             "color": "#2a3f5f"
            },
            "error_y": {
             "color": "#2a3f5f"
            },
            "marker": {
             "line": {
              "color": "#E5ECF6",
              "width": 0.5
             },
             "pattern": {
              "fillmode": "overlay",
              "size": 10,
              "solidity": 0.2
             }
            },
            "type": "bar"
           }
          ],
          "barpolar": [
           {
            "marker": {
             "line": {
              "color": "#E5ECF6",
              "width": 0.5
             },
             "pattern": {
              "fillmode": "overlay",
              "size": 10,
              "solidity": 0.2
             }
            },
            "type": "barpolar"
           }
          ],
          "carpet": [
           {
            "aaxis": {
             "endlinecolor": "#2a3f5f",
             "gridcolor": "white",
             "linecolor": "white",
             "minorgridcolor": "white",
             "startlinecolor": "#2a3f5f"
            },
            "baxis": {
             "endlinecolor": "#2a3f5f",
             "gridcolor": "white",
             "linecolor": "white",
             "minorgridcolor": "white",
             "startlinecolor": "#2a3f5f"
            },
            "type": "carpet"
           }
          ],
          "choropleth": [
           {
            "colorbar": {
             "outlinewidth": 0,
             "ticks": ""
            },
            "type": "choropleth"
           }
          ],
          "contour": [
           {
            "colorbar": {
             "outlinewidth": 0,
             "ticks": ""
            },
            "colorscale": [
             [
              0,
              "#0d0887"
             ],
             [
              0.1111111111111111,
              "#46039f"
             ],
             [
              0.2222222222222222,
              "#7201a8"
             ],
             [
              0.3333333333333333,
              "#9c179e"
             ],
             [
              0.4444444444444444,
              "#bd3786"
             ],
             [
              0.5555555555555556,
              "#d8576b"
             ],
             [
              0.6666666666666666,
              "#ed7953"
             ],
             [
              0.7777777777777778,
              "#fb9f3a"
             ],
             [
              0.8888888888888888,
              "#fdca26"
             ],
             [
              1,
              "#f0f921"
             ]
            ],
            "type": "contour"
           }
          ],
          "contourcarpet": [
           {
            "colorbar": {
             "outlinewidth": 0,
             "ticks": ""
            },
            "type": "contourcarpet"
           }
          ],
          "heatmap": [
           {
            "colorbar": {
             "outlinewidth": 0,
             "ticks": ""
            },
            "colorscale": [
             [
              0,
              "#0d0887"
             ],
             [
              0.1111111111111111,
              "#46039f"
             ],
             [
              0.2222222222222222,
              "#7201a8"
             ],
             [
              0.3333333333333333,
              "#9c179e"
             ],
             [
              0.4444444444444444,
              "#bd3786"
             ],
             [
              0.5555555555555556,
              "#d8576b"
             ],
             [
              0.6666666666666666,
              "#ed7953"
             ],
             [
              0.7777777777777778,
              "#fb9f3a"
             ],
             [
              0.8888888888888888,
              "#fdca26"
             ],
             [
              1,
              "#f0f921"
             ]
            ],
            "type": "heatmap"
           }
          ],
          "histogram": [
           {
            "marker": {
             "pattern": {
              "fillmode": "overlay",
              "size": 10,
              "solidity": 0.2
             }
            },
            "type": "histogram"
           }
          ],
          "histogram2d": [
           {
            "colorbar": {
             "outlinewidth": 0,
             "ticks": ""
            },
            "colorscale": [
             [
              0,
              "#0d0887"
             ],
             [
              0.1111111111111111,
              "#46039f"
             ],
             [
              0.2222222222222222,
              "#7201a8"
             ],
             [
              0.3333333333333333,
              "#9c179e"
             ],
             [
              0.4444444444444444,
              "#bd3786"
             ],
             [
              0.5555555555555556,
              "#d8576b"
             ],
             [
              0.6666666666666666,
              "#ed7953"
             ],
             [
              0.7777777777777778,
              "#fb9f3a"
             ],
             [
              0.8888888888888888,
              "#fdca26"
             ],
             [
              1,
              "#f0f921"
             ]
            ],
            "type": "histogram2d"
           }
          ],
          "histogram2dcontour": [
           {
            "colorbar": {
             "outlinewidth": 0,
             "ticks": ""
            },
            "colorscale": [
             [
              0,
              "#0d0887"
             ],
             [
              0.1111111111111111,
              "#46039f"
             ],
             [
              0.2222222222222222,
              "#7201a8"
             ],
             [
              0.3333333333333333,
              "#9c179e"
             ],
             [
              0.4444444444444444,
              "#bd3786"
             ],
             [
              0.5555555555555556,
              "#d8576b"
             ],
             [
              0.6666666666666666,
              "#ed7953"
             ],
             [
              0.7777777777777778,
              "#fb9f3a"
             ],
             [
              0.8888888888888888,
              "#fdca26"
             ],
             [
              1,
              "#f0f921"
             ]
            ],
            "type": "histogram2dcontour"
           }
          ],
          "mesh3d": [
           {
            "colorbar": {
             "outlinewidth": 0,
             "ticks": ""
            },
            "type": "mesh3d"
           }
          ],
          "parcoords": [
           {
            "line": {
             "colorbar": {
              "outlinewidth": 0,
              "ticks": ""
             }
            },
            "type": "parcoords"
           }
          ],
          "pie": [
           {
            "automargin": true,
            "type": "pie"
           }
          ],
          "scatter": [
           {
            "fillpattern": {
             "fillmode": "overlay",
             "size": 10,
             "solidity": 0.2
            },
            "type": "scatter"
           }
          ],
          "scatter3d": [
           {
            "line": {
             "colorbar": {
              "outlinewidth": 0,
              "ticks": ""
             }
            },
            "marker": {
             "colorbar": {
              "outlinewidth": 0,
              "ticks": ""
             }
            },
            "type": "scatter3d"
           }
          ],
          "scattercarpet": [
           {
            "marker": {
             "colorbar": {
              "outlinewidth": 0,
              "ticks": ""
             }
            },
            "type": "scattercarpet"
           }
          ],
          "scattergeo": [
           {
            "marker": {
             "colorbar": {
              "outlinewidth": 0,
              "ticks": ""
             }
            },
            "type": "scattergeo"
           }
          ],
          "scattergl": [
           {
            "marker": {
             "colorbar": {
              "outlinewidth": 0,
              "ticks": ""
             }
            },
            "type": "scattergl"
           }
          ],
          "scattermap": [
           {
            "marker": {
             "colorbar": {
              "outlinewidth": 0,
              "ticks": ""
             }
            },
            "type": "scattermap"
           }
          ],
          "scattermapbox": [
           {
            "marker": {
             "colorbar": {
              "outlinewidth": 0,
              "ticks": ""
             }
            },
            "type": "scattermapbox"
           }
          ],
          "scatterpolar": [
           {
            "marker": {
             "colorbar": {
              "outlinewidth": 0,
              "ticks": ""
             }
            },
            "type": "scatterpolar"
           }
          ],
          "scatterpolargl": [
           {
            "marker": {
             "colorbar": {
              "outlinewidth": 0,
              "ticks": ""
             }
            },
            "type": "scatterpolargl"
           }
          ],
          "scatterternary": [
           {
            "marker": {
             "colorbar": {
              "outlinewidth": 0,
              "ticks": ""
             }
            },
            "type": "scatterternary"
           }
          ],
          "surface": [
           {
            "colorbar": {
             "outlinewidth": 0,
             "ticks": ""
            },
            "colorscale": [
             [
              0,
              "#0d0887"
             ],
             [
              0.1111111111111111,
              "#46039f"
             ],
             [
              0.2222222222222222,
              "#7201a8"
             ],
             [
              0.3333333333333333,
              "#9c179e"
             ],
             [
              0.4444444444444444,
              "#bd3786"
             ],
             [
              0.5555555555555556,
              "#d8576b"
             ],
             [
              0.6666666666666666,
              "#ed7953"
             ],
             [
              0.7777777777777778,
              "#fb9f3a"
             ],
             [
              0.8888888888888888,
              "#fdca26"
             ],
             [
              1,
              "#f0f921"
             ]
            ],
            "type": "surface"
           }
          ],
          "table": [
           {
            "cells": {
             "fill": {
              "color": "#EBF0F8"
             },
             "line": {
              "color": "white"
             }
            },
            "header": {
             "fill": {
              "color": "#C8D4E3"
             },
             "line": {
              "color": "white"
             }
            },
            "type": "table"
           }
          ]
         },
         "layout": {
          "annotationdefaults": {
           "arrowcolor": "#2a3f5f",
           "arrowhead": 0,
           "arrowwidth": 1
          },
          "autotypenumbers": "strict",
          "coloraxis": {
           "colorbar": {
            "outlinewidth": 0,
            "ticks": ""
           }
          },
          "colorscale": {
           "diverging": [
            [
             0,
             "#8e0152"
            ],
            [
             0.1,
             "#c51b7d"
            ],
            [
             0.2,
             "#de77ae"
            ],
            [
             0.3,
             "#f1b6da"
            ],
            [
             0.4,
             "#fde0ef"
            ],
            [
             0.5,
             "#f7f7f7"
            ],
            [
             0.6,
             "#e6f5d0"
            ],
            [
             0.7,
             "#b8e186"
            ],
            [
             0.8,
             "#7fbc41"
            ],
            [
             0.9,
             "#4d9221"
            ],
            [
             1,
             "#276419"
            ]
           ],
           "sequential": [
            [
             0,
             "#0d0887"
            ],
            [
             0.1111111111111111,
             "#46039f"
            ],
            [
             0.2222222222222222,
             "#7201a8"
            ],
            [
             0.3333333333333333,
             "#9c179e"
            ],
            [
             0.4444444444444444,
             "#bd3786"
            ],
            [
             0.5555555555555556,
             "#d8576b"
            ],
            [
             0.6666666666666666,
             "#ed7953"
            ],
            [
             0.7777777777777778,
             "#fb9f3a"
            ],
            [
             0.8888888888888888,
             "#fdca26"
            ],
            [
             1,
             "#f0f921"
            ]
           ],
           "sequentialminus": [
            [
             0,
             "#0d0887"
            ],
            [
             0.1111111111111111,
             "#46039f"
            ],
            [
             0.2222222222222222,
             "#7201a8"
            ],
            [
             0.3333333333333333,
             "#9c179e"
            ],
            [
             0.4444444444444444,
             "#bd3786"
            ],
            [
             0.5555555555555556,
             "#d8576b"
            ],
            [
             0.6666666666666666,
             "#ed7953"
            ],
            [
             0.7777777777777778,
             "#fb9f3a"
            ],
            [
             0.8888888888888888,
             "#fdca26"
            ],
            [
             1,
             "#f0f921"
            ]
           ]
          },
          "colorway": [
           "#636efa",
           "#EF553B",
           "#00cc96",
           "#ab63fa",
           "#FFA15A",
           "#19d3f3",
           "#FF6692",
           "#B6E880",
           "#FF97FF",
           "#FECB52"
          ],
          "font": {
           "color": "#2a3f5f"
          },
          "geo": {
           "bgcolor": "white",
           "lakecolor": "white",
           "landcolor": "#E5ECF6",
           "showlakes": true,
           "showland": true,
           "subunitcolor": "white"
          },
          "hoverlabel": {
           "align": "left"
          },
          "hovermode": "closest",
          "mapbox": {
           "style": "light"
          },
          "paper_bgcolor": "white",
          "plot_bgcolor": "#E5ECF6",
          "polar": {
           "angularaxis": {
            "gridcolor": "white",
            "linecolor": "white",
            "ticks": ""
           },
           "bgcolor": "#E5ECF6",
           "radialaxis": {
            "gridcolor": "white",
            "linecolor": "white",
            "ticks": ""
           }
          },
          "scene": {
           "xaxis": {
            "backgroundcolor": "#E5ECF6",
            "gridcolor": "white",
            "gridwidth": 2,
            "linecolor": "white",
            "showbackground": true,
            "ticks": "",
            "zerolinecolor": "white"
           },
           "yaxis": {
            "backgroundcolor": "#E5ECF6",
            "gridcolor": "white",
            "gridwidth": 2,
            "linecolor": "white",
            "showbackground": true,
            "ticks": "",
            "zerolinecolor": "white"
           },
           "zaxis": {
            "backgroundcolor": "#E5ECF6",
            "gridcolor": "white",
            "gridwidth": 2,
            "linecolor": "white",
            "showbackground": true,
            "ticks": "",
            "zerolinecolor": "white"
           }
          },
          "shapedefaults": {
           "line": {
            "color": "#2a3f5f"
           }
          },
          "ternary": {
           "aaxis": {
            "gridcolor": "white",
            "linecolor": "white",
            "ticks": ""
           },
           "baxis": {
            "gridcolor": "white",
            "linecolor": "white",
            "ticks": ""
           },
           "bgcolor": "#E5ECF6",
           "caxis": {
            "gridcolor": "white",
            "linecolor": "white",
            "ticks": ""
           }
          },
          "title": {
           "x": 0.05
          },
          "xaxis": {
           "automargin": true,
           "gridcolor": "white",
           "linecolor": "white",
           "ticks": "",
           "title": {
            "standoff": 15
           },
           "zerolinecolor": "white",
           "zerolinewidth": 2
          },
          "yaxis": {
           "automargin": true,
           "gridcolor": "white",
           "linecolor": "white",
           "ticks": "",
           "title": {
            "standoff": 15
           },
           "zerolinecolor": "white",
           "zerolinewidth": 2
          }
         }
        },
        "title": {
         "text": "Hex Game Board"
        },
        "width": 800,
        "xaxis": {
         "gridcolor": "lightgray",
         "scaleanchor": "y",
         "scaleratio": 1,
         "showgrid": true,
         "zeroline": true
        },
        "yaxis": {
         "gridcolor": "lightgray",
         "showgrid": true,
         "zeroline": true
        }
       }
      }
     },
     "metadata": {},
     "output_type": "display_data"
    }
   ],
   "source": [
    "def visualize_game_board(pieces: list[GamePiece], show_empty_hexes: Optional[list[HexCoordinate]] = None):\n",
    "    \"\"\"\n",
    "    Visualize game pieces on hex coordinates\n",
    "    \"\"\"\n",
    "    fig = go.Figure()\n",
    "    \n",
    "    # CUSTOMIZATION: Adjust hexagon size here\n",
    "    hex_size = 0.95\n",
    "    \n",
    "    # CUSTOMIZATION: Team colors mapping\n",
    "    team_colors = {\n",
    "        \"black\": \"#1D1A1A\",  # Light gray for black team\n",
    "        \"white\": \"#FFFFFF\",  # White for white team\n",
    "        # Add more team colors as needed\n",
    "    }\n",
    "    \n",
    "    team_border_colors = {\n",
    "        \"black\": \"#000000\",  # Black border\n",
    "        \"white\": \"#808080\",  # Gray border for visibility\n",
    "    }\n",
    "    \n",
    "    # Draw empty hexes if provided\n",
    "    if show_empty_hexes:\n",
    "        for coord in show_empty_hexes:\n",
    "            center_x, center_y = hex_to_pixel(coord, size=1.0)\n",
    "            hex_x, hex_y = get_hexagon_vertices(center_x, center_y, hex_size)\n",
    "            \n",
    "            fig.add_trace(go.Scatter(\n",
    "                x=hex_x,\n",
    "                y=hex_y,\n",
    "                fill='toself',\n",
    "                fillcolor='#F5F5F5',\n",
    "                line=dict(color='lightgray', width=1),\n",
    "                mode='lines',\n",
    "                showlegend=False,\n",
    "                hoverinfo='text',\n",
    "                hovertext=f'Empty: q={coord.q}, r={coord.r}, s={coord.s}',\n",
    "            ))\n",
    "    \n",
    "    # Draw hexes with game pieces\n",
    "    for piece in pieces:\n",
    "        # Each piece can occupy multiple hexes\n",
    "        for coord in piece.hex_coordinates:\n",
    "            center_x, center_y = hex_to_pixel(coord, size=1.0)\n",
    "            hex_x, hex_y = get_hexagon_vertices(center_x, center_y, hex_size)\n",
    "            \n",
    "            # Get team colors\n",
    "            fill_color = team_colors.get(piece.team, 'lightgray')\n",
    "            line_color = team_border_colors.get(piece.team, 'gray')\n",
    "            \n",
    "            # Draw the hexagon\n",
    "            fig.add_trace(go.Scatter(\n",
    "                x=hex_x,\n",
    "                y=hex_y,\n",
    "                fill='toself',\n",
    "                fillcolor=fill_color,\n",
    "                line=dict(color=line_color, width=2),\n",
    "                mode='lines',\n",
    "                showlegend=False,\n",
    "                hoverinfo='text',\n",
    "                hovertext=f'({piece.team})<br>Position: ({coord.q},{coord.r},{coord.s})',\n",
    "            ))\n",
    "            \n",
    "            # Add piece icon in the center\n",
    "            fig.add_trace(go.Scatter(\n",
    "                x=[center_x],\n",
    "                y=[center_y],\n",
    "                mode='text',\n",
    "                text=[piece.icon],\n",
    "                textfont=dict(size=60, color='black'),  # CUSTOMIZATION: Icon size\n",
    "                showlegend=False,\n",
    "                hoverinfo='skip'\n",
    "            ))\n",
    "            \n",
    "            # CUSTOMIZATION: Optionally show coordinate labels\n",
    "            # Uncomment the lines below to show coordinates beneath icons\n",
    "            # fig.add_trace(go.Scatter(\n",
    "            #     x=[center_x],\n",
    "            #     y=[center_y - 0.3],\n",
    "            #     mode='text',\n",
    "            #     text=[f'({coord.q},{coord.r},{coord.s})'],\n",
    "            #     textfont=dict(size=8, color='gray'),\n",
    "            #     showlegend=False,\n",
    "            #     hoverinfo='skip'\n",
    "            # ))\n",
    "    \n",
    "    # CUSTOMIZATION: Adjust plot appearance here\n",
    "    fig.update_layout(\n",
    "        title='Current State of the Game Board',\n",
    "        xaxis=dict(\n",
    "            scaleanchor='y',\n",
    "            scaleratio=1,\n",
    "            showgrid=True,\n",
    "            zeroline=True,\n",
    "            gridcolor='lightgray'\n",
    "        ),\n",
    "        yaxis=dict(\n",
    "            showgrid=True,\n",
    "            zeroline=True,\n",
    "            gridcolor='lightgray'\n",
    "        ),\n",
    "        plot_bgcolor='white',\n",
    "        width=800,\n",
    "        height=800,\n",
    "    )\n",
    "    \n",
    "    fig.show()\n",
    "\n",
    "visualize_game_board([spider1, grasshopper1], show_empty_hexes=[])"
   ]
  },
  {
   "cell_type": "code",
   "execution_count": null,
   "id": "a4b650f1",
   "metadata": {},
   "outputs": [],
   "source": []
  }
 ],
 "metadata": {
  "kernelspec": {
   "display_name": "HiveSim",
   "language": "python",
   "name": "python3"
  },
  "language_info": {
   "codemirror_mode": {
    "name": "ipython",
    "version": 3
   },
   "file_extension": ".py",
   "mimetype": "text/x-python",
   "name": "python",
   "nbconvert_exporter": "python",
   "pygments_lexer": "ipython3",
   "version": "3.11.9"
  }
 },
 "nbformat": 4,
 "nbformat_minor": 5
}
